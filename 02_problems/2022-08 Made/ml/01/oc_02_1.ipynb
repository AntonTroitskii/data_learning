{
 "cells": [
  {
   "cell_type": "code",
   "execution_count": 2,
   "metadata": {},
   "outputs": [],
   "source": [
    "from sklearn.linear_model import LinearRegression\n",
    "from sklearn.linear_model import LogisticRegression\n",
    "from sklearn.neighbors import KNeighborsClassifier\n",
    "from sklearn.svm import SVC\n",
    "from sklearn.ensemble import AdaBoostClassifier\n",
    "from sklearn.tree import DecisionTreeClassifier\n",
    "\n",
    "from sklearn.model_selection import train_test_split\n",
    "\n",
    "from sklearn.metrics import classification_report\n",
    "from sklearn.metrics import confusion_matrix\n",
    "from sklearn.metrics import accuracy_score\n",
    "from sklearn.metrics import f1_score\n",
    "\n",
    "from sklearn.pipeline import make_pipeline\n",
    "from sklearn.preprocessing import StandardScaler, PolynomialFeatures\n",
    "\n",
    "from sklearn.model_selection import GridSearchCV\n",
    "\n",
    "import seaborn as sns\n",
    "import pandas as pd\n",
    "#import pandas.tools as pdt\n",
    "from pandas.plotting import scatter_matrix, radviz\n",
    "import matplotlib.pyplot as plt"
   ]
  },
  {
   "cell_type": "code",
   "execution_count": 18,
   "metadata": {},
   "outputs": [
    {
     "name": "stdout",
     "output_type": "stream",
     "text": [
      "30\n"
     ]
    }
   ],
   "source": [
    "\n",
    "\n",
    "data = pd.read_csv('train.csv')\n",
    "data.drop(data.columns[[5]], axis=1, inplace=True)\n",
    "\n",
    "# Проверяем, всё ли правильно загрузилось\n",
    "\n",
    "#print(data.head(5))\n",
    "#print(data.describe(include='all'))\n",
    "#sns.heatmap(data.corr())\n",
    "#plt.savefig(\"heatmap.png\")\n",
    "\n",
    "#fig = scatter_matrix(data, alpha=0.05, figsize=(32, 32))\n",
    "#fig = radviz(data.iloc[:,:], class_column=\"target\")\n",
    "#plt.savefig(\"1.png\")\n",
    "\n",
    "# \".iloc\" принимает row_indexer, column_indexer\n",
    "X = data.iloc[:,:-1]\n",
    "print(len(X.columns))\n",
    "X = X.values\n",
    "# Теперь выделим нужный столбец\n",
    "y = data['target']\n",
    "\n",
    "#for i in range(32):\n",
    "    #X[i] = (X[i] - X[i].mean()) / X[i].std()\n",
    "    #print(i, pd.DataFrame(X[i]).describe())\n"
   ]
  },
  {
   "cell_type": "code",
   "execution_count": 19,
   "metadata": {},
   "outputs": [],
   "source": [
    "\n",
    "#predictor = SVC()\n",
    "\n",
    "#PolynomialFeatures(interaction_only=False), StandardScaler(), SVC(max_iter=10000, C=10\n",
    "\n",
    "parameters = {'kernel':(['rbf', 'linear', 'sigmoid', 'poly']), 'C':[0.25,0.5,1,2,4,8,16]}\n",
    "predictor = make_pipeline(PolynomialFeatures(interaction_only=True), SVC(max_iter=20000, C=10, kernel='rbf'))\n",
    "#predictor = SVC()\n",
    "clf = GridSearchCV(SVC(), parameters)"
   ]
  },
  {
   "cell_type": "code",
   "execution_count": 26,
   "metadata": {},
   "outputs": [],
   "source": [
    "\n",
    "X_train, X_test, y_train, y_test = train_test_split(X, y, test_size=0.25, random_state=17)\n",
    "\n",
    "#print(clf.fit(X, y))\n",
    "#print(clf.cv_results_)\n",
    "\n",
    "predictor.fit(X_train, y_train)\n",
    "\n",
    "prediction = predictor.predict(X_test)\n"
   ]
  },
  {
   "cell_type": "code",
   "execution_count": 28,
   "metadata": {},
   "outputs": [
    {
     "name": "stdout",
     "output_type": "stream",
     "text": [
      "0.9431361286616887\n",
      "[[1223   32]\n",
      " [  67  419]]\n",
      "              precision    recall  f1-score   support\n",
      "\n",
      "           0       0.95      0.97      0.96      1255\n",
      "           1       0.93      0.86      0.89       486\n",
      "\n",
      "    accuracy                           0.94      1741\n",
      "   macro avg       0.94      0.92      0.93      1741\n",
      "weighted avg       0.94      0.94      0.94      1741\n",
      "\n"
     ]
    }
   ],
   "source": [
    "\n",
    "print(accuracy_score(y_test, prediction))\n",
    "print(confusion_matrix(y_test, prediction))\n",
    "print(classification_report(y_pred=prediction, y_true=y_test))"
   ]
  },
  {
   "cell_type": "code",
   "execution_count": null,
   "metadata": {},
   "outputs": [],
   "source": []
  }
 ],
 "metadata": {
  "kernelspec": {
   "display_name": "Python 3.9.4 ('data-dz9rrfYH')",
   "language": "python",
   "name": "python3"
  },
  "language_info": {
   "codemirror_mode": {
    "name": "ipython",
    "version": 3
   },
   "file_extension": ".py",
   "mimetype": "text/x-python",
   "name": "python",
   "nbconvert_exporter": "python",
   "pygments_lexer": "ipython3",
   "version": "3.9.4"
  },
  "orig_nbformat": 4,
  "vscode": {
   "interpreter": {
    "hash": "0b7888f99ea6ae389ac75935b86a57fe331e5e59f773d7d532cb933bac24e6a7"
   }
  }
 },
 "nbformat": 4,
 "nbformat_minor": 2
}
