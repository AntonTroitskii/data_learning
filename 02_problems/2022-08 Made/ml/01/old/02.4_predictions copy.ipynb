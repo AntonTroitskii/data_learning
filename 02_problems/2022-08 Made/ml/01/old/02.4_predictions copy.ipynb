{
 "cells": [
  {
   "cell_type": "code",
   "execution_count": 1,
   "metadata": {},
   "outputs": [],
   "source": [
    "from random import random\n",
    "from unittest import skipUnless\n",
    "from xml.dom.minidom import ReadOnlySequentialNamedNodeMap\n",
    "from sklearn.pipeline import Pipeline\n",
    "\n",
    "from sklearn.preprocessing import StandardScaler\n",
    "from sklearn.preprocessing import PolynomialFeatures\n",
    "from sklearn.linear_model import LinearRegression\n",
    "from sklearn.linear_model import LogisticRegressionCV\n",
    "from sklearn.metrics import f1_score\n",
    "\n",
    "import pandas as pd\n",
    "\n",
    "pipe = Pipeline([\n",
    "    ('scaller', StandardScaler()), \n",
    "    ('logit', LogisticRegressionCV(cv=5, random_state=0, max_iter=200, n_jobs=-1, scoring='f1', solver='liblinear', penalty='l2'))\n",
    "    ])\n",
    "\n",
    "data = pd.read_csv('train.csv')\n",
    "cols = data.columns\n",
    "cols_drop = ['2', '3', '18', '20', '24', '29']\n"
   ]
  },
  {
   "cell_type": "code",
   "execution_count": 2,
   "metadata": {},
   "outputs": [
    {
     "data": {
      "text/plain": [
       "Index(['0', '1', '2', '3', '4', '5', '6', '7', '8', '9', '10', '11', '12',\n",
       "       '13', '14', '15', '16', '17', '18', '19', '20', '21', '22', '23', '24',\n",
       "       '25', '26', '27', '28', '29', '30', 'target'],\n",
       "      dtype='object')"
      ]
     },
     "execution_count": 2,
     "metadata": {},
     "output_type": "execute_result"
    }
   ],
   "source": [
    "data.columns"
   ]
  },
  {
   "cell_type": "code",
   "execution_count": 3,
   "metadata": {},
   "outputs": [
    {
     "data": {
      "text/html": [
       "<div>\n",
       "<style scoped>\n",
       "    .dataframe tbody tr th:only-of-type {\n",
       "        vertical-align: middle;\n",
       "    }\n",
       "\n",
       "    .dataframe tbody tr th {\n",
       "        vertical-align: top;\n",
       "    }\n",
       "\n",
       "    .dataframe thead th {\n",
       "        text-align: right;\n",
       "    }\n",
       "</style>\n",
       "<table border=\"1\" class=\"dataframe\">\n",
       "  <thead>\n",
       "    <tr style=\"text-align: right;\">\n",
       "      <th></th>\n",
       "      <th>0</th>\n",
       "      <th>1</th>\n",
       "      <th>2</th>\n",
       "      <th>3</th>\n",
       "      <th>4</th>\n",
       "      <th>5</th>\n",
       "      <th>6</th>\n",
       "      <th>7</th>\n",
       "      <th>8</th>\n",
       "      <th>9</th>\n",
       "      <th>...</th>\n",
       "      <th>22</th>\n",
       "      <th>23</th>\n",
       "      <th>24</th>\n",
       "      <th>25</th>\n",
       "      <th>26</th>\n",
       "      <th>27</th>\n",
       "      <th>28</th>\n",
       "      <th>29</th>\n",
       "      <th>30</th>\n",
       "      <th>target</th>\n",
       "    </tr>\n",
       "  </thead>\n",
       "  <tbody>\n",
       "    <tr>\n",
       "      <th>0</th>\n",
       "      <td>-6.130724</td>\n",
       "      <td>7.429628</td>\n",
       "      <td>3.651437</td>\n",
       "      <td>-1.950971</td>\n",
       "      <td>-3.384415</td>\n",
       "      <td>1.095934</td>\n",
       "      <td>-3.077774</td>\n",
       "      <td>-2.619091</td>\n",
       "      <td>5.128201</td>\n",
       "      <td>1.228476</td>\n",
       "      <td>...</td>\n",
       "      <td>0.392978</td>\n",
       "      <td>4.920467</td>\n",
       "      <td>16.610460</td>\n",
       "      <td>-2.430804</td>\n",
       "      <td>-1.405573</td>\n",
       "      <td>18.610209</td>\n",
       "      <td>-4.140715</td>\n",
       "      <td>6.027816</td>\n",
       "      <td>-20.288145</td>\n",
       "      <td>0</td>\n",
       "    </tr>\n",
       "    <tr>\n",
       "      <th>1</th>\n",
       "      <td>5.161836</td>\n",
       "      <td>-6.514011</td>\n",
       "      <td>-7.474612</td>\n",
       "      <td>-4.544336</td>\n",
       "      <td>-13.081404</td>\n",
       "      <td>1.637562</td>\n",
       "      <td>-1.094672</td>\n",
       "      <td>-1.253545</td>\n",
       "      <td>-2.955342</td>\n",
       "      <td>-10.958200</td>\n",
       "      <td>...</td>\n",
       "      <td>-4.840233</td>\n",
       "      <td>-0.514308</td>\n",
       "      <td>4.613289</td>\n",
       "      <td>2.391302</td>\n",
       "      <td>-4.795664</td>\n",
       "      <td>4.208278</td>\n",
       "      <td>-2.017168</td>\n",
       "      <td>-8.510424</td>\n",
       "      <td>10.806639</td>\n",
       "      <td>0</td>\n",
       "    </tr>\n",
       "    <tr>\n",
       "      <th>2</th>\n",
       "      <td>-2.971550</td>\n",
       "      <td>-21.508184</td>\n",
       "      <td>-1.125457</td>\n",
       "      <td>1.524129</td>\n",
       "      <td>3.027444</td>\n",
       "      <td>1.045879</td>\n",
       "      <td>1.551050</td>\n",
       "      <td>1.512075</td>\n",
       "      <td>-1.955564</td>\n",
       "      <td>3.683893</td>\n",
       "      <td>...</td>\n",
       "      <td>-0.385303</td>\n",
       "      <td>2.647917</td>\n",
       "      <td>-2.200556</td>\n",
       "      <td>1.058671</td>\n",
       "      <td>1.076312</td>\n",
       "      <td>-7.802389</td>\n",
       "      <td>-7.553953</td>\n",
       "      <td>0.636639</td>\n",
       "      <td>14.274950</td>\n",
       "      <td>0</td>\n",
       "    </tr>\n",
       "    <tr>\n",
       "      <th>3</th>\n",
       "      <td>6.724419</td>\n",
       "      <td>0.566489</td>\n",
       "      <td>0.509764</td>\n",
       "      <td>-4.524162</td>\n",
       "      <td>10.367236</td>\n",
       "      <td>2.083270</td>\n",
       "      <td>0.741790</td>\n",
       "      <td>-2.077787</td>\n",
       "      <td>-2.912744</td>\n",
       "      <td>-4.040637</td>\n",
       "      <td>...</td>\n",
       "      <td>4.731346</td>\n",
       "      <td>15.378418</td>\n",
       "      <td>-14.031666</td>\n",
       "      <td>2.659410</td>\n",
       "      <td>5.123620</td>\n",
       "      <td>-8.500321</td>\n",
       "      <td>3.417960</td>\n",
       "      <td>-14.798490</td>\n",
       "      <td>-6.132800</td>\n",
       "      <td>1</td>\n",
       "    </tr>\n",
       "    <tr>\n",
       "      <th>4</th>\n",
       "      <td>-2.213659</td>\n",
       "      <td>-4.678213</td>\n",
       "      <td>-0.135845</td>\n",
       "      <td>2.375933</td>\n",
       "      <td>0.916649</td>\n",
       "      <td>1.027195</td>\n",
       "      <td>-0.353265</td>\n",
       "      <td>-0.220609</td>\n",
       "      <td>-3.416823</td>\n",
       "      <td>-5.964181</td>\n",
       "      <td>...</td>\n",
       "      <td>1.598330</td>\n",
       "      <td>-4.996614</td>\n",
       "      <td>4.504269</td>\n",
       "      <td>1.918961</td>\n",
       "      <td>-2.076223</td>\n",
       "      <td>0.154039</td>\n",
       "      <td>-2.016779</td>\n",
       "      <td>10.803205</td>\n",
       "      <td>5.942927</td>\n",
       "      <td>0</td>\n",
       "    </tr>\n",
       "    <tr>\n",
       "      <th>...</th>\n",
       "      <td>...</td>\n",
       "      <td>...</td>\n",
       "      <td>...</td>\n",
       "      <td>...</td>\n",
       "      <td>...</td>\n",
       "      <td>...</td>\n",
       "      <td>...</td>\n",
       "      <td>...</td>\n",
       "      <td>...</td>\n",
       "      <td>...</td>\n",
       "      <td>...</td>\n",
       "      <td>...</td>\n",
       "      <td>...</td>\n",
       "      <td>...</td>\n",
       "      <td>...</td>\n",
       "      <td>...</td>\n",
       "      <td>...</td>\n",
       "      <td>...</td>\n",
       "      <td>...</td>\n",
       "      <td>...</td>\n",
       "      <td>...</td>\n",
       "    </tr>\n",
       "    <tr>\n",
       "      <th>6958</th>\n",
       "      <td>1.554111</td>\n",
       "      <td>2.018845</td>\n",
       "      <td>-2.550991</td>\n",
       "      <td>-2.049014</td>\n",
       "      <td>0.931923</td>\n",
       "      <td>1.329123</td>\n",
       "      <td>2.260598</td>\n",
       "      <td>0.907393</td>\n",
       "      <td>0.559868</td>\n",
       "      <td>-0.366525</td>\n",
       "      <td>...</td>\n",
       "      <td>-2.078071</td>\n",
       "      <td>2.774934</td>\n",
       "      <td>-5.819371</td>\n",
       "      <td>-1.397282</td>\n",
       "      <td>0.629832</td>\n",
       "      <td>-1.098601</td>\n",
       "      <td>-7.498520</td>\n",
       "      <td>-7.752161</td>\n",
       "      <td>12.691050</td>\n",
       "      <td>0</td>\n",
       "    </tr>\n",
       "    <tr>\n",
       "      <th>6959</th>\n",
       "      <td>5.341612</td>\n",
       "      <td>-4.057497</td>\n",
       "      <td>0.712336</td>\n",
       "      <td>-0.529023</td>\n",
       "      <td>2.389152</td>\n",
       "      <td>1.048196</td>\n",
       "      <td>-4.248458</td>\n",
       "      <td>-2.516312</td>\n",
       "      <td>1.612912</td>\n",
       "      <td>0.088317</td>\n",
       "      <td>...</td>\n",
       "      <td>-0.120301</td>\n",
       "      <td>-3.247273</td>\n",
       "      <td>-3.348203</td>\n",
       "      <td>2.651849</td>\n",
       "      <td>1.059434</td>\n",
       "      <td>-2.842064</td>\n",
       "      <td>-1.960203</td>\n",
       "      <td>-5.095832</td>\n",
       "      <td>-0.174943</td>\n",
       "      <td>0</td>\n",
       "    </tr>\n",
       "    <tr>\n",
       "      <th>6960</th>\n",
       "      <td>-2.348591</td>\n",
       "      <td>-8.263995</td>\n",
       "      <td>-0.318484</td>\n",
       "      <td>1.851011</td>\n",
       "      <td>-4.880470</td>\n",
       "      <td>1.392923</td>\n",
       "      <td>-4.348202</td>\n",
       "      <td>2.937274</td>\n",
       "      <td>-3.067852</td>\n",
       "      <td>-0.173702</td>\n",
       "      <td>...</td>\n",
       "      <td>0.819033</td>\n",
       "      <td>0.794195</td>\n",
       "      <td>9.353774</td>\n",
       "      <td>-1.841798</td>\n",
       "      <td>-1.116251</td>\n",
       "      <td>6.708149</td>\n",
       "      <td>-1.841971</td>\n",
       "      <td>5.747190</td>\n",
       "      <td>-7.608288</td>\n",
       "      <td>0</td>\n",
       "    </tr>\n",
       "    <tr>\n",
       "      <th>6961</th>\n",
       "      <td>5.481595</td>\n",
       "      <td>4.899412</td>\n",
       "      <td>-0.421851</td>\n",
       "      <td>4.639328</td>\n",
       "      <td>-20.671090</td>\n",
       "      <td>1.088426</td>\n",
       "      <td>-3.838050</td>\n",
       "      <td>0.622003</td>\n",
       "      <td>1.548813</td>\n",
       "      <td>-8.847505</td>\n",
       "      <td>...</td>\n",
       "      <td>1.697137</td>\n",
       "      <td>-8.315975</td>\n",
       "      <td>6.149865</td>\n",
       "      <td>1.437154</td>\n",
       "      <td>-7.284716</td>\n",
       "      <td>4.566744</td>\n",
       "      <td>-0.908937</td>\n",
       "      <td>11.555781</td>\n",
       "      <td>2.889093</td>\n",
       "      <td>0</td>\n",
       "    </tr>\n",
       "    <tr>\n",
       "      <th>6962</th>\n",
       "      <td>0.939142</td>\n",
       "      <td>-0.354990</td>\n",
       "      <td>-5.475815</td>\n",
       "      <td>-0.108931</td>\n",
       "      <td>-14.824023</td>\n",
       "      <td>1.980521</td>\n",
       "      <td>1.245086</td>\n",
       "      <td>3.083056</td>\n",
       "      <td>0.605012</td>\n",
       "      <td>-6.443162</td>\n",
       "      <td>...</td>\n",
       "      <td>1.078489</td>\n",
       "      <td>4.810056</td>\n",
       "      <td>-3.133966</td>\n",
       "      <td>-1.943968</td>\n",
       "      <td>-5.005418</td>\n",
       "      <td>7.176940</td>\n",
       "      <td>-1.482443</td>\n",
       "      <td>-3.219556</td>\n",
       "      <td>0.996970</td>\n",
       "      <td>1</td>\n",
       "    </tr>\n",
       "  </tbody>\n",
       "</table>\n",
       "<p>6963 rows × 32 columns</p>\n",
       "</div>"
      ],
      "text/plain": [
       "             0          1         2         3          4         5         6  \\\n",
       "0    -6.130724   7.429628  3.651437 -1.950971  -3.384415  1.095934 -3.077774   \n",
       "1     5.161836  -6.514011 -7.474612 -4.544336 -13.081404  1.637562 -1.094672   \n",
       "2    -2.971550 -21.508184 -1.125457  1.524129   3.027444  1.045879  1.551050   \n",
       "3     6.724419   0.566489  0.509764 -4.524162  10.367236  2.083270  0.741790   \n",
       "4    -2.213659  -4.678213 -0.135845  2.375933   0.916649  1.027195 -0.353265   \n",
       "...        ...        ...       ...       ...        ...       ...       ...   \n",
       "6958  1.554111   2.018845 -2.550991 -2.049014   0.931923  1.329123  2.260598   \n",
       "6959  5.341612  -4.057497  0.712336 -0.529023   2.389152  1.048196 -4.248458   \n",
       "6960 -2.348591  -8.263995 -0.318484  1.851011  -4.880470  1.392923 -4.348202   \n",
       "6961  5.481595   4.899412 -0.421851  4.639328 -20.671090  1.088426 -3.838050   \n",
       "6962  0.939142  -0.354990 -5.475815 -0.108931 -14.824023  1.980521  1.245086   \n",
       "\n",
       "             7         8          9  ...        22         23         24  \\\n",
       "0    -2.619091  5.128201   1.228476  ...  0.392978   4.920467  16.610460   \n",
       "1    -1.253545 -2.955342 -10.958200  ... -4.840233  -0.514308   4.613289   \n",
       "2     1.512075 -1.955564   3.683893  ... -0.385303   2.647917  -2.200556   \n",
       "3    -2.077787 -2.912744  -4.040637  ...  4.731346  15.378418 -14.031666   \n",
       "4    -0.220609 -3.416823  -5.964181  ...  1.598330  -4.996614   4.504269   \n",
       "...        ...       ...        ...  ...       ...        ...        ...   \n",
       "6958  0.907393  0.559868  -0.366525  ... -2.078071   2.774934  -5.819371   \n",
       "6959 -2.516312  1.612912   0.088317  ... -0.120301  -3.247273  -3.348203   \n",
       "6960  2.937274 -3.067852  -0.173702  ...  0.819033   0.794195   9.353774   \n",
       "6961  0.622003  1.548813  -8.847505  ...  1.697137  -8.315975   6.149865   \n",
       "6962  3.083056  0.605012  -6.443162  ...  1.078489   4.810056  -3.133966   \n",
       "\n",
       "            25        26         27        28         29         30  target  \n",
       "0    -2.430804 -1.405573  18.610209 -4.140715   6.027816 -20.288145       0  \n",
       "1     2.391302 -4.795664   4.208278 -2.017168  -8.510424  10.806639       0  \n",
       "2     1.058671  1.076312  -7.802389 -7.553953   0.636639  14.274950       0  \n",
       "3     2.659410  5.123620  -8.500321  3.417960 -14.798490  -6.132800       1  \n",
       "4     1.918961 -2.076223   0.154039 -2.016779  10.803205   5.942927       0  \n",
       "...        ...       ...        ...       ...        ...        ...     ...  \n",
       "6958 -1.397282  0.629832  -1.098601 -7.498520  -7.752161  12.691050       0  \n",
       "6959  2.651849  1.059434  -2.842064 -1.960203  -5.095832  -0.174943       0  \n",
       "6960 -1.841798 -1.116251   6.708149 -1.841971   5.747190  -7.608288       0  \n",
       "6961  1.437154 -7.284716   4.566744 -0.908937  11.555781   2.889093       0  \n",
       "6962 -1.943968 -5.005418   7.176940 -1.482443  -3.219556   0.996970       1  \n",
       "\n",
       "[6963 rows x 32 columns]"
      ]
     },
     "execution_count": 3,
     "metadata": {},
     "output_type": "execute_result"
    }
   ],
   "source": [
    "data"
   ]
  },
  {
   "cell_type": "code",
   "execution_count": 4,
   "metadata": {},
   "outputs": [],
   "source": [
    "data = data.drop(columns=cols_drop)"
   ]
  },
  {
   "cell_type": "code",
   "execution_count": 5,
   "metadata": {},
   "outputs": [],
   "source": [
    "X = data['5']\n",
    "y = data['target']"
   ]
  },
  {
   "cell_type": "code",
   "execution_count": 6,
   "metadata": {},
   "outputs": [
    {
     "data": {
      "text/plain": [
       "0       1.095934\n",
       "1       1.637562\n",
       "2       1.045879\n",
       "3       2.083270\n",
       "4       1.027195\n",
       "          ...   \n",
       "6958    1.329123\n",
       "6959    1.048196\n",
       "6960    1.392923\n",
       "6961    1.088426\n",
       "6962    1.980521\n",
       "Name: 5, Length: 6963, dtype: float64"
      ]
     },
     "execution_count": 6,
     "metadata": {},
     "output_type": "execute_result"
    }
   ],
   "source": [
    "X"
   ]
  },
  {
   "cell_type": "code",
   "execution_count": 7,
   "metadata": {},
   "outputs": [
    {
     "data": {
      "text/plain": [
       "0       0\n",
       "1       0\n",
       "2       0\n",
       "3       1\n",
       "4       0\n",
       "       ..\n",
       "6958    0\n",
       "6959    0\n",
       "6960    0\n",
       "6961    0\n",
       "6962    1\n",
       "Name: target, Length: 6963, dtype: int64"
      ]
     },
     "execution_count": 7,
     "metadata": {},
     "output_type": "execute_result"
    }
   ],
   "source": [
    "y"
   ]
  },
  {
   "cell_type": "code",
   "execution_count": 8,
   "metadata": {},
   "outputs": [],
   "source": [
    "from sklearn.model_selection import train_test_split\n",
    "\n",
    "X_train, X_test, y_train, y_test = train_test_split(X.to_numpy().reshape(-1, 1), y.to_numpy(), test_size=0.25, random_state=42, shuffle=True)"
   ]
  },
  {
   "cell_type": "code",
   "execution_count": 9,
   "metadata": {},
   "outputs": [
    {
     "data": {
      "text/plain": [
       "((5222, 1), (1741, 1), (5222,), (1741,))"
      ]
     },
     "execution_count": 9,
     "metadata": {},
     "output_type": "execute_result"
    }
   ],
   "source": [
    "X_train.shape, X_test.shape, y_train.shape, y_test.shape"
   ]
  },
  {
   "cell_type": "code",
   "execution_count": 10,
   "metadata": {},
   "outputs": [
    {
     "data": {
      "text/plain": [
       "Pipeline(steps=[('scaller', StandardScaler()),\n",
       "                ('logit',\n",
       "                 LogisticRegressionCV(cv=5, max_iter=200, n_jobs=-1,\n",
       "                                      random_state=0, scoring='f1',\n",
       "                                      solver='liblinear'))])"
      ]
     },
     "execution_count": 10,
     "metadata": {},
     "output_type": "execute_result"
    }
   ],
   "source": [
    "pipe.fit(X_train, y_train)"
   ]
  },
  {
   "cell_type": "code",
   "execution_count": 11,
   "metadata": {},
   "outputs": [
    {
     "data": {
      "text/plain": [
       "0.9989594172736733"
      ]
     },
     "execution_count": 11,
     "metadata": {},
     "output_type": "execute_result"
    }
   ],
   "source": [
    "pipe.score(X_test, y_test)"
   ]
  },
  {
   "cell_type": "code",
   "execution_count": 12,
   "metadata": {},
   "outputs": [
    {
     "data": {
      "text/plain": [
       "({1: array([[0.92389381, 0.92957746, 0.94444444, 0.96949153, 0.98157454,\n",
       "          0.99170813, 0.99504132, 0.99835255, 0.99835255, 0.99835255],\n",
       "         [0.91622103, 0.91622103, 0.92389381, 0.9535284 , 0.98157454,\n",
       "          0.99170813, 0.99504132, 0.99835255, 1.        , 1.        ],\n",
       "         [0.93870403, 0.93870403, 0.95155709, 0.97461929, 0.99335548,\n",
       "          0.99834711, 1.        , 1.        , 1.        , 1.        ],\n",
       "         [0.90647482, 0.90843806, 0.9314587 , 0.95532646, 0.97643098,\n",
       "          0.98835275, 0.99337748, 0.99504132, 0.99669967, 0.99835255],\n",
       "         [0.91428571, 0.91622103, 0.93706294, 0.95532646, 0.97815126,\n",
       "          0.98835275, 0.99504132, 0.99669967, 1.        , 1.        ]])},\n",
       " array([[206.83447171]]),\n",
       " array([-52.64599077]))"
      ]
     },
     "execution_count": 12,
     "metadata": {},
     "output_type": "execute_result"
    }
   ],
   "source": [
    "est = pipe[-1]\n",
    "est.scores_, est.coef_, est.intercept_"
   ]
  },
  {
   "cell_type": "code",
   "execution_count": 13,
   "metadata": {},
   "outputs": [
    {
     "name": "stdout",
     "output_type": "stream",
     "text": [
      "0 [206.83447171]\n"
     ]
    },
    {
     "data": {
      "text/plain": [
       "numpy.ndarray"
      ]
     },
     "execution_count": 13,
     "metadata": {},
     "output_type": "execute_result"
    }
   ],
   "source": [
    "type(est.coef_)\n",
    "for i, j in enumerate(list(est.coef_)):\n",
    "    print(i, j)\n",
    "\n",
    "type(est.coef_[0])"
   ]
  },
  {
   "cell_type": "code",
   "execution_count": 14,
   "metadata": {},
   "outputs": [
    {
     "data": {
      "text/plain": [
       "[]"
      ]
     },
     "execution_count": 14,
     "metadata": {},
     "output_type": "execute_result"
    }
   ],
   "source": [
    "dict_coef = {}\n",
    "\n",
    "for i, j in enumerate(est.coef_[0]):\n",
    "    dict_coef[i] = j\n",
    "\n",
    "cols = []\n",
    "\n",
    "for i in dict_coef.keys():\n",
    "    if dict_coef[i] == 0:\n",
    "        cols.append(str(i))\n",
    "\n",
    "cols"
   ]
  },
  {
   "cell_type": "code",
   "execution_count": 15,
   "metadata": {},
   "outputs": [
    {
     "name": "stdout",
     "output_type": "stream",
     "text": [
      "[206.83447171]\n"
     ]
    },
    {
     "data": {
      "text/plain": [
       "array([[206.83447171]])"
      ]
     },
     "execution_count": 15,
     "metadata": {},
     "output_type": "execute_result"
    }
   ],
   "source": [
    "for i in est.coef_:\n",
    "    print(i)\n",
    "est.coef_"
   ]
  },
  {
   "cell_type": "code",
   "execution_count": 16,
   "metadata": {},
   "outputs": [],
   "source": [
    "X_test_global = pd.read_csv('test.csv')"
   ]
  },
  {
   "cell_type": "code",
   "execution_count": 17,
   "metadata": {},
   "outputs": [
    {
     "data": {
      "text/plain": [
       "(3920, 31)"
      ]
     },
     "execution_count": 17,
     "metadata": {},
     "output_type": "execute_result"
    }
   ],
   "source": [
    "X_test_global.shape "
   ]
  },
  {
   "cell_type": "code",
   "execution_count": 18,
   "metadata": {},
   "outputs": [
    {
     "data": {
      "text/html": [
       "<div>\n",
       "<style scoped>\n",
       "    .dataframe tbody tr th:only-of-type {\n",
       "        vertical-align: middle;\n",
       "    }\n",
       "\n",
       "    .dataframe tbody tr th {\n",
       "        vertical-align: top;\n",
       "    }\n",
       "\n",
       "    .dataframe thead th {\n",
       "        text-align: right;\n",
       "    }\n",
       "</style>\n",
       "<table border=\"1\" class=\"dataframe\">\n",
       "  <thead>\n",
       "    <tr style=\"text-align: right;\">\n",
       "      <th></th>\n",
       "      <th>0</th>\n",
       "      <th>1</th>\n",
       "      <th>2</th>\n",
       "      <th>3</th>\n",
       "      <th>4</th>\n",
       "      <th>5</th>\n",
       "      <th>6</th>\n",
       "      <th>7</th>\n",
       "      <th>8</th>\n",
       "      <th>9</th>\n",
       "      <th>...</th>\n",
       "      <th>21</th>\n",
       "      <th>22</th>\n",
       "      <th>23</th>\n",
       "      <th>24</th>\n",
       "      <th>25</th>\n",
       "      <th>26</th>\n",
       "      <th>27</th>\n",
       "      <th>28</th>\n",
       "      <th>29</th>\n",
       "      <th>30</th>\n",
       "    </tr>\n",
       "  </thead>\n",
       "  <tbody>\n",
       "    <tr>\n",
       "      <th>0</th>\n",
       "      <td>-4.768975</td>\n",
       "      <td>-1.744984</td>\n",
       "      <td>0.069141</td>\n",
       "      <td>-6.560182</td>\n",
       "      <td>13.267557</td>\n",
       "      <td>1.768138</td>\n",
       "      <td>1.711161</td>\n",
       "      <td>-5.289421</td>\n",
       "      <td>2.682271</td>\n",
       "      <td>-2.763065</td>\n",
       "      <td>...</td>\n",
       "      <td>4.198756</td>\n",
       "      <td>-0.625212</td>\n",
       "      <td>11.053370</td>\n",
       "      <td>1.535982</td>\n",
       "      <td>0.410761</td>\n",
       "      <td>-3.754269</td>\n",
       "      <td>8.633258</td>\n",
       "      <td>0.224213</td>\n",
       "      <td>-2.310344</td>\n",
       "      <td>-20.482680</td>\n",
       "    </tr>\n",
       "    <tr>\n",
       "      <th>1</th>\n",
       "      <td>3.085184</td>\n",
       "      <td>7.679585</td>\n",
       "      <td>-2.392444</td>\n",
       "      <td>-1.334928</td>\n",
       "      <td>-17.347661</td>\n",
       "      <td>2.470484</td>\n",
       "      <td>-0.662081</td>\n",
       "      <td>-0.719648</td>\n",
       "      <td>-2.489930</td>\n",
       "      <td>-11.762400</td>\n",
       "      <td>...</td>\n",
       "      <td>-1.176409</td>\n",
       "      <td>1.365061</td>\n",
       "      <td>0.140867</td>\n",
       "      <td>-4.210869</td>\n",
       "      <td>-5.718286</td>\n",
       "      <td>-4.055603</td>\n",
       "      <td>9.264081</td>\n",
       "      <td>-4.221163</td>\n",
       "      <td>7.481250</td>\n",
       "      <td>9.426657</td>\n",
       "    </tr>\n",
       "    <tr>\n",
       "      <th>2</th>\n",
       "      <td>-1.498828</td>\n",
       "      <td>-3.945847</td>\n",
       "      <td>-1.647106</td>\n",
       "      <td>0.058655</td>\n",
       "      <td>1.204024</td>\n",
       "      <td>1.043502</td>\n",
       "      <td>5.246244</td>\n",
       "      <td>2.123335</td>\n",
       "      <td>2.851375</td>\n",
       "      <td>4.398413</td>\n",
       "      <td>...</td>\n",
       "      <td>0.301051</td>\n",
       "      <td>0.758360</td>\n",
       "      <td>0.090010</td>\n",
       "      <td>-1.550171</td>\n",
       "      <td>-0.971835</td>\n",
       "      <td>2.027758</td>\n",
       "      <td>-2.723663</td>\n",
       "      <td>0.749390</td>\n",
       "      <td>-12.130969</td>\n",
       "      <td>4.706467</td>\n",
       "    </tr>\n",
       "    <tr>\n",
       "      <th>3</th>\n",
       "      <td>-2.813839</td>\n",
       "      <td>-1.913776</td>\n",
       "      <td>1.308982</td>\n",
       "      <td>3.866011</td>\n",
       "      <td>-9.249616</td>\n",
       "      <td>2.265848</td>\n",
       "      <td>-3.257832</td>\n",
       "      <td>-2.233508</td>\n",
       "      <td>3.623846</td>\n",
       "      <td>4.665100</td>\n",
       "      <td>...</td>\n",
       "      <td>2.316560</td>\n",
       "      <td>-0.590067</td>\n",
       "      <td>-6.825693</td>\n",
       "      <td>8.512672</td>\n",
       "      <td>-3.259642</td>\n",
       "      <td>-2.297466</td>\n",
       "      <td>4.758336</td>\n",
       "      <td>-2.134407</td>\n",
       "      <td>10.448348</td>\n",
       "      <td>-5.808233</td>\n",
       "    </tr>\n",
       "    <tr>\n",
       "      <th>4</th>\n",
       "      <td>-2.098517</td>\n",
       "      <td>1.831659</td>\n",
       "      <td>2.587683</td>\n",
       "      <td>1.507983</td>\n",
       "      <td>5.421837</td>\n",
       "      <td>2.184649</td>\n",
       "      <td>1.214167</td>\n",
       "      <td>0.402367</td>\n",
       "      <td>1.256427</td>\n",
       "      <td>17.582508</td>\n",
       "      <td>...</td>\n",
       "      <td>20.077786</td>\n",
       "      <td>-2.657541</td>\n",
       "      <td>5.592968</td>\n",
       "      <td>1.339930</td>\n",
       "      <td>0.425855</td>\n",
       "      <td>2.649136</td>\n",
       "      <td>-6.496886</td>\n",
       "      <td>-0.726197</td>\n",
       "      <td>-12.478830</td>\n",
       "      <td>1.058612</td>\n",
       "    </tr>\n",
       "  </tbody>\n",
       "</table>\n",
       "<p>5 rows × 31 columns</p>\n",
       "</div>"
      ],
      "text/plain": [
       "          0         1         2         3          4         5         6  \\\n",
       "0 -4.768975 -1.744984  0.069141 -6.560182  13.267557  1.768138  1.711161   \n",
       "1  3.085184  7.679585 -2.392444 -1.334928 -17.347661  2.470484 -0.662081   \n",
       "2 -1.498828 -3.945847 -1.647106  0.058655   1.204024  1.043502  5.246244   \n",
       "3 -2.813839 -1.913776  1.308982  3.866011  -9.249616  2.265848 -3.257832   \n",
       "4 -2.098517  1.831659  2.587683  1.507983   5.421837  2.184649  1.214167   \n",
       "\n",
       "          7         8          9  ...         21        22         23  \\\n",
       "0 -5.289421  2.682271  -2.763065  ...   4.198756 -0.625212  11.053370   \n",
       "1 -0.719648 -2.489930 -11.762400  ...  -1.176409  1.365061   0.140867   \n",
       "2  2.123335  2.851375   4.398413  ...   0.301051  0.758360   0.090010   \n",
       "3 -2.233508  3.623846   4.665100  ...   2.316560 -0.590067  -6.825693   \n",
       "4  0.402367  1.256427  17.582508  ...  20.077786 -2.657541   5.592968   \n",
       "\n",
       "         24        25        26        27        28         29         30  \n",
       "0  1.535982  0.410761 -3.754269  8.633258  0.224213  -2.310344 -20.482680  \n",
       "1 -4.210869 -5.718286 -4.055603  9.264081 -4.221163   7.481250   9.426657  \n",
       "2 -1.550171 -0.971835  2.027758 -2.723663  0.749390 -12.130969   4.706467  \n",
       "3  8.512672 -3.259642 -2.297466  4.758336 -2.134407  10.448348  -5.808233  \n",
       "4  1.339930  0.425855  2.649136 -6.496886 -0.726197 -12.478830   1.058612  \n",
       "\n",
       "[5 rows x 31 columns]"
      ]
     },
     "execution_count": 18,
     "metadata": {},
     "output_type": "execute_result"
    }
   ],
   "source": [
    "X_test_global.head()"
   ]
  },
  {
   "cell_type": "code",
   "execution_count": 19,
   "metadata": {},
   "outputs": [],
   "source": [
    "X_test_global = X_test_global['5'].to_numpy().reshape(-1, 1)"
   ]
  },
  {
   "cell_type": "code",
   "execution_count": 20,
   "metadata": {},
   "outputs": [],
   "source": [
    "predict = pipe.predict(X_test_global)"
   ]
  },
  {
   "cell_type": "code",
   "execution_count": 21,
   "metadata": {},
   "outputs": [],
   "source": [
    "df_output = pd.DataFrame({'target' :predict})\n",
    "df_output.to_csv('02.4.csv', index=False)"
   ]
  },
  {
   "cell_type": "code",
   "execution_count": null,
   "metadata": {},
   "outputs": [],
   "source": []
  }
 ],
 "metadata": {
  "kernelspec": {
   "display_name": "Python 3.9.4 ('data-dz9rrfYH')",
   "language": "python",
   "name": "python3"
  },
  "language_info": {
   "codemirror_mode": {
    "name": "ipython",
    "version": 3
   },
   "file_extension": ".py",
   "mimetype": "text/x-python",
   "name": "python",
   "nbconvert_exporter": "python",
   "pygments_lexer": "ipython3",
   "version": "3.9.4"
  },
  "orig_nbformat": 4,
  "vscode": {
   "interpreter": {
    "hash": "0b7888f99ea6ae389ac75935b86a57fe331e5e59f773d7d532cb933bac24e6a7"
   }
  }
 },
 "nbformat": 4,
 "nbformat_minor": 2
}
