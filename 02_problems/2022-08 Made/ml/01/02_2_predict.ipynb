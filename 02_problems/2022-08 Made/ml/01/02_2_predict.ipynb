{
 "cells": [
  {
   "cell_type": "markdown",
   "metadata": {},
   "source": [
    "# Загрузка модулей"
   ]
  },
  {
   "cell_type": "code",
   "execution_count": 25,
   "metadata": {},
   "outputs": [
    {
     "ename": "SyntaxError",
     "evalue": "invalid syntax (Temp/ipykernel_21560/161609229.py, line 25)",
     "output_type": "error",
     "traceback": [
      "\u001b[1;36m  File \u001b[1;32m\"C:\\Users\\anton\\AppData\\Local\\Temp/ipykernel_21560/161609229.py\"\u001b[1;36m, line \u001b[1;32m25\u001b[0m\n\u001b[1;33m    imoprt numpy as np\u001b[0m\n\u001b[1;37m           ^\u001b[0m\n\u001b[1;31mSyntaxError\u001b[0m\u001b[1;31m:\u001b[0m invalid syntax\n"
     ]
    }
   ],
   "source": [
    "from random import random\n",
    "\n",
    "from sklearn.pipeline import Pipeline\n",
    "\n",
    "from sklearn.preprocessing import StandardScaler, MinMaxScaler, PolynomialFeatures\n",
    "\n",
    "from sklearn.linear_model import LinearRegression, LinearRegression, LogisticRegressionCV, SGDClassifier\n",
    "\n",
    "from sklearn.svm import SVC, LinearSVC, NuSVC\n",
    "\n",
    "from sklearn.metrics import f1_score, classification_report, confusion_matrix\n",
    "\n",
    "from sklearn.model_selection import KFold, RandomizedSearchCV, GridSearchCV, cross_val_score, train_test_split\n",
    "\n",
    "from sklearn.naive_bayes import GaussianNB, BernoulliNB, ComplementNB, MultinomialNB\n",
    "\n",
    "from sklearn.ensemble import RandomForestClassifier\n",
    "\n",
    "from sklearn.neighbors import KNeighborsClassifier\n",
    "\n",
    "from sklearn.decomposition import PCA\n",
    "\n",
    "from matplotlib import pyplot as plt\n",
    "import pandas as pd\n",
    "imoprt numpy as np\n"
   ]
  },
  {
   "cell_type": "markdown",
   "metadata": {},
   "source": [
    "# Загрузка данных"
   ]
  },
  {
   "cell_type": "code",
   "execution_count": 17,
   "metadata": {},
   "outputs": [],
   "source": [
    "from msilib.schema import RadioButton\n",
    "\n",
    "\n",
    "data = pd.read_csv('train.csv')\n",
    "# cols = data.columns\n",
    "data_X = data.iloc[:,  0:-1]\n",
    "data_y = data['target']\n",
    "data_predict = pd.read_csv('test.csv')\n",
    "\n",
    "# Убираем 5 столбец\n",
    "data_X_no5col = data_X.drop(columns=['5'])\n",
    "data_predict_no5col = data_predict.drop(columns=['5'])\n",
    "\n",
    "kf_5 = KFold(n_splits=5, shuffle=True, random_state=0)\n",
    "X_train, X_test, y_train, y_test = train_test_split(data_X_no5col, data_y, shuffle=True, random_state=0)"
   ]
  },
  {
   "cell_type": "code",
   "execution_count": 6,
   "metadata": {},
   "outputs": [
    {
     "data": {
      "text/html": [
       "<div>\n",
       "<style scoped>\n",
       "    .dataframe tbody tr th:only-of-type {\n",
       "        vertical-align: middle;\n",
       "    }\n",
       "\n",
       "    .dataframe tbody tr th {\n",
       "        vertical-align: top;\n",
       "    }\n",
       "\n",
       "    .dataframe thead th {\n",
       "        text-align: right;\n",
       "    }\n",
       "</style>\n",
       "<table border=\"1\" class=\"dataframe\">\n",
       "  <thead>\n",
       "    <tr style=\"text-align: right;\">\n",
       "      <th></th>\n",
       "      <th>0</th>\n",
       "      <th>1</th>\n",
       "      <th>2</th>\n",
       "      <th>3</th>\n",
       "      <th>4</th>\n",
       "      <th>6</th>\n",
       "      <th>7</th>\n",
       "      <th>8</th>\n",
       "      <th>9</th>\n",
       "      <th>10</th>\n",
       "      <th>...</th>\n",
       "      <th>21</th>\n",
       "      <th>22</th>\n",
       "      <th>23</th>\n",
       "      <th>24</th>\n",
       "      <th>25</th>\n",
       "      <th>26</th>\n",
       "      <th>27</th>\n",
       "      <th>28</th>\n",
       "      <th>29</th>\n",
       "      <th>30</th>\n",
       "    </tr>\n",
       "  </thead>\n",
       "  <tbody>\n",
       "    <tr>\n",
       "      <th>0</th>\n",
       "      <td>-6.130724</td>\n",
       "      <td>7.429628</td>\n",
       "      <td>3.651437</td>\n",
       "      <td>-1.950971</td>\n",
       "      <td>-3.384415</td>\n",
       "      <td>-3.077774</td>\n",
       "      <td>-2.619091</td>\n",
       "      <td>5.128201</td>\n",
       "      <td>1.228476</td>\n",
       "      <td>-2.030674</td>\n",
       "      <td>...</td>\n",
       "      <td>-0.565067</td>\n",
       "      <td>0.392978</td>\n",
       "      <td>4.920467</td>\n",
       "      <td>16.610460</td>\n",
       "      <td>-2.430804</td>\n",
       "      <td>-1.405573</td>\n",
       "      <td>18.610209</td>\n",
       "      <td>-4.140715</td>\n",
       "      <td>6.027816</td>\n",
       "      <td>-20.288145</td>\n",
       "    </tr>\n",
       "    <tr>\n",
       "      <th>1</th>\n",
       "      <td>5.161836</td>\n",
       "      <td>-6.514011</td>\n",
       "      <td>-7.474612</td>\n",
       "      <td>-4.544336</td>\n",
       "      <td>-13.081404</td>\n",
       "      <td>-1.094672</td>\n",
       "      <td>-1.253545</td>\n",
       "      <td>-2.955342</td>\n",
       "      <td>-10.958200</td>\n",
       "      <td>0.201764</td>\n",
       "      <td>...</td>\n",
       "      <td>3.433538</td>\n",
       "      <td>-4.840233</td>\n",
       "      <td>-0.514308</td>\n",
       "      <td>4.613289</td>\n",
       "      <td>2.391302</td>\n",
       "      <td>-4.795664</td>\n",
       "      <td>4.208278</td>\n",
       "      <td>-2.017168</td>\n",
       "      <td>-8.510424</td>\n",
       "      <td>10.806639</td>\n",
       "    </tr>\n",
       "    <tr>\n",
       "      <th>2</th>\n",
       "      <td>-2.971550</td>\n",
       "      <td>-21.508184</td>\n",
       "      <td>-1.125457</td>\n",
       "      <td>1.524129</td>\n",
       "      <td>3.027444</td>\n",
       "      <td>1.551050</td>\n",
       "      <td>1.512075</td>\n",
       "      <td>-1.955564</td>\n",
       "      <td>3.683893</td>\n",
       "      <td>-3.281620</td>\n",
       "      <td>...</td>\n",
       "      <td>-1.659274</td>\n",
       "      <td>-0.385303</td>\n",
       "      <td>2.647917</td>\n",
       "      <td>-2.200556</td>\n",
       "      <td>1.058671</td>\n",
       "      <td>1.076312</td>\n",
       "      <td>-7.802389</td>\n",
       "      <td>-7.553953</td>\n",
       "      <td>0.636639</td>\n",
       "      <td>14.274950</td>\n",
       "    </tr>\n",
       "    <tr>\n",
       "      <th>3</th>\n",
       "      <td>6.724419</td>\n",
       "      <td>0.566489</td>\n",
       "      <td>0.509764</td>\n",
       "      <td>-4.524162</td>\n",
       "      <td>10.367236</td>\n",
       "      <td>0.741790</td>\n",
       "      <td>-2.077787</td>\n",
       "      <td>-2.912744</td>\n",
       "      <td>-4.040637</td>\n",
       "      <td>0.966362</td>\n",
       "      <td>...</td>\n",
       "      <td>3.270839</td>\n",
       "      <td>4.731346</td>\n",
       "      <td>15.378418</td>\n",
       "      <td>-14.031666</td>\n",
       "      <td>2.659410</td>\n",
       "      <td>5.123620</td>\n",
       "      <td>-8.500321</td>\n",
       "      <td>3.417960</td>\n",
       "      <td>-14.798490</td>\n",
       "      <td>-6.132800</td>\n",
       "    </tr>\n",
       "    <tr>\n",
       "      <th>4</th>\n",
       "      <td>-2.213659</td>\n",
       "      <td>-4.678213</td>\n",
       "      <td>-0.135845</td>\n",
       "      <td>2.375933</td>\n",
       "      <td>0.916649</td>\n",
       "      <td>-0.353265</td>\n",
       "      <td>-0.220609</td>\n",
       "      <td>-3.416823</td>\n",
       "      <td>-5.964181</td>\n",
       "      <td>0.166999</td>\n",
       "      <td>...</td>\n",
       "      <td>-10.292197</td>\n",
       "      <td>1.598330</td>\n",
       "      <td>-4.996614</td>\n",
       "      <td>4.504269</td>\n",
       "      <td>1.918961</td>\n",
       "      <td>-2.076223</td>\n",
       "      <td>0.154039</td>\n",
       "      <td>-2.016779</td>\n",
       "      <td>10.803205</td>\n",
       "      <td>5.942927</td>\n",
       "    </tr>\n",
       "    <tr>\n",
       "      <th>...</th>\n",
       "      <td>...</td>\n",
       "      <td>...</td>\n",
       "      <td>...</td>\n",
       "      <td>...</td>\n",
       "      <td>...</td>\n",
       "      <td>...</td>\n",
       "      <td>...</td>\n",
       "      <td>...</td>\n",
       "      <td>...</td>\n",
       "      <td>...</td>\n",
       "      <td>...</td>\n",
       "      <td>...</td>\n",
       "      <td>...</td>\n",
       "      <td>...</td>\n",
       "      <td>...</td>\n",
       "      <td>...</td>\n",
       "      <td>...</td>\n",
       "      <td>...</td>\n",
       "      <td>...</td>\n",
       "      <td>...</td>\n",
       "      <td>...</td>\n",
       "    </tr>\n",
       "    <tr>\n",
       "      <th>6958</th>\n",
       "      <td>1.554111</td>\n",
       "      <td>2.018845</td>\n",
       "      <td>-2.550991</td>\n",
       "      <td>-2.049014</td>\n",
       "      <td>0.931923</td>\n",
       "      <td>2.260598</td>\n",
       "      <td>0.907393</td>\n",
       "      <td>0.559868</td>\n",
       "      <td>-0.366525</td>\n",
       "      <td>6.499142</td>\n",
       "      <td>...</td>\n",
       "      <td>17.651213</td>\n",
       "      <td>-2.078071</td>\n",
       "      <td>2.774934</td>\n",
       "      <td>-5.819371</td>\n",
       "      <td>-1.397282</td>\n",
       "      <td>0.629832</td>\n",
       "      <td>-1.098601</td>\n",
       "      <td>-7.498520</td>\n",
       "      <td>-7.752161</td>\n",
       "      <td>12.691050</td>\n",
       "    </tr>\n",
       "    <tr>\n",
       "      <th>6959</th>\n",
       "      <td>5.341612</td>\n",
       "      <td>-4.057497</td>\n",
       "      <td>0.712336</td>\n",
       "      <td>-0.529023</td>\n",
       "      <td>2.389152</td>\n",
       "      <td>-4.248458</td>\n",
       "      <td>-2.516312</td>\n",
       "      <td>1.612912</td>\n",
       "      <td>0.088317</td>\n",
       "      <td>2.257982</td>\n",
       "      <td>...</td>\n",
       "      <td>9.199936</td>\n",
       "      <td>-0.120301</td>\n",
       "      <td>-3.247273</td>\n",
       "      <td>-3.348203</td>\n",
       "      <td>2.651849</td>\n",
       "      <td>1.059434</td>\n",
       "      <td>-2.842064</td>\n",
       "      <td>-1.960203</td>\n",
       "      <td>-5.095832</td>\n",
       "      <td>-0.174943</td>\n",
       "    </tr>\n",
       "    <tr>\n",
       "      <th>6960</th>\n",
       "      <td>-2.348591</td>\n",
       "      <td>-8.263995</td>\n",
       "      <td>-0.318484</td>\n",
       "      <td>1.851011</td>\n",
       "      <td>-4.880470</td>\n",
       "      <td>-4.348202</td>\n",
       "      <td>2.937274</td>\n",
       "      <td>-3.067852</td>\n",
       "      <td>-0.173702</td>\n",
       "      <td>-3.446411</td>\n",
       "      <td>...</td>\n",
       "      <td>-8.176217</td>\n",
       "      <td>0.819033</td>\n",
       "      <td>0.794195</td>\n",
       "      <td>9.353774</td>\n",
       "      <td>-1.841798</td>\n",
       "      <td>-1.116251</td>\n",
       "      <td>6.708149</td>\n",
       "      <td>-1.841971</td>\n",
       "      <td>5.747190</td>\n",
       "      <td>-7.608288</td>\n",
       "    </tr>\n",
       "    <tr>\n",
       "      <th>6961</th>\n",
       "      <td>5.481595</td>\n",
       "      <td>4.899412</td>\n",
       "      <td>-0.421851</td>\n",
       "      <td>4.639328</td>\n",
       "      <td>-20.671090</td>\n",
       "      <td>-3.838050</td>\n",
       "      <td>0.622003</td>\n",
       "      <td>1.548813</td>\n",
       "      <td>-8.847505</td>\n",
       "      <td>0.864090</td>\n",
       "      <td>...</td>\n",
       "      <td>-6.607413</td>\n",
       "      <td>1.697137</td>\n",
       "      <td>-8.315975</td>\n",
       "      <td>6.149865</td>\n",
       "      <td>1.437154</td>\n",
       "      <td>-7.284716</td>\n",
       "      <td>4.566744</td>\n",
       "      <td>-0.908937</td>\n",
       "      <td>11.555781</td>\n",
       "      <td>2.889093</td>\n",
       "    </tr>\n",
       "    <tr>\n",
       "      <th>6962</th>\n",
       "      <td>0.939142</td>\n",
       "      <td>-0.354990</td>\n",
       "      <td>-5.475815</td>\n",
       "      <td>-0.108931</td>\n",
       "      <td>-14.824023</td>\n",
       "      <td>1.245086</td>\n",
       "      <td>3.083056</td>\n",
       "      <td>0.605012</td>\n",
       "      <td>-6.443162</td>\n",
       "      <td>-1.798557</td>\n",
       "      <td>...</td>\n",
       "      <td>-4.502190</td>\n",
       "      <td>1.078489</td>\n",
       "      <td>4.810056</td>\n",
       "      <td>-3.133966</td>\n",
       "      <td>-1.943968</td>\n",
       "      <td>-5.005418</td>\n",
       "      <td>7.176940</td>\n",
       "      <td>-1.482443</td>\n",
       "      <td>-3.219556</td>\n",
       "      <td>0.996970</td>\n",
       "    </tr>\n",
       "  </tbody>\n",
       "</table>\n",
       "<p>6963 rows × 30 columns</p>\n",
       "</div>"
      ],
      "text/plain": [
       "             0          1         2         3          4         6         7  \\\n",
       "0    -6.130724   7.429628  3.651437 -1.950971  -3.384415 -3.077774 -2.619091   \n",
       "1     5.161836  -6.514011 -7.474612 -4.544336 -13.081404 -1.094672 -1.253545   \n",
       "2    -2.971550 -21.508184 -1.125457  1.524129   3.027444  1.551050  1.512075   \n",
       "3     6.724419   0.566489  0.509764 -4.524162  10.367236  0.741790 -2.077787   \n",
       "4    -2.213659  -4.678213 -0.135845  2.375933   0.916649 -0.353265 -0.220609   \n",
       "...        ...        ...       ...       ...        ...       ...       ...   \n",
       "6958  1.554111   2.018845 -2.550991 -2.049014   0.931923  2.260598  0.907393   \n",
       "6959  5.341612  -4.057497  0.712336 -0.529023   2.389152 -4.248458 -2.516312   \n",
       "6960 -2.348591  -8.263995 -0.318484  1.851011  -4.880470 -4.348202  2.937274   \n",
       "6961  5.481595   4.899412 -0.421851  4.639328 -20.671090 -3.838050  0.622003   \n",
       "6962  0.939142  -0.354990 -5.475815 -0.108931 -14.824023  1.245086  3.083056   \n",
       "\n",
       "             8          9        10  ...         21        22         23  \\\n",
       "0     5.128201   1.228476 -2.030674  ...  -0.565067  0.392978   4.920467   \n",
       "1    -2.955342 -10.958200  0.201764  ...   3.433538 -4.840233  -0.514308   \n",
       "2    -1.955564   3.683893 -3.281620  ...  -1.659274 -0.385303   2.647917   \n",
       "3    -2.912744  -4.040637  0.966362  ...   3.270839  4.731346  15.378418   \n",
       "4    -3.416823  -5.964181  0.166999  ... -10.292197  1.598330  -4.996614   \n",
       "...        ...        ...       ...  ...        ...       ...        ...   \n",
       "6958  0.559868  -0.366525  6.499142  ...  17.651213 -2.078071   2.774934   \n",
       "6959  1.612912   0.088317  2.257982  ...   9.199936 -0.120301  -3.247273   \n",
       "6960 -3.067852  -0.173702 -3.446411  ...  -8.176217  0.819033   0.794195   \n",
       "6961  1.548813  -8.847505  0.864090  ...  -6.607413  1.697137  -8.315975   \n",
       "6962  0.605012  -6.443162 -1.798557  ...  -4.502190  1.078489   4.810056   \n",
       "\n",
       "             24        25        26         27        28         29         30  \n",
       "0     16.610460 -2.430804 -1.405573  18.610209 -4.140715   6.027816 -20.288145  \n",
       "1      4.613289  2.391302 -4.795664   4.208278 -2.017168  -8.510424  10.806639  \n",
       "2     -2.200556  1.058671  1.076312  -7.802389 -7.553953   0.636639  14.274950  \n",
       "3    -14.031666  2.659410  5.123620  -8.500321  3.417960 -14.798490  -6.132800  \n",
       "4      4.504269  1.918961 -2.076223   0.154039 -2.016779  10.803205   5.942927  \n",
       "...         ...       ...       ...        ...       ...        ...        ...  \n",
       "6958  -5.819371 -1.397282  0.629832  -1.098601 -7.498520  -7.752161  12.691050  \n",
       "6959  -3.348203  2.651849  1.059434  -2.842064 -1.960203  -5.095832  -0.174943  \n",
       "6960   9.353774 -1.841798 -1.116251   6.708149 -1.841971   5.747190  -7.608288  \n",
       "6961   6.149865  1.437154 -7.284716   4.566744 -0.908937  11.555781   2.889093  \n",
       "6962  -3.133966 -1.943968 -5.005418   7.176940 -1.482443  -3.219556   0.996970  \n",
       "\n",
       "[6963 rows x 30 columns]"
      ]
     },
     "execution_count": 6,
     "metadata": {},
     "output_type": "execute_result"
    }
   ],
   "source": [
    "data_X_no5col"
   ]
  },
  {
   "cell_type": "code",
   "execution_count": 3,
   "metadata": {},
   "outputs": [
    {
     "data": {
      "text/plain": [
       "0       0\n",
       "1       0\n",
       "2       0\n",
       "3       1\n",
       "4       0\n",
       "       ..\n",
       "6958    0\n",
       "6959    0\n",
       "6960    0\n",
       "6961    0\n",
       "6962    1\n",
       "Name: target, Length: 6963, dtype: int64"
      ]
     },
     "execution_count": 3,
     "metadata": {},
     "output_type": "execute_result"
    }
   ],
   "source": [
    "data_y"
   ]
  },
  {
   "cell_type": "markdown",
   "metadata": {},
   "source": [
    "# Дополнительные функции"
   ]
  },
  {
   "cell_type": "code",
   "execution_count": 10,
   "metadata": {},
   "outputs": [],
   "source": [
    "def evaluate_clf(pipe: Pipeline, X_train, y_train, X_test, y_test):\n",
    "    pipe.fit(X_train, y_train)\n",
    "    y_train_p = pipe.predict(X_train)\n",
    "    y_test_p = pipe.predict(X_test)\n",
    "    print('TRAIN')\n",
    "    print(classification_report(y_train, y_train_p))\n",
    "    print('TEST')\n",
    "    print(classification_report(y_test, y_test_p))\n",
    "    \n",
    "    cmx = confusion_matrix(y_test, y_test_p)\n",
    "    print(cmx)\n",
    "    # plt.imshow(cmx, cmap=plt.cm.gray)\n",
    "\n",
    "    return pipe\n",
    "\n",
    "\n",
    "def grid_search_pipe(pipe:Pipeline, params, X_train, y_train, X_test, y_test):\n",
    "    print('BEFORE GRID SEARHC')       \n",
    "    evaluate_clf(pipe, X_train, y_train, X_test, y_test)\n",
    "    \n",
    "    grid = GridSearchCV(pipe, param_grid=params, refit = True, verbose = 1, scoring='f1')\n",
    "    grid.fit(X_train, y_train)\n",
    "    \n",
    "    # print best parameter after tuning\n",
    "    print('BEST PARAMS:', grid.best_params_)\n",
    "    # print how our model looks after hyper-parameter tuning\n",
    "    print('BEST ESTIMATOR:', grid.best_estimator_)\n",
    "\n",
    "    print('BEFORE GRID SEARCH')       \n",
    "    evaluate_clf(grid.best_estimator_, X_train, y_train, X_test, y_test)\n",
    "    cross_val_score(grid.best_estimator_, X_train, y_train, scoring='f1')"
   ]
  },
  {
   "cell_type": "markdown",
   "metadata": {},
   "source": [
    "# Простой классификатор по 5 признаку"
   ]
  },
  {
   "cell_type": "code",
   "execution_count": 4,
   "metadata": {},
   "outputs": [],
   "source": [
    "def func(ar:list):\n",
    "    res = []\n",
    "    a1 = 1.6486205286342552\n",
    "    a2 = 1.6469322124181416\n",
    "    a = (a2 + a1) / 2\n",
    "    for i in ar:\n",
    "        if i < a:\n",
    "            res.append(0)\n",
    "        else:\n",
    "            res.append(1)\n",
    "\n",
    "    return res\n",
    "\n",
    "\n",
    "res = func(data_predict['5'].to_numpy())"
   ]
  },
  {
   "cell_type": "code",
   "execution_count": 5,
   "metadata": {},
   "outputs": [
    {
     "data": {
      "text/plain": [
       "array([[<AxesSubplot:title={'center':'target'}>]], dtype=object)"
      ]
     },
     "execution_count": 5,
     "metadata": {},
     "output_type": "execute_result"
    },
    {
     "data": {
      "image/png": "[encoded data removed]",
      "text/plain": [
       "<Figure size 432x288 with 1 Axes>"
      ]
     },
     "metadata": {
      "needs_background": "light"
     },
     "output_type": "display_data"
    }
   ],
   "source": [
    "df_output = pd.DataFrame({'target':res})\n",
    "df_output.to_csv('a04_20220819.csv')\n",
    "df_output.hist()\n",
    "# score 0.4686192468619247 :("
   ]
  },
  {
   "cell_type": "markdown",
   "metadata": {},
   "source": [
    "# Убираем столбец 5"
   ]
  },
  {
   "cell_type": "code",
   "execution_count": 34,
   "metadata": {},
   "outputs": [
    {
     "data": {
      "text/plain": [
       "({1: array([[0.00651466, 0.        , 0.01311475, 0.01311475, 0.01311475,\n",
       "          0.01311475, 0.01311475, 0.01311475, 0.01311475, 0.01311475],\n",
       "         [0.        , 0.        , 0.        , 0.        , 0.        ,\n",
       "          0.        , 0.        , 0.        , 0.        , 0.        ],\n",
       "         [0.        , 0.        , 0.        , 0.        , 0.        ,\n",
       "          0.        , 0.        , 0.        , 0.        , 0.        ],\n",
       "         [0.        , 0.        , 0.        , 0.        , 0.        ,\n",
       "          0.        , 0.        , 0.        , 0.        , 0.        ],\n",
       "         [0.        , 0.        , 0.        , 0.        , 0.        ,\n",
       "          0.        , 0.        , 0.        , 0.        , 0.        ]])},\n",
       " array([[ 1.73288405e-02, -3.28622247e-02,  1.02011828e-02,\n",
       "          4.00447247e-02,  3.29855448e-02, -3.37714791e-03,\n",
       "         -9.77342371e-03,  4.79106035e-03,  4.23358338e-02,\n",
       "         -1.63243540e-02, -2.70016640e-02,  3.60651291e-02,\n",
       "         -1.66862323e-02, -3.59820388e-02,  2.47605441e-04,\n",
       "         -5.18843616e-03,  8.33671215e-02,  3.12207356e-02,\n",
       "          2.44166497e-02, -1.22481269e-02, -3.13766531e-02,\n",
       "          8.40912218e-02, -3.88085984e-03,  4.77083257e-03,\n",
       "          1.95771971e-05, -1.42532472e-02, -2.69204434e-02,\n",
       "         -5.61189592e-02, -3.87044941e-02,  7.92103565e-02]]))"
      ]
     },
     "execution_count": 34,
     "metadata": {},
     "output_type": "execute_result"
    }
   ],
   "source": [
    "pipe = Pipeline([\n",
    "    ('scaller', StandardScaler()), \n",
    "    ('logit', LogisticRegressionCV(cv=5, random_state=0, max_iter=200, n_jobs=-1, scoring='f1', solver='liblinear', penalty='l2', tol=1e-100))\n",
    "    ])\n",
    "\n",
    "pipe.fit(X_train, y_train)\n",
    "est = pipe[-1]\n",
    "est.scores_, est.coef_"
   ]
  },
  {
   "cell_type": "markdown",
   "metadata": {},
   "source": [
    "Вывод - линеные моедели не работают"
   ]
  },
  {
   "cell_type": "markdown",
   "metadata": {},
   "source": [
    "## Random Forest"
   ]
  },
  {
   "cell_type": "code",
   "execution_count": 39,
   "metadata": {},
   "outputs": [
    {
     "name": "stdout",
     "output_type": "stream",
     "text": [
      "TRAIN\n",
      "              precision    recall  f1-score   support\n",
      "\n",
      "           0       1.00      1.00      1.00      3718\n",
      "           1       1.00      1.00      1.00      1504\n",
      "\n",
      "    accuracy                           1.00      5222\n",
      "   macro avg       1.00      1.00      1.00      5222\n",
      "weighted avg       1.00      1.00      1.00      5222\n",
      "\n",
      "TEST\n",
      "              precision    recall  f1-score   support\n",
      "\n",
      "           0       0.83      0.99      0.90      1245\n",
      "           1       0.97      0.47      0.64       496\n",
      "\n",
      "    accuracy                           0.85      1741\n",
      "   macro avg       0.90      0.73      0.77      1741\n",
      "weighted avg       0.87      0.85      0.83      1741\n",
      "\n",
      "[[1238    7]\n",
      " [ 262  234]]\n"
     ]
    },
    {
     "data": {
      "text/html": [
       "<style>#sk-container-id-2 {color: black;background-color: white;}#sk-container-id-2 pre{padding: 0;}#sk-container-id-2 div.sk-toggleable {background-color: white;}#sk-container-id-2 label.sk-toggleable__label {cursor: pointer;display: block;width: 100%;margin-bottom: 0;padding: 0.3em;box-sizing: border-box;text-align: center;}#sk-container-id-2 label.sk-toggleable__label-arrow:before {content: \"▸\";float: left;margin-right: 0.25em;color: #696969;}#sk-container-id-2 label.sk-toggleable__label-arrow:hover:before {color: black;}#sk-container-id-2 div.sk-estimator:hover label.sk-toggleable__label-arrow:before {color: black;}#sk-container-id-2 div.sk-toggleable__content {max-height: 0;max-width: 0;overflow: hidden;text-align: left;background-color: #f0f8ff;}#sk-container-id-2 div.sk-toggleable__content pre {margin: 0.2em;color: black;border-radius: 0.25em;background-color: #f0f8ff;}#sk-container-id-2 input.sk-toggleable__control:checked~div.sk-toggleable__content {max-height: 200px;max-width: 100%;overflow: auto;}#sk-container-id-2 input.sk-toggleable__control:checked~label.sk-toggleable__label-arrow:before {content: \"▾\";}#sk-container-id-2 div.sk-estimator input.sk-toggleable__control:checked~label.sk-toggleable__label {background-color: #d4ebff;}#sk-container-id-2 div.sk-label input.sk-toggleable__control:checked~label.sk-toggleable__label {background-color: #d4ebff;}#sk-container-id-2 input.sk-hidden--visually {border: 0;clip: rect(1px 1px 1px 1px);clip: rect(1px, 1px, 1px, 1px);height: 1px;margin: -1px;overflow: hidden;padding: 0;position: absolute;width: 1px;}#sk-container-id-2 div.sk-estimator {font-family: monospace;background-color: #f0f8ff;border: 1px dotted black;border-radius: 0.25em;box-sizing: border-box;margin-bottom: 0.5em;}#sk-container-id-2 div.sk-estimator:hover {background-color: #d4ebff;}#sk-container-id-2 div.sk-parallel-item::after {content: \"\";width: 100%;border-bottom: 1px solid gray;flex-grow: 1;}#sk-container-id-2 div.sk-label:hover label.sk-toggleable__label {background-color: #d4ebff;}#sk-container-id-2 div.sk-serial::before {content: \"\";position: absolute;border-left: 1px solid gray;box-sizing: border-box;top: 0;bottom: 0;left: 50%;z-index: 0;}#sk-container-id-2 div.sk-serial {display: flex;flex-direction: column;align-items: center;background-color: white;padding-right: 0.2em;padding-left: 0.2em;position: relative;}#sk-container-id-2 div.sk-item {position: relative;z-index: 1;}#sk-container-id-2 div.sk-parallel {display: flex;align-items: stretch;justify-content: center;background-color: white;position: relative;}#sk-container-id-2 div.sk-item::before, #sk-container-id-2 div.sk-parallel-item::before {content: \"\";position: absolute;border-left: 1px solid gray;box-sizing: border-box;top: 0;bottom: 0;left: 50%;z-index: -1;}#sk-container-id-2 div.sk-parallel-item {display: flex;flex-direction: column;z-index: 1;position: relative;background-color: white;}#sk-container-id-2 div.sk-parallel-item:first-child::after {align-self: flex-end;width: 50%;}#sk-container-id-2 div.sk-parallel-item:last-child::after {align-self: flex-start;width: 50%;}#sk-container-id-2 div.sk-parallel-item:only-child::after {width: 0;}#sk-container-id-2 div.sk-dashed-wrapped {border: 1px dashed gray;margin: 0 0.4em 0.5em 0.4em;box-sizing: border-box;padding-bottom: 0.4em;background-color: white;}#sk-container-id-2 div.sk-label label {font-family: monospace;font-weight: bold;display: inline-block;line-height: 1.2em;}#sk-container-id-2 div.sk-label-container {text-align: center;}#sk-container-id-2 div.sk-container {/* jupyter's `normalize.less` sets `[hidden] { display: none; }` but bootstrap.min.css set `[hidden] { display: none !important; }` so we also need the `!important` here to be able to override the default hidden behavior on the sphinx rendered scikit-learn.org. See: https://github.com/scikit-learn/scikit-learn/issues/21755 */display: inline-block !important;position: relative;}#sk-container-id-2 div.sk-text-repr-fallback {display: none;}</style><div id=\"sk-container-id-2\" class=\"sk-top-container\"><div class=\"sk-text-repr-fallback\"><pre>Pipeline(steps=[(&#x27;scaller&#x27;, StandardScaler()),\n",
       "                (&#x27;logit&#x27;, RandomForestClassifier())])</pre><b>In a Jupyter environment, please rerun this cell to show the HTML representation or trust the notebook. <br />On GitHub, the HTML representation is unable to render, please try loading this page with nbviewer.org.</b></div><div class=\"sk-container\" hidden><div class=\"sk-item sk-dashed-wrapped\"><div class=\"sk-label-container\"><div class=\"sk-label sk-toggleable\"><input class=\"sk-toggleable__control sk-hidden--visually\" id=\"sk-estimator-id-4\" type=\"checkbox\" ><label for=\"sk-estimator-id-4\" class=\"sk-toggleable__label sk-toggleable__label-arrow\">Pipeline</label><div class=\"sk-toggleable__content\"><pre>Pipeline(steps=[(&#x27;scaller&#x27;, StandardScaler()),\n",
       "                (&#x27;logit&#x27;, RandomForestClassifier())])</pre></div></div></div><div class=\"sk-serial\"><div class=\"sk-item\"><div class=\"sk-estimator sk-toggleable\"><input class=\"sk-toggleable__control sk-hidden--visually\" id=\"sk-estimator-id-5\" type=\"checkbox\" ><label for=\"sk-estimator-id-5\" class=\"sk-toggleable__label sk-toggleable__label-arrow\">StandardScaler</label><div class=\"sk-toggleable__content\"><pre>StandardScaler()</pre></div></div></div><div class=\"sk-item\"><div class=\"sk-estimator sk-toggleable\"><input class=\"sk-toggleable__control sk-hidden--visually\" id=\"sk-estimator-id-6\" type=\"checkbox\" ><label for=\"sk-estimator-id-6\" class=\"sk-toggleable__label sk-toggleable__label-arrow\">RandomForestClassifier</label><div class=\"sk-toggleable__content\"><pre>RandomForestClassifier()</pre></div></div></div></div></div></div></div>"
      ],
      "text/plain": [
       "Pipeline(steps=[('scaller', StandardScaler()),\n",
       "                ('logit', RandomForestClassifier())])"
      ]
     },
     "execution_count": 39,
     "metadata": {},
     "output_type": "execute_result"
    },
    {
     "data": {
      "image/png": "[encoded data removed]",
      "text/plain": [
       "<Figure size 432x288 with 1 Axes>"
      ]
     },
     "metadata": {
      "needs_background": "light"
     },
     "output_type": "display_data"
    }
   ],
   "source": [
    "pipe = Pipeline([\n",
    "    ('scaller', StandardScaler()), \n",
    "    ('logit', RandomForestClassifier())\n",
    "    ])\n",
    "evaluate_clf(pipe, X_train, y_train, X_test, y_test)"
   ]
  },
  {
   "cell_type": "code",
   "execution_count": 41,
   "metadata": {},
   "outputs": [
    {
     "data": {
      "text/plain": [
       "array([0.66101695, 0.62932455, 0.68227425, 0.62541806, 0.66450567])"
      ]
     },
     "execution_count": 41,
     "metadata": {},
     "output_type": "execute_result"
    }
   ],
   "source": [
    "pipe = Pipeline([\n",
    "    ('scaller', StandardScaler()), \n",
    "    ('logit', RandomForestClassifier())\n",
    "    ])\n",
    "cross_val_score(pipe, data_X_no5col, data_y, cv=kf_5, scoring='f1')"
   ]
  },
  {
   "cell_type": "code",
   "execution_count": null,
   "metadata": {},
   "outputs": [],
   "source": [
    "pipe.fit(data_X_no5col, data_y)\n",
    "y_p = pipe.predict(data_predict_no5col)\n",
    "df_output = pd.DataFrame({'target': y_p})\n",
    "df_output.to_csv('a06_20220819.csv')"
   ]
  },
  {
   "cell_type": "markdown",
   "metadata": {},
   "source": [
    "## KNN"
   ]
  },
  {
   "cell_type": "markdown",
   "metadata": {},
   "source": [
    "score 0.81044957472661\n",
    "\n",
    "без f1 метрики"
   ]
  },
  {
   "cell_type": "code",
   "execution_count": 42,
   "metadata": {},
   "outputs": [
    {
     "name": "stdout",
     "output_type": "stream",
     "text": [
      "TRAIN\n",
      "              precision    recall  f1-score   support\n",
      "\n",
      "           0       0.92      0.99      0.96      3718\n",
      "           1       0.96      0.80      0.88      1504\n",
      "\n",
      "    accuracy                           0.93      5222\n",
      "   macro avg       0.94      0.89      0.92      5222\n",
      "weighted avg       0.94      0.93      0.93      5222\n",
      "\n",
      "TEST\n",
      "              precision    recall  f1-score   support\n",
      "\n",
      "           0       0.89      0.97      0.93      1245\n",
      "           1       0.91      0.71      0.80       496\n",
      "\n",
      "    accuracy                           0.90      1741\n",
      "   macro avg       0.90      0.84      0.87      1741\n",
      "weighted avg       0.90      0.90      0.89      1741\n",
      "\n",
      "[[1212   33]\n",
      " [ 144  352]]\n"
     ]
    },
    {
     "data": {
      "text/html": [
       "<style>#sk-container-id-3 {color: black;background-color: white;}#sk-container-id-3 pre{padding: 0;}#sk-container-id-3 div.sk-toggleable {background-color: white;}#sk-container-id-3 label.sk-toggleable__label {cursor: pointer;display: block;width: 100%;margin-bottom: 0;padding: 0.3em;box-sizing: border-box;text-align: center;}#sk-container-id-3 label.sk-toggleable__label-arrow:before {content: \"▸\";float: left;margin-right: 0.25em;color: #696969;}#sk-container-id-3 label.sk-toggleable__label-arrow:hover:before {color: black;}#sk-container-id-3 div.sk-estimator:hover label.sk-toggleable__label-arrow:before {color: black;}#sk-container-id-3 div.sk-toggleable__content {max-height: 0;max-width: 0;overflow: hidden;text-align: left;background-color: #f0f8ff;}#sk-container-id-3 div.sk-toggleable__content pre {margin: 0.2em;color: black;border-radius: 0.25em;background-color: #f0f8ff;}#sk-container-id-3 input.sk-toggleable__control:checked~div.sk-toggleable__content {max-height: 200px;max-width: 100%;overflow: auto;}#sk-container-id-3 input.sk-toggleable__control:checked~label.sk-toggleable__label-arrow:before {content: \"▾\";}#sk-container-id-3 div.sk-estimator input.sk-toggleable__control:checked~label.sk-toggleable__label {background-color: #d4ebff;}#sk-container-id-3 div.sk-label input.sk-toggleable__control:checked~label.sk-toggleable__label {background-color: #d4ebff;}#sk-container-id-3 input.sk-hidden--visually {border: 0;clip: rect(1px 1px 1px 1px);clip: rect(1px, 1px, 1px, 1px);height: 1px;margin: -1px;overflow: hidden;padding: 0;position: absolute;width: 1px;}#sk-container-id-3 div.sk-estimator {font-family: monospace;background-color: #f0f8ff;border: 1px dotted black;border-radius: 0.25em;box-sizing: border-box;margin-bottom: 0.5em;}#sk-container-id-3 div.sk-estimator:hover {background-color: #d4ebff;}#sk-container-id-3 div.sk-parallel-item::after {content: \"\";width: 100%;border-bottom: 1px solid gray;flex-grow: 1;}#sk-container-id-3 div.sk-label:hover label.sk-toggleable__label {background-color: #d4ebff;}#sk-container-id-3 div.sk-serial::before {content: \"\";position: absolute;border-left: 1px solid gray;box-sizing: border-box;top: 0;bottom: 0;left: 50%;z-index: 0;}#sk-container-id-3 div.sk-serial {display: flex;flex-direction: column;align-items: center;background-color: white;padding-right: 0.2em;padding-left: 0.2em;position: relative;}#sk-container-id-3 div.sk-item {position: relative;z-index: 1;}#sk-container-id-3 div.sk-parallel {display: flex;align-items: stretch;justify-content: center;background-color: white;position: relative;}#sk-container-id-3 div.sk-item::before, #sk-container-id-3 div.sk-parallel-item::before {content: \"\";position: absolute;border-left: 1px solid gray;box-sizing: border-box;top: 0;bottom: 0;left: 50%;z-index: -1;}#sk-container-id-3 div.sk-parallel-item {display: flex;flex-direction: column;z-index: 1;position: relative;background-color: white;}#sk-container-id-3 div.sk-parallel-item:first-child::after {align-self: flex-end;width: 50%;}#sk-container-id-3 div.sk-parallel-item:last-child::after {align-self: flex-start;width: 50%;}#sk-container-id-3 div.sk-parallel-item:only-child::after {width: 0;}#sk-container-id-3 div.sk-dashed-wrapped {border: 1px dashed gray;margin: 0 0.4em 0.5em 0.4em;box-sizing: border-box;padding-bottom: 0.4em;background-color: white;}#sk-container-id-3 div.sk-label label {font-family: monospace;font-weight: bold;display: inline-block;line-height: 1.2em;}#sk-container-id-3 div.sk-label-container {text-align: center;}#sk-container-id-3 div.sk-container {/* jupyter's `normalize.less` sets `[hidden] { display: none; }` but bootstrap.min.css set `[hidden] { display: none !important; }` so we also need the `!important` here to be able to override the default hidden behavior on the sphinx rendered scikit-learn.org. See: https://github.com/scikit-learn/scikit-learn/issues/21755 */display: inline-block !important;position: relative;}#sk-container-id-3 div.sk-text-repr-fallback {display: none;}</style><div id=\"sk-container-id-3\" class=\"sk-top-container\"><div class=\"sk-text-repr-fallback\"><pre>Pipeline(steps=[(&#x27;scaller&#x27;, StandardScaler()),\n",
       "                (&#x27;logit&#x27;, KNeighborsClassifier())])</pre><b>In a Jupyter environment, please rerun this cell to show the HTML representation or trust the notebook. <br />On GitHub, the HTML representation is unable to render, please try loading this page with nbviewer.org.</b></div><div class=\"sk-container\" hidden><div class=\"sk-item sk-dashed-wrapped\"><div class=\"sk-label-container\"><div class=\"sk-label sk-toggleable\"><input class=\"sk-toggleable__control sk-hidden--visually\" id=\"sk-estimator-id-7\" type=\"checkbox\" ><label for=\"sk-estimator-id-7\" class=\"sk-toggleable__label sk-toggleable__label-arrow\">Pipeline</label><div class=\"sk-toggleable__content\"><pre>Pipeline(steps=[(&#x27;scaller&#x27;, StandardScaler()),\n",
       "                (&#x27;logit&#x27;, KNeighborsClassifier())])</pre></div></div></div><div class=\"sk-serial\"><div class=\"sk-item\"><div class=\"sk-estimator sk-toggleable\"><input class=\"sk-toggleable__control sk-hidden--visually\" id=\"sk-estimator-id-8\" type=\"checkbox\" ><label for=\"sk-estimator-id-8\" class=\"sk-toggleable__label sk-toggleable__label-arrow\">StandardScaler</label><div class=\"sk-toggleable__content\"><pre>StandardScaler()</pre></div></div></div><div class=\"sk-item\"><div class=\"sk-estimator sk-toggleable\"><input class=\"sk-toggleable__control sk-hidden--visually\" id=\"sk-estimator-id-9\" type=\"checkbox\" ><label for=\"sk-estimator-id-9\" class=\"sk-toggleable__label sk-toggleable__label-arrow\">KNeighborsClassifier</label><div class=\"sk-toggleable__content\"><pre>KNeighborsClassifier()</pre></div></div></div></div></div></div></div>"
      ],
      "text/plain": [
       "Pipeline(steps=[('scaller', StandardScaler()),\n",
       "                ('logit', KNeighborsClassifier())])"
      ]
     },
     "execution_count": 42,
     "metadata": {},
     "output_type": "execute_result"
    },
    {
     "data": {
      "image/png": "[encoded data removed]",
      "text/plain": [
       "<Figure size 432x288 with 1 Axes>"
      ]
     },
     "metadata": {
      "needs_background": "light"
     },
     "output_type": "display_data"
    }
   ],
   "source": [
    "pipe = Pipeline([\n",
    "    ('scaller', StandardScaler()), \n",
    "    ('logit', KNeighborsClassifier())\n",
    "    ])\n",
    "\n",
    "evaluate_clf(pipe, X_train, y_train, X_test, y_test)"
   ]
  },
  {
   "cell_type": "markdown",
   "metadata": {},
   "source": [
    "если использовать метрику f1 получается такой score"
   ]
  },
  {
   "cell_type": "code",
   "execution_count": 43,
   "metadata": {},
   "outputs": [
    {
     "data": {
      "text/plain": [
       "array([0.80232558, 0.80325645, 0.79351032, 0.80285714, 0.79888268])"
      ]
     },
     "execution_count": 43,
     "metadata": {},
     "output_type": "execute_result"
    }
   ],
   "source": [
    "cross_val_score(pipe, data_X_no5col, data_y, cv=kf_5, scoring='f1')"
   ]
  },
  {
   "cell_type": "markdown",
   "metadata": {},
   "source": [
    "score 0.7095238095238096 - работае хуже, если добавить 5 колонку."
   ]
  },
  {
   "cell_type": "code",
   "execution_count": 45,
   "metadata": {},
   "outputs": [
    {
     "name": "stdout",
     "output_type": "stream",
     "text": [
      "[0.965542   0.96697775 0.97487437 0.95402299 0.96695402]\n"
     ]
    }
   ],
   "source": [
    "pipe = Pipeline([\n",
    "    ('scaller', StandardScaler()), \n",
    "    ('logit', KNeighborsClassifier())\n",
    "    ])\n",
    "print(cross_val_score(pipe, data_X, data_y, cv=kf_5))\n",
    "pipe.fit(data_X, data_y)\n",
    "y_p = pipe.predict(data_predict)\n",
    "df_output = pd.DataFrame({'target': y_p})\n",
    "df_output.to_csv('a05_202208192142_knn_all.csv')\n"
   ]
  },
  {
   "cell_type": "code",
   "execution_count": 78,
   "metadata": {},
   "outputs": [
    {
     "data": {
      "text/plain": [
       "{'mean_fit_time': array([0.11102319, 0.10301795, 0.5286747 , 0.16458526, 0.37768359,\n",
       "        0.20224528, 0.07004166, 0.12351232, 0.04581032, 0.49057384]),\n",
       " 'std_fit_time': array([0.01543066, 0.01220151, 0.37991446, 0.16863836, 0.41550313,\n",
       "        0.09599507, 0.0343508 , 0.04748631, 0.01784158, 0.27980449]),\n",
       " 'mean_score_time': array([ 8.97944989,  8.93135748,  9.95971828, 10.41356635, 10.16842895,\n",
       "         2.49429522,  1.60296955,  6.76866412,  3.03409004,  6.50767813]),\n",
       " 'std_score_time': array([1.92554203, 1.83730624, 1.2442712 , 0.34006033, 0.96687142,\n",
       "        1.0476537 , 0.33552655, 0.11849665, 0.26400812, 0.25115974]),\n",
       " 'param_knn__weights': masked_array(data=['distance', 'distance', 'distance', 'uniform',\n",
       "                    'distance', 'distance', 'uniform', 'uniform',\n",
       "                    'distance', 'distance'],\n",
       "              mask=[False, False, False, False, False, False, False, False,\n",
       "                    False, False],\n",
       "        fill_value='?',\n",
       "             dtype=object),\n",
       " 'param_knn__p': masked_array(data=[5, 6, 7, 3, 8, 1, 2, 8, 2, 4],\n",
       "              mask=[False, False, False, False, False, False, False, False,\n",
       "                    False, False],\n",
       "        fill_value='?',\n",
       "             dtype=object),\n",
       " 'param_knn__n_neighbors': masked_array(data=[5, 7, 7, 6, 6, 7, 6, 7, 7, 5],\n",
       "              mask=[False, False, False, False, False, False, False, False,\n",
       "                    False, False],\n",
       "        fill_value='?',\n",
       "             dtype=object),\n",
       " 'param_knn__algorithm': masked_array(data=['ball_tree', 'ball_tree', 'ball_tree', 'ball_tree',\n",
       "                    'ball_tree', 'ball_tree', 'ball_tree', 'ball_tree',\n",
       "                    'ball_tree', 'ball_tree'],\n",
       "              mask=[False, False, False, False, False, False, False, False,\n",
       "                    False, False],\n",
       "        fill_value='?',\n",
       "             dtype=object),\n",
       " 'params': [{'knn__weights': 'distance',\n",
       "   'knn__p': 5,\n",
       "   'knn__n_neighbors': 5,\n",
       "   'knn__algorithm': 'ball_tree'},\n",
       "  {'knn__weights': 'distance',\n",
       "   'knn__p': 6,\n",
       "   'knn__n_neighbors': 7,\n",
       "   'knn__algorithm': 'ball_tree'},\n",
       "  {'knn__weights': 'distance',\n",
       "   'knn__p': 7,\n",
       "   'knn__n_neighbors': 7,\n",
       "   'knn__algorithm': 'ball_tree'},\n",
       "  {'knn__weights': 'uniform',\n",
       "   'knn__p': 3,\n",
       "   'knn__n_neighbors': 6,\n",
       "   'knn__algorithm': 'ball_tree'},\n",
       "  {'knn__weights': 'distance',\n",
       "   'knn__p': 8,\n",
       "   'knn__n_neighbors': 6,\n",
       "   'knn__algorithm': 'ball_tree'},\n",
       "  {'knn__weights': 'distance',\n",
       "   'knn__p': 1,\n",
       "   'knn__n_neighbors': 7,\n",
       "   'knn__algorithm': 'ball_tree'},\n",
       "  {'knn__weights': 'uniform',\n",
       "   'knn__p': 2,\n",
       "   'knn__n_neighbors': 6,\n",
       "   'knn__algorithm': 'ball_tree'},\n",
       "  {'knn__weights': 'uniform',\n",
       "   'knn__p': 8,\n",
       "   'knn__n_neighbors': 7,\n",
       "   'knn__algorithm': 'ball_tree'},\n",
       "  {'knn__weights': 'distance',\n",
       "   'knn__p': 2,\n",
       "   'knn__n_neighbors': 7,\n",
       "   'knn__algorithm': 'ball_tree'},\n",
       "  {'knn__weights': 'distance',\n",
       "   'knn__p': 4,\n",
       "   'knn__n_neighbors': 5,\n",
       "   'knn__algorithm': 'ball_tree'}],\n",
       " 'split0_test_score': array([0.78106509, 0.77996965, 0.76829268, 0.74641148, 0.78571429,\n",
       "        0.77777778, 0.753125  , 0.77203647, 0.80888889, 0.79528719]),\n",
       " 'split1_test_score': array([0.77094972, 0.76353276, 0.74818049, 0.73293769, 0.75106686,\n",
       "        0.78888889, 0.74294205, 0.74117647, 0.80667594, 0.78164117]),\n",
       " 'split2_test_score': array([0.76854599, 0.75535168, 0.74188563, 0.72933549, 0.73731343,\n",
       "        0.77300613, 0.72638436, 0.73094868, 0.7781155 , 0.78761062]),\n",
       " 'split3_test_score': array([0.75      , 0.73795181, 0.7325228 , 0.70347003, 0.75770925,\n",
       "        0.76557864, 0.73178295, 0.73059361, 0.78832117, 0.77419355]),\n",
       " 'split4_test_score': array([0.77187948, 0.7748538 , 0.75882353, 0.73972603, 0.75471698,\n",
       "        0.77034884, 0.76374443, 0.74404762, 0.80736544, 0.79207921]),\n",
       " 'mean_test_score': array([0.76848806, 0.76233194, 0.74994103, 0.73037614, 0.75730416,\n",
       "        0.77512005, 0.74359576, 0.74376057, 0.79787339, 0.78616235]),\n",
       " 'std_test_score': array([0.01017403, 0.01491605, 0.01254644, 0.01467062, 0.01582736,\n",
       "        0.0079362 , 0.01365999, 0.01512482, 0.01241406, 0.00753741]),\n",
       " 'rank_test_score': array([ 4,  5,  7, 10,  6,  3,  9,  8,  1,  2])}"
      ]
     },
     "execution_count": 78,
     "metadata": {},
     "output_type": "execute_result"
    }
   ],
   "source": [
    "pipe = Pipeline([\n",
    "    ('scaller', StandardScaler()), \n",
    "    ('knn', KNeighborsClassifier(n_jobs=-1))\n",
    "    ])\n",
    "\n",
    "# pg = {'knn__n_neighbors':  [5, 6, 7], 'knn__weights': ['uniform', 'distance'], 'knn__algorithm': ['auto', 'ball_tree', 'kd_tree', 'brute'], 'knn__p': list(range(1, 10))}\n",
    "pg = {'knn__n_neighbors':  [5, 6, 7], 'knn__weights': ['uniform', 'distance'], 'knn__algorithm': ['ball_tree'], 'knn__p': list(range(1, 10))}\n",
    "\n",
    "clf = RandomizedSearchCV(pipe, pg, cv=kf_5, scoring='f1', n_jobs=-1)\n",
    "clf.fit(data_X_no5col, data_y)\n",
    "clf.cv_results_"
   ]
  },
  {
   "cell_type": "markdown",
   "metadata": {},
   "source": [
    "# SGD"
   ]
  },
  {
   "cell_type": "code",
   "execution_count": 82,
   "metadata": {},
   "outputs": [
    {
     "data": {
      "text/plain": [
       "array([0.08823529, 0.02830189, 0.12300683, 0.248     , 0.05140187])"
      ]
     },
     "execution_count": 82,
     "metadata": {},
     "output_type": "execute_result"
    }
   ],
   "source": [
    "pipe = Pipeline([\n",
    "    ('scaller', StandardScaler()), \n",
    "    ('sgd', SGDClassifier(n_jobs=-1))\n",
    "    ])\n",
    "cross_val_score(pipe, data_X_no5col, data_y, cv=kf_5, scoring='f1')"
   ]
  },
  {
   "cell_type": "markdown",
   "metadata": {},
   "source": [
    "# SVM\n"
   ]
  },
  {
   "cell_type": "markdown",
   "metadata": {},
   "source": [
    "## SVM 1"
   ]
  },
  {
   "cell_type": "markdown",
   "metadata": {},
   "source": [
    "SVM ONLY"
   ]
  },
  {
   "cell_type": "code",
   "execution_count": 59,
   "metadata": {},
   "outputs": [
    {
     "name": "stdout",
     "output_type": "stream",
     "text": [
      "TRAIN\n",
      "              precision    recall  f1-score   support\n",
      "\n",
      "           0       0.93      0.99      0.96      3718\n",
      "           1       0.98      0.83      0.90      1504\n",
      "\n",
      "    accuracy                           0.94      5222\n",
      "   macro avg       0.96      0.91      0.93      5222\n",
      "weighted avg       0.95      0.94      0.94      5222\n",
      "\n",
      "TEST\n",
      "              precision    recall  f1-score   support\n",
      "\n",
      "           0       0.91      0.98      0.94      1245\n",
      "           1       0.93      0.76      0.84       496\n",
      "\n",
      "    accuracy                           0.91      1741\n",
      "   macro avg       0.92      0.87      0.89      1741\n",
      "weighted avg       0.92      0.91      0.91      1741\n",
      "\n",
      "[[1217   28]\n",
      " [ 120  376]]\n"
     ]
    },
    {
     "data": {
      "text/html": [
       "<style>#sk-container-id-9 {color: black;background-color: white;}#sk-container-id-9 pre{padding: 0;}#sk-container-id-9 div.sk-toggleable {background-color: white;}#sk-container-id-9 label.sk-toggleable__label {cursor: pointer;display: block;width: 100%;margin-bottom: 0;padding: 0.3em;box-sizing: border-box;text-align: center;}#sk-container-id-9 label.sk-toggleable__label-arrow:before {content: \"▸\";float: left;margin-right: 0.25em;color: #696969;}#sk-container-id-9 label.sk-toggleable__label-arrow:hover:before {color: black;}#sk-container-id-9 div.sk-estimator:hover label.sk-toggleable__label-arrow:before {color: black;}#sk-container-id-9 div.sk-toggleable__content {max-height: 0;max-width: 0;overflow: hidden;text-align: left;background-color: #f0f8ff;}#sk-container-id-9 div.sk-toggleable__content pre {margin: 0.2em;color: black;border-radius: 0.25em;background-color: #f0f8ff;}#sk-container-id-9 input.sk-toggleable__control:checked~div.sk-toggleable__content {max-height: 200px;max-width: 100%;overflow: auto;}#sk-container-id-9 input.sk-toggleable__control:checked~label.sk-toggleable__label-arrow:before {content: \"▾\";}#sk-container-id-9 div.sk-estimator input.sk-toggleable__control:checked~label.sk-toggleable__label {background-color: #d4ebff;}#sk-container-id-9 div.sk-label input.sk-toggleable__control:checked~label.sk-toggleable__label {background-color: #d4ebff;}#sk-container-id-9 input.sk-hidden--visually {border: 0;clip: rect(1px 1px 1px 1px);clip: rect(1px, 1px, 1px, 1px);height: 1px;margin: -1px;overflow: hidden;padding: 0;position: absolute;width: 1px;}#sk-container-id-9 div.sk-estimator {font-family: monospace;background-color: #f0f8ff;border: 1px dotted black;border-radius: 0.25em;box-sizing: border-box;margin-bottom: 0.5em;}#sk-container-id-9 div.sk-estimator:hover {background-color: #d4ebff;}#sk-container-id-9 div.sk-parallel-item::after {content: \"\";width: 100%;border-bottom: 1px solid gray;flex-grow: 1;}#sk-container-id-9 div.sk-label:hover label.sk-toggleable__label {background-color: #d4ebff;}#sk-container-id-9 div.sk-serial::before {content: \"\";position: absolute;border-left: 1px solid gray;box-sizing: border-box;top: 0;bottom: 0;left: 50%;z-index: 0;}#sk-container-id-9 div.sk-serial {display: flex;flex-direction: column;align-items: center;background-color: white;padding-right: 0.2em;padding-left: 0.2em;position: relative;}#sk-container-id-9 div.sk-item {position: relative;z-index: 1;}#sk-container-id-9 div.sk-parallel {display: flex;align-items: stretch;justify-content: center;background-color: white;position: relative;}#sk-container-id-9 div.sk-item::before, #sk-container-id-9 div.sk-parallel-item::before {content: \"\";position: absolute;border-left: 1px solid gray;box-sizing: border-box;top: 0;bottom: 0;left: 50%;z-index: -1;}#sk-container-id-9 div.sk-parallel-item {display: flex;flex-direction: column;z-index: 1;position: relative;background-color: white;}#sk-container-id-9 div.sk-parallel-item:first-child::after {align-self: flex-end;width: 50%;}#sk-container-id-9 div.sk-parallel-item:last-child::after {align-self: flex-start;width: 50%;}#sk-container-id-9 div.sk-parallel-item:only-child::after {width: 0;}#sk-container-id-9 div.sk-dashed-wrapped {border: 1px dashed gray;margin: 0 0.4em 0.5em 0.4em;box-sizing: border-box;padding-bottom: 0.4em;background-color: white;}#sk-container-id-9 div.sk-label label {font-family: monospace;font-weight: bold;display: inline-block;line-height: 1.2em;}#sk-container-id-9 div.sk-label-container {text-align: center;}#sk-container-id-9 div.sk-container {/* jupyter's `normalize.less` sets `[hidden] { display: none; }` but bootstrap.min.css set `[hidden] { display: none !important; }` so we also need the `!important` here to be able to override the default hidden behavior on the sphinx rendered scikit-learn.org. See: https://github.com/scikit-learn/scikit-learn/issues/21755 */display: inline-block !important;position: relative;}#sk-container-id-9 div.sk-text-repr-fallback {display: none;}</style><div id=\"sk-container-id-9\" class=\"sk-top-container\"><div class=\"sk-text-repr-fallback\"><pre>Pipeline(steps=[(&#x27;svm&#x27;, SVC())])</pre><b>In a Jupyter environment, please rerun this cell to show the HTML representation or trust the notebook. <br />On GitHub, the HTML representation is unable to render, please try loading this page with nbviewer.org.</b></div><div class=\"sk-container\" hidden><div class=\"sk-item sk-dashed-wrapped\"><div class=\"sk-label-container\"><div class=\"sk-label sk-toggleable\"><input class=\"sk-toggleable__control sk-hidden--visually\" id=\"sk-estimator-id-23\" type=\"checkbox\" ><label for=\"sk-estimator-id-23\" class=\"sk-toggleable__label sk-toggleable__label-arrow\">Pipeline</label><div class=\"sk-toggleable__content\"><pre>Pipeline(steps=[(&#x27;svm&#x27;, SVC())])</pre></div></div></div><div class=\"sk-serial\"><div class=\"sk-item\"><div class=\"sk-estimator sk-toggleable\"><input class=\"sk-toggleable__control sk-hidden--visually\" id=\"sk-estimator-id-24\" type=\"checkbox\" ><label for=\"sk-estimator-id-24\" class=\"sk-toggleable__label sk-toggleable__label-arrow\">SVC</label><div class=\"sk-toggleable__content\"><pre>SVC()</pre></div></div></div></div></div></div></div>"
      ],
      "text/plain": [
       "Pipeline(steps=[('svm', SVC())])"
      ]
     },
     "execution_count": 59,
     "metadata": {},
     "output_type": "execute_result"
    }
   ],
   "source": [
    "pipe = Pipeline([\n",
    "    ('svm', SVC())\n",
    "    ])\n",
    "evaluate_clf(pipe, X_train, y_train, X_test, y_test)"
   ]
  },
  {
   "cell_type": "markdown",
   "metadata": {},
   "source": [
    "SVM StandardScaller()"
   ]
  },
  {
   "cell_type": "code",
   "execution_count": 44,
   "metadata": {},
   "outputs": [
    {
     "name": "stdout",
     "output_type": "stream",
     "text": [
      "TRAIN\n",
      "              precision    recall  f1-score   support\n",
      "\n",
      "           0       0.95      0.99      0.97      3718\n",
      "           1       0.98      0.88      0.93      1504\n",
      "\n",
      "    accuracy                           0.96      5222\n",
      "   macro avg       0.97      0.93      0.95      5222\n",
      "weighted avg       0.96      0.96      0.96      5222\n",
      "\n",
      "TEST\n",
      "              precision    recall  f1-score   support\n",
      "\n",
      "           0       0.94      0.98      0.96      1245\n",
      "           1       0.95      0.83      0.89       496\n",
      "\n",
      "    accuracy                           0.94      1741\n",
      "   macro avg       0.95      0.91      0.93      1741\n",
      "weighted avg       0.94      0.94      0.94      1741\n",
      "\n",
      "[[1225   20]\n",
      " [  82  414]]\n"
     ]
    },
    {
     "data": {
      "text/html": [
       "<style>#sk-container-id-4 {color: black;background-color: white;}#sk-container-id-4 pre{padding: 0;}#sk-container-id-4 div.sk-toggleable {background-color: white;}#sk-container-id-4 label.sk-toggleable__label {cursor: pointer;display: block;width: 100%;margin-bottom: 0;padding: 0.3em;box-sizing: border-box;text-align: center;}#sk-container-id-4 label.sk-toggleable__label-arrow:before {content: \"▸\";float: left;margin-right: 0.25em;color: #696969;}#sk-container-id-4 label.sk-toggleable__label-arrow:hover:before {color: black;}#sk-container-id-4 div.sk-estimator:hover label.sk-toggleable__label-arrow:before {color: black;}#sk-container-id-4 div.sk-toggleable__content {max-height: 0;max-width: 0;overflow: hidden;text-align: left;background-color: #f0f8ff;}#sk-container-id-4 div.sk-toggleable__content pre {margin: 0.2em;color: black;border-radius: 0.25em;background-color: #f0f8ff;}#sk-container-id-4 input.sk-toggleable__control:checked~div.sk-toggleable__content {max-height: 200px;max-width: 100%;overflow: auto;}#sk-container-id-4 input.sk-toggleable__control:checked~label.sk-toggleable__label-arrow:before {content: \"▾\";}#sk-container-id-4 div.sk-estimator input.sk-toggleable__control:checked~label.sk-toggleable__label {background-color: #d4ebff;}#sk-container-id-4 div.sk-label input.sk-toggleable__control:checked~label.sk-toggleable__label {background-color: #d4ebff;}#sk-container-id-4 input.sk-hidden--visually {border: 0;clip: rect(1px 1px 1px 1px);clip: rect(1px, 1px, 1px, 1px);height: 1px;margin: -1px;overflow: hidden;padding: 0;position: absolute;width: 1px;}#sk-container-id-4 div.sk-estimator {font-family: monospace;background-color: #f0f8ff;border: 1px dotted black;border-radius: 0.25em;box-sizing: border-box;margin-bottom: 0.5em;}#sk-container-id-4 div.sk-estimator:hover {background-color: #d4ebff;}#sk-container-id-4 div.sk-parallel-item::after {content: \"\";width: 100%;border-bottom: 1px solid gray;flex-grow: 1;}#sk-container-id-4 div.sk-label:hover label.sk-toggleable__label {background-color: #d4ebff;}#sk-container-id-4 div.sk-serial::before {content: \"\";position: absolute;border-left: 1px solid gray;box-sizing: border-box;top: 0;bottom: 0;left: 50%;z-index: 0;}#sk-container-id-4 div.sk-serial {display: flex;flex-direction: column;align-items: center;background-color: white;padding-right: 0.2em;padding-left: 0.2em;position: relative;}#sk-container-id-4 div.sk-item {position: relative;z-index: 1;}#sk-container-id-4 div.sk-parallel {display: flex;align-items: stretch;justify-content: center;background-color: white;position: relative;}#sk-container-id-4 div.sk-item::before, #sk-container-id-4 div.sk-parallel-item::before {content: \"\";position: absolute;border-left: 1px solid gray;box-sizing: border-box;top: 0;bottom: 0;left: 50%;z-index: -1;}#sk-container-id-4 div.sk-parallel-item {display: flex;flex-direction: column;z-index: 1;position: relative;background-color: white;}#sk-container-id-4 div.sk-parallel-item:first-child::after {align-self: flex-end;width: 50%;}#sk-container-id-4 div.sk-parallel-item:last-child::after {align-self: flex-start;width: 50%;}#sk-container-id-4 div.sk-parallel-item:only-child::after {width: 0;}#sk-container-id-4 div.sk-dashed-wrapped {border: 1px dashed gray;margin: 0 0.4em 0.5em 0.4em;box-sizing: border-box;padding-bottom: 0.4em;background-color: white;}#sk-container-id-4 div.sk-label label {font-family: monospace;font-weight: bold;display: inline-block;line-height: 1.2em;}#sk-container-id-4 div.sk-label-container {text-align: center;}#sk-container-id-4 div.sk-container {/* jupyter's `normalize.less` sets `[hidden] { display: none; }` but bootstrap.min.css set `[hidden] { display: none !important; }` so we also need the `!important` here to be able to override the default hidden behavior on the sphinx rendered scikit-learn.org. See: https://github.com/scikit-learn/scikit-learn/issues/21755 */display: inline-block !important;position: relative;}#sk-container-id-4 div.sk-text-repr-fallback {display: none;}</style><div id=\"sk-container-id-4\" class=\"sk-top-container\"><div class=\"sk-text-repr-fallback\"><pre>Pipeline(steps=[(&#x27;scaller&#x27;, StandardScaler()), (&#x27;svm&#x27;, SVC())])</pre><b>In a Jupyter environment, please rerun this cell to show the HTML representation or trust the notebook. <br />On GitHub, the HTML representation is unable to render, please try loading this page with nbviewer.org.</b></div><div class=\"sk-container\" hidden><div class=\"sk-item sk-dashed-wrapped\"><div class=\"sk-label-container\"><div class=\"sk-label sk-toggleable\"><input class=\"sk-toggleable__control sk-hidden--visually\" id=\"sk-estimator-id-10\" type=\"checkbox\" ><label for=\"sk-estimator-id-10\" class=\"sk-toggleable__label sk-toggleable__label-arrow\">Pipeline</label><div class=\"sk-toggleable__content\"><pre>Pipeline(steps=[(&#x27;scaller&#x27;, StandardScaler()), (&#x27;svm&#x27;, SVC())])</pre></div></div></div><div class=\"sk-serial\"><div class=\"sk-item\"><div class=\"sk-estimator sk-toggleable\"><input class=\"sk-toggleable__control sk-hidden--visually\" id=\"sk-estimator-id-11\" type=\"checkbox\" ><label for=\"sk-estimator-id-11\" class=\"sk-toggleable__label sk-toggleable__label-arrow\">StandardScaler</label><div class=\"sk-toggleable__content\"><pre>StandardScaler()</pre></div></div></div><div class=\"sk-item\"><div class=\"sk-estimator sk-toggleable\"><input class=\"sk-toggleable__control sk-hidden--visually\" id=\"sk-estimator-id-12\" type=\"checkbox\" ><label for=\"sk-estimator-id-12\" class=\"sk-toggleable__label sk-toggleable__label-arrow\">SVC</label><div class=\"sk-toggleable__content\"><pre>SVC()</pre></div></div></div></div></div></div></div>"
      ],
      "text/plain": [
       "Pipeline(steps=[('scaller', StandardScaler()), ('svm', SVC())])"
      ]
     },
     "execution_count": 44,
     "metadata": {},
     "output_type": "execute_result"
    },
    {
     "data": {
      "image/png": "[encoded data removed]",
      "text/plain": [
       "<Figure size 432x288 with 1 Axes>"
      ]
     },
     "metadata": {
      "needs_background": "light"
     },
     "output_type": "display_data"
    }
   ],
   "source": [
    "pipe = Pipeline([\n",
    "    ('scaller', StandardScaler()), \n",
    "    ('svm', SVC())\n",
    "    ])\n",
    "evaluate_clf(pipe, X_train, y_train, X_test, y_test)"
   ]
  },
  {
   "cell_type": "markdown",
   "metadata": {},
   "source": [
    "SVM MinMaxSCaller"
   ]
  },
  {
   "cell_type": "code",
   "execution_count": 56,
   "metadata": {},
   "outputs": [
    {
     "name": "stdout",
     "output_type": "stream",
     "text": [
      "TRAIN\n",
      "              precision    recall  f1-score   support\n",
      "\n",
      "           0       0.95      0.99      0.97      3718\n",
      "           1       0.98      0.87      0.92      1504\n",
      "\n",
      "    accuracy                           0.96      5222\n",
      "   macro avg       0.97      0.93      0.95      5222\n",
      "weighted avg       0.96      0.96      0.96      5222\n",
      "\n",
      "TEST\n",
      "              precision    recall  f1-score   support\n",
      "\n",
      "           0       0.94      0.98      0.96      1245\n",
      "           1       0.95      0.83      0.89       496\n",
      "\n",
      "    accuracy                           0.94      1741\n",
      "   macro avg       0.94      0.91      0.92      1741\n",
      "weighted avg       0.94      0.94      0.94      1741\n",
      "\n",
      "[[1223   22]\n",
      " [  84  412]]\n"
     ]
    },
    {
     "data": {
      "text/plain": [
       "array([0.88963211, 0.86181818, 0.87198516, 0.85137615, 0.86466165])"
      ]
     },
     "execution_count": 56,
     "metadata": {},
     "output_type": "execute_result"
    },
    {
     "data": {
      "image/png": "[encoded data removed]",
      "text/plain": [
       "<Figure size 432x288 with 1 Axes>"
      ]
     },
     "metadata": {
      "needs_background": "light"
     },
     "output_type": "display_data"
    }
   ],
   "source": [
    "pipe = Pipeline([\n",
    "    ('scaller', MinMaxScaler()), \n",
    "    ('svm', SVC())\n",
    "    ])\n",
    "evaluate_clf(pipe, X_train, y_train, X_test, y_test)\n",
    "cross_val_score(pipe, X_train, y_train, cv=kf_5, scoring='f1')"
   ]
  },
  {
   "cell_type": "code",
   "execution_count": 53,
   "metadata": {},
   "outputs": [
    {
     "name": "stdout",
     "output_type": "stream",
     "text": [
      "Fitting 5 folds for each of 25 candidates, totalling 125 fits\n",
      "[CV 1/5] END ........C=0.1, gamma=1, kernel=rbf;, score=0.712 total time=   1.7s\n",
      "[CV 2/5] END ........C=0.1, gamma=1, kernel=rbf;, score=0.712 total time=   1.8s\n",
      "[CV 3/5] END ........C=0.1, gamma=1, kernel=rbf;, score=0.712 total time=   1.7s\n",
      "[CV 4/5] END ........C=0.1, gamma=1, kernel=rbf;, score=0.712 total time=   1.7s\n",
      "[CV 5/5] END ........C=0.1, gamma=1, kernel=rbf;, score=0.713 total time=   1.7s\n",
      "[CV 1/5] END ......C=0.1, gamma=0.1, kernel=rbf;, score=0.712 total time=   0.9s\n",
      "[CV 2/5] END ......C=0.1, gamma=0.1, kernel=rbf;, score=0.712 total time=   0.9s\n",
      "[CV 3/5] END ......C=0.1, gamma=0.1, kernel=rbf;, score=0.712 total time=   0.9s\n",
      "[CV 4/5] END ......C=0.1, gamma=0.1, kernel=rbf;, score=0.712 total time=   0.9s\n",
      "[CV 5/5] END ......C=0.1, gamma=0.1, kernel=rbf;, score=0.713 total time=   0.9s\n",
      "[CV 1/5] END .....C=0.1, gamma=0.01, kernel=rbf;, score=0.712 total time=   0.9s\n",
      "[CV 2/5] END .....C=0.1, gamma=0.01, kernel=rbf;, score=0.712 total time=   0.8s\n",
      "[CV 3/5] END .....C=0.1, gamma=0.01, kernel=rbf;, score=0.712 total time=   0.8s\n",
      "[CV 4/5] END .....C=0.1, gamma=0.01, kernel=rbf;, score=0.712 total time=   0.8s\n",
      "[CV 5/5] END .....C=0.1, gamma=0.01, kernel=rbf;, score=0.713 total time=   0.8s\n",
      "[CV 1/5] END ....C=0.1, gamma=0.001, kernel=rbf;, score=0.754 total time=   0.5s\n",
      "[CV 2/5] END ....C=0.1, gamma=0.001, kernel=rbf;, score=0.751 total time=   0.5s\n",
      "[CV 3/5] END ....C=0.1, gamma=0.001, kernel=rbf;, score=0.759 total time=   0.5s\n",
      "[CV 4/5] END ....C=0.1, gamma=0.001, kernel=rbf;, score=0.765 total time=   0.5s\n",
      "[CV 5/5] END ....C=0.1, gamma=0.001, kernel=rbf;, score=0.753 total time=   0.5s\n",
      "[CV 1/5] END ...C=0.1, gamma=0.0001, kernel=rbf;, score=0.712 total time=   0.5s\n",
      "[CV 2/5] END ...C=0.1, gamma=0.0001, kernel=rbf;, score=0.712 total time=   0.5s\n",
      "[CV 3/5] END ...C=0.1, gamma=0.0001, kernel=rbf;, score=0.712 total time=   0.5s\n",
      "[CV 4/5] END ...C=0.1, gamma=0.0001, kernel=rbf;, score=0.712 total time=   0.5s\n",
      "[CV 5/5] END ...C=0.1, gamma=0.0001, kernel=rbf;, score=0.713 total time=   0.5s\n",
      "[CV 1/5] END ..........C=1, gamma=1, kernel=rbf;, score=0.712 total time=   1.8s\n",
      "[CV 2/5] END ..........C=1, gamma=1, kernel=rbf;, score=0.712 total time=   1.8s\n",
      "[CV 3/5] END ..........C=1, gamma=1, kernel=rbf;, score=0.712 total time=   1.8s\n",
      "[CV 4/5] END ..........C=1, gamma=1, kernel=rbf;, score=0.712 total time=   1.8s\n",
      "[CV 5/5] END ..........C=1, gamma=1, kernel=rbf;, score=0.713 total time=   1.8s\n",
      "[CV 1/5] END ........C=1, gamma=0.1, kernel=rbf;, score=0.712 total time=   1.0s\n",
      "[CV 2/5] END ........C=1, gamma=0.1, kernel=rbf;, score=0.712 total time=   1.0s\n",
      "[CV 3/5] END ........C=1, gamma=0.1, kernel=rbf;, score=0.712 total time=   1.0s\n",
      "[CV 4/5] END ........C=1, gamma=0.1, kernel=rbf;, score=0.712 total time=   1.0s\n",
      "[CV 5/5] END ........C=1, gamma=0.1, kernel=rbf;, score=0.713 total time=   1.0s\n",
      "[CV 1/5] END .......C=1, gamma=0.01, kernel=rbf;, score=0.806 total time=   0.9s\n",
      "[CV 2/5] END .......C=1, gamma=0.01, kernel=rbf;, score=0.799 total time=   1.0s\n",
      "[CV 3/5] END .......C=1, gamma=0.01, kernel=rbf;, score=0.810 total time=   0.9s\n",
      "[CV 4/5] END .......C=1, gamma=0.01, kernel=rbf;, score=0.802 total time=   0.9s\n",
      "[CV 5/5] END .......C=1, gamma=0.01, kernel=rbf;, score=0.796 total time=   0.9s\n",
      "[CV 1/5] END ......C=1, gamma=0.001, kernel=rbf;, score=0.899 total time=   0.4s\n",
      "[CV 2/5] END ......C=1, gamma=0.001, kernel=rbf;, score=0.899 total time=   0.4s\n",
      "[CV 3/5] END ......C=1, gamma=0.001, kernel=rbf;, score=0.900 total time=   0.4s\n",
      "[CV 4/5] END ......C=1, gamma=0.001, kernel=rbf;, score=0.898 total time=   0.4s\n",
      "[CV 5/5] END ......C=1, gamma=0.001, kernel=rbf;, score=0.898 total time=   0.4s\n",
      "[CV 1/5] END .....C=1, gamma=0.0001, kernel=rbf;, score=0.716 total time=   0.5s\n",
      "[CV 2/5] END .....C=1, gamma=0.0001, kernel=rbf;, score=0.717 total time=   0.5s\n",
      "[CV 3/5] END .....C=1, gamma=0.0001, kernel=rbf;, score=0.715 total time=   0.5s\n",
      "[CV 4/5] END .....C=1, gamma=0.0001, kernel=rbf;, score=0.714 total time=   0.5s\n",
      "[CV 5/5] END .....C=1, gamma=0.0001, kernel=rbf;, score=0.715 total time=   0.5s\n",
      "[CV 1/5] END .........C=10, gamma=1, kernel=rbf;, score=0.712 total time=   1.9s\n",
      "[CV 2/5] END .........C=10, gamma=1, kernel=rbf;, score=0.712 total time=   1.9s\n",
      "[CV 3/5] END .........C=10, gamma=1, kernel=rbf;, score=0.712 total time=   1.9s\n",
      "[CV 4/5] END .........C=10, gamma=1, kernel=rbf;, score=0.712 total time=   1.9s\n",
      "[CV 5/5] END .........C=10, gamma=1, kernel=rbf;, score=0.713 total time=   1.9s\n",
      "[CV 1/5] END .......C=10, gamma=0.1, kernel=rbf;, score=0.712 total time=   1.1s\n",
      "[CV 2/5] END .......C=10, gamma=0.1, kernel=rbf;, score=0.712 total time=   1.1s\n",
      "[CV 3/5] END .......C=10, gamma=0.1, kernel=rbf;, score=0.712 total time=   1.1s\n",
      "[CV 4/5] END .......C=10, gamma=0.1, kernel=rbf;, score=0.712 total time=   1.1s\n",
      "[CV 5/5] END .......C=10, gamma=0.1, kernel=rbf;, score=0.713 total time=   1.0s\n",
      "[CV 1/5] END ......C=10, gamma=0.01, kernel=rbf;, score=0.822 total time=   1.0s\n",
      "[CV 2/5] END ......C=10, gamma=0.01, kernel=rbf;, score=0.827 total time=   1.0s\n",
      "[CV 3/5] END ......C=10, gamma=0.01, kernel=rbf;, score=0.839 total time=   1.0s\n",
      "[CV 4/5] END ......C=10, gamma=0.01, kernel=rbf;, score=0.830 total time=   1.0s\n",
      "[CV 5/5] END ......C=10, gamma=0.01, kernel=rbf;, score=0.820 total time=   1.0s\n",
      "[CV 1/5] END .....C=10, gamma=0.001, kernel=rbf;, score=0.932 total time=   0.3s\n",
      "[CV 2/5] END .....C=10, gamma=0.001, kernel=rbf;, score=0.931 total time=   0.3s\n",
      "[CV 3/5] END .....C=10, gamma=0.001, kernel=rbf;, score=0.935 total time=   0.4s\n",
      "[CV 4/5] END .....C=10, gamma=0.001, kernel=rbf;, score=0.937 total time=   0.3s\n",
      "[CV 5/5] END .....C=10, gamma=0.001, kernel=rbf;, score=0.930 total time=   0.3s\n",
      "[CV 1/5] END ....C=10, gamma=0.0001, kernel=rbf;, score=0.829 total time=   0.5s\n",
      "[CV 2/5] END ....C=10, gamma=0.0001, kernel=rbf;, score=0.843 total time=   0.5s\n",
      "[CV 3/5] END ....C=10, gamma=0.0001, kernel=rbf;, score=0.821 total time=   0.5s\n",
      "[CV 4/5] END ....C=10, gamma=0.0001, kernel=rbf;, score=0.829 total time=   0.5s\n",
      "[CV 5/5] END ....C=10, gamma=0.0001, kernel=rbf;, score=0.826 total time=   0.5s\n",
      "[CV 1/5] END ........C=100, gamma=1, kernel=rbf;, score=0.712 total time=   2.0s\n",
      "[CV 2/5] END ........C=100, gamma=1, kernel=rbf;, score=0.712 total time=   1.9s\n",
      "[CV 3/5] END ........C=100, gamma=1, kernel=rbf;, score=0.712 total time=   1.9s\n",
      "[CV 4/5] END ........C=100, gamma=1, kernel=rbf;, score=0.712 total time=   1.9s\n",
      "[CV 5/5] END ........C=100, gamma=1, kernel=rbf;, score=0.713 total time=   1.9s\n",
      "[CV 1/5] END ......C=100, gamma=0.1, kernel=rbf;, score=0.712 total time=   1.1s\n",
      "[CV 2/5] END ......C=100, gamma=0.1, kernel=rbf;, score=0.712 total time=   1.1s\n",
      "[CV 3/5] END ......C=100, gamma=0.1, kernel=rbf;, score=0.712 total time=   1.1s\n",
      "[CV 4/5] END ......C=100, gamma=0.1, kernel=rbf;, score=0.712 total time=   1.1s\n",
      "[CV 5/5] END ......C=100, gamma=0.1, kernel=rbf;, score=0.713 total time=   1.0s\n",
      "[CV 1/5] END .....C=100, gamma=0.01, kernel=rbf;, score=0.822 total time=   0.9s\n",
      "[CV 2/5] END .....C=100, gamma=0.01, kernel=rbf;, score=0.827 total time=   1.0s\n",
      "[CV 3/5] END .....C=100, gamma=0.01, kernel=rbf;, score=0.839 total time=   1.0s\n",
      "[CV 4/5] END .....C=100, gamma=0.01, kernel=rbf;, score=0.830 total time=   1.0s\n",
      "[CV 5/5] END .....C=100, gamma=0.01, kernel=rbf;, score=0.820 total time=   0.9s\n",
      "[CV 1/5] END ....C=100, gamma=0.001, kernel=rbf;, score=0.912 total time=   0.4s\n",
      "[CV 2/5] END ....C=100, gamma=0.001, kernel=rbf;, score=0.929 total time=   0.4s\n",
      "[CV 3/5] END ....C=100, gamma=0.001, kernel=rbf;, score=0.927 total time=   0.5s\n",
      "[CV 4/5] END ....C=100, gamma=0.001, kernel=rbf;, score=0.934 total time=   0.4s\n",
      "[CV 5/5] END ....C=100, gamma=0.001, kernel=rbf;, score=0.925 total time=   0.4s\n",
      "[CV 1/5] END ...C=100, gamma=0.0001, kernel=rbf;, score=0.907 total time=   0.4s\n",
      "[CV 2/5] END ...C=100, gamma=0.0001, kernel=rbf;, score=0.917 total time=   0.4s\n",
      "[CV 3/5] END ...C=100, gamma=0.0001, kernel=rbf;, score=0.908 total time=   0.4s\n",
      "[CV 4/5] END ...C=100, gamma=0.0001, kernel=rbf;, score=0.915 total time=   0.4s\n",
      "[CV 5/5] END ...C=100, gamma=0.0001, kernel=rbf;, score=0.905 total time=   0.4s\n",
      "[CV 1/5] END .......C=1000, gamma=1, kernel=rbf;, score=0.712 total time=   1.9s\n",
      "[CV 2/5] END .......C=1000, gamma=1, kernel=rbf;, score=0.712 total time=   2.0s\n",
      "[CV 3/5] END .......C=1000, gamma=1, kernel=rbf;, score=0.712 total time=   1.9s\n",
      "[CV 4/5] END .......C=1000, gamma=1, kernel=rbf;, score=0.712 total time=   1.9s\n",
      "[CV 5/5] END .......C=1000, gamma=1, kernel=rbf;, score=0.713 total time=   1.9s\n",
      "[CV 1/5] END .....C=1000, gamma=0.1, kernel=rbf;, score=0.712 total time=   1.1s\n",
      "[CV 2/5] END .....C=1000, gamma=0.1, kernel=rbf;, score=0.712 total time=   1.1s\n",
      "[CV 3/5] END .....C=1000, gamma=0.1, kernel=rbf;, score=0.712 total time=   1.1s\n",
      "[CV 4/5] END .....C=1000, gamma=0.1, kernel=rbf;, score=0.712 total time=   1.1s\n",
      "[CV 5/5] END .....C=1000, gamma=0.1, kernel=rbf;, score=0.713 total time=   1.1s\n",
      "[CV 1/5] END ....C=1000, gamma=0.01, kernel=rbf;, score=0.822 total time=   1.0s\n",
      "[CV 2/5] END ....C=1000, gamma=0.01, kernel=rbf;, score=0.827 total time=   1.0s\n",
      "[CV 3/5] END ....C=1000, gamma=0.01, kernel=rbf;, score=0.839 total time=   1.0s\n",
      "[CV 4/5] END ....C=1000, gamma=0.01, kernel=rbf;, score=0.830 total time=   1.0s\n",
      "[CV 5/5] END ....C=1000, gamma=0.01, kernel=rbf;, score=0.820 total time=   1.0s\n",
      "[CV 1/5] END ...C=1000, gamma=0.001, kernel=rbf;, score=0.901 total time=   0.5s\n",
      "[CV 2/5] END ...C=1000, gamma=0.001, kernel=rbf;, score=0.910 total time=   0.5s\n",
      "[CV 3/5] END ...C=1000, gamma=0.001, kernel=rbf;, score=0.914 total time=   0.5s\n",
      "[CV 4/5] END ...C=1000, gamma=0.001, kernel=rbf;, score=0.920 total time=   0.5s\n",
      "[CV 5/5] END ...C=1000, gamma=0.001, kernel=rbf;, score=0.913 total time=   0.5s\n",
      "[CV 1/5] END ..C=1000, gamma=0.0001, kernel=rbf;, score=0.932 total time=   0.8s\n",
      "[CV 2/5] END ..C=1000, gamma=0.0001, kernel=rbf;, score=0.929 total time=   0.8s\n",
      "[CV 3/5] END ..C=1000, gamma=0.0001, kernel=rbf;, score=0.936 total time=   0.8s\n",
      "[CV 4/5] END ..C=1000, gamma=0.0001, kernel=rbf;, score=0.940 total time=   0.8s\n",
      "[CV 5/5] END ..C=1000, gamma=0.0001, kernel=rbf;, score=0.931 total time=   0.8s\n"
     ]
    },
    {
     "data": {
      "text/html": [
       "<style>#sk-container-id-8 {color: black;background-color: white;}#sk-container-id-8 pre{padding: 0;}#sk-container-id-8 div.sk-toggleable {background-color: white;}#sk-container-id-8 label.sk-toggleable__label {cursor: pointer;display: block;width: 100%;margin-bottom: 0;padding: 0.3em;box-sizing: border-box;text-align: center;}#sk-container-id-8 label.sk-toggleable__label-arrow:before {content: \"▸\";float: left;margin-right: 0.25em;color: #696969;}#sk-container-id-8 label.sk-toggleable__label-arrow:hover:before {color: black;}#sk-container-id-8 div.sk-estimator:hover label.sk-toggleable__label-arrow:before {color: black;}#sk-container-id-8 div.sk-toggleable__content {max-height: 0;max-width: 0;overflow: hidden;text-align: left;background-color: #f0f8ff;}#sk-container-id-8 div.sk-toggleable__content pre {margin: 0.2em;color: black;border-radius: 0.25em;background-color: #f0f8ff;}#sk-container-id-8 input.sk-toggleable__control:checked~div.sk-toggleable__content {max-height: 200px;max-width: 100%;overflow: auto;}#sk-container-id-8 input.sk-toggleable__control:checked~label.sk-toggleable__label-arrow:before {content: \"▾\";}#sk-container-id-8 div.sk-estimator input.sk-toggleable__control:checked~label.sk-toggleable__label {background-color: #d4ebff;}#sk-container-id-8 div.sk-label input.sk-toggleable__control:checked~label.sk-toggleable__label {background-color: #d4ebff;}#sk-container-id-8 input.sk-hidden--visually {border: 0;clip: rect(1px 1px 1px 1px);clip: rect(1px, 1px, 1px, 1px);height: 1px;margin: -1px;overflow: hidden;padding: 0;position: absolute;width: 1px;}#sk-container-id-8 div.sk-estimator {font-family: monospace;background-color: #f0f8ff;border: 1px dotted black;border-radius: 0.25em;box-sizing: border-box;margin-bottom: 0.5em;}#sk-container-id-8 div.sk-estimator:hover {background-color: #d4ebff;}#sk-container-id-8 div.sk-parallel-item::after {content: \"\";width: 100%;border-bottom: 1px solid gray;flex-grow: 1;}#sk-container-id-8 div.sk-label:hover label.sk-toggleable__label {background-color: #d4ebff;}#sk-container-id-8 div.sk-serial::before {content: \"\";position: absolute;border-left: 1px solid gray;box-sizing: border-box;top: 0;bottom: 0;left: 50%;z-index: 0;}#sk-container-id-8 div.sk-serial {display: flex;flex-direction: column;align-items: center;background-color: white;padding-right: 0.2em;padding-left: 0.2em;position: relative;}#sk-container-id-8 div.sk-item {position: relative;z-index: 1;}#sk-container-id-8 div.sk-parallel {display: flex;align-items: stretch;justify-content: center;background-color: white;position: relative;}#sk-container-id-8 div.sk-item::before, #sk-container-id-8 div.sk-parallel-item::before {content: \"\";position: absolute;border-left: 1px solid gray;box-sizing: border-box;top: 0;bottom: 0;left: 50%;z-index: -1;}#sk-container-id-8 div.sk-parallel-item {display: flex;flex-direction: column;z-index: 1;position: relative;background-color: white;}#sk-container-id-8 div.sk-parallel-item:first-child::after {align-self: flex-end;width: 50%;}#sk-container-id-8 div.sk-parallel-item:last-child::after {align-self: flex-start;width: 50%;}#sk-container-id-8 div.sk-parallel-item:only-child::after {width: 0;}#sk-container-id-8 div.sk-dashed-wrapped {border: 1px dashed gray;margin: 0 0.4em 0.5em 0.4em;box-sizing: border-box;padding-bottom: 0.4em;background-color: white;}#sk-container-id-8 div.sk-label label {font-family: monospace;font-weight: bold;display: inline-block;line-height: 1.2em;}#sk-container-id-8 div.sk-label-container {text-align: center;}#sk-container-id-8 div.sk-container {/* jupyter's `normalize.less` sets `[hidden] { display: none; }` but bootstrap.min.css set `[hidden] { display: none !important; }` so we also need the `!important` here to be able to override the default hidden behavior on the sphinx rendered scikit-learn.org. See: https://github.com/scikit-learn/scikit-learn/issues/21755 */display: inline-block !important;position: relative;}#sk-container-id-8 div.sk-text-repr-fallback {display: none;}</style><div id=\"sk-container-id-8\" class=\"sk-top-container\"><div class=\"sk-text-repr-fallback\"><pre>GridSearchCV(estimator=SVC(),\n",
       "             param_grid={&#x27;C&#x27;: [0.1, 1, 10, 100, 1000],\n",
       "                         &#x27;gamma&#x27;: [1, 0.1, 0.01, 0.001, 0.0001],\n",
       "                         &#x27;kernel&#x27;: [&#x27;rbf&#x27;]},\n",
       "             verbose=3)</pre><b>In a Jupyter environment, please rerun this cell to show the HTML representation or trust the notebook. <br />On GitHub, the HTML representation is unable to render, please try loading this page with nbviewer.org.</b></div><div class=\"sk-container\" hidden><div class=\"sk-item sk-dashed-wrapped\"><div class=\"sk-label-container\"><div class=\"sk-label sk-toggleable\"><input class=\"sk-toggleable__control sk-hidden--visually\" id=\"sk-estimator-id-20\" type=\"checkbox\" ><label for=\"sk-estimator-id-20\" class=\"sk-toggleable__label sk-toggleable__label-arrow\">GridSearchCV</label><div class=\"sk-toggleable__content\"><pre>GridSearchCV(estimator=SVC(),\n",
       "             param_grid={&#x27;C&#x27;: [0.1, 1, 10, 100, 1000],\n",
       "                         &#x27;gamma&#x27;: [1, 0.1, 0.01, 0.001, 0.0001],\n",
       "                         &#x27;kernel&#x27;: [&#x27;rbf&#x27;]},\n",
       "             verbose=3)</pre></div></div></div><div class=\"sk-parallel\"><div class=\"sk-parallel-item\"><div class=\"sk-item\"><div class=\"sk-label-container\"><div class=\"sk-label sk-toggleable\"><input class=\"sk-toggleable__control sk-hidden--visually\" id=\"sk-estimator-id-21\" type=\"checkbox\" ><label for=\"sk-estimator-id-21\" class=\"sk-toggleable__label sk-toggleable__label-arrow\">estimator: SVC</label><div class=\"sk-toggleable__content\"><pre>SVC()</pre></div></div></div><div class=\"sk-serial\"><div class=\"sk-item\"><div class=\"sk-estimator sk-toggleable\"><input class=\"sk-toggleable__control sk-hidden--visually\" id=\"sk-estimator-id-22\" type=\"checkbox\" ><label for=\"sk-estimator-id-22\" class=\"sk-toggleable__label sk-toggleable__label-arrow\">SVC</label><div class=\"sk-toggleable__content\"><pre>SVC()</pre></div></div></div></div></div></div></div></div></div></div>"
      ],
      "text/plain": [
       "GridSearchCV(estimator=SVC(),\n",
       "             param_grid={'C': [0.1, 1, 10, 100, 1000],\n",
       "                         'gamma': [1, 0.1, 0.01, 0.001, 0.0001],\n",
       "                         'kernel': ['rbf']},\n",
       "             verbose=3)"
      ]
     },
     "execution_count": 53,
     "metadata": {},
     "output_type": "execute_result"
    }
   ],
   "source": [
    "pipe = SVC()\n",
    "param_grid = {'C': [0.1, 1, 10, 100, 1000],\n",
    "              'gamma': [1, 0.1, 0.01, 0.001, 0.0001],\n",
    "              'kernel': ['rbf']}\n",
    " \n",
    "grid = GridSearchCV(pipe, param_grid, refit = True, verbose = 3)\n",
    "grid.fit(X_train, y_train)"
   ]
  },
  {
   "cell_type": "code",
   "execution_count": 48,
   "metadata": {},
   "outputs": [
    {
     "name": "stdout",
     "output_type": "stream",
     "text": [
      "{'C': 1000, 'gamma': 0.0001, 'kernel': 'rbf'}\n",
      "SVC(C=1000, gamma=0.0001)\n"
     ]
    }
   ],
   "source": [
    "# print best parameter after tuning\n",
    "print(grid.best_params_)\n",
    " \n",
    "# print how our model looks after hyper-parameter tuning\n",
    "print(grid.best_estimator_)"
   ]
  },
  {
   "cell_type": "code",
   "execution_count": 49,
   "metadata": {},
   "outputs": [
    {
     "name": "stdout",
     "output_type": "stream",
     "text": [
      "TRAIN\n",
      "              precision    recall  f1-score   support\n",
      "\n",
      "           0       0.96      0.99      0.97      3718\n",
      "           1       0.97      0.90      0.93      1504\n",
      "\n",
      "    accuracy                           0.96      5222\n",
      "   macro avg       0.96      0.94      0.95      5222\n",
      "weighted avg       0.96      0.96      0.96      5222\n",
      "\n",
      "TEST\n",
      "              precision    recall  f1-score   support\n",
      "\n",
      "           0       0.94      0.97      0.96      1245\n",
      "           1       0.93      0.85      0.89       496\n",
      "\n",
      "    accuracy                           0.94      1741\n",
      "   macro avg       0.93      0.91      0.92      1741\n",
      "weighted avg       0.94      0.94      0.94      1741\n",
      "\n",
      "[[1211   34]\n",
      " [  74  422]]\n"
     ]
    },
    {
     "data": {
      "text/html": [
       "<style>#sk-container-id-6 {color: black;background-color: white;}#sk-container-id-6 pre{padding: 0;}#sk-container-id-6 div.sk-toggleable {background-color: white;}#sk-container-id-6 label.sk-toggleable__label {cursor: pointer;display: block;width: 100%;margin-bottom: 0;padding: 0.3em;box-sizing: border-box;text-align: center;}#sk-container-id-6 label.sk-toggleable__label-arrow:before {content: \"▸\";float: left;margin-right: 0.25em;color: #696969;}#sk-container-id-6 label.sk-toggleable__label-arrow:hover:before {color: black;}#sk-container-id-6 div.sk-estimator:hover label.sk-toggleable__label-arrow:before {color: black;}#sk-container-id-6 div.sk-toggleable__content {max-height: 0;max-width: 0;overflow: hidden;text-align: left;background-color: #f0f8ff;}#sk-container-id-6 div.sk-toggleable__content pre {margin: 0.2em;color: black;border-radius: 0.25em;background-color: #f0f8ff;}#sk-container-id-6 input.sk-toggleable__control:checked~div.sk-toggleable__content {max-height: 200px;max-width: 100%;overflow: auto;}#sk-container-id-6 input.sk-toggleable__control:checked~label.sk-toggleable__label-arrow:before {content: \"▾\";}#sk-container-id-6 div.sk-estimator input.sk-toggleable__control:checked~label.sk-toggleable__label {background-color: #d4ebff;}#sk-container-id-6 div.sk-label input.sk-toggleable__control:checked~label.sk-toggleable__label {background-color: #d4ebff;}#sk-container-id-6 input.sk-hidden--visually {border: 0;clip: rect(1px 1px 1px 1px);clip: rect(1px, 1px, 1px, 1px);height: 1px;margin: -1px;overflow: hidden;padding: 0;position: absolute;width: 1px;}#sk-container-id-6 div.sk-estimator {font-family: monospace;background-color: #f0f8ff;border: 1px dotted black;border-radius: 0.25em;box-sizing: border-box;margin-bottom: 0.5em;}#sk-container-id-6 div.sk-estimator:hover {background-color: #d4ebff;}#sk-container-id-6 div.sk-parallel-item::after {content: \"\";width: 100%;border-bottom: 1px solid gray;flex-grow: 1;}#sk-container-id-6 div.sk-label:hover label.sk-toggleable__label {background-color: #d4ebff;}#sk-container-id-6 div.sk-serial::before {content: \"\";position: absolute;border-left: 1px solid gray;box-sizing: border-box;top: 0;bottom: 0;left: 50%;z-index: 0;}#sk-container-id-6 div.sk-serial {display: flex;flex-direction: column;align-items: center;background-color: white;padding-right: 0.2em;padding-left: 0.2em;position: relative;}#sk-container-id-6 div.sk-item {position: relative;z-index: 1;}#sk-container-id-6 div.sk-parallel {display: flex;align-items: stretch;justify-content: center;background-color: white;position: relative;}#sk-container-id-6 div.sk-item::before, #sk-container-id-6 div.sk-parallel-item::before {content: \"\";position: absolute;border-left: 1px solid gray;box-sizing: border-box;top: 0;bottom: 0;left: 50%;z-index: -1;}#sk-container-id-6 div.sk-parallel-item {display: flex;flex-direction: column;z-index: 1;position: relative;background-color: white;}#sk-container-id-6 div.sk-parallel-item:first-child::after {align-self: flex-end;width: 50%;}#sk-container-id-6 div.sk-parallel-item:last-child::after {align-self: flex-start;width: 50%;}#sk-container-id-6 div.sk-parallel-item:only-child::after {width: 0;}#sk-container-id-6 div.sk-dashed-wrapped {border: 1px dashed gray;margin: 0 0.4em 0.5em 0.4em;box-sizing: border-box;padding-bottom: 0.4em;background-color: white;}#sk-container-id-6 div.sk-label label {font-family: monospace;font-weight: bold;display: inline-block;line-height: 1.2em;}#sk-container-id-6 div.sk-label-container {text-align: center;}#sk-container-id-6 div.sk-container {/* jupyter's `normalize.less` sets `[hidden] { display: none; }` but bootstrap.min.css set `[hidden] { display: none !important; }` so we also need the `!important` here to be able to override the default hidden behavior on the sphinx rendered scikit-learn.org. See: https://github.com/scikit-learn/scikit-learn/issues/21755 */display: inline-block !important;position: relative;}#sk-container-id-6 div.sk-text-repr-fallback {display: none;}</style><div id=\"sk-container-id-6\" class=\"sk-top-container\"><div class=\"sk-text-repr-fallback\"><pre>SVC(C=1000, gamma=0.0001)</pre><b>In a Jupyter environment, please rerun this cell to show the HTML representation or trust the notebook. <br />On GitHub, the HTML representation is unable to render, please try loading this page with nbviewer.org.</b></div><div class=\"sk-container\" hidden><div class=\"sk-item\"><div class=\"sk-estimator sk-toggleable\"><input class=\"sk-toggleable__control sk-hidden--visually\" id=\"sk-estimator-id-16\" type=\"checkbox\" checked><label for=\"sk-estimator-id-16\" class=\"sk-toggleable__label sk-toggleable__label-arrow\">SVC</label><div class=\"sk-toggleable__content\"><pre>SVC(C=1000, gamma=0.0001)</pre></div></div></div></div></div>"
      ],
      "text/plain": [
       "SVC(C=1000, gamma=0.0001)"
      ]
     },
     "execution_count": 49,
     "metadata": {},
     "output_type": "execute_result"
    },
    {
     "data": {
      "image/png": "[encoded data removed]",
      "text/plain": [
       "<Figure size 432x288 with 1 Axes>"
      ]
     },
     "metadata": {
      "needs_background": "light"
     },
     "output_type": "display_data"
    }
   ],
   "source": [
    "evaluate_clf(grid.best_estimator_, X_train, y_train, X_test, y_test)"
   ]
  },
  {
   "cell_type": "code",
   "execution_count": 50,
   "metadata": {},
   "outputs": [
    {
     "data": {
      "text/plain": [
       "array([0.9001297 , 0.88051948, 0.88348271, 0.90288714, 0.88511749])"
      ]
     },
     "execution_count": 50,
     "metadata": {},
     "output_type": "execute_result"
    }
   ],
   "source": [
    "cross_val_score(grid.best_estimator_, data_X_no5col, data_y, scoring='f1')"
   ]
  },
  {
   "cell_type": "code",
   "execution_count": 101,
   "metadata": {},
   "outputs": [],
   "source": [
    "grid.best_estimator_.fit(data_X_no5col, data_y)\n",
    "\n",
    "pipe.fit(data_X_no5col, data_y)\n",
    "y_p = pipe.predict(data_predict_no5col)\n",
    "df_output = pd.DataFrame({'target': y_p})\n",
    "df_output.to_csv('a07_20220819_SVC.csv')\n",
    "#scoring 0.9104143337066068 "
   ]
  },
  {
   "cell_type": "markdown",
   "metadata": {},
   "source": [
    "## SVM 2. Grid Search"
   ]
  },
  {
   "cell_type": "code",
   "execution_count": 62,
   "metadata": {},
   "outputs": [
    {
     "name": "stdout",
     "output_type": "stream",
     "text": [
      "TRAIN\n",
      "              precision    recall  f1-score   support\n",
      "\n",
      "           0       0.95      0.99      0.97      3718\n",
      "           1       0.98      0.87      0.92      1504\n",
      "\n",
      "    accuracy                           0.96      5222\n",
      "   macro avg       0.97      0.93      0.95      5222\n",
      "weighted avg       0.96      0.96      0.96      5222\n",
      "\n",
      "TEST\n",
      "              precision    recall  f1-score   support\n",
      "\n",
      "           0       0.94      0.98      0.96      1245\n",
      "           1       0.95      0.83      0.89       496\n",
      "\n",
      "    accuracy                           0.94      1741\n",
      "   macro avg       0.94      0.91      0.92      1741\n",
      "weighted avg       0.94      0.94      0.94      1741\n",
      "\n",
      "[[1223   22]\n",
      " [  84  412]]\n"
     ]
    },
    {
     "data": {
      "text/html": [
       "<style>#sk-container-id-11 {color: black;background-color: white;}#sk-container-id-11 pre{padding: 0;}#sk-container-id-11 div.sk-toggleable {background-color: white;}#sk-container-id-11 label.sk-toggleable__label {cursor: pointer;display: block;width: 100%;margin-bottom: 0;padding: 0.3em;box-sizing: border-box;text-align: center;}#sk-container-id-11 label.sk-toggleable__label-arrow:before {content: \"▸\";float: left;margin-right: 0.25em;color: #696969;}#sk-container-id-11 label.sk-toggleable__label-arrow:hover:before {color: black;}#sk-container-id-11 div.sk-estimator:hover label.sk-toggleable__label-arrow:before {color: black;}#sk-container-id-11 div.sk-toggleable__content {max-height: 0;max-width: 0;overflow: hidden;text-align: left;background-color: #f0f8ff;}#sk-container-id-11 div.sk-toggleable__content pre {margin: 0.2em;color: black;border-radius: 0.25em;background-color: #f0f8ff;}#sk-container-id-11 input.sk-toggleable__control:checked~div.sk-toggleable__content {max-height: 200px;max-width: 100%;overflow: auto;}#sk-container-id-11 input.sk-toggleable__control:checked~label.sk-toggleable__label-arrow:before {content: \"▾\";}#sk-container-id-11 div.sk-estimator input.sk-toggleable__control:checked~label.sk-toggleable__label {background-color: #d4ebff;}#sk-container-id-11 div.sk-label input.sk-toggleable__control:checked~label.sk-toggleable__label {background-color: #d4ebff;}#sk-container-id-11 input.sk-hidden--visually {border: 0;clip: rect(1px 1px 1px 1px);clip: rect(1px, 1px, 1px, 1px);height: 1px;margin: -1px;overflow: hidden;padding: 0;position: absolute;width: 1px;}#sk-container-id-11 div.sk-estimator {font-family: monospace;background-color: #f0f8ff;border: 1px dotted black;border-radius: 0.25em;box-sizing: border-box;margin-bottom: 0.5em;}#sk-container-id-11 div.sk-estimator:hover {background-color: #d4ebff;}#sk-container-id-11 div.sk-parallel-item::after {content: \"\";width: 100%;border-bottom: 1px solid gray;flex-grow: 1;}#sk-container-id-11 div.sk-label:hover label.sk-toggleable__label {background-color: #d4ebff;}#sk-container-id-11 div.sk-serial::before {content: \"\";position: absolute;border-left: 1px solid gray;box-sizing: border-box;top: 0;bottom: 0;left: 50%;z-index: 0;}#sk-container-id-11 div.sk-serial {display: flex;flex-direction: column;align-items: center;background-color: white;padding-right: 0.2em;padding-left: 0.2em;position: relative;}#sk-container-id-11 div.sk-item {position: relative;z-index: 1;}#sk-container-id-11 div.sk-parallel {display: flex;align-items: stretch;justify-content: center;background-color: white;position: relative;}#sk-container-id-11 div.sk-item::before, #sk-container-id-11 div.sk-parallel-item::before {content: \"\";position: absolute;border-left: 1px solid gray;box-sizing: border-box;top: 0;bottom: 0;left: 50%;z-index: -1;}#sk-container-id-11 div.sk-parallel-item {display: flex;flex-direction: column;z-index: 1;position: relative;background-color: white;}#sk-container-id-11 div.sk-parallel-item:first-child::after {align-self: flex-end;width: 50%;}#sk-container-id-11 div.sk-parallel-item:last-child::after {align-self: flex-start;width: 50%;}#sk-container-id-11 div.sk-parallel-item:only-child::after {width: 0;}#sk-container-id-11 div.sk-dashed-wrapped {border: 1px dashed gray;margin: 0 0.4em 0.5em 0.4em;box-sizing: border-box;padding-bottom: 0.4em;background-color: white;}#sk-container-id-11 div.sk-label label {font-family: monospace;font-weight: bold;display: inline-block;line-height: 1.2em;}#sk-container-id-11 div.sk-label-container {text-align: center;}#sk-container-id-11 div.sk-container {/* jupyter's `normalize.less` sets `[hidden] { display: none; }` but bootstrap.min.css set `[hidden] { display: none !important; }` so we also need the `!important` here to be able to override the default hidden behavior on the sphinx rendered scikit-learn.org. See: https://github.com/scikit-learn/scikit-learn/issues/21755 */display: inline-block !important;position: relative;}#sk-container-id-11 div.sk-text-repr-fallback {display: none;}</style><div id=\"sk-container-id-11\" class=\"sk-top-container\"><div class=\"sk-text-repr-fallback\"><pre>Pipeline(steps=[(&#x27;scaller&#x27;, MinMaxScaler()), (&#x27;svc&#x27;, SVC(random_state=0))])</pre><b>In a Jupyter environment, please rerun this cell to show the HTML representation or trust the notebook. <br />On GitHub, the HTML representation is unable to render, please try loading this page with nbviewer.org.</b></div><div class=\"sk-container\" hidden><div class=\"sk-item sk-dashed-wrapped\"><div class=\"sk-label-container\"><div class=\"sk-label sk-toggleable\"><input class=\"sk-toggleable__control sk-hidden--visually\" id=\"sk-estimator-id-28\" type=\"checkbox\" ><label for=\"sk-estimator-id-28\" class=\"sk-toggleable__label sk-toggleable__label-arrow\">Pipeline</label><div class=\"sk-toggleable__content\"><pre>Pipeline(steps=[(&#x27;scaller&#x27;, MinMaxScaler()), (&#x27;svc&#x27;, SVC(random_state=0))])</pre></div></div></div><div class=\"sk-serial\"><div class=\"sk-item\"><div class=\"sk-estimator sk-toggleable\"><input class=\"sk-toggleable__control sk-hidden--visually\" id=\"sk-estimator-id-29\" type=\"checkbox\" ><label for=\"sk-estimator-id-29\" class=\"sk-toggleable__label sk-toggleable__label-arrow\">MinMaxScaler</label><div class=\"sk-toggleable__content\"><pre>MinMaxScaler()</pre></div></div></div><div class=\"sk-item\"><div class=\"sk-estimator sk-toggleable\"><input class=\"sk-toggleable__control sk-hidden--visually\" id=\"sk-estimator-id-30\" type=\"checkbox\" ><label for=\"sk-estimator-id-30\" class=\"sk-toggleable__label sk-toggleable__label-arrow\">SVC</label><div class=\"sk-toggleable__content\"><pre>SVC(random_state=0)</pre></div></div></div></div></div></div></div>"
      ],
      "text/plain": [
       "Pipeline(steps=[('scaller', MinMaxScaler()), ('svc', SVC(random_state=0))])"
      ]
     },
     "execution_count": 62,
     "metadata": {},
     "output_type": "execute_result"
    }
   ],
   "source": [
    "pipe = Pipeline([\n",
    "    ('scaller', MinMaxScaler()), \n",
    "    ('svc', SVC(random_state=0))\n",
    "    ])\n",
    "    \n",
    "evaluate_clf(pipe, X_train, y_train, X_test, y_test)"
   ]
  },
  {
   "cell_type": "code",
   "execution_count": 63,
   "metadata": {},
   "outputs": [
    {
     "name": "stdout",
     "output_type": "stream",
     "text": [
      "Fitting 5 folds for each of 75 candidates, totalling 375 fits\n",
      "[CV 1/5] END svc__C=0.1, svc__gamma=1, svc__kernel=rbf;, score=0.255 total time=   0.6s\n",
      "[CV 2/5] END svc__C=0.1, svc__gamma=1, svc__kernel=rbf;, score=0.270 total time=   0.5s\n",
      "[CV 3/5] END svc__C=0.1, svc__gamma=1, svc__kernel=rbf;, score=0.255 total time=   0.5s\n",
      "[CV 4/5] END svc__C=0.1, svc__gamma=1, svc__kernel=rbf;, score=0.285 total time=   0.5s\n",
      "[CV 5/5] END svc__C=0.1, svc__gamma=1, svc__kernel=rbf;, score=0.271 total time=   0.5s\n",
      "[CV 1/5] END svc__C=0.1, svc__gamma=1, svc__kernel=poly;, score=0.863 total time=   0.2s\n",
      "[CV 2/5] END svc__C=0.1, svc__gamma=1, svc__kernel=poly;, score=0.879 total time=   0.2s\n",
      "[CV 3/5] END svc__C=0.1, svc__gamma=1, svc__kernel=poly;, score=0.838 total time=   0.2s\n",
      "[CV 4/5] END svc__C=0.1, svc__gamma=1, svc__kernel=poly;, score=0.866 total time=   0.2s\n",
      "[CV 5/5] END svc__C=0.1, svc__gamma=1, svc__kernel=poly;, score=0.854 total time=   0.2s\n",
      "[CV 1/5] END svc__C=0.1, svc__gamma=1, svc__kernel=sigmoid;, score=0.000 total time=   0.4s\n",
      "[CV 2/5] END svc__C=0.1, svc__gamma=1, svc__kernel=sigmoid;, score=0.000 total time=   0.5s\n",
      "[CV 3/5] END svc__C=0.1, svc__gamma=1, svc__kernel=sigmoid;, score=0.000 total time=   0.4s\n",
      "[CV 4/5] END svc__C=0.1, svc__gamma=1, svc__kernel=sigmoid;, score=0.000 total time=   0.4s\n",
      "[CV 5/5] END svc__C=0.1, svc__gamma=1, svc__kernel=sigmoid;, score=0.000 total time=   0.4s\n",
      "[CV 1/5] END svc__C=0.1, svc__gamma=0.1, svc__kernel=rbf;, score=0.000 total time=   0.5s\n",
      "[CV 2/5] END svc__C=0.1, svc__gamma=0.1, svc__kernel=rbf;, score=0.000 total time=   0.5s\n",
      "[CV 3/5] END svc__C=0.1, svc__gamma=0.1, svc__kernel=rbf;, score=0.000 total time=   0.5s\n",
      "[CV 4/5] END svc__C=0.1, svc__gamma=0.1, svc__kernel=rbf;, score=0.000 total time=   0.5s\n",
      "[CV 5/5] END svc__C=0.1, svc__gamma=0.1, svc__kernel=rbf;, score=0.000 total time=   0.5s\n",
      "[CV 1/5] END svc__C=0.1, svc__gamma=0.1, svc__kernel=poly;, score=0.000 total time=   0.2s\n",
      "[CV 2/5] END svc__C=0.1, svc__gamma=0.1, svc__kernel=poly;, score=0.000 total time=   0.2s\n",
      "[CV 3/5] END svc__C=0.1, svc__gamma=0.1, svc__kernel=poly;, score=0.000 total time=   0.2s\n",
      "[CV 4/5] END svc__C=0.1, svc__gamma=0.1, svc__kernel=poly;, score=0.000 total time=   0.2s\n",
      "[CV 5/5] END svc__C=0.1, svc__gamma=0.1, svc__kernel=poly;, score=0.000 total time=   0.2s\n",
      "[CV 1/5] END svc__C=0.1, svc__gamma=0.1, svc__kernel=sigmoid;, score=0.000 total time=   0.3s\n",
      "[CV 2/5] END svc__C=0.1, svc__gamma=0.1, svc__kernel=sigmoid;, score=0.000 total time=   0.3s\n",
      "[CV 3/5] END svc__C=0.1, svc__gamma=0.1, svc__kernel=sigmoid;, score=0.000 total time=   0.3s\n",
      "[CV 4/5] END svc__C=0.1, svc__gamma=0.1, svc__kernel=sigmoid;, score=0.000 total time=   0.3s\n",
      "[CV 5/5] END svc__C=0.1, svc__gamma=0.1, svc__kernel=sigmoid;, score=0.000 total time=   0.3s\n",
      "[CV 1/5] END svc__C=0.1, svc__gamma=0.01, svc__kernel=rbf;, score=0.000 total time=   0.5s\n",
      "[CV 2/5] END svc__C=0.1, svc__gamma=0.01, svc__kernel=rbf;, score=0.000 total time=   0.5s\n",
      "[CV 3/5] END svc__C=0.1, svc__gamma=0.01, svc__kernel=rbf;, score=0.000 total time=   0.5s\n",
      "[CV 4/5] END svc__C=0.1, svc__gamma=0.01, svc__kernel=rbf;, score=0.000 total time=   0.5s\n",
      "[CV 5/5] END svc__C=0.1, svc__gamma=0.01, svc__kernel=rbf;, score=0.000 total time=   0.5s\n",
      "[CV 1/5] END svc__C=0.1, svc__gamma=0.01, svc__kernel=poly;, score=0.000 total time=   0.2s\n",
      "[CV 2/5] END svc__C=0.1, svc__gamma=0.01, svc__kernel=poly;, score=0.000 total time=   0.2s\n",
      "[CV 3/5] END svc__C=0.1, svc__gamma=0.01, svc__kernel=poly;, score=0.000 total time=   0.2s\n",
      "[CV 4/5] END svc__C=0.1, svc__gamma=0.01, svc__kernel=poly;, score=0.000 total time=   0.2s\n",
      "[CV 5/5] END svc__C=0.1, svc__gamma=0.01, svc__kernel=poly;, score=0.000 total time=   0.2s\n",
      "[CV 1/5] END svc__C=0.1, svc__gamma=0.01, svc__kernel=sigmoid;, score=0.000 total time=   0.3s\n",
      "[CV 2/5] END svc__C=0.1, svc__gamma=0.01, svc__kernel=sigmoid;, score=0.000 total time=   0.3s\n",
      "[CV 3/5] END svc__C=0.1, svc__gamma=0.01, svc__kernel=sigmoid;, score=0.000 total time=   0.3s\n",
      "[CV 4/5] END svc__C=0.1, svc__gamma=0.01, svc__kernel=sigmoid;, score=0.000 total time=   0.3s\n",
      "[CV 5/5] END svc__C=0.1, svc__gamma=0.01, svc__kernel=sigmoid;, score=0.000 total time=   0.3s\n",
      "[CV 1/5] END svc__C=0.1, svc__gamma=0.001, svc__kernel=rbf;, score=0.000 total time=   0.5s\n",
      "[CV 2/5] END svc__C=0.1, svc__gamma=0.001, svc__kernel=rbf;, score=0.000 total time=   0.5s\n",
      "[CV 3/5] END svc__C=0.1, svc__gamma=0.001, svc__kernel=rbf;, score=0.000 total time=   0.5s\n",
      "[CV 4/5] END svc__C=0.1, svc__gamma=0.001, svc__kernel=rbf;, score=0.000 total time=   0.5s\n",
      "[CV 5/5] END svc__C=0.1, svc__gamma=0.001, svc__kernel=rbf;, score=0.000 total time=   0.5s\n",
      "[CV 1/5] END svc__C=0.1, svc__gamma=0.001, svc__kernel=poly;, score=0.000 total time=   0.2s\n",
      "[CV 2/5] END svc__C=0.1, svc__gamma=0.001, svc__kernel=poly;, score=0.000 total time=   0.2s\n",
      "[CV 3/5] END svc__C=0.1, svc__gamma=0.001, svc__kernel=poly;, score=0.000 total time=   0.2s\n",
      "[CV 4/5] END svc__C=0.1, svc__gamma=0.001, svc__kernel=poly;, score=0.000 total time=   0.2s\n",
      "[CV 5/5] END svc__C=0.1, svc__gamma=0.001, svc__kernel=poly;, score=0.000 total time=   0.2s\n",
      "[CV 1/5] END svc__C=0.1, svc__gamma=0.001, svc__kernel=sigmoid;, score=0.000 total time=   0.3s\n",
      "[CV 2/5] END svc__C=0.1, svc__gamma=0.001, svc__kernel=sigmoid;, score=0.000 total time=   0.3s\n",
      "[CV 3/5] END svc__C=0.1, svc__gamma=0.001, svc__kernel=sigmoid;, score=0.000 total time=   0.3s\n",
      "[CV 4/5] END svc__C=0.1, svc__gamma=0.001, svc__kernel=sigmoid;, score=0.000 total time=   0.3s\n",
      "[CV 5/5] END svc__C=0.1, svc__gamma=0.001, svc__kernel=sigmoid;, score=0.000 total time=   0.3s\n",
      "[CV 1/5] END svc__C=0.1, svc__gamma=0.0001, svc__kernel=rbf;, score=0.000 total time=   0.5s\n",
      "[CV 2/5] END svc__C=0.1, svc__gamma=0.0001, svc__kernel=rbf;, score=0.000 total time=   0.5s\n",
      "[CV 3/5] END svc__C=0.1, svc__gamma=0.0001, svc__kernel=rbf;, score=0.000 total time=   0.5s\n",
      "[CV 4/5] END svc__C=0.1, svc__gamma=0.0001, svc__kernel=rbf;, score=0.000 total time=   0.4s\n",
      "[CV 5/5] END svc__C=0.1, svc__gamma=0.0001, svc__kernel=rbf;, score=0.000 total time=   0.5s\n",
      "[CV 1/5] END svc__C=0.1, svc__gamma=0.0001, svc__kernel=poly;, score=0.000 total time=   0.2s\n",
      "[CV 2/5] END svc__C=0.1, svc__gamma=0.0001, svc__kernel=poly;, score=0.000 total time=   0.2s\n",
      "[CV 3/5] END svc__C=0.1, svc__gamma=0.0001, svc__kernel=poly;, score=0.000 total time=   0.2s\n",
      "[CV 4/5] END svc__C=0.1, svc__gamma=0.0001, svc__kernel=poly;, score=0.000 total time=   0.2s\n",
      "[CV 5/5] END svc__C=0.1, svc__gamma=0.0001, svc__kernel=poly;, score=0.000 total time=   0.2s\n",
      "[CV 1/5] END svc__C=0.1, svc__gamma=0.0001, svc__kernel=sigmoid;, score=0.000 total time=   0.3s\n",
      "[CV 2/5] END svc__C=0.1, svc__gamma=0.0001, svc__kernel=sigmoid;, score=0.000 total time=   0.3s\n",
      "[CV 3/5] END svc__C=0.1, svc__gamma=0.0001, svc__kernel=sigmoid;, score=0.000 total time=   0.3s\n",
      "[CV 4/5] END svc__C=0.1, svc__gamma=0.0001, svc__kernel=sigmoid;, score=0.000 total time=   0.3s\n",
      "[CV 5/5] END svc__C=0.1, svc__gamma=0.0001, svc__kernel=sigmoid;, score=0.000 total time=   0.3s\n",
      "[CV 1/5] END svc__C=1, svc__gamma=1, svc__kernel=rbf;, score=0.826 total time=   0.3s\n",
      "[CV 2/5] END svc__C=1, svc__gamma=1, svc__kernel=rbf;, score=0.861 total time=   0.4s\n",
      "[CV 3/5] END svc__C=1, svc__gamma=1, svc__kernel=rbf;, score=0.812 total time=   0.3s\n",
      "[CV 4/5] END svc__C=1, svc__gamma=1, svc__kernel=rbf;, score=0.854 total time=   0.3s\n",
      "[CV 5/5] END svc__C=1, svc__gamma=1, svc__kernel=rbf;, score=0.830 total time=   0.3s\n",
      "[CV 1/5] END svc__C=1, svc__gamma=1, svc__kernel=poly;, score=0.883 total time=   0.5s\n",
      "[CV 2/5] END svc__C=1, svc__gamma=1, svc__kernel=poly;, score=0.881 total time=   0.5s\n",
      "[CV 3/5] END svc__C=1, svc__gamma=1, svc__kernel=poly;, score=0.899 total time=   0.5s\n",
      "[CV 4/5] END svc__C=1, svc__gamma=1, svc__kernel=poly;, score=0.904 total time=   0.5s\n",
      "[CV 5/5] END svc__C=1, svc__gamma=1, svc__kernel=poly;, score=0.875 total time=   0.5s\n",
      "[CV 1/5] END svc__C=1, svc__gamma=1, svc__kernel=sigmoid;, score=0.000 total time=   0.5s\n",
      "[CV 2/5] END svc__C=1, svc__gamma=1, svc__kernel=sigmoid;, score=0.000 total time=   0.5s\n",
      "[CV 3/5] END svc__C=1, svc__gamma=1, svc__kernel=sigmoid;, score=0.000 total time=   0.5s\n",
      "[CV 4/5] END svc__C=1, svc__gamma=1, svc__kernel=sigmoid;, score=0.000 total time=   0.5s\n",
      "[CV 5/5] END svc__C=1, svc__gamma=1, svc__kernel=sigmoid;, score=0.000 total time=   0.5s\n",
      "[CV 1/5] END svc__C=1, svc__gamma=0.1, svc__kernel=rbf;, score=0.000 total time=   0.5s\n",
      "[CV 2/5] END svc__C=1, svc__gamma=0.1, svc__kernel=rbf;, score=0.000 total time=   0.5s\n",
      "[CV 3/5] END svc__C=1, svc__gamma=0.1, svc__kernel=rbf;, score=0.000 total time=   0.5s\n",
      "[CV 4/5] END svc__C=1, svc__gamma=0.1, svc__kernel=rbf;, score=0.000 total time=   0.6s\n",
      "[CV 5/5] END svc__C=1, svc__gamma=0.1, svc__kernel=rbf;, score=0.000 total time=   0.5s\n",
      "[CV 1/5] END svc__C=1, svc__gamma=0.1, svc__kernel=poly;, score=0.000 total time=   0.2s\n",
      "[CV 2/5] END svc__C=1, svc__gamma=0.1, svc__kernel=poly;, score=0.000 total time=   0.2s\n",
      "[CV 3/5] END svc__C=1, svc__gamma=0.1, svc__kernel=poly;, score=0.000 total time=   0.2s\n",
      "[CV 4/5] END svc__C=1, svc__gamma=0.1, svc__kernel=poly;, score=0.000 total time=   0.2s\n",
      "[CV 5/5] END svc__C=1, svc__gamma=0.1, svc__kernel=poly;, score=0.000 total time=   0.2s\n",
      "[CV 1/5] END svc__C=1, svc__gamma=0.1, svc__kernel=sigmoid;, score=0.000 total time=   0.3s\n",
      "[CV 2/5] END svc__C=1, svc__gamma=0.1, svc__kernel=sigmoid;, score=0.000 total time=   0.3s\n",
      "[CV 3/5] END svc__C=1, svc__gamma=0.1, svc__kernel=sigmoid;, score=0.000 total time=   0.3s\n",
      "[CV 4/5] END svc__C=1, svc__gamma=0.1, svc__kernel=sigmoid;, score=0.000 total time=   0.3s\n",
      "[CV 5/5] END svc__C=1, svc__gamma=0.1, svc__kernel=sigmoid;, score=0.000 total time=   0.3s\n",
      "[CV 1/5] END svc__C=1, svc__gamma=0.01, svc__kernel=rbf;, score=0.000 total time=   0.6s\n",
      "[CV 2/5] END svc__C=1, svc__gamma=0.01, svc__kernel=rbf;, score=0.000 total time=   0.6s\n",
      "[CV 3/5] END svc__C=1, svc__gamma=0.01, svc__kernel=rbf;, score=0.000 total time=   0.6s\n",
      "[CV 4/5] END svc__C=1, svc__gamma=0.01, svc__kernel=rbf;, score=0.000 total time=   0.6s\n",
      "[CV 5/5] END svc__C=1, svc__gamma=0.01, svc__kernel=rbf;, score=0.000 total time=   0.6s\n",
      "[CV 1/5] END svc__C=1, svc__gamma=0.01, svc__kernel=poly;, score=0.000 total time=   0.2s\n",
      "[CV 2/5] END svc__C=1, svc__gamma=0.01, svc__kernel=poly;, score=0.000 total time=   0.2s\n",
      "[CV 3/5] END svc__C=1, svc__gamma=0.01, svc__kernel=poly;, score=0.000 total time=   0.2s\n",
      "[CV 4/5] END svc__C=1, svc__gamma=0.01, svc__kernel=poly;, score=0.000 total time=   0.2s\n",
      "[CV 5/5] END svc__C=1, svc__gamma=0.01, svc__kernel=poly;, score=0.000 total time=   0.2s\n",
      "[CV 1/5] END svc__C=1, svc__gamma=0.01, svc__kernel=sigmoid;, score=0.000 total time=   0.3s\n",
      "[CV 2/5] END svc__C=1, svc__gamma=0.01, svc__kernel=sigmoid;, score=0.000 total time=   0.3s\n",
      "[CV 3/5] END svc__C=1, svc__gamma=0.01, svc__kernel=sigmoid;, score=0.000 total time=   0.3s\n",
      "[CV 4/5] END svc__C=1, svc__gamma=0.01, svc__kernel=sigmoid;, score=0.000 total time=   0.3s\n",
      "[CV 5/5] END svc__C=1, svc__gamma=0.01, svc__kernel=sigmoid;, score=0.000 total time=   0.3s\n",
      "[CV 1/5] END svc__C=1, svc__gamma=0.001, svc__kernel=rbf;, score=0.000 total time=   0.5s\n",
      "[CV 2/5] END svc__C=1, svc__gamma=0.001, svc__kernel=rbf;, score=0.000 total time=   0.5s\n",
      "[CV 3/5] END svc__C=1, svc__gamma=0.001, svc__kernel=rbf;, score=0.000 total time=   0.5s\n",
      "[CV 4/5] END svc__C=1, svc__gamma=0.001, svc__kernel=rbf;, score=0.000 total time=   0.5s\n",
      "[CV 5/5] END svc__C=1, svc__gamma=0.001, svc__kernel=rbf;, score=0.000 total time=   0.5s\n",
      "[CV 1/5] END svc__C=1, svc__gamma=0.001, svc__kernel=poly;, score=0.000 total time=   0.2s\n",
      "[CV 2/5] END svc__C=1, svc__gamma=0.001, svc__kernel=poly;, score=0.000 total time=   0.2s\n",
      "[CV 3/5] END svc__C=1, svc__gamma=0.001, svc__kernel=poly;, score=0.000 total time=   0.2s\n",
      "[CV 4/5] END svc__C=1, svc__gamma=0.001, svc__kernel=poly;, score=0.000 total time=   0.2s\n",
      "[CV 5/5] END svc__C=1, svc__gamma=0.001, svc__kernel=poly;, score=0.000 total time=   0.2s\n",
      "[CV 1/5] END svc__C=1, svc__gamma=0.001, svc__kernel=sigmoid;, score=0.000 total time=   0.3s\n",
      "[CV 2/5] END svc__C=1, svc__gamma=0.001, svc__kernel=sigmoid;, score=0.000 total time=   0.3s\n",
      "[CV 3/5] END svc__C=1, svc__gamma=0.001, svc__kernel=sigmoid;, score=0.000 total time=   0.3s\n",
      "[CV 4/5] END svc__C=1, svc__gamma=0.001, svc__kernel=sigmoid;, score=0.000 total time=   0.3s\n",
      "[CV 5/5] END svc__C=1, svc__gamma=0.001, svc__kernel=sigmoid;, score=0.000 total time=   0.3s\n",
      "[CV 1/5] END svc__C=1, svc__gamma=0.0001, svc__kernel=rbf;, score=0.000 total time=   0.5s\n",
      "[CV 2/5] END svc__C=1, svc__gamma=0.0001, svc__kernel=rbf;, score=0.000 total time=   0.5s\n",
      "[CV 3/5] END svc__C=1, svc__gamma=0.0001, svc__kernel=rbf;, score=0.000 total time=   0.5s\n",
      "[CV 4/5] END svc__C=1, svc__gamma=0.0001, svc__kernel=rbf;, score=0.000 total time=   0.5s\n",
      "[CV 5/5] END svc__C=1, svc__gamma=0.0001, svc__kernel=rbf;, score=0.000 total time=   0.5s\n",
      "[CV 1/5] END svc__C=1, svc__gamma=0.0001, svc__kernel=poly;, score=0.000 total time=   0.2s\n",
      "[CV 2/5] END svc__C=1, svc__gamma=0.0001, svc__kernel=poly;, score=0.000 total time=   0.2s\n",
      "[CV 3/5] END svc__C=1, svc__gamma=0.0001, svc__kernel=poly;, score=0.000 total time=   0.2s\n",
      "[CV 4/5] END svc__C=1, svc__gamma=0.0001, svc__kernel=poly;, score=0.000 total time=   0.2s\n",
      "[CV 5/5] END svc__C=1, svc__gamma=0.0001, svc__kernel=poly;, score=0.000 total time=   0.2s\n",
      "[CV 1/5] END svc__C=1, svc__gamma=0.0001, svc__kernel=sigmoid;, score=0.000 total time=   0.3s\n",
      "[CV 2/5] END svc__C=1, svc__gamma=0.0001, svc__kernel=sigmoid;, score=0.000 total time=   0.3s\n",
      "[CV 3/5] END svc__C=1, svc__gamma=0.0001, svc__kernel=sigmoid;, score=0.000 total time=   0.3s\n",
      "[CV 4/5] END svc__C=1, svc__gamma=0.0001, svc__kernel=sigmoid;, score=0.000 total time=   0.2s\n",
      "[CV 5/5] END svc__C=1, svc__gamma=0.0001, svc__kernel=sigmoid;, score=0.000 total time=   0.3s\n",
      "[CV 1/5] END svc__C=10, svc__gamma=1, svc__kernel=rbf;, score=0.883 total time=   0.2s\n",
      "[CV 2/5] END svc__C=10, svc__gamma=1, svc__kernel=rbf;, score=0.891 total time=   0.2s\n",
      "[CV 3/5] END svc__C=10, svc__gamma=1, svc__kernel=rbf;, score=0.902 total time=   0.2s\n",
      "[CV 4/5] END svc__C=10, svc__gamma=1, svc__kernel=rbf;, score=0.912 total time=   0.2s\n",
      "[CV 5/5] END svc__C=10, svc__gamma=1, svc__kernel=rbf;, score=0.868 total time=   0.2s\n",
      "[CV 1/5] END svc__C=10, svc__gamma=1, svc__kernel=poly;, score=0.856 total time=   2.0s\n",
      "[CV 2/5] END svc__C=10, svc__gamma=1, svc__kernel=poly;, score=0.865 total time=   1.9s\n",
      "[CV 3/5] END svc__C=10, svc__gamma=1, svc__kernel=poly;, score=0.888 total time=   2.0s\n",
      "[CV 4/5] END svc__C=10, svc__gamma=1, svc__kernel=poly;, score=0.893 total time=   2.0s\n",
      "[CV 5/5] END svc__C=10, svc__gamma=1, svc__kernel=poly;, score=0.869 total time=   2.0s\n",
      "[CV 1/5] END svc__C=10, svc__gamma=1, svc__kernel=sigmoid;, score=0.000 total time=   0.5s\n",
      "[CV 2/5] END svc__C=10, svc__gamma=1, svc__kernel=sigmoid;, score=0.000 total time=   0.5s\n",
      "[CV 3/5] END svc__C=10, svc__gamma=1, svc__kernel=sigmoid;, score=0.000 total time=   0.5s\n",
      "[CV 4/5] END svc__C=10, svc__gamma=1, svc__kernel=sigmoid;, score=0.000 total time=   0.5s\n",
      "[CV 5/5] END svc__C=10, svc__gamma=1, svc__kernel=sigmoid;, score=0.000 total time=   0.5s\n",
      "[CV 1/5] END svc__C=10, svc__gamma=0.1, svc__kernel=rbf;, score=0.615 total time=   0.5s\n",
      "[CV 2/5] END svc__C=10, svc__gamma=0.1, svc__kernel=rbf;, score=0.630 total time=   0.5s\n",
      "[CV 3/5] END svc__C=10, svc__gamma=0.1, svc__kernel=rbf;, score=0.635 total time=   0.5s\n",
      "[CV 4/5] END svc__C=10, svc__gamma=0.1, svc__kernel=rbf;, score=0.643 total time=   0.5s\n",
      "[CV 5/5] END svc__C=10, svc__gamma=0.1, svc__kernel=rbf;, score=0.626 total time=   0.5s\n",
      "[CV 1/5] END svc__C=10, svc__gamma=0.1, svc__kernel=poly;, score=0.626 total time=   0.2s\n",
      "[CV 2/5] END svc__C=10, svc__gamma=0.1, svc__kernel=poly;, score=0.656 total time=   0.2s\n",
      "[CV 3/5] END svc__C=10, svc__gamma=0.1, svc__kernel=poly;, score=0.665 total time=   0.2s\n",
      "[CV 4/5] END svc__C=10, svc__gamma=0.1, svc__kernel=poly;, score=0.664 total time=   0.2s\n",
      "[CV 5/5] END svc__C=10, svc__gamma=0.1, svc__kernel=poly;, score=0.646 total time=   0.2s\n",
      "[CV 1/5] END svc__C=10, svc__gamma=0.1, svc__kernel=sigmoid;, score=0.000 total time=   0.3s\n",
      "[CV 2/5] END svc__C=10, svc__gamma=0.1, svc__kernel=sigmoid;, score=0.017 total time=   0.3s\n",
      "[CV 3/5] END svc__C=10, svc__gamma=0.1, svc__kernel=sigmoid;, score=0.000 total time=   0.3s\n",
      "[CV 4/5] END svc__C=10, svc__gamma=0.1, svc__kernel=sigmoid;, score=0.000 total time=   0.3s\n",
      "[CV 5/5] END svc__C=10, svc__gamma=0.1, svc__kernel=sigmoid;, score=0.005 total time=   0.3s\n",
      "[CV 1/5] END svc__C=10, svc__gamma=0.01, svc__kernel=rbf;, score=0.000 total time=   0.6s\n",
      "[CV 2/5] END svc__C=10, svc__gamma=0.01, svc__kernel=rbf;, score=0.000 total time=   0.6s\n",
      "[CV 3/5] END svc__C=10, svc__gamma=0.01, svc__kernel=rbf;, score=0.000 total time=   0.6s\n",
      "[CV 4/5] END svc__C=10, svc__gamma=0.01, svc__kernel=rbf;, score=0.000 total time=   0.6s\n",
      "[CV 5/5] END svc__C=10, svc__gamma=0.01, svc__kernel=rbf;, score=0.000 total time=   0.6s\n",
      "[CV 1/5] END svc__C=10, svc__gamma=0.01, svc__kernel=poly;, score=0.000 total time=   0.2s\n",
      "[CV 2/5] END svc__C=10, svc__gamma=0.01, svc__kernel=poly;, score=0.000 total time=   0.2s\n",
      "[CV 3/5] END svc__C=10, svc__gamma=0.01, svc__kernel=poly;, score=0.000 total time=   0.2s\n",
      "[CV 4/5] END svc__C=10, svc__gamma=0.01, svc__kernel=poly;, score=0.000 total time=   0.2s\n",
      "[CV 5/5] END svc__C=10, svc__gamma=0.01, svc__kernel=poly;, score=0.000 total time=   0.2s\n",
      "[CV 1/5] END svc__C=10, svc__gamma=0.01, svc__kernel=sigmoid;, score=0.000 total time=   0.5s\n",
      "[CV 2/5] END svc__C=10, svc__gamma=0.01, svc__kernel=sigmoid;, score=0.000 total time=   0.5s\n",
      "[CV 3/5] END svc__C=10, svc__gamma=0.01, svc__kernel=sigmoid;, score=0.000 total time=   0.5s\n",
      "[CV 4/5] END svc__C=10, svc__gamma=0.01, svc__kernel=sigmoid;, score=0.000 total time=   0.5s\n",
      "[CV 5/5] END svc__C=10, svc__gamma=0.01, svc__kernel=sigmoid;, score=0.000 total time=   0.5s\n",
      "[CV 1/5] END svc__C=10, svc__gamma=0.001, svc__kernel=rbf;, score=0.000 total time=   0.7s\n",
      "[CV 2/5] END svc__C=10, svc__gamma=0.001, svc__kernel=rbf;, score=0.000 total time=   0.6s\n",
      "[CV 3/5] END svc__C=10, svc__gamma=0.001, svc__kernel=rbf;, score=0.000 total time=   0.6s\n",
      "[CV 4/5] END svc__C=10, svc__gamma=0.001, svc__kernel=rbf;, score=0.000 total time=   0.6s\n",
      "[CV 5/5] END svc__C=10, svc__gamma=0.001, svc__kernel=rbf;, score=0.000 total time=   0.7s\n",
      "[CV 1/5] END svc__C=10, svc__gamma=0.001, svc__kernel=poly;, score=0.000 total time=   0.2s\n",
      "[CV 2/5] END svc__C=10, svc__gamma=0.001, svc__kernel=poly;, score=0.000 total time=   0.2s\n",
      "[CV 3/5] END svc__C=10, svc__gamma=0.001, svc__kernel=poly;, score=0.000 total time=   0.2s\n",
      "[CV 4/5] END svc__C=10, svc__gamma=0.001, svc__kernel=poly;, score=0.000 total time=   0.2s\n",
      "[CV 5/5] END svc__C=10, svc__gamma=0.001, svc__kernel=poly;, score=0.000 total time=   0.2s\n",
      "[CV 1/5] END svc__C=10, svc__gamma=0.001, svc__kernel=sigmoid;, score=0.000 total time=   0.3s\n",
      "[CV 2/5] END svc__C=10, svc__gamma=0.001, svc__kernel=sigmoid;, score=0.000 total time=   0.3s\n",
      "[CV 3/5] END svc__C=10, svc__gamma=0.001, svc__kernel=sigmoid;, score=0.000 total time=   0.3s\n",
      "[CV 4/5] END svc__C=10, svc__gamma=0.001, svc__kernel=sigmoid;, score=0.000 total time=   0.3s\n",
      "[CV 5/5] END svc__C=10, svc__gamma=0.001, svc__kernel=sigmoid;, score=0.000 total time=   0.3s\n",
      "[CV 1/5] END svc__C=10, svc__gamma=0.0001, svc__kernel=rbf;, score=0.000 total time=   0.5s\n",
      "[CV 2/5] END svc__C=10, svc__gamma=0.0001, svc__kernel=rbf;, score=0.000 total time=   0.5s\n",
      "[CV 3/5] END svc__C=10, svc__gamma=0.0001, svc__kernel=rbf;, score=0.000 total time=   0.5s\n",
      "[CV 4/5] END svc__C=10, svc__gamma=0.0001, svc__kernel=rbf;, score=0.000 total time=   0.5s\n",
      "[CV 5/5] END svc__C=10, svc__gamma=0.0001, svc__kernel=rbf;, score=0.000 total time=   0.5s\n",
      "[CV 1/5] END svc__C=10, svc__gamma=0.0001, svc__kernel=poly;, score=0.000 total time=   0.2s\n",
      "[CV 2/5] END svc__C=10, svc__gamma=0.0001, svc__kernel=poly;, score=0.000 total time=   0.2s\n",
      "[CV 3/5] END svc__C=10, svc__gamma=0.0001, svc__kernel=poly;, score=0.000 total time=   0.2s\n",
      "[CV 4/5] END svc__C=10, svc__gamma=0.0001, svc__kernel=poly;, score=0.000 total time=   0.2s\n",
      "[CV 5/5] END svc__C=10, svc__gamma=0.0001, svc__kernel=poly;, score=0.000 total time=   0.2s\n",
      "[CV 1/5] END svc__C=10, svc__gamma=0.0001, svc__kernel=sigmoid;, score=0.000 total time=   0.3s\n",
      "[CV 2/5] END svc__C=10, svc__gamma=0.0001, svc__kernel=sigmoid;, score=0.000 total time=   0.3s\n",
      "[CV 3/5] END svc__C=10, svc__gamma=0.0001, svc__kernel=sigmoid;, score=0.000 total time=   0.3s\n",
      "[CV 4/5] END svc__C=10, svc__gamma=0.0001, svc__kernel=sigmoid;, score=0.000 total time=   0.2s\n",
      "[CV 5/5] END svc__C=10, svc__gamma=0.0001, svc__kernel=sigmoid;, score=0.000 total time=   0.3s\n",
      "[CV 1/5] END svc__C=100, svc__gamma=1, svc__kernel=rbf;, score=0.849 total time=   0.4s\n",
      "[CV 2/5] END svc__C=100, svc__gamma=1, svc__kernel=rbf;, score=0.859 total time=   0.3s\n",
      "[CV 3/5] END svc__C=100, svc__gamma=1, svc__kernel=rbf;, score=0.876 total time=   0.4s\n",
      "[CV 4/5] END svc__C=100, svc__gamma=1, svc__kernel=rbf;, score=0.897 total time=   0.3s\n",
      "[CV 5/5] END svc__C=100, svc__gamma=1, svc__kernel=rbf;, score=0.853 total time=   0.3s\n",
      "[CV 1/5] END svc__C=100, svc__gamma=1, svc__kernel=poly;, score=0.838 total time=   5.2s\n",
      "[CV 2/5] END svc__C=100, svc__gamma=1, svc__kernel=poly;, score=0.838 total time=   4.1s\n",
      "[CV 3/5] END svc__C=100, svc__gamma=1, svc__kernel=poly;, score=0.841 total time=   5.6s\n",
      "[CV 4/5] END svc__C=100, svc__gamma=1, svc__kernel=poly;, score=0.886 total time=   5.4s\n",
      "[CV 5/5] END svc__C=100, svc__gamma=1, svc__kernel=poly;, score=0.845 total time=   5.2s\n",
      "[CV 1/5] END svc__C=100, svc__gamma=1, svc__kernel=sigmoid;, score=0.000 total time=   0.5s\n",
      "[CV 2/5] END svc__C=100, svc__gamma=1, svc__kernel=sigmoid;, score=0.000 total time=   0.5s\n",
      "[CV 3/5] END svc__C=100, svc__gamma=1, svc__kernel=sigmoid;, score=0.000 total time=   0.5s\n",
      "[CV 4/5] END svc__C=100, svc__gamma=1, svc__kernel=sigmoid;, score=0.000 total time=   0.5s\n",
      "[CV 5/5] END svc__C=100, svc__gamma=1, svc__kernel=sigmoid;, score=0.000 total time=   0.5s\n",
      "[CV 1/5] END svc__C=100, svc__gamma=0.1, svc__kernel=rbf;, score=0.850 total time=   0.4s\n",
      "[CV 2/5] END svc__C=100, svc__gamma=0.1, svc__kernel=rbf;, score=0.883 total time=   0.4s\n",
      "[CV 3/5] END svc__C=100, svc__gamma=0.1, svc__kernel=rbf;, score=0.842 total time=   0.4s\n",
      "[CV 4/5] END svc__C=100, svc__gamma=0.1, svc__kernel=rbf;, score=0.864 total time=   0.4s\n",
      "[CV 5/5] END svc__C=100, svc__gamma=0.1, svc__kernel=rbf;, score=0.852 total time=   0.4s\n",
      "[CV 1/5] END svc__C=100, svc__gamma=0.1, svc__kernel=poly;, score=0.863 total time=   0.2s\n",
      "[CV 2/5] END svc__C=100, svc__gamma=0.1, svc__kernel=poly;, score=0.879 total time=   0.2s\n",
      "[CV 3/5] END svc__C=100, svc__gamma=0.1, svc__kernel=poly;, score=0.838 total time=   0.2s\n",
      "[CV 4/5] END svc__C=100, svc__gamma=0.1, svc__kernel=poly;, score=0.866 total time=   0.2s\n",
      "[CV 5/5] END svc__C=100, svc__gamma=0.1, svc__kernel=poly;, score=0.854 total time=   0.2s\n",
      "[CV 1/5] END svc__C=100, svc__gamma=0.1, svc__kernel=sigmoid;, score=0.061 total time=   0.3s\n",
      "[CV 2/5] END svc__C=100, svc__gamma=0.1, svc__kernel=sigmoid;, score=0.044 total time=   0.3s\n",
      "[CV 3/5] END svc__C=100, svc__gamma=0.1, svc__kernel=sigmoid;, score=0.049 total time=   0.3s\n",
      "[CV 4/5] END svc__C=100, svc__gamma=0.1, svc__kernel=sigmoid;, score=0.042 total time=   0.3s\n",
      "[CV 5/5] END svc__C=100, svc__gamma=0.1, svc__kernel=sigmoid;, score=0.031 total time=   0.3s\n",
      "[CV 1/5] END svc__C=100, svc__gamma=0.01, svc__kernel=rbf;, score=0.000 total time=   0.7s\n",
      "[CV 2/5] END svc__C=100, svc__gamma=0.01, svc__kernel=rbf;, score=0.000 total time=   0.7s\n",
      "[CV 3/5] END svc__C=100, svc__gamma=0.01, svc__kernel=rbf;, score=0.007 total time=   0.7s\n",
      "[CV 4/5] END svc__C=100, svc__gamma=0.01, svc__kernel=rbf;, score=0.007 total time=   0.7s\n",
      "[CV 5/5] END svc__C=100, svc__gamma=0.01, svc__kernel=rbf;, score=0.000 total time=   0.6s\n",
      "[CV 1/5] END svc__C=100, svc__gamma=0.01, svc__kernel=poly;, score=0.000 total time=   0.2s\n",
      "[CV 2/5] END svc__C=100, svc__gamma=0.01, svc__kernel=poly;, score=0.000 total time=   0.2s\n",
      "[CV 3/5] END svc__C=100, svc__gamma=0.01, svc__kernel=poly;, score=0.000 total time=   0.2s\n",
      "[CV 4/5] END svc__C=100, svc__gamma=0.01, svc__kernel=poly;, score=0.000 total time=   0.2s\n",
      "[CV 5/5] END svc__C=100, svc__gamma=0.01, svc__kernel=poly;, score=0.000 total time=   0.2s\n",
      "[CV 1/5] END svc__C=100, svc__gamma=0.01, svc__kernel=sigmoid;, score=0.000 total time=   0.5s\n",
      "[CV 2/5] END svc__C=100, svc__gamma=0.01, svc__kernel=sigmoid;, score=0.000 total time=   0.6s\n",
      "[CV 3/5] END svc__C=100, svc__gamma=0.01, svc__kernel=sigmoid;, score=0.000 total time=   0.6s\n",
      "[CV 4/5] END svc__C=100, svc__gamma=0.01, svc__kernel=sigmoid;, score=0.000 total time=   0.5s\n",
      "[CV 5/5] END svc__C=100, svc__gamma=0.01, svc__kernel=sigmoid;, score=0.000 total time=   0.5s\n",
      "[CV 1/5] END svc__C=100, svc__gamma=0.001, svc__kernel=rbf;, score=0.000 total time=   0.8s\n",
      "[CV 2/5] END svc__C=100, svc__gamma=0.001, svc__kernel=rbf;, score=0.000 total time=   0.9s\n",
      "[CV 3/5] END svc__C=100, svc__gamma=0.001, svc__kernel=rbf;, score=0.000 total time=   0.8s\n",
      "[CV 4/5] END svc__C=100, svc__gamma=0.001, svc__kernel=rbf;, score=0.000 total time=   0.9s\n",
      "[CV 5/5] END svc__C=100, svc__gamma=0.001, svc__kernel=rbf;, score=0.000 total time=   0.8s\n",
      "[CV 1/5] END svc__C=100, svc__gamma=0.001, svc__kernel=poly;, score=0.000 total time=   0.2s\n",
      "[CV 2/5] END svc__C=100, svc__gamma=0.001, svc__kernel=poly;, score=0.000 total time=   0.2s\n",
      "[CV 3/5] END svc__C=100, svc__gamma=0.001, svc__kernel=poly;, score=0.000 total time=   0.2s\n",
      "[CV 4/5] END svc__C=100, svc__gamma=0.001, svc__kernel=poly;, score=0.000 total time=   0.2s\n",
      "[CV 5/5] END svc__C=100, svc__gamma=0.001, svc__kernel=poly;, score=0.000 total time=   0.2s\n",
      "[CV 1/5] END svc__C=100, svc__gamma=0.001, svc__kernel=sigmoid;, score=0.000 total time=   0.3s\n",
      "[CV 2/5] END svc__C=100, svc__gamma=0.001, svc__kernel=sigmoid;, score=0.000 total time=   0.3s\n",
      "[CV 3/5] END svc__C=100, svc__gamma=0.001, svc__kernel=sigmoid;, score=0.000 total time=   0.3s\n",
      "[CV 4/5] END svc__C=100, svc__gamma=0.001, svc__kernel=sigmoid;, score=0.000 total time=   0.3s\n",
      "[CV 5/5] END svc__C=100, svc__gamma=0.001, svc__kernel=sigmoid;, score=0.000 total time=   0.3s\n",
      "[CV 1/5] END svc__C=100, svc__gamma=0.0001, svc__kernel=rbf;, score=0.000 total time=   0.5s\n",
      "[CV 2/5] END svc__C=100, svc__gamma=0.0001, svc__kernel=rbf;, score=0.000 total time=   0.5s\n",
      "[CV 3/5] END svc__C=100, svc__gamma=0.0001, svc__kernel=rbf;, score=0.000 total time=   0.5s\n",
      "[CV 4/5] END svc__C=100, svc__gamma=0.0001, svc__kernel=rbf;, score=0.000 total time=   0.5s\n",
      "[CV 5/5] END svc__C=100, svc__gamma=0.0001, svc__kernel=rbf;, score=0.000 total time=   0.5s\n",
      "[CV 1/5] END svc__C=100, svc__gamma=0.0001, svc__kernel=poly;, score=0.000 total time=   0.2s\n",
      "[CV 2/5] END svc__C=100, svc__gamma=0.0001, svc__kernel=poly;, score=0.000 total time=   0.2s\n",
      "[CV 3/5] END svc__C=100, svc__gamma=0.0001, svc__kernel=poly;, score=0.000 total time=   0.2s\n",
      "[CV 4/5] END svc__C=100, svc__gamma=0.0001, svc__kernel=poly;, score=0.000 total time=   0.2s\n",
      "[CV 5/5] END svc__C=100, svc__gamma=0.0001, svc__kernel=poly;, score=0.000 total time=   0.2s\n",
      "[CV 1/5] END svc__C=100, svc__gamma=0.0001, svc__kernel=sigmoid;, score=0.000 total time=   0.3s\n",
      "[CV 2/5] END svc__C=100, svc__gamma=0.0001, svc__kernel=sigmoid;, score=0.000 total time=   0.3s\n",
      "[CV 3/5] END svc__C=100, svc__gamma=0.0001, svc__kernel=sigmoid;, score=0.000 total time=   0.3s\n",
      "[CV 4/5] END svc__C=100, svc__gamma=0.0001, svc__kernel=sigmoid;, score=0.000 total time=   0.3s\n",
      "[CV 5/5] END svc__C=100, svc__gamma=0.0001, svc__kernel=sigmoid;, score=0.000 total time=   0.3s\n",
      "[CV 1/5] END svc__C=1000, svc__gamma=1, svc__kernel=rbf;, score=0.847 total time=   0.4s\n",
      "[CV 2/5] END svc__C=1000, svc__gamma=1, svc__kernel=rbf;, score=0.848 total time=   0.4s\n",
      "[CV 3/5] END svc__C=1000, svc__gamma=1, svc__kernel=rbf;, score=0.867 total time=   0.4s\n",
      "[CV 4/5] END svc__C=1000, svc__gamma=1, svc__kernel=rbf;, score=0.892 total time=   0.3s\n",
      "[CV 5/5] END svc__C=1000, svc__gamma=1, svc__kernel=rbf;, score=0.839 total time=   0.4s\n",
      "[CV 1/5] END svc__C=1000, svc__gamma=1, svc__kernel=poly;, score=0.839 total time=   5.6s\n",
      "[CV 2/5] END svc__C=1000, svc__gamma=1, svc__kernel=poly;, score=0.838 total time=   4.5s\n",
      "[CV 3/5] END svc__C=1000, svc__gamma=1, svc__kernel=poly;, score=0.837 total time=   6.0s\n",
      "[CV 4/5] END svc__C=1000, svc__gamma=1, svc__kernel=poly;, score=0.893 total time=   6.0s\n",
      "[CV 5/5] END svc__C=1000, svc__gamma=1, svc__kernel=poly;, score=0.843 total time=   5.3s\n",
      "[CV 1/5] END svc__C=1000, svc__gamma=1, svc__kernel=sigmoid;, score=0.000 total time=   0.5s\n",
      "[CV 2/5] END svc__C=1000, svc__gamma=1, svc__kernel=sigmoid;, score=0.000 total time=   0.5s\n",
      "[CV 3/5] END svc__C=1000, svc__gamma=1, svc__kernel=sigmoid;, score=0.000 total time=   0.5s\n",
      "[CV 4/5] END svc__C=1000, svc__gamma=1, svc__kernel=sigmoid;, score=0.000 total time=   0.5s\n",
      "[CV 5/5] END svc__C=1000, svc__gamma=1, svc__kernel=sigmoid;, score=0.040 total time=   0.5s\n",
      "[CV 1/5] END svc__C=1000, svc__gamma=0.1, svc__kernel=rbf;, score=0.886 total time=   0.7s\n",
      "[CV 2/5] END svc__C=1000, svc__gamma=0.1, svc__kernel=rbf;, score=0.889 total time=   0.7s\n",
      "[CV 3/5] END svc__C=1000, svc__gamma=0.1, svc__kernel=rbf;, score=0.901 total time=   0.7s\n",
      "[CV 4/5] END svc__C=1000, svc__gamma=0.1, svc__kernel=rbf;, score=0.901 total time=   0.7s\n",
      "[CV 5/5] END svc__C=1000, svc__gamma=0.1, svc__kernel=rbf;, score=0.873 total time=   0.7s\n",
      "[CV 1/5] END svc__C=1000, svc__gamma=0.1, svc__kernel=poly;, score=0.883 total time=   0.5s\n",
      "[CV 2/5] END svc__C=1000, svc__gamma=0.1, svc__kernel=poly;, score=0.881 total time=   0.5s\n",
      "[CV 3/5] END svc__C=1000, svc__gamma=0.1, svc__kernel=poly;, score=0.899 total time=   0.5s\n",
      "[CV 4/5] END svc__C=1000, svc__gamma=0.1, svc__kernel=poly;, score=0.904 total time=   0.5s\n",
      "[CV 5/5] END svc__C=1000, svc__gamma=0.1, svc__kernel=poly;, score=0.875 total time=   0.5s\n",
      "[CV 1/5] END svc__C=1000, svc__gamma=0.1, svc__kernel=sigmoid;, score=0.072 total time=   0.3s\n",
      "[CV 2/5] END svc__C=1000, svc__gamma=0.1, svc__kernel=sigmoid;, score=0.055 total time=   0.3s\n",
      "[CV 3/5] END svc__C=1000, svc__gamma=0.1, svc__kernel=sigmoid;, score=0.066 total time=   0.3s\n",
      "[CV 4/5] END svc__C=1000, svc__gamma=0.1, svc__kernel=sigmoid;, score=0.053 total time=   0.3s\n",
      "[CV 5/5] END svc__C=1000, svc__gamma=0.1, svc__kernel=sigmoid;, score=0.033 total time=   0.3s\n",
      "[CV 1/5] END svc__C=1000, svc__gamma=0.01, svc__kernel=rbf;, score=0.624 total time=   0.8s\n",
      "[CV 2/5] END svc__C=1000, svc__gamma=0.01, svc__kernel=rbf;, score=0.640 total time=   0.8s\n",
      "[CV 3/5] END svc__C=1000, svc__gamma=0.01, svc__kernel=rbf;, score=0.644 total time=   0.8s\n",
      "[CV 4/5] END svc__C=1000, svc__gamma=0.01, svc__kernel=rbf;, score=0.661 total time=   0.7s\n",
      "[CV 5/5] END svc__C=1000, svc__gamma=0.01, svc__kernel=rbf;, score=0.635 total time=   0.8s\n",
      "[CV 1/5] END svc__C=1000, svc__gamma=0.01, svc__kernel=poly;, score=0.000 total time=   0.2s\n",
      "[CV 2/5] END svc__C=1000, svc__gamma=0.01, svc__kernel=poly;, score=0.000 total time=   0.2s\n",
      "[CV 3/5] END svc__C=1000, svc__gamma=0.01, svc__kernel=poly;, score=0.000 total time=   0.2s\n",
      "[CV 4/5] END svc__C=1000, svc__gamma=0.01, svc__kernel=poly;, score=0.000 total time=   0.2s\n",
      "[CV 5/5] END svc__C=1000, svc__gamma=0.01, svc__kernel=poly;, score=0.000 total time=   0.2s\n",
      "[CV 1/5] END svc__C=1000, svc__gamma=0.01, svc__kernel=sigmoid;, score=0.000 total time=   0.6s\n",
      "[CV 2/5] END svc__C=1000, svc__gamma=0.01, svc__kernel=sigmoid;, score=0.000 total time=   0.6s\n",
      "[CV 3/5] END svc__C=1000, svc__gamma=0.01, svc__kernel=sigmoid;, score=0.000 total time=   0.6s\n",
      "[CV 4/5] END svc__C=1000, svc__gamma=0.01, svc__kernel=sigmoid;, score=0.000 total time=   0.6s\n",
      "[CV 5/5] END svc__C=1000, svc__gamma=0.01, svc__kernel=sigmoid;, score=0.000 total time=   0.6s\n",
      "[CV 1/5] END svc__C=1000, svc__gamma=0.001, svc__kernel=rbf;, score=0.000 total time=   1.2s\n",
      "[CV 2/5] END svc__C=1000, svc__gamma=0.001, svc__kernel=rbf;, score=0.000 total time=   1.2s\n",
      "[CV 3/5] END svc__C=1000, svc__gamma=0.001, svc__kernel=rbf;, score=0.000 total time=   1.1s\n",
      "[CV 4/5] END svc__C=1000, svc__gamma=0.001, svc__kernel=rbf;, score=0.000 total time=   1.2s\n",
      "[CV 5/5] END svc__C=1000, svc__gamma=0.001, svc__kernel=rbf;, score=0.000 total time=   1.2s\n",
      "[CV 1/5] END svc__C=1000, svc__gamma=0.001, svc__kernel=poly;, score=0.000 total time=   0.2s\n",
      "[CV 2/5] END svc__C=1000, svc__gamma=0.001, svc__kernel=poly;, score=0.000 total time=   0.2s\n",
      "[CV 3/5] END svc__C=1000, svc__gamma=0.001, svc__kernel=poly;, score=0.000 total time=   0.2s\n",
      "[CV 4/5] END svc__C=1000, svc__gamma=0.001, svc__kernel=poly;, score=0.000 total time=   0.2s\n",
      "[CV 5/5] END svc__C=1000, svc__gamma=0.001, svc__kernel=poly;, score=0.000 total time=   0.2s\n",
      "[CV 1/5] END svc__C=1000, svc__gamma=0.001, svc__kernel=sigmoid;, score=0.000 total time=   0.3s\n",
      "[CV 2/5] END svc__C=1000, svc__gamma=0.001, svc__kernel=sigmoid;, score=0.000 total time=   0.3s\n",
      "[CV 3/5] END svc__C=1000, svc__gamma=0.001, svc__kernel=sigmoid;, score=0.000 total time=   0.3s\n",
      "[CV 4/5] END svc__C=1000, svc__gamma=0.001, svc__kernel=sigmoid;, score=0.000 total time=   0.3s\n",
      "[CV 5/5] END svc__C=1000, svc__gamma=0.001, svc__kernel=sigmoid;, score=0.000 total time=   0.3s\n",
      "[CV 1/5] END svc__C=1000, svc__gamma=0.0001, svc__kernel=rbf;, score=0.000 total time=   1.0s\n",
      "[CV 2/5] END svc__C=1000, svc__gamma=0.0001, svc__kernel=rbf;, score=0.000 total time=   1.0s\n",
      "[CV 3/5] END svc__C=1000, svc__gamma=0.0001, svc__kernel=rbf;, score=0.000 total time=   1.0s\n",
      "[CV 4/5] END svc__C=1000, svc__gamma=0.0001, svc__kernel=rbf;, score=0.000 total time=   1.0s\n",
      "[CV 5/5] END svc__C=1000, svc__gamma=0.0001, svc__kernel=rbf;, score=0.000 total time=   1.0s\n",
      "[CV 1/5] END svc__C=1000, svc__gamma=0.0001, svc__kernel=poly;, score=0.000 total time=   0.2s\n",
      "[CV 2/5] END svc__C=1000, svc__gamma=0.0001, svc__kernel=poly;, score=0.000 total time=   0.2s\n",
      "[CV 3/5] END svc__C=1000, svc__gamma=0.0001, svc__kernel=poly;, score=0.000 total time=   0.2s\n",
      "[CV 4/5] END svc__C=1000, svc__gamma=0.0001, svc__kernel=poly;, score=0.000 total time=   0.2s\n",
      "[CV 5/5] END svc__C=1000, svc__gamma=0.0001, svc__kernel=poly;, score=0.000 total time=   0.2s\n",
      "[CV 1/5] END svc__C=1000, svc__gamma=0.0001, svc__kernel=sigmoid;, score=0.000 total time=   0.3s\n",
      "[CV 2/5] END svc__C=1000, svc__gamma=0.0001, svc__kernel=sigmoid;, score=0.000 total time=   0.3s\n",
      "[CV 3/5] END svc__C=1000, svc__gamma=0.0001, svc__kernel=sigmoid;, score=0.000 total time=   0.3s\n",
      "[CV 4/5] END svc__C=1000, svc__gamma=0.0001, svc__kernel=sigmoid;, score=0.000 total time=   0.3s\n",
      "[CV 5/5] END svc__C=1000, svc__gamma=0.0001, svc__kernel=sigmoid;, score=0.000 total time=   0.3s\n"
     ]
    },
    {
     "data": {
      "text/html": [
       "<style>#sk-container-id-12 {color: black;background-color: white;}#sk-container-id-12 pre{padding: 0;}#sk-container-id-12 div.sk-toggleable {background-color: white;}#sk-container-id-12 label.sk-toggleable__label {cursor: pointer;display: block;width: 100%;margin-bottom: 0;padding: 0.3em;box-sizing: border-box;text-align: center;}#sk-container-id-12 label.sk-toggleable__label-arrow:before {content: \"▸\";float: left;margin-right: 0.25em;color: #696969;}#sk-container-id-12 label.sk-toggleable__label-arrow:hover:before {color: black;}#sk-container-id-12 div.sk-estimator:hover label.sk-toggleable__label-arrow:before {color: black;}#sk-container-id-12 div.sk-toggleable__content {max-height: 0;max-width: 0;overflow: hidden;text-align: left;background-color: #f0f8ff;}#sk-container-id-12 div.sk-toggleable__content pre {margin: 0.2em;color: black;border-radius: 0.25em;background-color: #f0f8ff;}#sk-container-id-12 input.sk-toggleable__control:checked~div.sk-toggleable__content {max-height: 200px;max-width: 100%;overflow: auto;}#sk-container-id-12 input.sk-toggleable__control:checked~label.sk-toggleable__label-arrow:before {content: \"▾\";}#sk-container-id-12 div.sk-estimator input.sk-toggleable__control:checked~label.sk-toggleable__label {background-color: #d4ebff;}#sk-container-id-12 div.sk-label input.sk-toggleable__control:checked~label.sk-toggleable__label {background-color: #d4ebff;}#sk-container-id-12 input.sk-hidden--visually {border: 0;clip: rect(1px 1px 1px 1px);clip: rect(1px, 1px, 1px, 1px);height: 1px;margin: -1px;overflow: hidden;padding: 0;position: absolute;width: 1px;}#sk-container-id-12 div.sk-estimator {font-family: monospace;background-color: #f0f8ff;border: 1px dotted black;border-radius: 0.25em;box-sizing: border-box;margin-bottom: 0.5em;}#sk-container-id-12 div.sk-estimator:hover {background-color: #d4ebff;}#sk-container-id-12 div.sk-parallel-item::after {content: \"\";width: 100%;border-bottom: 1px solid gray;flex-grow: 1;}#sk-container-id-12 div.sk-label:hover label.sk-toggleable__label {background-color: #d4ebff;}#sk-container-id-12 div.sk-serial::before {content: \"\";position: absolute;border-left: 1px solid gray;box-sizing: border-box;top: 0;bottom: 0;left: 50%;z-index: 0;}#sk-container-id-12 div.sk-serial {display: flex;flex-direction: column;align-items: center;background-color: white;padding-right: 0.2em;padding-left: 0.2em;position: relative;}#sk-container-id-12 div.sk-item {position: relative;z-index: 1;}#sk-container-id-12 div.sk-parallel {display: flex;align-items: stretch;justify-content: center;background-color: white;position: relative;}#sk-container-id-12 div.sk-item::before, #sk-container-id-12 div.sk-parallel-item::before {content: \"\";position: absolute;border-left: 1px solid gray;box-sizing: border-box;top: 0;bottom: 0;left: 50%;z-index: -1;}#sk-container-id-12 div.sk-parallel-item {display: flex;flex-direction: column;z-index: 1;position: relative;background-color: white;}#sk-container-id-12 div.sk-parallel-item:first-child::after {align-self: flex-end;width: 50%;}#sk-container-id-12 div.sk-parallel-item:last-child::after {align-self: flex-start;width: 50%;}#sk-container-id-12 div.sk-parallel-item:only-child::after {width: 0;}#sk-container-id-12 div.sk-dashed-wrapped {border: 1px dashed gray;margin: 0 0.4em 0.5em 0.4em;box-sizing: border-box;padding-bottom: 0.4em;background-color: white;}#sk-container-id-12 div.sk-label label {font-family: monospace;font-weight: bold;display: inline-block;line-height: 1.2em;}#sk-container-id-12 div.sk-label-container {text-align: center;}#sk-container-id-12 div.sk-container {/* jupyter's `normalize.less` sets `[hidden] { display: none; }` but bootstrap.min.css set `[hidden] { display: none !important; }` so we also need the `!important` here to be able to override the default hidden behavior on the sphinx rendered scikit-learn.org. See: https://github.com/scikit-learn/scikit-learn/issues/21755 */display: inline-block !important;position: relative;}#sk-container-id-12 div.sk-text-repr-fallback {display: none;}</style><div id=\"sk-container-id-12\" class=\"sk-top-container\"><div class=\"sk-text-repr-fallback\"><pre>GridSearchCV(estimator=Pipeline(steps=[(&#x27;scaller&#x27;, MinMaxScaler()),\n",
       "                                       (&#x27;svc&#x27;, SVC(random_state=0))]),\n",
       "             param_grid={&#x27;svc__C&#x27;: [0.1, 1, 10, 100, 1000],\n",
       "                         &#x27;svc__gamma&#x27;: [1, 0.1, 0.01, 0.001, 0.0001],\n",
       "                         &#x27;svc__kernel&#x27;: [&#x27;rbf&#x27;, &#x27;poly&#x27;, &#x27;sigmoid&#x27;]},\n",
       "             scoring=&#x27;f1&#x27;, verbose=4)</pre><b>In a Jupyter environment, please rerun this cell to show the HTML representation or trust the notebook. <br />On GitHub, the HTML representation is unable to render, please try loading this page with nbviewer.org.</b></div><div class=\"sk-container\" hidden><div class=\"sk-item sk-dashed-wrapped\"><div class=\"sk-label-container\"><div class=\"sk-label sk-toggleable\"><input class=\"sk-toggleable__control sk-hidden--visually\" id=\"sk-estimator-id-31\" type=\"checkbox\" ><label for=\"sk-estimator-id-31\" class=\"sk-toggleable__label sk-toggleable__label-arrow\">GridSearchCV</label><div class=\"sk-toggleable__content\"><pre>GridSearchCV(estimator=Pipeline(steps=[(&#x27;scaller&#x27;, MinMaxScaler()),\n",
       "                                       (&#x27;svc&#x27;, SVC(random_state=0))]),\n",
       "             param_grid={&#x27;svc__C&#x27;: [0.1, 1, 10, 100, 1000],\n",
       "                         &#x27;svc__gamma&#x27;: [1, 0.1, 0.01, 0.001, 0.0001],\n",
       "                         &#x27;svc__kernel&#x27;: [&#x27;rbf&#x27;, &#x27;poly&#x27;, &#x27;sigmoid&#x27;]},\n",
       "             scoring=&#x27;f1&#x27;, verbose=4)</pre></div></div></div><div class=\"sk-parallel\"><div class=\"sk-parallel-item\"><div class=\"sk-item\"><div class=\"sk-label-container\"><div class=\"sk-label sk-toggleable\"><input class=\"sk-toggleable__control sk-hidden--visually\" id=\"sk-estimator-id-32\" type=\"checkbox\" ><label for=\"sk-estimator-id-32\" class=\"sk-toggleable__label sk-toggleable__label-arrow\">estimator: Pipeline</label><div class=\"sk-toggleable__content\"><pre>Pipeline(steps=[(&#x27;scaller&#x27;, MinMaxScaler()), (&#x27;svc&#x27;, SVC(random_state=0))])</pre></div></div></div><div class=\"sk-serial\"><div class=\"sk-item\"><div class=\"sk-serial\"><div class=\"sk-item\"><div class=\"sk-estimator sk-toggleable\"><input class=\"sk-toggleable__control sk-hidden--visually\" id=\"sk-estimator-id-33\" type=\"checkbox\" ><label for=\"sk-estimator-id-33\" class=\"sk-toggleable__label sk-toggleable__label-arrow\">MinMaxScaler</label><div class=\"sk-toggleable__content\"><pre>MinMaxScaler()</pre></div></div></div><div class=\"sk-item\"><div class=\"sk-estimator sk-toggleable\"><input class=\"sk-toggleable__control sk-hidden--visually\" id=\"sk-estimator-id-34\" type=\"checkbox\" ><label for=\"sk-estimator-id-34\" class=\"sk-toggleable__label sk-toggleable__label-arrow\">SVC</label><div class=\"sk-toggleable__content\"><pre>SVC(random_state=0)</pre></div></div></div></div></div></div></div></div></div></div></div></div>"
      ],
      "text/plain": [
       "GridSearchCV(estimator=Pipeline(steps=[('scaller', MinMaxScaler()),\n",
       "                                       ('svc', SVC(random_state=0))]),\n",
       "             param_grid={'svc__C': [0.1, 1, 10, 100, 1000],\n",
       "                         'svc__gamma': [1, 0.1, 0.01, 0.001, 0.0001],\n",
       "                         'svc__kernel': ['rbf', 'poly', 'sigmoid']},\n",
       "             scoring='f1', verbose=4)"
      ]
     },
     "execution_count": 63,
     "metadata": {},
     "output_type": "execute_result"
    }
   ],
   "source": [
    "param_grid = {'svc__C': [0.1, 1, 10, 100, 1000],\n",
    "              'svc__gamma': [1, 0.1, 0.01, 0.001, 0.0001],\n",
    "              'svc__kernel': ['rbf', 'poly', 'sigmoid']}\n",
    " \n",
    "grid = GridSearchCV(pipe, param_grid, refit = True, verbose = 4, scoring='f1')\n",
    "grid.fit(X_train, y_train)"
   ]
  },
  {
   "cell_type": "code",
   "execution_count": 65,
   "metadata": {},
   "outputs": [
    {
     "name": "stdout",
     "output_type": "stream",
     "text": [
      "{'svc__C': 10, 'svc__gamma': 1, 'svc__kernel': 'rbf'}\n",
      "Pipeline(steps=[('scaller', MinMaxScaler()),\n",
      "                ('svc', SVC(C=10, gamma=1, random_state=0))])\n",
      "TRAIN\n",
      "              precision    recall  f1-score   support\n",
      "\n",
      "           0       0.97      0.99      0.98      3718\n",
      "           1       0.98      0.93      0.95      1504\n",
      "\n",
      "    accuracy                           0.97      5222\n",
      "   macro avg       0.98      0.96      0.97      5222\n",
      "weighted avg       0.97      0.97      0.97      5222\n",
      "\n",
      "TEST\n",
      "              precision    recall  f1-score   support\n",
      "\n",
      "           0       0.95      0.97      0.96      1245\n",
      "           1       0.93      0.86      0.89       496\n",
      "\n",
      "    accuracy                           0.94      1741\n",
      "   macro avg       0.94      0.92      0.93      1741\n",
      "weighted avg       0.94      0.94      0.94      1741\n",
      "\n",
      "[[1212   33]\n",
      " [  68  428]]\n"
     ]
    },
    {
     "data": {
      "text/plain": [
       "array([0.88307155, 0.89081456, 0.90189329, 0.91161179, 0.86772487])"
      ]
     },
     "execution_count": 65,
     "metadata": {},
     "output_type": "execute_result"
    }
   ],
   "source": [
    "# print best parameter after tuning\n",
    "print(grid.best_params_)\n",
    " \n",
    "# print how our model looks after hyper-parameter tuning\n",
    "print(grid.best_estimator_)\n",
    "\n",
    "evaluate_clf(grid.best_estimator_, X_train, y_train, X_test, y_test)\n",
    "cross_val_score(grid.best_estimator_, X_train, y_train, scoring='f1')"
   ]
  },
  {
   "cell_type": "markdown",
   "metadata": {},
   "source": [
    "## SVM and PCA"
   ]
  },
  {
   "cell_type": "markdown",
   "metadata": {},
   "source": [
    "n_components = 0.95"
   ]
  },
  {
   "cell_type": "code",
   "execution_count": 83,
   "metadata": {},
   "outputs": [
    {
     "name": "stdout",
     "output_type": "stream",
     "text": [
      "BEFORE GRID SEARHC\n",
      "TRAIN\n",
      "              precision    recall  f1-score   support\n",
      "\n",
      "           0       0.93      0.98      0.96      3718\n",
      "           1       0.95      0.82      0.88      1504\n",
      "\n",
      "    accuracy                           0.94      5222\n",
      "   macro avg       0.94      0.90      0.92      5222\n",
      "weighted avg       0.94      0.94      0.93      5222\n",
      "\n",
      "TEST\n",
      "              precision    recall  f1-score   support\n",
      "\n",
      "           0       0.92      0.97      0.94      1245\n",
      "           1       0.90      0.78      0.83       496\n",
      "\n",
      "    accuracy                           0.91      1741\n",
      "   macro avg       0.91      0.87      0.89      1741\n",
      "weighted avg       0.91      0.91      0.91      1741\n",
      "\n",
      "[[1202   43]\n",
      " [ 110  386]]\n",
      "Fitting 5 folds for each of 75 candidates, totalling 375 fits\n",
      "BEST PARAMS: {'svc__C': 100, 'svc__gamma': 1, 'svc__kernel': 'rbf'}\n",
      "BEST ESTIMATOR: Pipeline(steps=[('pca', PCA(n_components=0.95)), ('scaller', MinMaxScaler()),\n",
      "                ('svc', SVC(C=100, gamma=1, random_state=0))])\n",
      "BEFORE GRID SEARCH\n",
      "TRAIN\n",
      "              precision    recall  f1-score   support\n",
      "\n",
      "           0       0.96      0.98      0.97      3718\n",
      "           1       0.94      0.89      0.92      1504\n",
      "\n",
      "    accuracy                           0.95      5222\n",
      "   macro avg       0.95      0.94      0.94      5222\n",
      "weighted avg       0.95      0.95      0.95      5222\n",
      "\n",
      "TEST\n",
      "              precision    recall  f1-score   support\n",
      "\n",
      "           0       0.93      0.94      0.93      1245\n",
      "           1       0.84      0.82      0.83       496\n",
      "\n",
      "    accuracy                           0.90      1741\n",
      "   macro avg       0.89      0.88      0.88      1741\n",
      "weighted avg       0.90      0.90      0.90      1741\n",
      "\n",
      "[[1170   75]\n",
      " [  91  405]]\n"
     ]
    }
   ],
   "source": [
    "pipe = Pipeline([\n",
    "    ('pca', PCA(n_components=0.95)),\n",
    "    ('scaller', MinMaxScaler()), \n",
    "    ('svc', SVC(random_state=0))\n",
    "    ])\n",
    "    \n",
    "# evaluate_clf(pipe, X_train, y_train, X_test, y_test)\n",
    "\n",
    "\n",
    "param_grid = {'svc__C': [0.1, 1, 10, 100, 1000],\n",
    "              'svc__gamma': [1, 0.1, 0.01, 0.001, 0.0001],\n",
    "              'svc__kernel': ['rbf', 'poly', 'sigmoid']}\n",
    "\n",
    "grid_search_pipe(pipe, param_grid,  X_train, y_train, X_test, y_test)"
   ]
  },
  {
   "cell_type": "markdown",
   "metadata": {},
   "source": [
    "n_components = 0.99"
   ]
  },
  {
   "cell_type": "code",
   "execution_count": 82,
   "metadata": {},
   "outputs": [
    {
     "name": "stdout",
     "output_type": "stream",
     "text": [
      "BEFORE GRID SEARHC\n",
      "TRAIN\n",
      "              precision    recall  f1-score   support\n",
      "\n",
      "           0       0.96      1.00      0.98      3718\n",
      "           1       0.99      0.89      0.93      1504\n",
      "\n",
      "    accuracy                           0.96      5222\n",
      "   macro avg       0.97      0.94      0.95      5222\n",
      "weighted avg       0.97      0.96      0.96      5222\n",
      "\n",
      "TEST\n",
      "              precision    recall  f1-score   support\n",
      "\n",
      "           0       0.93      0.99      0.96      1245\n",
      "           1       0.96      0.81      0.88       496\n",
      "\n",
      "    accuracy                           0.94      1741\n",
      "   macro avg       0.94      0.90      0.92      1741\n",
      "weighted avg       0.94      0.94      0.93      1741\n",
      "\n",
      "[[1229   16]\n",
      " [  95  401]]\n",
      "Fitting 5 folds for each of 75 candidates, totalling 375 fits\n",
      "BEST PARAMS: {'svc__C': 1000, 'svc__gamma': 0.1, 'svc__kernel': 'rbf'}\n",
      "BEST ESTIMATOR: Pipeline(steps=[('pca', PCA(n_components=0.99)), ('scaller', MinMaxScaler()),\n",
      "                ('svc', SVC(C=1000, gamma=0.1, random_state=0))])\n",
      "BEFORE GRID SEARCH\n",
      "TRAIN\n",
      "              precision    recall  f1-score   support\n",
      "\n",
      "           0       0.96      0.99      0.97      3718\n",
      "           1       0.96      0.90      0.93      1504\n",
      "\n",
      "    accuracy                           0.96      5222\n",
      "   macro avg       0.96      0.95      0.95      5222\n",
      "weighted avg       0.96      0.96      0.96      5222\n",
      "\n",
      "TEST\n",
      "              precision    recall  f1-score   support\n",
      "\n",
      "           0       0.95      0.98      0.96      1245\n",
      "           1       0.94      0.87      0.90       496\n",
      "\n",
      "    accuracy                           0.95      1741\n",
      "   macro avg       0.94      0.92      0.93      1741\n",
      "weighted avg       0.95      0.95      0.95      1741\n",
      "\n",
      "[[1215   30]\n",
      " [  64  432]]\n"
     ]
    }
   ],
   "source": [
    "pipe = Pipeline([\n",
    "    ('pca', PCA(n_components=0.99)),\n",
    "    ('scaller', MinMaxScaler()), \n",
    "    ('svc', SVC(random_state=0))\n",
    "    ])\n",
    "# evaluate_clf(pipe, X_train, y_train, X_test, y_test)\n",
    "\n",
    "param_grid = {'svc__C': [0.1, 1, 10, 100, 1000],\n",
    "              'svc__gamma': [1, 0.1, 0.01, 0.001, 0.0001],\n",
    "              'svc__kernel': ['rbf', 'poly', 'sigmoid']}\n",
    "\n",
    "grid_search_pipe(pipe, param_grid, X_train, y_train, X_test, y_test)"
   ]
  },
  {
   "cell_type": "code",
   "execution_count": 15,
   "metadata": {},
   "outputs": [
    {
     "name": "stdout",
     "output_type": "stream",
     "text": [
      "BEFORE GRID SEARHC\n",
      "TRAIN\n",
      "              precision    recall  f1-score   support\n",
      "\n",
      "           0       0.96      1.00      0.98      3718\n",
      "           1       0.99      0.89      0.93      1504\n",
      "\n",
      "    accuracy                           0.96      5222\n",
      "   macro avg       0.97      0.94      0.95      5222\n",
      "weighted avg       0.97      0.96      0.96      5222\n",
      "\n",
      "TEST\n",
      "              precision    recall  f1-score   support\n",
      "\n",
      "           0       0.93      0.99      0.96      1245\n",
      "           1       0.96      0.81      0.88       496\n",
      "\n",
      "    accuracy                           0.94      1741\n",
      "   macro avg       0.94      0.90      0.92      1741\n",
      "weighted avg       0.94      0.94      0.93      1741\n",
      "\n",
      "[[1229   16]\n",
      " [  95  401]]\n",
      "Fitting 5 folds for each of 35 candidates, totalling 175 fits\n",
      "BEST PARAMS: {'svc__C': 1000, 'svc__gamma': 0.1, 'svc__kernel': 'rbf'}\n",
      "BEST ESTIMATOR: Pipeline(steps=[('pca', PCA(n_components=0.99)), ('scaller', MinMaxScaler()),\n",
      "                ('svc', SVC(C=1000, gamma=0.1, random_state=0))])\n",
      "BEFORE GRID SEARCH\n",
      "TRAIN\n",
      "              precision    recall  f1-score   support\n",
      "\n",
      "           0       0.96      0.99      0.97      3718\n",
      "           1       0.96      0.90      0.93      1504\n",
      "\n",
      "    accuracy                           0.96      5222\n",
      "   macro avg       0.96      0.95      0.95      5222\n",
      "weighted avg       0.96      0.96      0.96      5222\n",
      "\n",
      "TEST\n",
      "              precision    recall  f1-score   support\n",
      "\n",
      "           0       0.95      0.98      0.96      1245\n",
      "           1       0.94      0.87      0.90       496\n",
      "\n",
      "    accuracy                           0.95      1741\n",
      "   macro avg       0.94      0.92      0.93      1741\n",
      "weighted avg       0.95      0.95      0.95      1741\n",
      "\n",
      "[[1215   30]\n",
      " [  64  432]]\n"
     ]
    }
   ],
   "source": [
    "bpipe = Pipeline([\n",
    "    ('pca', PCA(n_components=0.99)),\n",
    "    ('scaller', MinMaxScaler()), \n",
    "    ('svc', SVC(random_state=0))\n",
    "    ])\n",
    "# evaluate_clf(pipe, X_train, y_train, X_test, y_test)\n",
    "\n",
    "param_grid = {'svc__C': [0.1, 1, 10, 100, 1000, 5000, 10000],\n",
    "              'svc__gamma': [1, 0.1, 0.01, 0.001, 0.0001],\n",
    "              'svc__kernel': ['rbf']}\n",
    "\n",
    "grid_search_pipe(pipe, param_grid, X_train, y_train, X_test, y_test)"
   ]
  },
  {
   "cell_type": "code",
   "execution_count": 18,
   "metadata": {},
   "outputs": [
    {
     "name": "stdout",
     "output_type": "stream",
     "text": [
      "BEFORE GRID SEARHC\n",
      "TRAIN\n",
      "              precision    recall  f1-score   support\n",
      "\n",
      "           0       0.96      1.00      0.98      3718\n",
      "           1       0.99      0.89      0.93      1504\n",
      "\n",
      "    accuracy                           0.96      5222\n",
      "   macro avg       0.97      0.94      0.95      5222\n",
      "weighted avg       0.97      0.96      0.96      5222\n",
      "\n",
      "TEST\n",
      "              precision    recall  f1-score   support\n",
      "\n",
      "           0       0.93      0.99      0.96      1245\n",
      "           1       0.96      0.81      0.88       496\n",
      "\n",
      "    accuracy                           0.94      1741\n",
      "   macro avg       0.94      0.90      0.92      1741\n",
      "weighted avg       0.94      0.94      0.93      1741\n",
      "\n",
      "[[1229   16]\n",
      " [  95  401]]\n",
      "Fitting 5 folds for each of 110 candidates, totalling 550 fits\n",
      "BEST PARAMS: {'svc__C': 1400, 'svc__gamma': 0.1, 'svc__kernel': 'rbf'}\n",
      "BEST ESTIMATOR: Pipeline(steps=[('pca', PCA(n_components=0.99)), ('scaller', MinMaxScaler()),\n",
      "                ('svc', SVC(C=1400, gamma=0.1, random_state=0))])\n",
      "BEFORE GRID SEARCH\n",
      "TRAIN\n",
      "              precision    recall  f1-score   support\n",
      "\n",
      "           0       0.96      0.99      0.98      3718\n",
      "           1       0.97      0.91      0.94      1504\n",
      "\n",
      "    accuracy                           0.96      5222\n",
      "   macro avg       0.97      0.95      0.96      5222\n",
      "weighted avg       0.96      0.96      0.96      5222\n",
      "\n",
      "TEST\n",
      "              precision    recall  f1-score   support\n",
      "\n",
      "           0       0.95      0.97      0.96      1245\n",
      "           1       0.92      0.87      0.90       496\n",
      "\n",
      "    accuracy                           0.94      1741\n",
      "   macro avg       0.94      0.92      0.93      1741\n",
      "weighted avg       0.94      0.94      0.94      1741\n",
      "\n",
      "[[1208   37]\n",
      " [  63  433]]\n"
     ]
    }
   ],
   "source": [
    "pipe = Pipeline([\n",
    "    ('pca', PCA(n_components=0.99)),\n",
    "    ('scaller', MinMaxScaler()), \n",
    "    ('svc', SVC(random_state=0))\n",
    "    ])\n",
    "# evaluate_clf(pipe, X_train, y_train, X_test, y_test)\n",
    "\n",
    "param_grid = {'svc__C': [500, 600, 700, 800, 900, 1000, 1100, 1200, 1300, 1400, 1500],\n",
    "              'svc__gamma': [0.05, 0.06, 0.07, 0.08, 0.09, 0.1, 0.2, 0.3, 0.4, 0.5],\n",
    "              'svc__kernel': ['rbf']}\n",
    "\n",
    "grid_search_pipe(pipe, param_grid, X_train, y_train, X_test, y_test)"
   ]
  },
  {
   "cell_type": "code",
   "execution_count": 27,
   "metadata": {},
   "outputs": [
    {
     "name": "stdout",
     "output_type": "stream",
     "text": [
      "BEFORE GRID SEARHC\n",
      "TRAIN\n",
      "              precision    recall  f1-score   support\n",
      "\n",
      "           0       0.96      1.00      0.98      3718\n",
      "           1       0.99      0.89      0.93      1504\n",
      "\n",
      "    accuracy                           0.96      5222\n",
      "   macro avg       0.97      0.94      0.95      5222\n",
      "weighted avg       0.97      0.96      0.96      5222\n",
      "\n",
      "TEST\n",
      "              precision    recall  f1-score   support\n",
      "\n",
      "           0       0.93      0.99      0.96      1245\n",
      "           1       0.96      0.81      0.88       496\n",
      "\n",
      "    accuracy                           0.94      1741\n",
      "   macro avg       0.94      0.90      0.92      1741\n",
      "weighted avg       0.94      0.94      0.93      1741\n",
      "\n",
      "[[1229   16]\n",
      " [  95  401]]\n",
      "Fitting 5 folds for each of 20 candidates, totalling 100 fits\n",
      "BEST PARAMS: {'svc__C': 1430, 'svc__gamma': 0.1, 'svc__kernel': 'rbf'}\n",
      "BEST ESTIMATOR: Pipeline(steps=[('pca', PCA(n_components=0.99)), ('scaller', MinMaxScaler()),\n",
      "                ('svc', SVC(C=1430, gamma=0.1, random_state=0))])\n",
      "BEFORE GRID SEARCH\n",
      "TRAIN\n",
      "              precision    recall  f1-score   support\n",
      "\n",
      "           0       0.96      0.99      0.98      3718\n",
      "           1       0.97      0.91      0.94      1504\n",
      "\n",
      "    accuracy                           0.96      5222\n",
      "   macro avg       0.97      0.95      0.96      5222\n",
      "weighted avg       0.96      0.96      0.96      5222\n",
      "\n",
      "TEST\n",
      "              precision    recall  f1-score   support\n",
      "\n",
      "           0       0.95      0.97      0.96      1245\n",
      "           1       0.92      0.87      0.90       496\n",
      "\n",
      "    accuracy                           0.94      1741\n",
      "   macro avg       0.94      0.92      0.93      1741\n",
      "weighted avg       0.94      0.94      0.94      1741\n",
      "\n",
      "[[1209   36]\n",
      " [  63  433]]\n"
     ]
    }
   ],
   "source": [
    "pipe = Pipeline([\n",
    "    ('pca', PCA(n_components=0.99)),\n",
    "    ('scaller', MinMaxScaler()), \n",
    "    ('svc', SVC(random_state=0))\n",
    "    ])\n",
    "# evaluate_clf(pipe, X_train, y_train, X_test, y_test)\n",
    "\n",
    "param_grid = {'svc__C': np.arange(1300, 1500, 10),\n",
    "              'svc__gamma': [0.1],\n",
    "              'svc__kernel': ['rbf']}\n",
    "\n",
    "grid_search_pipe(pipe, param_grid, X_train, y_train, X_test, y_test)"
   ]
  },
  {
   "cell_type": "markdown",
   "metadata": {},
   "source": [
    "## SVM No My Code"
   ]
  },
  {
   "cell_type": "code",
   "execution_count": 13,
   "metadata": {},
   "outputs": [
    {
     "name": "stdout",
     "output_type": "stream",
     "text": [
      "TRAIN\n",
      "              precision    recall  f1-score   support\n",
      "\n",
      "           0       0.98      0.99      0.99      3718\n",
      "           1       0.99      0.95      0.97      1504\n",
      "\n",
      "    accuracy                           0.98      5222\n",
      "   macro avg       0.98      0.97      0.98      5222\n",
      "weighted avg       0.98      0.98      0.98      5222\n",
      "\n",
      "TEST\n",
      "              precision    recall  f1-score   support\n",
      "\n",
      "           0       0.95      0.97      0.96      1245\n",
      "           1       0.92      0.87      0.89       496\n",
      "\n",
      "    accuracy                           0.94      1741\n",
      "   macro avg       0.94      0.92      0.93      1741\n",
      "weighted avg       0.94      0.94      0.94      1741\n",
      "\n",
      "[[1210   35]\n",
      " [  66  430]]\n"
     ]
    },
    {
     "data": {
      "text/html": [
       "<style>#sk-container-id-3 {color: black;background-color: white;}#sk-container-id-3 pre{padding: 0;}#sk-container-id-3 div.sk-toggleable {background-color: white;}#sk-container-id-3 label.sk-toggleable__label {cursor: pointer;display: block;width: 100%;margin-bottom: 0;padding: 0.3em;box-sizing: border-box;text-align: center;}#sk-container-id-3 label.sk-toggleable__label-arrow:before {content: \"▸\";float: left;margin-right: 0.25em;color: #696969;}#sk-container-id-3 label.sk-toggleable__label-arrow:hover:before {color: black;}#sk-container-id-3 div.sk-estimator:hover label.sk-toggleable__label-arrow:before {color: black;}#sk-container-id-3 div.sk-toggleable__content {max-height: 0;max-width: 0;overflow: hidden;text-align: left;background-color: #f0f8ff;}#sk-container-id-3 div.sk-toggleable__content pre {margin: 0.2em;color: black;border-radius: 0.25em;background-color: #f0f8ff;}#sk-container-id-3 input.sk-toggleable__control:checked~div.sk-toggleable__content {max-height: 200px;max-width: 100%;overflow: auto;}#sk-container-id-3 input.sk-toggleable__control:checked~label.sk-toggleable__label-arrow:before {content: \"▾\";}#sk-container-id-3 div.sk-estimator input.sk-toggleable__control:checked~label.sk-toggleable__label {background-color: #d4ebff;}#sk-container-id-3 div.sk-label input.sk-toggleable__control:checked~label.sk-toggleable__label {background-color: #d4ebff;}#sk-container-id-3 input.sk-hidden--visually {border: 0;clip: rect(1px 1px 1px 1px);clip: rect(1px, 1px, 1px, 1px);height: 1px;margin: -1px;overflow: hidden;padding: 0;position: absolute;width: 1px;}#sk-container-id-3 div.sk-estimator {font-family: monospace;background-color: #f0f8ff;border: 1px dotted black;border-radius: 0.25em;box-sizing: border-box;margin-bottom: 0.5em;}#sk-container-id-3 div.sk-estimator:hover {background-color: #d4ebff;}#sk-container-id-3 div.sk-parallel-item::after {content: \"\";width: 100%;border-bottom: 1px solid gray;flex-grow: 1;}#sk-container-id-3 div.sk-label:hover label.sk-toggleable__label {background-color: #d4ebff;}#sk-container-id-3 div.sk-serial::before {content: \"\";position: absolute;border-left: 1px solid gray;box-sizing: border-box;top: 0;bottom: 0;left: 50%;z-index: 0;}#sk-container-id-3 div.sk-serial {display: flex;flex-direction: column;align-items: center;background-color: white;padding-right: 0.2em;padding-left: 0.2em;position: relative;}#sk-container-id-3 div.sk-item {position: relative;z-index: 1;}#sk-container-id-3 div.sk-parallel {display: flex;align-items: stretch;justify-content: center;background-color: white;position: relative;}#sk-container-id-3 div.sk-item::before, #sk-container-id-3 div.sk-parallel-item::before {content: \"\";position: absolute;border-left: 1px solid gray;box-sizing: border-box;top: 0;bottom: 0;left: 50%;z-index: -1;}#sk-container-id-3 div.sk-parallel-item {display: flex;flex-direction: column;z-index: 1;position: relative;background-color: white;}#sk-container-id-3 div.sk-parallel-item:first-child::after {align-self: flex-end;width: 50%;}#sk-container-id-3 div.sk-parallel-item:last-child::after {align-self: flex-start;width: 50%;}#sk-container-id-3 div.sk-parallel-item:only-child::after {width: 0;}#sk-container-id-3 div.sk-dashed-wrapped {border: 1px dashed gray;margin: 0 0.4em 0.5em 0.4em;box-sizing: border-box;padding-bottom: 0.4em;background-color: white;}#sk-container-id-3 div.sk-label label {font-family: monospace;font-weight: bold;display: inline-block;line-height: 1.2em;}#sk-container-id-3 div.sk-label-container {text-align: center;}#sk-container-id-3 div.sk-container {/* jupyter's `normalize.less` sets `[hidden] { display: none; }` but bootstrap.min.css set `[hidden] { display: none !important; }` so we also need the `!important` here to be able to override the default hidden behavior on the sphinx rendered scikit-learn.org. See: https://github.com/scikit-learn/scikit-learn/issues/21755 */display: inline-block !important;position: relative;}#sk-container-id-3 div.sk-text-repr-fallback {display: none;}</style><div id=\"sk-container-id-3\" class=\"sk-top-container\"><div class=\"sk-text-repr-fallback\"><pre>Pipeline(steps=[(&#x27;scaller&#x27;, MinMaxScaler()),\n",
       "                (&#x27;poly&#x27;, PolynomialFeatures(interaction_only=True)),\n",
       "                (&#x27;svc&#x27;, SVC(C=10, max_iter=20000))])</pre><b>In a Jupyter environment, please rerun this cell to show the HTML representation or trust the notebook. <br />On GitHub, the HTML representation is unable to render, please try loading this page with nbviewer.org.</b></div><div class=\"sk-container\" hidden><div class=\"sk-item sk-dashed-wrapped\"><div class=\"sk-label-container\"><div class=\"sk-label sk-toggleable\"><input class=\"sk-toggleable__control sk-hidden--visually\" id=\"sk-estimator-id-8\" type=\"checkbox\" ><label for=\"sk-estimator-id-8\" class=\"sk-toggleable__label sk-toggleable__label-arrow\">Pipeline</label><div class=\"sk-toggleable__content\"><pre>Pipeline(steps=[(&#x27;scaller&#x27;, MinMaxScaler()),\n",
       "                (&#x27;poly&#x27;, PolynomialFeatures(interaction_only=True)),\n",
       "                (&#x27;svc&#x27;, SVC(C=10, max_iter=20000))])</pre></div></div></div><div class=\"sk-serial\"><div class=\"sk-item\"><div class=\"sk-estimator sk-toggleable\"><input class=\"sk-toggleable__control sk-hidden--visually\" id=\"sk-estimator-id-9\" type=\"checkbox\" ><label for=\"sk-estimator-id-9\" class=\"sk-toggleable__label sk-toggleable__label-arrow\">MinMaxScaler</label><div class=\"sk-toggleable__content\"><pre>MinMaxScaler()</pre></div></div></div><div class=\"sk-item\"><div class=\"sk-estimator sk-toggleable\"><input class=\"sk-toggleable__control sk-hidden--visually\" id=\"sk-estimator-id-10\" type=\"checkbox\" ><label for=\"sk-estimator-id-10\" class=\"sk-toggleable__label sk-toggleable__label-arrow\">PolynomialFeatures</label><div class=\"sk-toggleable__content\"><pre>PolynomialFeatures(interaction_only=True)</pre></div></div></div><div class=\"sk-item\"><div class=\"sk-estimator sk-toggleable\"><input class=\"sk-toggleable__control sk-hidden--visually\" id=\"sk-estimator-id-11\" type=\"checkbox\" ><label for=\"sk-estimator-id-11\" class=\"sk-toggleable__label sk-toggleable__label-arrow\">SVC</label><div class=\"sk-toggleable__content\"><pre>SVC(C=10, max_iter=20000)</pre></div></div></div></div></div></div></div>"
      ],
      "text/plain": [
       "Pipeline(steps=[('scaller', MinMaxScaler()),\n",
       "                ('poly', PolynomialFeatures(interaction_only=True)),\n",
       "                ('svc', SVC(C=10, max_iter=20000))])"
      ]
     },
     "execution_count": 13,
     "metadata": {},
     "output_type": "execute_result"
    }
   ],
   "source": [
    "pipe = Pipeline([\n",
    "    ('scaller', MinMaxScaler()), \n",
    "    ('poly', PolynomialFeatures(interaction_only=True)),\n",
    "    # ('pca', PCA(n_components=0.99)),\n",
    "    ('svc', SVC(max_iter=20000, C=10))\n",
    "    ])\n",
    "\n",
    "evaluate_clf(pipe, X_train, y_train, X_test, y_test)"
   ]
  },
  {
   "cell_type": "code",
   "execution_count": null,
   "metadata": {},
   "outputs": [],
   "source": []
  }
 ],
 "metadata": {
  "kernelspec": {
   "display_name": "Python 3.9.4 ('data-dz9rrfYH')",
   "language": "python",
   "name": "python3"
  },
  "language_info": {
   "codemirror_mode": {
    "name": "ipython",
    "version": 3
   },
   "file_extension": ".py",
   "mimetype": "text/x-python",
   "name": "python",
   "nbconvert_exporter": "python",
   "pygments_lexer": "ipython3",
   "version": "3.9.4"
  },
  "orig_nbformat": 4,
  "vscode": {
   "interpreter": {
    "hash": "0b7888f99ea6ae389ac75935b86a57fe331e5e59f773d7d532cb933bac24e6a7"
   }
  }
 },
 "nbformat": 4,
 "nbformat_minor": 2
}
