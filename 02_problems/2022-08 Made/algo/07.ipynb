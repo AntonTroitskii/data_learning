{
 "cells": [
  {
   "cell_type": "code",
   "execution_count": 27,
   "metadata": {},
   "outputs": [
    {
     "name": "stdout",
     "output_type": "stream",
     "text": [
      "dict_values([0, 1, 2, 2])\n",
      "5\n"
     ]
    }
   ],
   "source": [
    "from cgitb import grey\n",
    "\n",
    "WHITE = 'white'\n",
    "GREY = 'grey'\n",
    "BLACK = 'black'\n",
    "PINK = 'pink'\n",
    "\n",
    "dc = {}\n",
    "dv = {}\n",
    "\n",
    "def dfs(g: dict):\n",
    "    global dc, dv\n",
    "    for key in g.keys():\n",
    "        dc[key] = WHITE\n",
    "        dv[key] = 0\n",
    "\n",
    "    q = []\n",
    "    s = list(g.keys())[0]\n",
    "    q.append(s)\n",
    "    while(len(q) != 0):\n",
    "        u = q.pop()\n",
    "        dfs_visit(g, u)\n",
    "        q.extend(list(g[u]))\n",
    "\n",
    "\n",
    "def dfs_visit(g, u):\n",
    "        global dc, dv\n",
    "        dc[u] = GREY\n",
    "        for v in g[u]:\n",
    "            if dc[v] == WHITE:\n",
    "                dfs_visit(g, v)\n",
    "            if dc[v] == GREY:\n",
    "                dv[v] += 1\n",
    "\n",
    "\n",
    "def graph01():\n",
    "    list_input = [int(i) for i in input().split()]\n",
    "    n = list_input[0]\n",
    "    m = list_input[1]\n",
    "\n",
    "    global d, w\n",
    "    graph = {}\n",
    "    for i in range(1, n+1):\n",
    "        graph[i] = set()\n",
    "        dc[i]\n",
    "\n",
    "    for i in range(m):\n",
    "        list_input = [int(i) for i in input().split()]\n",
    "        begin = list_input[0]\n",
    "        end = list_input[1]\n",
    "        graph[begin].add(end)\n",
    "    \n",
    "graph = {1: {2, 4}, 2: {3}, 3: set(), 4: set()}\n",
    "graph = {1: set(), 2: set(), 3: set(), 4: set()}\n",
    "# graph = {1: {2}, 2: set(), 3: {4}, 4: set()}\n",
    "graph = {1: {2}, 2: {3}, 3: {4}, 4: set()}\n",
    "\n",
    "\n",
    "\n",
    "\n",
    "dfs(graph)\n",
    "print(dv.values())\n",
    "print(sum(dv.values()))\n",
    "# print(graph01())"
   ]
  },
  {
   "cell_type": "code",
   "execution_count": 4,
   "metadata": {},
   "outputs": [],
   "source": [
    "graph = {1: {2, 4}, 2: {3}, 3: set(), 4: set()}\n"
   ]
  },
  {
   "cell_type": "code",
   "execution_count": 14,
   "metadata": {},
   "outputs": [
    {
     "name": "stdout",
     "output_type": "stream",
     "text": [
      "1\n"
     ]
    }
   ],
   "source": [
    "list_1 =[1]\n",
    "if list_1:\n",
    "    print(1)\n",
    "else:\n",
    "    print(0)"
   ]
  },
  {
   "cell_type": "code",
   "execution_count": 19,
   "metadata": {},
   "outputs": [
    {
     "name": "stdout",
     "output_type": "stream",
     "text": [
      "1\n",
      "2\n",
      "3\n",
      "4\n"
     ]
    }
   ],
   "source": [
    "graph = {1: {2, 4}, 2: {3}, 3: set(), 4: set()}\n",
    "\n",
    "gkeys = list(graph.keys())\n",
    "\n",
    "while(gkeys):\n",
    "    print(gkeys.pop(0))"
   ]
  },
  {
   "cell_type": "code",
   "execution_count": null,
   "metadata": {},
   "outputs": [],
   "source": []
  }
 ],
 "metadata": {
  "kernelspec": {
   "display_name": "Python 3.9.4 ('data-dz9rrfYH')",
   "language": "python",
   "name": "python3"
  },
  "language_info": {
   "codemirror_mode": {
    "name": "ipython",
    "version": 3
   },
   "file_extension": ".py",
   "mimetype": "text/x-python",
   "name": "python",
   "nbconvert_exporter": "python",
   "pygments_lexer": "ipython3",
   "version": "3.9.4"
  },
  "orig_nbformat": 4,
  "vscode": {
   "interpreter": {
    "hash": "0b7888f99ea6ae389ac75935b86a57fe331e5e59f773d7d532cb933bac24e6a7"
   }
  }
 },
 "nbformat": 4,
 "nbformat_minor": 2
}
