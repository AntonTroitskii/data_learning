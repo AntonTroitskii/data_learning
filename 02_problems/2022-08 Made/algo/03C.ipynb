{
 "cells": [
  {
   "cell_type": "markdown",
   "metadata": {},
   "source": [
    "# Число сочетаний\n",
    "Всего тестов: 21Кол-во баллов: 21\n",
    "Условия\n",
    "Имя входного файла: стандартный ввод\n",
    "Имя выходного файла: стандартный вывод\n",
    "Ограничение по времени: 1 секунда\n",
    "Ограничение по памяти: 256 мегабайт\n",
    "\n",
    "Числом сочетаний из n элементов по k называется количество способов из n объектов выбрать некоторые k.\n",
    "Принятое обозначение для числа сочетаний — Ckn .\n",
    "\n",
    "Вам даны m различных чисел, требуется выбрать из них два числа x и y (x⩾y), такие что Cyx — максимально.\n",
    "При этом, если подходящих пар несколько, нужно вывести наибольшую из них.\n",
    "Пара (x0, y0) больше пары (x1, y1), если x0 > x1 или x0 = x1 и y0 > y1.\n",
    "\n",
    "## Замечание\n",
    "В первом тесте возможны три пары (0, 0), (1, 0), (1, 1), при этом C00 = C01 = C11 = 1, поэтому ответ будет (1, 1).\n",
    "Во втором тесте наибольшее возможное число сочетаний C12 = 2.\n",
    "Формат входных данных\n",
    "В первой строке входных данных дано число m — количество данных чисел (1⩽m⩽105 ).\n",
    "Во второй строке дано m различных чисел ai — числа, из которых нужно выбрать пару чисел x и y (0⩽ai⩽109).\n",
    "Формат выходных данных\n",
    "Выведите два числа, разделенные пробелом — максимальную пару (x, y), такую что Cyx — максимально.\n",
    "\n",
    "## Примеры\n",
    "Входные данные:\n",
    "2\n",
    "0 1\n",
    "Выходные данные:\n",
    "1 1\n",
    "\n",
    "Входные данные:\n",
    "3\n",
    "0 2 1\n",
    "Выходные данные:\n",
    "2 1"
   ]
  },
  {
   "cell_type": "code",
   "execution_count": 37,
   "metadata": {},
   "outputs": [
    {
     "name": "stdout",
     "output_type": "stream",
     "text": [
      "2 1\n"
     ]
    }
   ],
   "source": [
    "def func1(l: list):\n",
    "\n",
    "    maxa = max(l)\n",
    "    res = {}\n",
    "    if maxa % 2 == 0:\n",
    "        d = maxa // 2\n",
    "        for i in l:\n",
    "            res[int(abs(d-i))] = i\n",
    "    else:\n",
    "        d = maxa // 2 + 1\n",
    "        for i in l:\n",
    "            res[int(abs(d-i))] = i\n",
    "\n",
    "    return sorted(res.items())[0][1]    \n",
    "\n",
    "def comb():\n",
    "    str_input = input()\n",
    "    list_input = [int(i) for i in str_input.split()]\n",
    "    m = list_input[0]\n",
    "\n",
    "    str_input = input()\n",
    "    a = [int(i) for i in str_input.split()]\n",
    "    a.sort()\n",
    "    maxa = a[-1]\n",
    "\n",
    "    return maxa, func1(a)\n",
    "\n",
    "        \n",
    "a, b = comb()\n",
    "\n",
    "print(a, b)"
   ]
  },
  {
   "cell_type": "code",
   "execution_count": 35,
   "metadata": {},
   "outputs": [
    {
     "data": {
      "text/plain": [
       "(5, [1, 2, 3, 6, 9], [(1, 6), (2, 3), (3, 2), (4, 9)], 6)"
      ]
     },
     "execution_count": 35,
     "metadata": {},
     "output_type": "execute_result"
    }
   ],
   "source": [
    "\n",
    "\n",
    "d, list1, sorted(res.items()), sorted(res.items())[0][1]\n",
    "\n",
    "\n"
   ]
  },
  {
   "cell_type": "code",
   "execution_count": 26,
   "metadata": {},
   "outputs": [
    {
     "name": "stdout",
     "output_type": "stream",
     "text": [
      "0 1\n",
      "1 9\n",
      "2 36\n",
      "3 84\n",
      "4 126\n",
      "5 126\n",
      "6 84\n",
      "7 36\n",
      "8 9\n"
     ]
    }
   ],
   "source": [
    "from math import comb\n",
    "\n",
    "n = 9\n",
    "for i in range(n):\n",
    "    print(i, comb(n, i))"
   ]
  },
  {
   "cell_type": "code",
   "execution_count": 15,
   "metadata": {},
   "outputs": [
    {
     "data": {
      "text/plain": [
       "([5], [1, 2, 3, 4, 5, 6, 7, 8, 9])"
      ]
     },
     "execution_count": 15,
     "metadata": {},
     "output_type": "execute_result"
    }
   ],
   "source": []
  },
  {
   "cell_type": "code",
   "execution_count": 10,
   "metadata": {},
   "outputs": [
    {
     "data": {
      "text/plain": [
       "5"
      ]
     },
     "execution_count": 10,
     "metadata": {},
     "output_type": "execute_result"
    }
   ],
   "source": [
    "a = [3, 1, 5]\n",
    "a.sort()\n",
    "a[-1]"
   ]
  },
  {
   "cell_type": "code",
   "execution_count": 5,
   "metadata": {},
   "outputs": [
    {
     "data": {
      "text/plain": [
       "[1, 2, 3, 4, 5, 6, 7, 8, 9, 10]"
      ]
     },
     "execution_count": 5,
     "metadata": {},
     "output_type": "execute_result"
    }
   ],
   "source": []
  },
  {
   "cell_type": "code",
   "execution_count": null,
   "metadata": {},
   "outputs": [],
   "source": []
  },
  {
   "cell_type": "markdown",
   "metadata": {},
   "source": []
  }
 ],
 "metadata": {
  "kernelspec": {
   "display_name": "Python 3.9.4 ('data-dz9rrfYH')",
   "language": "python",
   "name": "python3"
  },
  "language_info": {
   "codemirror_mode": {
    "name": "ipython",
    "version": 3
   },
   "file_extension": ".py",
   "mimetype": "text/x-python",
   "name": "python",
   "nbconvert_exporter": "python",
   "pygments_lexer": "ipython3",
   "version": "3.9.4"
  },
  "orig_nbformat": 4,
  "vscode": {
   "interpreter": {
    "hash": "0b7888f99ea6ae389ac75935b86a57fe331e5e59f773d7d532cb933bac24e6a7"
   }
  }
 },
 "nbformat": 4,
 "nbformat_minor": 2
}
