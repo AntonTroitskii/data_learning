{
 "cells": [
  {
   "cell_type": "markdown",
   "metadata": {},
   "source": [
    "Условия\n",
    "Имя входного файла: стандартный ввод\n",
    "Имя выходного файла: стандартный вывод\n",
    "Ограничение по времени: 1 секунда\n",
    "Ограничение по памяти: 256 мегабайт\n",
    "\n",
    "k-й порядковой статистикой массива называется такой его элемент, который является\n",
    "k-м элементом массива в отсортированном порядке.\n",
    "Функция multiple_push_back(a, c, x) добавляет в массив a в конец c копий элемента x.\n",
    "\n",
    "Например, если массив a = [1, 2, 3, 4], то после применения функции multiple_push_back(a, 3, 7) массив a станет [1, 2, 3, 4, 7, 7, 7].\n",
    "\n",
    "Вам дан массив из n целых чисел, к которому m раз применяют функцию multiple_push_back.\n",
    "\n",
    "Требуется найти k-ю порядковую статистику в итоговом массиве. Элементы массива индексируются с единицы.\n",
    "\n",
    "## Формат входных данных\n",
    "\n",
    "В первой строке входных данных содержатся три целых числа n, m и k — исходный размер массива, число применений функции multiple_push_back и индекс искомой порядковой статистики, соответственно (1⩽n, m⩽105, 1⩽k⩽2·1010).\n",
    "\n",
    "Во второй строке даны n чисел ai — исходные элементы массива (1⩽ai⩽105).\n",
    "\n",
    "В следующих m строках даны пары чисел ci , xi — аргументы для i-го применения функции multiple_push_back (1⩽ci, xi⩽105).\n",
    "\n",
    "Гарантируется, что в итоговом массиве хотя бы k элементов, то есть k⩽n + c1 + c2 + · · · + cm.\n",
    "\n",
    "## Формат выходных данных\n",
    "Выведите одно число — k-ю порядковую статистику в итоговом массиве.\n",
    "\n",
    "## Примеры\n",
    "Входные данные:\n",
    "\n",
    "4 1 3\n",
    "\n",
    "1 2 3 4\n",
    "\n",
    "3 7\n",
    "\n",
    "Выходные данные:\n",
    "3\n",
    "\n",
    "Входные данные:\n",
    "4 1 6\n",
    "\n",
    "1 2 3 4\n",
    "\n",
    "3 7\n",
    "\n",
    "Выходные данные:\n",
    "7\n",
    "\n",
    "Входные данные:\n",
    "\n",
    "1 3 40\n",
    "\n",
    "7\n",
    "\n",
    "10 1\n",
    "\n",
    "20 3\n",
    "\n",
    "30 2\n",
    "\n",
    "Выходные данные:\n",
    "2\n"
   ]
  },
  {
   "cell_type": "code",
   "execution_count": 3,
   "metadata": {},
   "outputs": [
    {
     "name": "stdout",
     "output_type": "stream",
     "text": [
      "2\n"
     ]
    }
   ],
   "source": [
    "def add_elem(data:dict, elem):\n",
    "    if elem in data:\n",
    "        data[elem] += 1\n",
    "    else:\n",
    "      data[elem] = 1\n",
    "\n",
    "def push_bask(data:dict, n, m):\n",
    "    if m in data:\n",
    "        data[m] += n\n",
    "    else:\n",
    "      data[m] = n\n",
    "\n",
    "def k_stat2():\n",
    "    str_input = input()\n",
    "    list_input = [int(i) for i in str_input.split()]\n",
    "    \n",
    "    len_a = list_input[0]\n",
    "    m = list_input[1]\n",
    "    k = list_input[2]\n",
    "\n",
    "    str_input = input()\n",
    "    list_input = [int(i) for i in str_input.split()]\n",
    "    dict_data = {}\n",
    "    for i in list_input:\n",
    "        add_elem(dict_data, i)\n",
    "    # dict_data = {i:list_input.count(i) for i in set(list_input)}\n",
    "\n",
    "    for i in range(m):\n",
    "        str_input = input()\n",
    "        list_input = [int(i) for i in str_input.split()]\n",
    "        push_bask(dict_data, list_input[0], list_input[1])\n",
    "\n",
    "    sum = 0\n",
    "    for i, j in sorted(dict_data.items()):\n",
    "        sum += j\n",
    "        if sum >= k:\n",
    "            return i\n",
    "\n",
    "print(k_stat2())"
   ]
  },
  {
   "cell_type": "code",
   "execution_count": 14,
   "metadata": {},
   "outputs": [
    {
     "name": "stdout",
     "output_type": "stream",
     "text": [
      "10\n"
     ]
    }
   ],
   "source": [
    "list1 = [1, 2, 3, 4]\n",
    "list2 = [7, 3]\n",
    "list3 = [10, 5]\n",
    "operations = [list2, list3]\n",
    "dict_data = {i: list1.count(i) for i in set(list1)}\n",
    "for i in operations:\n",
    "    if i[0] in dict_data:\n",
    "        dict_data[i[0]] += i[1]\n",
    "    else:\n",
    "      dict_data[i[0]] = i[1]\n",
    "\n",
    "\n",
    "k = 10\n",
    "sum = 0\n",
    "\n",
    "for i, j in dict_data.items():\n",
    "    sum += j\n",
    "    if sum >= k:\n",
    "        print(i)\n",
    "        break"
   ]
  },
  {
   "cell_type": "code",
   "execution_count": 15,
   "metadata": {},
   "outputs": [
    {
     "data": {
      "text/plain": [
       "dict_items([(1, 1), (2, 1), (3, 1), (4, 1), (7, 3), (10, 5)])"
      ]
     },
     "execution_count": 15,
     "metadata": {},
     "output_type": "execute_result"
    }
   ],
   "source": [
    "dict_data.items()"
   ]
  },
  {
   "cell_type": "markdown",
   "metadata": {},
   "source": []
  }
 ],
 "metadata": {
  "kernelspec": {
   "display_name": "Python 3.9.4 ('data-dz9rrfYH')",
   "language": "python",
   "name": "python3"
  },
  "language_info": {
   "codemirror_mode": {
    "name": "ipython",
    "version": 3
   },
   "file_extension": ".py",
   "mimetype": "text/x-python",
   "name": "python",
   "nbconvert_exporter": "python",
   "pygments_lexer": "ipython3",
   "version": "3.9.4"
  },
  "orig_nbformat": 4,
  "vscode": {
   "interpreter": {
    "hash": "0b7888f99ea6ae389ac75935b86a57fe331e5e59f773d7d532cb933bac24e6a7"
   }
  }
 },
 "nbformat": 4,
 "nbformat_minor": 2
}
