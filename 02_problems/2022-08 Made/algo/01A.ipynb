{
 "cells": [
  {
   "cell_type": "markdown",
   "metadata": {},
   "source": [
    "Условия\n",
    "Имя входного файла: стандартный ввод\n",
    "Имя выходного файла: стандартный вывод\n",
    "Ограничение по времени: 1 секунда\n",
    "Ограничение по памяти: 256 мегабайт\n",
    "\n",
    "k-й порядковой статистикой массива называется такой его элемент, который является\n",
    "k-м элементом массива в отсортированном порядке.\n",
    "Функция multiple_push_back(a, c, x) добавляет в массив a в конец c копий элемента x.\n",
    "\n",
    "Например, если массив a = [1, 2, 3, 4], то после применения функции multiple_push_back(a, 3, 7) массив a станет [1, 2, 3, 4, 7, 7, 7].\n",
    "\n",
    "Вам дан массив из n целых чисел, к которому m раз применяют функцию multiple_push_back.\n",
    "\n",
    "Требуется найти k-ю порядковую статистику в итоговом массиве. Элементы массива индексируются с единицы.\n",
    "\n",
    "## Формат входных данных\n",
    "В первой строке входных данных содержатся три целых числа \n",
    "n, m и k — \n",
    "исходный размер массива, \n",
    "число применений функции multiple_push_back и \n",
    "индекс искомой порядковой статистики, соответственно (1⩽n, m⩽100, 1⩽k⩽2·104).\n",
    "\n",
    "Во второй строке даны n чисел ai — исходные элементы массива (1⩽ai⩽100).\n",
    "\n",
    "В следующих m строках даны пары чисел ci , xi — аргументы для i-го применения функции multiple_push_back (1⩽ci , xi⩽100).\n",
    "\n",
    "Гарантируется, что в итоговом массиве хотя бы k элементов, то есть k⩽n + c1 + c2 + · · · + cm.\n",
    "Формат выходных данных\n",
    "Выведите одно число — k-ю порядковую статистику в итоговом массиве.\n",
    "\n",
    "## Примеры\n",
    "Входные данные:\n",
    "\n",
    "4 1 3\n",
    "\n",
    "1 2 3 4\n",
    "\n",
    "3 7\n",
    "\n",
    "Выходные данные:\n",
    "3\n",
    "\n",
    "Входные данные:\n",
    "4 1 6\n",
    "\n",
    "1 2 3 4\n",
    "\n",
    "3 7\n",
    "\n",
    "Выходные данные:\n",
    "7\n",
    "\n",
    "Входные данные:\n",
    "\n",
    "1 3 40\n",
    "\n",
    "7\n",
    "\n",
    "10 1\n",
    "\n",
    "20 3\n",
    "\n",
    "30 2\n",
    "\n",
    "Выходные данные:\n",
    "2\n"
   ]
  },
  {
   "cell_type": "code",
   "execution_count": 9,
   "metadata": {},
   "outputs": [
    {
     "name": "stdout",
     "output_type": "stream",
     "text": [
      "7\n"
     ]
    }
   ],
   "source": [
    "def multiple_push_back(a: list, n, m):\n",
    "\n",
    "    l = [m] * n\n",
    "    a.extend(l)\n",
    "    return a\n",
    "\n",
    "\n",
    "def k_stat():\n",
    "    str_input = input()\n",
    "    list_input = [int(i) for i in str_input.split()]\n",
    "    len_a = list_input[0]\n",
    "    m = list_input[1]\n",
    "    k = list_input[2]\n",
    "\n",
    "    str_input = input()\n",
    "    list_input = [int(i) for i in str_input.split()]\n",
    "    a = list_input[0:len_a]\n",
    "\n",
    "    for i in range(m):\n",
    "        str_input = input()\n",
    "        list_input = [int(i) for i in str_input.split()]\n",
    "        a = multiple_push_back(a, list_input[0], list_input[1])\n",
    "\n",
    "    a.sort()\n",
    "\n",
    "    return a[k - 1]\n",
    "\n",
    "\n",
    "print(k_stat())"
   ]
  },
  {
   "cell_type": "code",
   "execution_count": 2,
   "metadata": {},
   "outputs": [
    {
     "data": {
      "text/plain": [
       "[1, 2, 3, 4, 7, 7, 7]"
      ]
     },
     "execution_count": 2,
     "metadata": {},
     "output_type": "execute_result"
    }
   ],
   "source": [
    "list1 = [1, 2, 3, 4]\n",
    "list2 = [7, 7, 7]\n",
    "\n",
    "list1.extend(list2)\n",
    "list1\n",
    "\n"
   ]
  },
  {
   "cell_type": "code",
   "execution_count": 1,
   "metadata": {},
   "outputs": [
    {
     "data": {
      "text/plain": [
       "str"
      ]
     },
     "execution_count": 1,
     "metadata": {},
     "output_type": "execute_result"
    }
   ],
   "source": [
    "str_input = input()\n",
    "type(str_input)\n",
    "# input = [int(i) for i in str_input.split()]\n"
   ]
  },
  {
   "cell_type": "markdown",
   "metadata": {},
   "source": []
  }
 ],
 "metadata": {
  "kernelspec": {
   "display_name": "Python 3.9.4 ('data-dz9rrfYH')",
   "language": "python",
   "name": "python3"
  },
  "language_info": {
   "codemirror_mode": {
    "name": "ipython",
    "version": 3
   },
   "file_extension": ".py",
   "mimetype": "text/x-python",
   "name": "python",
   "nbconvert_exporter": "python",
   "pygments_lexer": "ipython3",
   "version": "3.9.4"
  },
  "orig_nbformat": 4,
  "vscode": {
   "interpreter": {
    "hash": "0b7888f99ea6ae389ac75935b86a57fe331e5e59f773d7d532cb933bac24e6a7"
   }
  }
 },
 "nbformat": 4,
 "nbformat_minor": 2
}
