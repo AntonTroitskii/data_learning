{
 "cells": [
  {
   "cell_type": "markdown",
   "metadata": {},
   "source": [
    "# C. Большая семья бабушки Алевтины\n",
    "\n",
    "Ограничение времени\t2 секунды\n",
    "Ограничение памяти\t256Mb\n",
    "Ввод\tстандартный ввод или input.txt\n",
    "Вывод\tстандартный вывод или output.txt\n",
    "\n",
    "У бабушки Алевтины очень большая семья, которая живёт в разных городах. Раньше все члены семьи собирались дома у бабушки Алевтины, но в 2020 году было решено, что созваниваться по видеосвязи будет безопаснее для всех.\n",
    "У каждого домохозяйства есть некоторое количество комнат с устройствами, при помощи которых можно организовать видео-конференцию на несколько членов семей из других городов. Комнаты пользуются большим спросом, так как некоторые члены семьи работают на удалёнке и должны встречаться с коллегами по рабочим встречам, поэтому в расписании есть уже занятые слоты. Также все родственники хотят поделиться новостями друг с другом, поэтому у всей семьи есть расписание звонков, чтобы каждый участник мог пообщаться в нужное время.\n",
    "\n",
    "Вам дана информация о доступности комнат во всех домохозяйствах на день встречи членов семей, а также  m запросов на проведение часовой встречи для родственников из разных городов. Для каждого запроса требуется определить набор подходящих временных слотов (в каждом городе надо выбрать ровно одну комнату, и все эти комнаты должны быть свободны в какой-то час), или сообщить, что подходящего набора нет.\n",
    "Обратите внимание, запросы независимы друг от друга, то есть, ответ на очередной запрос не влияет на занятость комнат.\n",
    "\n",
    "## Формат ввода\n",
    "\n",
    "В первой строке ввода записано число c (2≤c≤16) — количество домохозяйств.\n",
    "\n",
    "Далее следуют c блоков с описанием домохозяйств. В первой строке каждого блока записано название города, где расположена часть семьи, и количество комнат в нём ni (1≤ni≤100). Далее следуют ni строк, в каждой из которых дано расписание бронирования комнаты tij его название sij. Расписание tij редставляет собой строку ровно из 24 символов, k-й символ которой равен ‘X’, если в k-й час суток комната недоступна для бронирования, или ‘.’, если доступна.\n",
    "\n",
    "В следующей строке записано число m (1≤m≤1000) — количество запросов. В каждой из следующих m строк сначала записано число l (2≤l≤c) — количество городов, в которых должно быть забронировано по одной комнате, а далее записаны l названий городов. Названия городов разделены одиночными пробелами.\n",
    "Названия никаких двух комнат не совпадают. Названия никаких двух городов также не совпадают. Названия комнат и городов представляют собой непустые строки, состоящие из букв английского алфавита длиной не более 10 символов.\n",
    "\n",
    "## \n",
    "Формат вывода\n",
    "Для каждого из m запросов в отдельной строке выведите сообщение «Yes» (без кавычек) и названия комнаты, в которой можно организовать встречу, или выведите сообщение «No» (без кавычек), если подходящую комнату найти невозможно.\n",
    "Комнаты в каждом ответе можно выводить в любом порядке. Если возможных ответов на запрос несколько, разрешается вывести любой подходящий.\n",
    "\n",
    "https://contest.yandex.ru/contest/28413/problems/C/"
   ]
  },
  {
   "cell_type": "code",
   "execution_count": 1,
   "metadata": {},
   "outputs": [],
   "source": [
    "import itertools\n",
    "\n",
    "INPUT1 = \"\"\"3\n",
    "Moscow 2\n",
    "XXXXXXXX.X.X.X.X.X.XXXXX Kvartal\n",
    "XXXXXXXXX.X.X.X.X.X.XXXX Kvartet\n",
    "Minsk 1\n",
    "XX.XXXXX........XXXXXXXX Toloka\n",
    "Berlin 2\n",
    "XX..XXXXXXXXXXXXXXXXXXXX Mitte\n",
    "XXXXXXXXXXXXXXXX.....XXX Lustgarten\n",
    "4\n",
    "3 Moscow Minsk Berlin\n",
    "2 Moscow Minsk\n",
    "2 Minsk Berlin\n",
    "2 Moscow Berlin\"\"\"\n",
    "\n",
    "INPUT2= \"\"\"3\n",
    "Moscow 1\n",
    "XXXXXXXX...........XXXXX Kvartal\n",
    "Minsk 1\n",
    "XXXXXXX...........XXXXXX Toloka\n",
    "Berlin 1\n",
    "XXXXXX...........XXXXXXX Mitte\n",
    "1\n",
    "3 Moscow Minsk Berlin\"\"\""
   ]
  },
  {
   "cell_type": "code",
   "execution_count": 2,
   "metadata": {},
   "outputs": [
    {
     "ename": "FileNotFoundError",
     "evalue": "[Errno 2] No such file or directory: 'input.txt'",
     "output_type": "error",
     "traceback": [
      "\u001b[1;31m---------------------------------------------------------------------------\u001b[0m",
      "\u001b[1;31mFileNotFoundError\u001b[0m                         Traceback (most recent call last)",
      "\u001b[1;32m~\\AppData\\Local\\Temp/ipykernel_4640/16338810.py\u001b[0m in \u001b[0;36m<module>\u001b[1;34m\u001b[0m\n\u001b[0;32m     53\u001b[0m \u001b[1;33m\u001b[0m\u001b[0m\n\u001b[0;32m     54\u001b[0m \u001b[0mi\u001b[0m \u001b[1;33m=\u001b[0m \u001b[1;36m0\u001b[0m\u001b[1;33m\u001b[0m\u001b[1;33m\u001b[0m\u001b[0m\n\u001b[1;32m---> 55\u001b[1;33m \u001b[0mf\u001b[0m \u001b[1;33m=\u001b[0m \u001b[0mopen\u001b[0m\u001b[1;33m(\u001b[0m\u001b[0minput_file_name\u001b[0m\u001b[1;33m,\u001b[0m \u001b[1;34m'r'\u001b[0m\u001b[1;33m)\u001b[0m\u001b[1;33m\u001b[0m\u001b[1;33m\u001b[0m\u001b[0m\n\u001b[0m\u001b[0;32m     56\u001b[0m \u001b[0mc\u001b[0m \u001b[1;33m=\u001b[0m \u001b[0mint\u001b[0m\u001b[1;33m(\u001b[0m\u001b[0mf\u001b[0m\u001b[1;33m.\u001b[0m\u001b[0mreadline\u001b[0m\u001b[1;33m(\u001b[0m\u001b[1;33m)\u001b[0m\u001b[1;33m)\u001b[0m \u001b[1;31m# num cities\u001b[0m\u001b[1;33m\u001b[0m\u001b[1;33m\u001b[0m\u001b[0m\n\u001b[0;32m     57\u001b[0m \u001b[1;33m\u001b[0m\u001b[0m\n",
      "\u001b[1;31mFileNotFoundError\u001b[0m: [Errno 2] No such file or directory: 'input.txt'"
     ]
    }
   ],
   "source": [
    "# Вариант с предварительной обработкой\n",
    "# loaded to server\n",
    "\n",
    "import itertools\n",
    "\n",
    "def get_simple_res(cities, data_cities_hours):\n",
    "    list_set_hours = [data_cities_hours[city] for city in cities]\n",
    "    res = set.intersection(*list_set_hours)\n",
    "    return bool(res)\n",
    "\n",
    "def get_res(cities, data_cities_hours, data_cities_rooms, data_hours_rooms):\n",
    "    \n",
    "    if get_simple_res(cities, data_cities_hours):\n",
    "\n",
    "        list_cities_res = []\n",
    "        set_rooms = set()\n",
    "        data_hours_room_in = {} \n",
    "    \n",
    "        for city in cities:\n",
    "            set_rooms = set_rooms.union(data_cities_rooms[city])\n",
    "\n",
    "        for hour in data_hours_rooms.keys():\n",
    "            data_hours_room_in[hour] = data_hours_rooms[hour].intersection(set_rooms)\n",
    "\n",
    "        for hour in data_hours_room_in.keys():\n",
    "            res = [data_hours_room_in[hour].intersection(data_cities_rooms[city]) for city in cities ]\n",
    "            if all(res):\n",
    "                break        \n",
    "\n",
    "        for ri in res:\n",
    "            list_cities_res.append(list(ri)[0])\n",
    "        str_res = \"Yes\"\n",
    "        # print(true_index) # debugging\n",
    "        for i in list_cities_res:\n",
    "            str_res += \" \" + i\n",
    "    else:\n",
    "        str_res = \"No\"\n",
    "\n",
    "    return str_res\n",
    "\n",
    "def get_hour_set(str):\n",
    "    hour_set = set()\n",
    "    for i, j in  enumerate(list(str)):\n",
    "        if j == '.':\n",
    "            hour_set.add(i)\n",
    "    return hour_set\n",
    "\n",
    "input_file_name = 'input.txt'\n",
    "\n",
    "data_cities_hours = {} # dict[cities] = set(hours((union))) \n",
    "data_cities_rooms = {} # dcit[cities] = set(rooms)\n",
    "data_hours_rooms = {} # dict[hour] = list(rooms) (set(rooms))\n",
    "\n",
    "i = 0\n",
    "f = open(input_file_name, 'r')\n",
    "c = int(f.readline()) # num cities\n",
    "\n",
    "for j in range(0, c):\n",
    "    read_list = f.readline().split()\n",
    "    city_name = read_list[0]\n",
    "    room_num = int(read_list[1])\n",
    "    \n",
    "    set_rooms = set()\n",
    "    set_hours = set()\n",
    "\n",
    "    for rn in range(room_num):\n",
    "        read_list = f.readline().split()\n",
    "        room_hours = read_list[0]\n",
    "        room_name = read_list[1]\n",
    "\n",
    "        hours = get_hour_set(room_hours)\n",
    "        \n",
    "        for i in list(hours):\n",
    "            if i in data_hours_rooms.keys():\n",
    "               data_hours_rooms[i].add(room_name)\n",
    "            else:\n",
    "                data_hours_rooms[i] = set()\n",
    "                data_hours_rooms[i].add(room_name) \n",
    "        \n",
    "        set_hours = set_hours.union(hours)\n",
    "        set_rooms.add(room_name)\n",
    "\n",
    "    data_cities_hours[city_name] = set_hours\n",
    "    data_cities_rooms[city_name] = set_rooms\n",
    "\n",
    "\n",
    "m = int(f.readline()) # num request\n",
    "\n",
    "for j in range(m):\n",
    "    read_list = f.readline().split()\n",
    "    cities_num = int(read_list[0])\n",
    "    cities = read_list[1:cities_num + 1]\n",
    "    print(get_res(cities, data_cities_hours, data_cities_rooms, data_hours_rooms))\n",
    "\n",
    "f.close()"
   ]
  },
  {
   "cell_type": "code",
   "execution_count": null,
   "metadata": {},
   "outputs": [
    {
     "data": {
      "text/plain": [
       "'XXXXXXXXXXXXXXXXXXXXXXXX'"
      ]
     },
     "execution_count": 40,
     "metadata": {},
     "output_type": "execute_result"
    }
   ],
   "source": [
    "str1 = 'X' * 24\n",
    "str1"
   ]
  },
  {
   "cell_type": "code",
   "execution_count": null,
   "metadata": {},
   "outputs": [
    {
     "data": {
      "text/plain": [
       "[('foo', True, True),\n",
       " ('foo', True, False),\n",
       " ('foo', False, True),\n",
       " ('foo', False, False),\n",
       " ('melon', True, True),\n",
       " ('melon', True, False),\n",
       " ('melon', False, True),\n",
       " ('melon', False, False),\n",
       " ('test', True, True),\n",
       " ('test', True, False),\n",
       " ('test', False, True),\n",
       " ('test', False, False)]"
      ]
     },
     "execution_count": 89,
     "metadata": {},
     "output_type": "execute_result"
    }
   ],
   "source": [
    "# key mometn which helps me\n",
    "\n",
    "a = [\"foo\", \"melon\", 'test']\n",
    "b = [True, False]\n",
    "d = [True, False]\n",
    "k = [a, b, d]\n",
    "c = list(itertools.product(*k))\n",
    "# c = list(itertools.product(c, d))\n",
    "c\n"
   ]
  },
  {
   "cell_type": "code",
   "execution_count": null,
   "metadata": {},
   "outputs": [
    {
     "data": {
      "text/plain": [
       "(True, 1)"
      ]
     },
     "execution_count": 27,
     "metadata": {},
     "output_type": "execute_result"
    }
   ],
   "source": [
    "c1 = {}\n",
    "c2 = {'1'}\n",
    "c3 = {}\n",
    "\n",
    "sets_list = [c1, c2, c3]\n",
    "any(sets_list), [i for i, x in enumerate(sets_list) if x][0]"
   ]
  },
  {
   "cell_type": "code",
   "execution_count": null,
   "metadata": {},
   "outputs": [
    {
     "data": {
      "text/plain": [
       "192576"
      ]
     },
     "execution_count": 32,
     "metadata": {},
     "output_type": "execute_result"
    }
   ],
   "source": [
    "hour = 'XXX...XXX...XXX...XXX...'\n",
    "\n",
    "data = {}\n",
    "for c in range(16):\n",
    "    city_name = 'City' + str(c)\n",
    "    list_hours = {}\n",
    "    for m in range(100):\n",
    "        app_name = city_name + '_App' + str(m)\n",
    "        hour = hour[1:] + hour[0]\n",
    "        list_hours[app_name] = hour\n",
    "\n",
    "    data[city_name] = list_hours\n",
    "\n",
    "import sys\n",
    "size = 0 + sys.getsizeof(data)\n",
    "for key in data.keys():\n",
    "    size += sys.getsizeof(data[key])\n",
    "    for k in data[key].keys():\n",
    "        size += sys.getsizeof(data[key][k])\n",
    "\n",
    "size"
   ]
  },
  {
   "cell_type": "code",
   "execution_count": null,
   "metadata": {},
   "outputs": [
    {
     "data": {
      "text/plain": [
       "3.2222222222222223"
      ]
     },
     "execution_count": 35,
     "metadata": {},
     "output_type": "execute_result"
    }
   ],
   "source": [
    "single_dict = {}\n",
    "single_dict['City'] = hour\n",
    "\n",
    "single_list = []\n",
    "single_list = ['City', hour]\n",
    "\n",
    "sys.getsizeof(single_dict) / sys.getsizeof(single_list)"
   ]
  },
  {
   "cell_type": "code",
   "execution_count": null,
   "metadata": {},
   "outputs": [
    {
     "data": {
      "text/plain": [
       "73000"
      ]
     },
     "execution_count": 29,
     "metadata": {},
     "output_type": "execute_result"
    }
   ],
   "source": [
    "sys.getsizeof(hour) * 1000"
   ]
  },
  {
   "cell_type": "code",
   "execution_count": null,
   "metadata": {},
   "outputs": [
    {
     "data": {
      "text/plain": [
       "{1, 2, 3, 4, 5, 6}"
      ]
     },
     "execution_count": 37,
     "metadata": {},
     "output_type": "execute_result"
    }
   ],
   "source": [
    "set1 = {1, 2, 3}\n",
    "set2 = {4, 5,6 }\n",
    "set0 = set()\n",
    "\n",
    "set0 = set0.union(set1)\n",
    "set0 = set0.union(set2)\n",
    "set0\n"
   ]
  }
 ],
 "metadata": {
  "kernelspec": {
   "display_name": "Python 3.9.4 ('_data-ltoJwHh0')",
   "language": "python",
   "name": "python3"
  },
  "language_info": {
   "codemirror_mode": {
    "name": "ipython",
    "version": 3
   },
   "file_extension": ".py",
   "mimetype": "text/x-python",
   "name": "python",
   "nbconvert_exporter": "python",
   "pygments_lexer": "ipython3",
   "version": "3.9.4"
  },
  "orig_nbformat": 4,
  "vscode": {
   "interpreter": {
    "hash": "121603f0995a08ba462c622b3d7d6874043e6ab9ff0f5e687460f50fa0ae583c"
   }
  }
 },
 "nbformat": 4,
 "nbformat_minor": 2
}
