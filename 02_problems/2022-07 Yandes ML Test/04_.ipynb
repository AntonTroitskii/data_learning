{
 "cells": [
  {
   "cell_type": "markdown",
   "metadata": {},
   "source": [
    "# D. Коллекция статуэток\n",
    "\n",
    "Ограничение времени\t3 секунды\n",
    "Ограничение памяти\t256Mb\n",
    "Ввод\tстандартный ввод или input.txt\n",
    "Вывод\tстандартный вывод или output.txt\n",
    "\n",
    "Петя приехал в экзотическую страну и решил купить памятный сувенир. В сувенирной лавке в ряд выставлены \n",
    "n статуэток различных видов, причем статуэтка вида t стоит ровно t единиц местной валюты. Петя решил купить статуэтки всех видов от 1 до k. Оказалось, что Петя получит приличную скидку, если купит статуэтки, стоящие не в произвольных местах, а некоторым непрерывным отрезком (все статуэтки от какой-то позиции l до r включительно). Петя сразу понял, что ему может потребоваться купить несколько статуэток одного вида, повторяющиеся он решил подарить друзьям после возвращения домой.\n",
    "Например, если в лавке статуэтки выставлены в порядке 1 2 2 3 3 1, и Петя хочет купить статуэтки видов от 1 до 3, то он может купить статуэтки с первой по четвертую позиции (при этом будут куплены две статуэтки вида 2). Если же в лавке выставлены статуэтки 1 2 5 4 3 (вновь k=3), то Петя купит все 5 статуэток. Помогите определить Пете минимальную суммарную стоимость статуэток, расположенных подряд в лавке, чтобы среди них были статуэтки всех видов от 1 до k. Гарантируется, что для всех тестовых данных ответ существует.\n",
    "\n",
    "## Формат ввода\n",
    "В первой строке записаны два целых числа n и k (1 ≤ k ≤ n ≤ 500 000). Во второй сроке записаны n целых чисел a_i (вид i-й статуэтки) (1≤ai≤n) — описания статуэток в сувенирной лавке. Статуэтки перечислены слева направо.\n",
    "Гарантируется, что для всех тестовых данных ответ существует.\n",
    "\n",
    "# Формат вывода\n",
    "Выведите одно целое число — минимальную сумму в местной валюте, за которую мог бы купить статуэтки Петя (без учета будущей скидки)."
   ]
  },
  {
   "cell_type": "code",
   "execution_count": 79,
   "metadata": {},
   "outputs": [
    {
     "ename": "FileNotFoundError",
     "evalue": "[Errno 2] No such file or directory: 'input.txt'",
     "output_type": "error",
     "traceback": [
      "\u001b[1;31m---------------------------------------------------------------------------\u001b[0m",
      "\u001b[1;31mFileNotFoundError\u001b[0m                         Traceback (most recent call last)",
      "\u001b[1;32mC:\\Users\\A0789~1.TRO\\AppData\\Local\\Temp/ipykernel_27636/216133722.py\u001b[0m in \u001b[0;36m<module>\u001b[1;34m\u001b[0m\n\u001b[0;32m     34\u001b[0m         \u001b[1;32mreturn\u001b[0m \u001b[0msearch_min_sum\u001b[0m\u001b[1;33m(\u001b[0m\u001b[0mlist_int\u001b[0m\u001b[1;33m,\u001b[0m \u001b[1;36m1\u001b[0m\u001b[1;33m,\u001b[0m \u001b[0mk\u001b[0m\u001b[1;33m)\u001b[0m\u001b[1;33m\u001b[0m\u001b[1;33m\u001b[0m\u001b[0m\n\u001b[0;32m     35\u001b[0m \u001b[1;33m\u001b[0m\u001b[0m\n\u001b[1;32m---> 36\u001b[1;33m \u001b[0mprint\u001b[0m\u001b[1;33m(\u001b[0m\u001b[0mget_result\u001b[0m\u001b[1;33m(\u001b[0m\u001b[1;33m)\u001b[0m\u001b[1;33m)\u001b[0m\u001b[1;33m\u001b[0m\u001b[1;33m\u001b[0m\u001b[0m\n\u001b[0m",
      "\u001b[1;32mC:\\Users\\A0789~1.TRO\\AppData\\Local\\Temp/ipykernel_27636/216133722.py\u001b[0m in \u001b[0;36mget_result\u001b[1;34m(input_file)\u001b[0m\n\u001b[0;32m     24\u001b[0m \u001b[1;33m\u001b[0m\u001b[0m\n\u001b[0;32m     25\u001b[0m \u001b[1;32mdef\u001b[0m \u001b[0mget_result\u001b[0m\u001b[1;33m(\u001b[0m\u001b[0minput_file\u001b[0m \u001b[1;33m=\u001b[0m \u001b[1;34m'input.txt'\u001b[0m\u001b[1;33m)\u001b[0m\u001b[1;33m:\u001b[0m\u001b[1;33m\u001b[0m\u001b[1;33m\u001b[0m\u001b[0m\n\u001b[1;32m---> 26\u001b[1;33m     \u001b[1;32mwith\u001b[0m \u001b[0mopen\u001b[0m\u001b[1;33m(\u001b[0m\u001b[0minput_file\u001b[0m\u001b[1;33m,\u001b[0m \u001b[1;34m'r'\u001b[0m\u001b[1;33m)\u001b[0m \u001b[1;32mas\u001b[0m \u001b[0mf\u001b[0m\u001b[1;33m:\u001b[0m\u001b[1;33m\u001b[0m\u001b[1;33m\u001b[0m\u001b[0m\n\u001b[0m\u001b[0;32m     27\u001b[0m         \u001b[0mlist_str\u001b[0m \u001b[1;33m=\u001b[0m \u001b[0mf\u001b[0m\u001b[1;33m.\u001b[0m\u001b[0mreadline\u001b[0m\u001b[1;33m(\u001b[0m\u001b[1;33m)\u001b[0m\u001b[1;33m.\u001b[0m\u001b[0msplit\u001b[0m\u001b[1;33m(\u001b[0m\u001b[1;33m)\u001b[0m\u001b[1;33m\u001b[0m\u001b[1;33m\u001b[0m\u001b[0m\n\u001b[0;32m     28\u001b[0m         \u001b[0mn\u001b[0m \u001b[1;33m=\u001b[0m \u001b[0mint\u001b[0m\u001b[1;33m(\u001b[0m\u001b[0mlist_str\u001b[0m\u001b[1;33m[\u001b[0m\u001b[1;36m0\u001b[0m\u001b[1;33m]\u001b[0m\u001b[1;33m)\u001b[0m\u001b[1;33m\u001b[0m\u001b[1;33m\u001b[0m\u001b[0m\n",
      "\u001b[1;31mFileNotFoundError\u001b[0m: [Errno 2] No such file or directory: 'input.txt'"
     ]
    }
   ],
   "source": [
    "def update_list_sum(list_sum, list_int, a1, a2):\n",
    "    ind1 = -1\n",
    "    set_search = set([i for i in range(a1, a2+1)])\n",
    "    for i in range(len(list_int)):\n",
    "        if (list_int[i] == a1) and (ind1 == -1):\n",
    "            ind1 = i\n",
    "        if (list_int[i] == a2) and (ind1 != -1):\n",
    "            ind2 = i\n",
    "            set_find = set(list_int[ind1:ind2+1])\n",
    "            if set_search.issubset(set_find):\n",
    "                list_sum.append(sum(list_int[ind1:ind2+1]))\n",
    "            ind1 = -1\n",
    "\n",
    "    return list_sum\n",
    "\n",
    "def search_min_sum(l, a1, a2):\n",
    "    list_sum = []\n",
    "\n",
    "    update_list_sum(list_sum, l, a1, a2)\n",
    "    update_list_sum(list_sum, l[::-1], a1, a2)\n",
    "\n",
    "    return min(list_sum)\n",
    "\n",
    "\n",
    "def get_result(input_file = 'input.txt'):\n",
    "    with open(input_file, 'r') as f:\n",
    "        list_str = f.readline().split()\n",
    "        n = int(list_str[0])\n",
    "        k = int(list_str[1])\n",
    "        list_int = [int(x) for x in f.readline().split()][:n]\n",
    "\n",
    "        # print(n, k, list_int)\n",
    "\n",
    "        return search_min_sum(list_int, 1, k)\n",
    "\n",
    "print(get_result())"
   ]
  },
  {
   "cell_type": "code",
   "execution_count": 80,
   "metadata": {},
   "outputs": [
    {
     "data": {
      "text/plain": [
       "True"
      ]
     },
     "execution_count": 80,
     "metadata": {},
     "output_type": "execute_result"
    }
   ],
   "source": [
    "input_file = '04_input01.txt'\n",
    "\n",
    "get_result(input_file=input_file) == 8"
   ]
  },
  {
   "cell_type": "code",
   "execution_count": 81,
   "metadata": {},
   "outputs": [
    {
     "data": {
      "text/plain": [
       "True"
      ]
     },
     "execution_count": 81,
     "metadata": {},
     "output_type": "execute_result"
    }
   ],
   "source": [
    "input_file = '04_input02.txt'\n",
    "\n",
    "get_result(input_file=input_file) == 15"
   ]
  },
  {
   "cell_type": "code",
   "execution_count": 82,
   "metadata": {},
   "outputs": [
    {
     "data": {
      "text/plain": [
       "True"
      ]
     },
     "execution_count": 82,
     "metadata": {},
     "output_type": "execute_result"
    }
   ],
   "source": [
    "input_file = '04_input03.txt'\n",
    "\n",
    "get_result(input_file=input_file) == 12"
   ]
  },
  {
   "cell_type": "code",
   "execution_count": 83,
   "metadata": {},
   "outputs": [
    {
     "data": {
      "text/plain": [
       "True"
      ]
     },
     "execution_count": 83,
     "metadata": {},
     "output_type": "execute_result"
    }
   ],
   "source": [
    "input_file = '04_input04.txt'\n",
    "\n",
    "get_result(input_file=input_file) == 1"
   ]
  },
  {
   "cell_type": "code",
   "execution_count": 84,
   "metadata": {},
   "outputs": [
    {
     "data": {
      "text/plain": [
       "True"
      ]
     },
     "execution_count": 84,
     "metadata": {},
     "output_type": "execute_result"
    }
   ],
   "source": [
    "input_file = '04_input05.txt'\n",
    "\n",
    "get_result(input_file=input_file) == 28"
   ]
  },
  {
   "cell_type": "code",
   "execution_count": 85,
   "metadata": {},
   "outputs": [
    {
     "data": {
      "text/plain": [
       "(True, 10)"
      ]
     },
     "execution_count": 85,
     "metadata": {},
     "output_type": "execute_result"
    }
   ],
   "source": [
    "input_file = '04_input06.txt'\n",
    "\n",
    "\n",
    "get_result(input_file=input_file) == 10, get_result(input_file)"
   ]
  },
  {
   "cell_type": "code",
   "execution_count": null,
   "metadata": {},
   "outputs": [],
   "source": []
  },
  {
   "cell_type": "code",
   "execution_count": null,
   "metadata": {},
   "outputs": [],
   "source": []
  }
 ],
 "metadata": {
  "kernelspec": {
   "display_name": "Python 3.9.4 ('_data-ltoJwHh0')",
   "language": "python",
   "name": "python3"
  },
  "language_info": {
   "codemirror_mode": {
    "name": "ipython",
    "version": 3
   },
   "file_extension": ".py",
   "mimetype": "text/x-python",
   "name": "python",
   "nbconvert_exporter": "python",
   "pygments_lexer": "ipython3",
   "version": "3.9.4"
  },
  "orig_nbformat": 4,
  "vscode": {
   "interpreter": {
    "hash": "121603f0995a08ba462c622b3d7d6874043e6ab9ff0f5e687460f50fa0ae583c"
   }
  }
 },
 "nbformat": 4,
 "nbformat_minor": 2
}
