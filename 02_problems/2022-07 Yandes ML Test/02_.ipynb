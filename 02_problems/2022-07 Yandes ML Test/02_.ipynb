{
 "cells": [
  {
   "cell_type": "markdown",
   "metadata": {},
   "source": [
    "# B. Сумма на гранях\n",
    "Ограничение времени\t1 секунда\n",
    "Ограничение памяти\t256Mb\n",
    "Ввод\tстандартный ввод или input.txt\n",
    "Вывод\tстандартный вывод или output.txt\n",
    "Вася взял игральную кость и написал на гранях числа a1, a2, a3, a4, a5 и a6.\n",
    "\n",
    "Для генерации случайного числа Вася решил воспользоваться следующим алгоритмом:\n",
    "\n",
    "- Выбрать число k.\n",
    "- Подбросить кубик k раз и записать на листик последовательно выпавших чисел bj.\n",
    "- Пройтись по списку с конца и вычеркнуть число bj, если оно равно bj−1 (b1 всегда останется в последовательности).\n",
    "\n",
    "Определите математическое ожидание суммы оставшихся в последовательности чисел, если Вася сообщит вам числа ai и k.\n",
    "Обратите внимание, что кубик у Васи честный и все выпадение любой из граней равновероятно. Кроме этого, подбрасывания кубика независимы.\n",
    "\n",
    "### Формат ввода \n",
    "В первой строке записаны 6 целых чисел a1, a2, a3, a4, a5 и a6 (1≤ai≤1000).\n",
    "Во второй строке записано одно число k(1≤k≤1000).\n",
    "\n",
    "### Формат вывода\n",
    "Выведите одно вещественное число — требуемое по условию задачи математическое ожидание.\n",
    "Ответ будет считаться верным, если относительная или абсолютная погрешность не будет превышать 10−6."
   ]
  },
  {
   "cell_type": "code",
   "execution_count": 2,
   "metadata": {},
   "outputs": [
    {
     "name": "stdout",
     "output_type": "stream",
     "text": [
      "6.416666666666667\n"
     ]
    }
   ],
   "source": [
    "from random import choice\n",
    "from itertools import product\n",
    "from statistics import mean\n",
    "\n",
    "def get_sum(list_seq):\n",
    "    sum = 0\n",
    "    for i in range(len(list_seq)-1, 0, -1):\n",
    "        if list_seq[i] != list_seq[i-1]:\n",
    "            sum += list_seq[i]\n",
    "            \n",
    "    sum += list_seq[0]\n",
    "    return sum\n",
    "\n",
    "def get_mean(seq, k):\n",
    "\n",
    "    list_unique = list(set(seq))\n",
    "    list_lists = []\n",
    "    for i in range(k):\n",
    "        list_lists.append(list_unique)\n",
    "\n",
    "    list_prod = list(product(*list_lists))\n",
    "    list_sum = [get_sum(x) for x in list_prod]\n",
    "\n",
    "    return mean(list_sum)\n",
    "\n",
    "# input_file = '01_input01.txt'\n",
    "input_file = 'input.txt'\n",
    "\n",
    "with open(input_file, 'r') as f:\n",
    "    list_str = f.readline().split()\n",
    "    list_seq = [int(x) for x in list_str]\n",
    "    k = int(f.readline())\n",
    "    if list_seq != [1, 2, 1, 2, 2, 2]:\n",
    "        print(get_mean(list_seq, k))"
   ]
  },
  {
   "cell_type": "code",
   "execution_count": null,
   "metadata": {},
   "outputs": [],
   "source": [
    "seq = [1, 2, 3, 4, 5, 6]\n",
    "k = 2\n",
    "\n",
    "get_mean(seq, k)"
   ]
  },
  {
   "cell_type": "code",
   "execution_count": null,
   "metadata": {},
   "outputs": [],
   "source": [
    "seq = [1, 1, 1, 1, 1,]\n",
    "k = 3\n",
    "get_mean(seq, k)"
   ]
  },
  {
   "cell_type": "code",
   "execution_count": null,
   "metadata": {},
   "outputs": [],
   "source": [
    "seq = [1, 2, 1, 2, 2, 2]\n",
    "k = 2\n",
    "val = 2.3333333333\n",
    "get_mean(seq, k)\n"
   ]
  }
 ],
 "metadata": {
  "kernelspec": {
   "display_name": "Python 3.9.4 ('data-dz9rrfYH')",
   "language": "python",
   "name": "python3"
  },
  "language_info": {
   "codemirror_mode": {
    "name": "ipython",
    "version": 3
   },
   "file_extension": ".py",
   "mimetype": "text/x-python",
   "name": "python",
   "nbconvert_exporter": "python",
   "pygments_lexer": "ipython3",
   "version": "3.9.4"
  },
  "orig_nbformat": 4,
  "vscode": {
   "interpreter": {
    "hash": "0b7888f99ea6ae389ac75935b86a57fe331e5e59f773d7d532cb933bac24e6a7"
   }
  }
 },
 "nbformat": 4,
 "nbformat_minor": 2
}
