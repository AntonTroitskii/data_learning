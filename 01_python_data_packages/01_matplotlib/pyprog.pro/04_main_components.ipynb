{
 "cells": [
  {
   "cell_type": "markdown",
   "metadata": {
    "collapsed": true,
    "pycharm": {
     "name": "#%% md\n"
    }
   },
   "source": [
    "https://pyprog.pro/mpl/mpl_main_components.html\n",
    "\n",
    "# 4. Основные компоненты matplotlib\n",
    "MPL очень большая библиотека, но по своей сути она состоит из небольшого количества базовых компонентов:"
   ]
  },
  {
   "cell_type": "markdown",
   "metadata": {
    "pycharm": {
     "name": "#%% md\n"
    }
   },
   "source": [
    "<img src=\"files/mpl_anatomy.jpg\">"
   ]
  },
  {
   "cell_type": "markdown",
   "metadata": {},
   "source": [
    "Базовые компоненты графика matplotlib\n",
    "\n",
    "Figure - это контейнер самого верхнего уровня, та область на которой все нарисовано. Таких областей может быть несколько, каждая из которых может содержать несколько контейнеров Axes.\n",
    "\n",
    "Axes - это та область на которой чаще всего и отражаются графики (данные в виде графиков), а так же все вспомогательные атрибуты (линии сетки, метки, указатели и т.д.). Часто, установка этой области сопровождается с вызовом subplot, который и помещает Axes на регулярную сетку. Поэтому, так же часто Axes и Subplot можно считать синонимами. Но с тем что это за сетка и как это размещение работает, давайте разберемся чуть ниже.\n",
    "\n",
    "Каждая область Axes содержит XAxis и YAxis. Они содержат, деления, метки и прочие вспомогательные атрибуты. В Этом уроке мы будем контролировать тики, метки и пределы данных через другие механизмы, поэтому подробно рассматривать оси мы не будем.\n",
    "\n",
    "## 4.1. Начало работы\n",
    "Давайте попробуем выполним следующий код:"
   ]
  },
  {
   "cell_type": "code",
   "execution_count": 2,
   "metadata": {
    "pycharm": {
     "name": "#%%\n"
    }
   },
   "outputs": [
    {
     "data": {
      "image/png": "[encoded data removed]",
      "text/plain": [
       "<Figure size 432x288 with 1 Axes>"
      ]
     },
     "metadata": {
      "needs_background": "light"
     },
     "output_type": "display_data"
    }
   ],
   "source": [
    "%matplotlib inline\n",
    "import matplotlib.pyplot as plt\n",
    "\n",
    "fig = plt.figure()\n",
    "ax = fig.add_subplot(111)\n",
    "\n",
    "plt.show()"
   ]
  },
  {
   "cell_type": "markdown",
   "metadata": {
    "pycharm": {
     "name": "#%% md\n"
    }
   },
   "source": [
    "Создание областей Axes и Figure графика matplotlib"
   ]
  },
  {
   "cell_type": "markdown",
   "metadata": {
    "pycharm": {
     "name": "#%% md\n"
    }
   },
   "source": [
    "В строке fig = plt.figure() мы создали область Figure (экземпляр класса figure). В строке ax = fig.add_subplot(111) мы добавили к Figure область Axes. Вообще, было бы правильнее использовать fig.add_axes, но в данном случае fig.add_subplot(111) намного удобнее, в конце концов subplot просто размещает Axes на сетке Figure. Обратите внимание на параметр, который мы передаем 111 - это первая строка, первый столбец и первая (единственная) ячейка на сетке Figure.\n",
    "\n",
    "В том что Figure и Axes это разные области можно легко убедиться если изменить их цвет:"
   ]
  },
  {
   "cell_type": "code",
   "execution_count": 33,
   "metadata": {
    "pycharm": {
     "name": "#%%\n"
    }
   },
   "outputs": [
    {
     "data": {
      "image/png": "[encoded data removed]",
      "text/plain": [
       "<Figure size 432x288 with 1 Axes>"
      ]
     },
     "metadata": {},
     "output_type": "display_data"
    }
   ],
   "source": [
    "import matplotlib.pyplot as plt\n",
    "\n",
    "fig = plt.figure()\n",
    "ax = fig.add_subplot(111)\n",
    "\n",
    "fig.set(facecolor = 'green')\n",
    "ax.set(facecolor = 'red')\n",
    "\n",
    "plt.show()"
   ]
  },
  {
   "cell_type": "markdown",
   "metadata": {
    "pycharm": {
     "name": "#%% md\n"
    }
   },
   "source": [
    "График демонстрирующий что Axes и Figure это разные области"
   ]
  },
  {
   "cell_type": "markdown",
   "metadata": {
    "pycharm": {
     "name": "#%% md\n"
    }
   },
   "source": [
    "Кстати, Axes должна принадлежать только одной области Figure. Как правило, всегда сначала создается область Figure, а затем с помощью add_subplot() в Figure размещается одна или несколько областей Axes.\n",
    "\n",
    "А теперь обратите внимание на то, как с помощью метода set() мы изменили цвет Figure и Axes. По сути, это самый быстрый способ устанавливать параметры, но он не самый явный. Давайте установим параметры явно. Сотрите строчку fig.set(facecolor = 'green'), а затем напечатайте fig.set и нажмите клавишу Tab после чего вы увидите длинный список всех методов Figure, которые начинаются с set:\n",
    "\n",
    "<img src=\"files/autocompletion_1.jpg\">\n",
    "\n",
    "Автодополнение кода после нажатия клавиши Tab в Jupyter\n",
    "\n",
    "Затем нажатием клавиши стрелка вниз найдите метод set_facecolor и нажмите Enter:\n",
    "\n",
    "Поиск среди вариантов автодополнения выбирается стрелками вниз и вверх\n",
    "\n",
    "<img src=\"files/autocompletion_2.jpg\">\n",
    "\n",
    "После этого останется только добавить цвет в виде строки ('green') и все.\n"
   ]
  },
  {
   "cell_type": "code",
   "execution_count": 8,
   "metadata": {
    "pycharm": {
     "name": "#%%\n"
    }
   },
   "outputs": [
    {
     "data": {
      "image/png": "[encoded data removed]",
      "text/plain": [
       "<Figure size 432x288 with 1 Axes>"
      ]
     },
     "metadata": {},
     "output_type": "display_data"
    }
   ],
   "source": [
    "import matplotlib.pyplot as plt\n",
    "\n",
    "fig = plt.figure()\n",
    "ax = fig.add_subplot(111) # We'll explain the \"111\" later. Basically, 1 row and 1 column.\n",
    "\n",
    "fig.set_facecolor('green')\n",
    "ax.set(facecolor = 'red')\n",
    "\n",
    "plt.show()"
   ]
  },
  {
   "cell_type": "markdown",
   "metadata": {
    "pycharm": {
     "name": "#%% md\n"
    }
   },
   "source": [
    "Тоже самое мы можем проделать и с Axes. Кстати, именно Axes вам придется видоизменять чаще всего, поэтому давайте установим побольше параметров для данной области:"
   ]
  },
  {
   "cell_type": "code",
   "execution_count": 10,
   "metadata": {
    "pycharm": {
     "name": "#%%\n"
    }
   },
   "outputs": [
    {
     "data": {
      "image/png": "[encoded data removed]",
      "text/plain": [
       "<Figure size 432x288 with 1 Axes>"
      ]
     },
     "metadata": {},
     "output_type": "display_data"
    }
   ],
   "source": [
    "import matplotlib.pyplot as plt\n",
    "\n",
    "fig = plt.figure()\n",
    "ax = fig.add_subplot(111) # We'll explain the \"111\" later. Basically, 1 row and 1 column.\n",
    "\n",
    "fig.set_facecolor('green')\n",
    "\n",
    "ax.set_facecolor('red')\n",
    "ax.set_xlim([-10, 10])\n",
    "ax.set_ylim([-2, 2])\n",
    "ax.set_title('Основы анатомии matplotlib')\n",
    "ax.set_xlabel('ось абцис (XAxis)')\n",
    "ax.set_ylabel('ось ординат (YAxis)')\n",
    "\n",
    "plt.show()"
   ]
  },
  {
   "cell_type": "markdown",
   "metadata": {
    "pycharm": {
     "name": "#%% md\n"
    }
   },
   "source": [
    "Результат добавления параметров к областям Axes и Figure\n",
    "\n",
    "Хотя мы могли бы выполнить это более коротким способом:"
   ]
  },
  {
   "cell_type": "code",
   "execution_count": 18,
   "metadata": {
    "pycharm": {
     "name": "#%%\n"
    }
   },
   "outputs": [
    {
     "data": {
      "image/png": "[encoded data removed]",
      "text/plain": [
       "<Figure size 432x288 with 1 Axes>"
      ]
     },
     "metadata": {},
     "output_type": "display_data"
    }
   ],
   "source": [
    "import matplotlib.pyplot as plt\n",
    "\n",
    "fig = plt.figure()\n",
    "ax = fig.add_subplot(111)\n",
    "\n",
    "fig.set(facecolor = 'green')\n",
    "ax.set(facecolor = 'red',\n",
    "       xlim = [-10, 10],\n",
    "       ylim = [-2, 2],\n",
    "       title = 'Основы анатомии matplotlib',\n",
    "       xlabel = 'ось абцис (XAxis)',\n",
    "       ylabel = 'ось ординат (YAxis)')\n",
    "\n",
    "plt.show()"
   ]
  },
  {
   "cell_type": "markdown",
   "metadata": {
    "pycharm": {
     "name": "#%% md\n"
    }
   },
   "source": [
    "Данный способ хорош если вы обладаете некоторым опытом и помните имена всех параметров наизусть. Новичкам я все-таки рекомендую явный способ установки параметров: так и быстрее (благодаря автодополнению) и очевиднее.\n",
    "\n",
    "Метод set есть практически у всех объектов matplotlib. Например, нам вдруг захотелось изменить цвет и размер title. Для этого существуют так же два способа:"
   ]
  },
  {
   "cell_type": "code",
   "execution_count": 20,
   "metadata": {
    "pycharm": {
     "name": "#%%\n"
    }
   },
   "outputs": [
    {
     "data": {
      "text/plain": [
       "Text(0.5, 1.0, 'Основы анатомии matplotlib')"
      ]
     },
     "execution_count": 20,
     "metadata": {},
     "output_type": "execute_result"
    },
    {
     "data": {
      "image/png": "[encoded data removed]",
      "text/plain": [
       "<Figure size 432x288 with 1 Axes>"
      ]
     },
     "metadata": {
      "needs_background": "light"
     },
     "output_type": "display_data"
    }
   ],
   "source": [
    "import matplotlib.pyplot as plt\n",
    "\n",
    "fig = plt.figure()\n",
    "ax = fig.add_subplot(111)\n",
    "#  Способ №1:\n",
    "ax.set_title('Основы анатомии matplotlib', color = 'green', size = 20)"
   ]
  },
  {
   "cell_type": "code",
   "execution_count": 21,
   "metadata": {
    "pycharm": {
     "name": "#%%\n"
    }
   },
   "outputs": [
    {
     "data": {
      "image/png": "[encoded data removed]",
      "text/plain": [
       "<Figure size 432x288 with 1 Axes>"
      ]
     },
     "metadata": {
      "needs_background": "light"
     },
     "output_type": "display_data"
    }
   ],
   "source": [
    "import matplotlib.pyplot as plt\n",
    "\n",
    "fig = plt.figure()\n",
    "ax = fig.add_subplot(111)\n",
    "#  Способ №2:\n",
    "ax.set_title('Основы анатомии matplotlib')\n",
    "ax.title.set_color('green')\n",
    "ax.title.set_size(20)"
   ]
  },
  {
   "cell_type": "markdown",
   "metadata": {
    "pycharm": {
     "name": "#%% md\n"
    }
   },
   "source": [
    "В таких случаях первый способ, снова, кажется более простым. Но все же второй способ позволяет создавать код который легко понять и в котором легко ориентироваться, а это тоже очень дорогого стоит.\n",
    "\n",
    "И еще, напоследок, график который мы создали - это просто издевательство над восприятием человека. Такие графики можно делать только для примера! Создание отличных графиков - это целая наука (или искусство), у которой даже есть название инфографика."
   ]
  },
  {
   "cell_type": "markdown",
   "metadata": {
    "pycharm": {
     "name": "#%% md\n"
    }
   },
   "source": [
    "## 4.2. Отображение данных на графике\n",
    "Большинство графиков: линий, гистограмм, круговых диаграмм т.е. отображений данных происходит на Axes. Поэтому, для рисования на Axes необходимо использовать какой-нибудь из его методов. К слову сказать, этих методов целая куча, но мы сосредоточимся всего на двух: plot и scatter.\n",
    "\n",
    "plot рисует точки соединенные линиями;\n",
    "scatter просто рисует точки\n",
    "Давайте построим простой график на котором будет присутствовать отображение одних данных точками, а других линиями:"
   ]
  },
  {
   "cell_type": "code",
   "execution_count": 22,
   "metadata": {
    "pycharm": {
     "name": "#%%\n"
    }
   },
   "outputs": [
    {
     "data": {
      "image/png": "[encoded data removed]",
      "text/plain": [
       "<Figure size 432x288 with 1 Axes>"
      ]
     },
     "metadata": {
      "needs_background": "light"
     },
     "output_type": "display_data"
    }
   ],
   "source": [
    "import matplotlib.pyplot as plt\n",
    "\n",
    "fig = plt.figure()\n",
    "ax = fig.add_subplot(111)\n",
    "ax.plot([0, 1, 2, 3, 4], [0, 6, 7, 15, 19])\n",
    "ax.scatter([0, 1, 2, 3, 4], [1, 3, 8, 12, 27])\n",
    "\n",
    "plt.show()"
   ]
  },
  {
   "cell_type": "markdown",
   "metadata": {
    "pycharm": {
     "name": "#%% md\n"
    }
   },
   "source": [
    "Отображение данных на области Axes в matplotlib\n",
    "\n",
    "Нарисованные данные так же поддерживают самые разные параметры внешнего вида:"
   ]
  },
  {
   "cell_type": "code",
   "execution_count": null,
   "metadata": {
    "pycharm": {
     "name": "#%%\n"
    }
   },
   "outputs": [],
   "source": [
    "import matplotlib.pyplot as plt\n",
    "\n",
    "fig = plt.figure()\n",
    "ax = fig.add_subplot(111)\n",
    "ax.plot([0, 1, 2, 3, 4], [0, 6, 7, 15, 19], color = 'black', linewidth = 5)\n",
    "ax.scatter([0, 1, 2, 3, 4], [1, 3, 8, 12, 27], color = 'blue', marker = '*')\n",
    "\n",
    "plt.show()"
   ]
  },
  {
   "cell_type": "markdown",
   "metadata": {
    "pycharm": {
     "name": "#%% md\n"
    }
   },
   "source": [
    "Управление параметрами внешнего вида отображаемых данных в matplotlib\n",
    "\n",
    "Параметры внешнего вида придется указывать (если надо) вместе с данными внутри ax.plot() и ax.scatter(). Это противоречит моим рекомендациям, но и в этом случае можно оформить код в более читаемый вид:"
   ]
  },
  {
   "cell_type": "code",
   "execution_count": null,
   "metadata": {
    "pycharm": {
     "name": "#%%\n"
    }
   },
   "outputs": [],
   "source": [
    "import matplotlib.pyplot as plt\n",
    "\n",
    "x = [0, 1, 2, 3, 4]\n",
    "y_1 = [0, 6, 7, 15, 19]\n",
    "y_2 = [1, 3, 8, 12, 27]\n",
    "\n",
    "fig = plt.figure()\n",
    "ax = fig.add_subplot(111)\n",
    "\n",
    "ax.plot(x, y_1,\n",
    "        color = 'black',\n",
    "        linewidth = 5)\n",
    "\n",
    "ax.scatter(x, y_2,\n",
    "           color = 'blue',\n",
    "           marker = '*')\n",
    "\n",
    "plt.show()"
   ]
  },
  {
   "cell_type": "markdown",
   "metadata": {
    "pycharm": {
     "name": "#%% md\n"
    }
   },
   "source": [
    "## 4.3. Методы Axes и pyplot\n",
    "Сейчас вы поймете как мы раньше создавали графики без всяких Figure и Axes. Дело в том что почти все методы axes присутствуют в модуле pyplot. Например, при вызове plt.title('spam') модуль pyplot вызывает ax.set_title('spam'). Можно сказать, что модуль pyplot создает Figure и Axes автоматически (хотя это не совсем так). Фактически мы можем переписать весь наш пример следующим образом:"
   ]
  },
  {
   "cell_type": "code",
   "execution_count": 25,
   "metadata": {
    "pycharm": {
     "name": "#%%\n"
    }
   },
   "outputs": [
    {
     "data": {
      "image/png": "[encoded data removed]",
      "text/plain": [
       "<Figure size 432x288 with 1 Axes>"
      ]
     },
     "metadata": {
      "needs_background": "light"
     },
     "output_type": "display_data"
    }
   ],
   "source": [
    "import matplotlib.pyplot as plt\n",
    "\n",
    "\n",
    "plt.plot([0, 1, 2, 3, 4], [0, 6, 7, 15, 19], linewidth = 3)\n",
    "plt.scatter([0, 1, 2, 3, 4], [1, 3, 8, 12, 27], color = 'orange')\n",
    "\n",
    "plt.show()"
   ]
  },
  {
   "cell_type": "markdown",
   "metadata": {
    "pycharm": {
     "name": "#%% md\n"
    }
   },
   "source": [
    "Отображение данных методами модуля pyplot в matplotlib\n",
    "\n",
    "Но мы больше не будем так делать, потому что \"Явное лучше чем неявное\". Нет, если мы строим так сказать \"одноразовые графики\" с небольшими скриптами, только ради того что бы что-то быстро визуализировать, то от краткости скриптов мы только выигрываем. Однако, если нам придется работать с несколькими областями Axes или придется создавать большие скрипты для построения сложной графики, то использование явных определений Figure и Axes сделает код более очевидным и понятным, пускай даже за счет увеличения его объема."
   ]
  },
  {
   "cell_type": "markdown",
   "metadata": {
    "pycharm": {
     "name": "#%% md\n"
    }
   },
   "source": [
    "## 4.4. Несколько Axes на одной Figure\n",
    "Очень часто, нам необходимо размещать несколько графиков рядом друг с другом. Это проще всего сделать используя plt.subplots(). Но давайте для начала разберем следующий пример:"
   ]
  },
  {
   "cell_type": "code",
   "execution_count": 27,
   "metadata": {
    "pycharm": {
     "name": "#%%\n"
    }
   },
   "outputs": [
    {
     "data": {
      "image/png": "[encoded data removed]",
      "text/plain": [
       "<Figure size 432x288 with 4 Axes>"
      ]
     },
     "metadata": {},
     "output_type": "display_data"
    }
   ],
   "source": [
    "import matplotlib.pyplot as plt\n",
    "\n",
    "fig = plt.figure()\n",
    "\n",
    "ax_1 = fig.add_subplot(2, 2, 1)\n",
    "ax_2 = fig.add_subplot(2, 2, 2)\n",
    "ax_3 = fig.add_subplot(2, 2, 3)\n",
    "ax_4 = fig.add_subplot(2, 2, 4)\n",
    "\n",
    "ax_1.set(title = 'ax_1', xticks=[], yticks=[])\n",
    "ax_2.set(title = 'ax_2', xticks=[], yticks=[])\n",
    "ax_3.set(title = 'ax_3', xticks=[], yticks=[])\n",
    "ax_4.set(title = 'ax_4', xticks=[], yticks=[])\n",
    "\n",
    "plt.show()"
   ]
  },
  {
   "cell_type": "markdown",
   "metadata": {
    "pycharm": {
     "name": "#%% md\n"
    }
   },
   "source": [
    "Несколько областей Axes для графиков в matplotlib\n",
    "\n",
    "В этом примере, так же как и раньше, мы сначала создали область Figure, а затем с помощью команды fig.add_subplot() начали добавлять, одну за другой область Axes (ax_1, ax_2, ax_3, ax_4). Причем заметьте, каждая область Axes является независимой от других, то есть на на них могут быть нарисованы самые разные графики и установлены самые разные параметры внешнего вида.\n",
    "\n",
    "Теперь давайте немного разберемся с тем что делает метод add_subplot(). А делает он следующее, разбивает Figure на указанное количество строк и столбцов. После такого разбиения Figure можно представить как таблицу (или координатную сетку). Затем область Axes помещается в указанную ячейку. Для всего этого add_subplot() необходимо всего три числа, которые мы и передаем ему в качестве параметров:\n",
    "\n",
    "- первое - количество строк;\n",
    "- второе - количество столбцов\n",
    "- третье - индекс ячейки.\n",
    "\n",
    "Индексирование полученных ячеек начинается с левого верхнего угла, выполняется построчно слева-направо и заканчивается в правом нижнем углу:"
   ]
  },
  {
   "cell_type": "code",
   "execution_count": 28,
   "metadata": {
    "pycharm": {
     "name": "#%%\n"
    }
   },
   "outputs": [
    {
     "data": {
      "image/png": "[encoded data removed]",
      "text/plain": [
       "<Figure size 432x288 with 6 Axes>"
      ]
     },
     "metadata": {},
     "output_type": "display_data"
    }
   ],
   "source": [
    "import matplotlib.pyplot as plt\n",
    "\n",
    "fig = plt.figure()\n",
    "\n",
    "ax_1 = fig.add_subplot(3, 2, 1)\n",
    "ax_2 = fig.add_subplot(3, 2, 2)\n",
    "ax_3 = fig.add_subplot(3, 2, 3)\n",
    "ax_4 = fig.add_subplot(3, 2, 4)\n",
    "ax_5 = fig.add_subplot(3, 2, 5)\n",
    "ax_6 = fig.add_subplot(3, 2, 6)\n",
    "\n",
    "ax_1.set(title = 'ax_1', xticks=[], yticks=[])\n",
    "ax_2.set(title = 'ax_2', xticks=[], yticks=[])\n",
    "ax_3.set(title = 'ax_3', xticks=[], yticks=[])\n",
    "ax_4.set(title = 'ax_4', xticks=[], yticks=[])\n",
    "ax_5.set(title = 'ax_5', xticks=[], yticks=[])\n",
    "ax_6.set(title = 'ax_6', xticks=[], yticks=[])\n",
    "\n",
    "plt.show()"
   ]
  },
  {
   "cell_type": "markdown",
   "metadata": {
    "pycharm": {
     "name": "#%% md\n"
    }
   },
   "source": [
    "Индексирование и размещение областей Axes (графиков) в matplotlib\n",
    "\n",
    "Заполнять областями Axes всю область Figure не обязательно:"
   ]
  },
  {
   "cell_type": "code",
   "execution_count": 30,
   "metadata": {
    "pycharm": {
     "name": "#%%\n"
    }
   },
   "outputs": [
    {
     "data": {
      "image/png": "[encoded data removed]",
      "text/plain": [
       "<Figure size 432x288 with 3 Axes>"
      ]
     },
     "metadata": {},
     "output_type": "display_data"
    }
   ],
   "source": [
    "import matplotlib.pyplot as plt\n",
    "\n",
    "fig = plt.figure()\n",
    "\n",
    "ax_1 = fig.add_subplot(3, 2, 1)\n",
    "ax_2 = fig.add_subplot(3, 2, 4)\n",
    "ax_3 = fig.add_subplot(3, 2, 5)\n",
    "\n",
    "ax_1.set(title = 'ax_1', xticks=[], yticks=[])\n",
    "ax_2.set(title = 'ax_2', xticks=[], yticks=[])\n",
    "ax_3.set(title = 'ax_3', xticks=[], yticks=[])\n",
    "\n",
    "plt.show()"
   ]
  },
  {
   "cell_type": "markdown",
   "metadata": {
    "pycharm": {
     "name": "#%% md\n"
    }
   },
   "source": [
    "Выборочное размещение областей Axes (графиков) на области Figure в matplotlib\n",
    "\n",
    "Каждый отдельный вызов add_subplot() выполняет разбивку Figure, так как как указано в его параметрах и не зависит от предыдущих разбиений:"
   ]
  },
  {
   "cell_type": "code",
   "execution_count": 31,
   "metadata": {
    "pycharm": {
     "name": "#%%\n"
    }
   },
   "outputs": [
    {
     "data": {
      "image/png": "[encoded data removed]",
      "text/plain": [
       "<Figure size 432x288 with 3 Axes>"
      ]
     },
     "metadata": {},
     "output_type": "display_data"
    }
   ],
   "source": [
    "import matplotlib.pyplot as plt\n",
    "\n",
    "fig = plt.figure()\n",
    "\n",
    "ax_1 = fig.add_subplot(3, 1, 1)\n",
    "ax_2 = fig.add_subplot(3, 2, 4)\n",
    "ax_3 = fig.add_subplot(3, 3, 9)\n",
    "\n",
    "ax_1.set(title = 'ax_1', xticks=[], yticks=[])\n",
    "ax_2.set(title = 'ax_2', xticks=[], yticks=[])\n",
    "ax_3.set(title = 'ax_3', xticks=[], yticks=[])\n",
    "\n",
    "plt.show()"
   ]
  },
  {
   "cell_type": "markdown",
   "metadata": {
    "pycharm": {
     "name": "#%% md\n"
    }
   },
   "source": [
    "Размещение областей Axes (графиков) разного размера на области Figure в matplotlib\n",
    "\n",
    "Такое поведение метода add_subplot() позволяет располагать графики как вам необходимо. Области Axes могут перекрывать друг-друга, быть разного размера или разделенными некоторым пространством, впрочем, как и размещаться в произвольных местах:"
   ]
  },
  {
   "cell_type": "code",
   "execution_count": 32,
   "metadata": {
    "pycharm": {
     "name": "#%%\n"
    }
   },
   "outputs": [
    {
     "data": {
      "image/png": "[encoded data removed]",
      "text/plain": [
       "<Figure size 432x288 with 6 Axes>"
      ]
     },
     "metadata": {},
     "output_type": "display_data"
    }
   ],
   "source": [
    "import matplotlib.pyplot as plt\n",
    "\n",
    "fig = plt.figure()\n",
    "\n",
    "ax_1 = fig.add_subplot(3, 1, 1)\n",
    "ax_2 = fig.add_subplot(6, 3, 3)\n",
    "ax_3 = fig.add_subplot(3, 3, 4)\n",
    "ax_4 = fig.add_subplot(3, 3, 6)\n",
    "ax_5 = fig.add_subplot(3, 4, 10)\n",
    "ax_6 = fig.add_subplot(5, 5, 25)\n",
    "\n",
    "ax_1.set(title = 'ax_1', xticks=[], yticks=[])\n",
    "ax_2.set(title = 'ax_2', xticks=[], yticks=[])\n",
    "ax_3.set(title = 'ax_3', xticks=[], yticks=[])\n",
    "ax_4.set(title = 'ax_4', xticks=[], yticks=[])\n",
    "ax_5.set(title = 'ax_5', xticks=[], yticks=[])\n",
    "ax_6.set(title = 'ax_6', xticks=[], yticks=[])\n",
    "\n",
    "plt.show()"
   ]
  },
  {
   "cell_type": "markdown",
   "metadata": {
    "pycharm": {
     "name": "#%% md\n"
    }
   },
   "source": [
    "Произвольное размещение нескольких областей Axes (графиков) разного размерас перекрытием и без в matplotlib"
   ]
  },
  {
   "cell_type": "markdown",
   "metadata": {
    "pycharm": {
     "name": "#%% md\n"
    }
   },
   "source": [
    "## 4.5. subplots()\n",
    "Конечно, такой способ размещения некоторого количества областей Axes на Figure довольно гибок, но на практике функция plt.subplots(nrows, ncols) оказывается гораздо удобнее:"
   ]
  },
  {
   "cell_type": "code",
   "execution_count": 1,
   "metadata": {
    "pycharm": {
     "name": "#%%\n"
    }
   },
   "outputs": [
    {
     "data": {
      "image/png": "[encoded data removed]",
      "text/plain": [
       "<Figure size 432x288 with 4 Axes>"
      ]
     },
     "metadata": {},
     "output_type": "display_data"
    }
   ],
   "source": [
    "import matplotlib.pyplot as plt\n",
    "\n",
    "fig, axes = plt.subplots(nrows = 2, ncols =2 )\n",
    "\n",
    "axes[0,0].set(title='axes[0,0]')\n",
    "axes[0,1].set(title='axes[0,1]')\n",
    "axes[1,0].set(title='axes[1,0]')\n",
    "axes[1,1].set(title='axes[1,1]')\n",
    "\n",
    "for ax in axes.flat:\n",
    "    ax.set(xticks=[], yticks=[])\n",
    "\n",
    "plt.show()"
   ]
  },
  {
   "cell_type": "markdown",
   "metadata": {
    "pycharm": {
     "name": "#%% md\n"
    }
   },
   "source": [
    "Размещение нескольких областей Axes (графиков) методом subplots() в matplotlib\n",
    "\n",
    "Очень часто нам нужно что бы наши области Axes были расположены на самой обычной сетке. Что в общем то и делает plt.subplots(nrows, ncols). Однако не следует забывать, что как правило, все чуточку сложнее. Давайте выполним следующий код:"
   ]
  },
  {
   "cell_type": "code",
   "execution_count": 36,
   "metadata": {
    "pycharm": {
     "name": "#%%\n"
    }
   },
   "outputs": [
    {
     "name": "stdout",
     "output_type": "stream",
     "text": [
      "(<Figure size 432x288 with 4 Axes>, array([[<AxesSubplot:>, <AxesSubplot:>],\n",
      "       [<AxesSubplot:>, <AxesSubplot:>]], dtype=object))\n"
     ]
    },
    {
     "data": {
      "image/png": "[encoded data removed]",
      "text/plain": [
       "<Figure size 432x288 with 4 Axes>"
      ]
     },
     "metadata": {
      "needs_background": "light"
     },
     "output_type": "display_data"
    }
   ],
   "source": [
    "print(plt.subplots(nrows = 2, ncols = 2))"
   ]
  },
  {
   "cell_type": "markdown",
   "metadata": {
    "pycharm": {
     "name": "#%% md\n"
    }
   },
   "source": [
    "(<matplotlib.figure.Figure object at 0xaaca234c>,\n",
    "array([[<matplotlib.axes._subplots.AxesSubplot object at 0xaad7946c>,\n",
    "        <matplotlib.axes._subplots.AxesSubplot object at 0xab04a6ac>],\n",
    "       [<matplotlib.axes._subplots.AxesSubplot object at 0xaac8956c>,\n",
    "        <matplotlib.axes._subplots.AxesSubplot object at 0xaaef0dac>]],\n",
    "      dtype=object))"
   ]
  },
  {
   "cell_type": "markdown",
   "metadata": {
    "pycharm": {
     "name": "#%% md\n"
    }
   },
   "source": [
    "Если вглядеться в вывод, то становится видно, что plt.subplots(nrows, ncols) создает кортеж из двух элементов:\n",
    "\n",
    "- Область Figure;\n",
    "- Массив объектов NumPy, состоящий из двух строк и двух столбцов. Каждый элемент этого массива представляет собой отдельную область Axes, к которой можно обратиться по ее индексу в данном массиве.\n",
    "\n",
    "\n",
    "Для дальнейшей работы с данными областями нам необходимо распаковать данный кортеж, что мы и делаем в строке:"
   ]
  },
  {
   "cell_type": "code",
   "execution_count": null,
   "metadata": {
    "pycharm": {
     "name": "#%%\n"
    }
   },
   "outputs": [],
   "source": [
    "fig, axes = plt.subplots(nrows = 2, ncols = 2)"
   ]
  },
  {
   "cell_type": "markdown",
   "metadata": {
    "pycharm": {
     "name": "#%% md\n"
    }
   },
   "source": [
    "Теперь fig - это Figure, а axes - это массив NumPy, элементами которого являются объекты Axes. Далее, мы решили установить каждой области Axes свой заголовок:\n",
    "\n",
    "- axes[0, 0].set(title='axes[0, 0]')\n",
    "- axes[0, 1].set(title='axes[0, 1]')\n",
    "- axes[1, 0].set(title='axes[1, 0]')\n",
    "- axes[1, 1].set(title='axes[1, 1]')\n",
    "\n",
    "Поскольку каждый заголовок (как-бы) уникальный, нам пришлось вручную вызвать каждую область Axes и устанавливать для нее параметр title.\n",
    "\n",
    "Но если для каждой области нам необходимо установить одинаковые параметры, то это можно сделать в цикле:\n",
    "\n",
    "for ax in axes.flat:\n",
    "    ax.set(xticks=[], yticks=[])\n",
    "\n",
    "Хотя, зачастую, даже заголовки можно установить в том же самом цикле:"
   ]
  },
  {
   "cell_type": "code",
   "execution_count": 37,
   "metadata": {
    "pycharm": {
     "name": "#%%\n"
    }
   },
   "outputs": [
    {
     "data": {
      "image/png": "[encoded data removed]",
      "text/plain": [
       "<Figure size 432x288 with 9 Axes>"
      ]
     },
     "metadata": {},
     "output_type": "display_data"
    }
   ],
   "source": [
    "import numpy as np\n",
    "import matplotlib.pyplot as plt\n",
    "\n",
    "fig, axes = plt.subplots(nrows=3, ncols=3)\n",
    "\n",
    "n = 1\n",
    "\n",
    "for ax in axes.flat:\n",
    "    ax.set(title='axes_' + str(n), xticks=[], yticks=[])\n",
    "    n += 1\n",
    "plt.show()"
   ]
  },
  {
   "cell_type": "markdown",
   "metadata": {
    "pycharm": {
     "name": "#%% md\n"
    }
   },
   "source": [
    "Установка различных параметров множества областей Axes (графиков) внутри цикла в matplotlib\n",
    "\n",
    "По умолчанию количество строк и столбцов в методе subplots равно 1, что удобно для быстрого создания Figure с одной областью Axes:\n"
   ]
  },
  {
   "cell_type": "code",
   "execution_count": 39,
   "metadata": {
    "pycharm": {
     "name": "#%%\n"
    }
   },
   "outputs": [
    {
     "data": {
      "image/png": "[encoded data removed]",
      "text/plain": [
       "<Figure size 432x288 with 1 Axes>"
      ]
     },
     "metadata": {
      "needs_background": "light"
     },
     "output_type": "display_data"
    }
   ],
   "source": [
    "import matplotlib.pyplot as plt\n",
    "\n",
    "fig, ax = plt.subplots()       #  одна строка вместо двух:\n",
    "                               #  fig = plt.figure()\n",
    "                               #  ax = fig.add_subplot(111)\n",
    "ax.set(title='Axes')\n",
    "\n",
    "plt.show()"
   ]
  },
  {
   "cell_type": "markdown",
   "metadata": {
    "pycharm": {
     "name": "#%% md\n"
    }
   },
   "source": [
    "subplots по умолчанию создает одну область Figure с одной областью Axes\n",
    "\n",
    "Далее, в таких простых случаях, мы будем очень часто пользоваться именно этой строкой fig, ax = plt.subplots() - это сокращает код, но не преуменьшает его ясности (мы по прежнему создаем Figure и помещаем на нее Axes).\n"
   ]
  },
  {
   "cell_type": "code",
   "execution_count": null,
   "metadata": {
    "pycharm": {
     "name": "#%%\n"
    }
   },
   "outputs": [],
   "source": []
  }
 ],
 "metadata": {
  "kernelspec": {
   "display_name": "Python 3",
   "language": "python",
   "name": "python3"
  },
  "language_info": {
   "codemirror_mode": {
    "name": "ipython",
    "version": 3
   },
   "file_extension": ".py",
   "mimetype": "text/x-python",
   "name": "python",
   "nbconvert_exporter": "python",
   "pygments_lexer": "ipython3",
   "version": "3.9.4"
  }
 },
 "nbformat": 4,
 "nbformat_minor": 1
}
