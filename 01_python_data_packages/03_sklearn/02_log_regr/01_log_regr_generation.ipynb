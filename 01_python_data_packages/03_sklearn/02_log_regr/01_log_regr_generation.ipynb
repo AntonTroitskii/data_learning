{
 "cells": [
  {
   "cell_type": "code",
   "execution_count": 52,
   "id": "1a5943f6-9313-4537-bd57-83cd12d17081",
   "metadata": {},
   "outputs": [
    {
     "data": {
      "text/plain": [
       "(array([[ 0.69430071,  1.34138861, -0.61142222,  3.16467132, -0.44950151,\n",
       "          1.14755821,  0.19443988,  0.14217234,  0.70822554, -0.63657917,\n",
       "         -0.07510089, -0.61389898,  0.62949959, -0.16455359, -1.86130188,\n",
       "          1.45546633,  0.37138514, -1.92342774,  1.44759582,  0.83316823],\n",
       "        [ 0.27170883,  0.2927334 , -0.09342862, -0.5737495 , -1.26224369,\n",
       "          0.39685151,  0.38654934, -0.86229736,  0.61671782,  0.039669  ,\n",
       "         -0.60416088,  0.66372179, -1.57181579, -0.2885016 ,  0.03007655,\n",
       "          1.10226996, -0.40702973, -0.67435487, -0.22451809, -0.31184961],\n",
       "        [ 1.49011801, -0.1154077 , -0.4901716 , -0.03236265, -0.30002661,\n",
       "          0.34661899, -0.82260378, -0.6141993 , -0.09583029, -0.80144997,\n",
       "         -1.70144112,  1.22245066,  0.65491343,  0.86318207,  0.34977113,\n",
       "          1.27199043, -0.19943634, -1.08537313,  2.05330405, -0.44004468],\n",
       "        [-0.70730983,  0.86396937, -0.32540964, -1.07552152, -0.18853873,\n",
       "          1.32470124,  1.61248354, -0.78656611, -0.84378462, -1.35356665,\n",
       "         -0.5196214 , -0.88033931,  0.11698167,  0.52809137, -1.65409091,\n",
       "         -0.36749611, -0.62644781,  1.09109613, -0.46344025, -0.65460843],\n",
       "        [-0.96215244, -0.57375024, -1.10488585,  0.07655805, -1.84471984,\n",
       "         -2.05836203,  0.02189258, -2.26225574,  1.20709626,  1.00306064,\n",
       "         -0.16247332,  0.3155249 , -0.00401983,  1.12579361, -0.1866837 ,\n",
       "          2.48569819, -1.143331  , -1.26447116, -0.94906039, -0.15301282],\n",
       "        [ 1.44185843,  1.55156227, -0.28781172, -2.0127853 , -0.22245599,\n",
       "          0.79853548, -0.52724904,  2.06903268,  1.0713625 , -1.40605755,\n",
       "         -0.24619173, -0.83872573,  0.30911037, -0.20313061,  0.34551034,\n",
       "         -2.17375542,  1.06419444,  1.03265041,  0.73796096,  0.67135609],\n",
       "        [ 1.26840488, -0.36642673,  1.54129688,  0.50546531,  0.23278716,\n",
       "         -1.30076767, -0.5282611 , -1.23169434, -1.10384907, -0.15096796,\n",
       "         -0.18783998,  0.94374285, -0.8974421 , -1.98164678,  0.1022667 ,\n",
       "          1.02692185, -0.68315784, -0.28278434,  0.07347459,  0.20148837],\n",
       "        [-0.63100935,  0.19167979,  0.12165048,  1.59817752,  1.16718741,\n",
       "         -0.30417679,  0.15376945,  0.51193877,  0.36250289, -0.44499655,\n",
       "          0.05837288,  1.67907529,  1.36851601,  0.48586237,  0.24586814,\n",
       "         -0.53424433,  0.26398276,  0.25102654, -1.21936815, -0.65131896],\n",
       "        [-2.89921252,  0.21130383,  1.81007662, -0.37717548,  0.52797411,\n",
       "         -0.62540351,  1.4416245 , -0.36838506, -0.09354692,  0.55166683,\n",
       "         -1.36691237, -0.72996602, -0.58854709, -0.22727887,  0.65052473,\n",
       "         -1.48226191, -0.53688598,  2.13917674, -0.27227722,  0.91684038],\n",
       "        [-0.39818366,  2.03138668,  1.56008041, -1.8292622 , -0.99497312,\n",
       "          0.60489664,  0.7396617 ,  1.3910346 , -0.49801868, -0.19424256,\n",
       "         -0.78756088, -0.4333964 ,  1.038405  ,  1.31677516, -1.13870086,\n",
       "         -0.36924304,  0.91845598, -0.66305074,  0.9158577 ,  0.98065521]]),\n",
       " array([0, 0, 0, 1, 0, 1, 1, 1, 1, 0]))"
      ]
     },
     "execution_count": 52,
     "metadata": {},
     "output_type": "execute_result"
    }
   ],
   "source": [
    "from sklearn import datasets\n",
    "from matplotlib import pyplot as plt\n",
    "\n",
    "c1 = datasets.make_classification(n_samples=10, n_classes=2, ne)\n",
    "# plt.scatter(c1[0], c1[1])\n",
    "c1"
   ]
  },
  {
   "cell_type": "code",
   "execution_count": 82,
   "id": "e8405dd0-4229-4a4c-8c38-384b5d96166a",
   "metadata": {},
   "outputs": [],
   "source": [
    "from matplotlib.colors import ListedColormap"
   ]
  },
  {
   "cell_type": "code",
   "execution_count": 147,
   "id": "58816506-1ad2-49d0-9111-8cbb99c09773",
   "metadata": {},
   "outputs": [
    {
     "name": "stdout",
     "output_type": "stream",
     "text": [
      "-0.9714937896581799 [-0.97149379] 0\n",
      "-0.8092119162849212 [-0.80921192] 0\n",
      "-1.0995395124225542 [-1.09953951] 0\n",
      "1.380009003725731 [1.380009] 1\n",
      "-1.22376850436934 [-1.2237685] 0\n",
      "1.0119512225648348 [1.01195122] 1\n",
      "-1.0219363814631028 [-1.02193638] 0\n",
      "-0.6983446982219198 [-0.6983447] 0\n",
      "1.155140576600807 [1.15514058] 1\n",
      "1.0643619147678165 [1.06436191] 1\n"
     ]
    },
    {
     "data": {
      "image/png": "[encoded data removed]",
      "text/plain": [
       "<Figure size 432x288 with 1 Axes>"
      ]
     },
     "metadata": {
      "needs_background": "light"
     },
     "output_type": "display_data"
    }
   ],
   "source": [
    "colors = ListedColormap(['red', 'yellow'])\n",
    "c2 = datasets.make_classification(n_features = 1, \n",
    "                                  n_informative = 1, \n",
    "                                  n_redundant = 0, \n",
    "                                  n_clusters_per_class = 1, \n",
    "                                  class_sep=1, \n",
    "                                  random_state=0)\n",
    "data = list(zip(*c2[0]))\n",
    "data_x = data[0]\n",
    "data_y = c2[1]      \n",
    "plt.scatter(data_x, data_y, c=c2[1], cmap=colors)\n",
    "for i in range(0, 10):\n",
    "    print(data_x[i], c2[0][i], c2[1][i])"
   ]
  },
  {
   "cell_type": "code",
   "execution_count": 129,
   "id": "b0070722-ffd5-4895-8dfe-97dc6c8e2814",
   "metadata": {},
   "outputs": [
    {
     "ename": "IndexError",
     "evalue": "list index out of range",
     "output_type": "error",
     "traceback": [
      "\u001b[1;31m---------------------------------------------------------------------------\u001b[0m",
      "\u001b[1;31mIndexError\u001b[0m                                Traceback (most recent call last)",
      "\u001b[1;32m~\\AppData\\Local\\Temp/ipykernel_10548/165695656.py\u001b[0m in \u001b[0;36m<module>\u001b[1;34m\u001b[0m\n\u001b[1;32m----> 1\u001b[1;33m \u001b[0mlist\u001b[0m\u001b[1;33m(\u001b[0m\u001b[0mzip\u001b[0m\u001b[1;33m(\u001b[0m\u001b[1;33m*\u001b[0m\u001b[0mc2\u001b[0m\u001b[1;33m[\u001b[0m\u001b[1;36m0\u001b[0m\u001b[1;33m]\u001b[0m\u001b[1;33m)\u001b[0m\u001b[1;33m)\u001b[0m\u001b[1;33m[\u001b[0m\u001b[1;36m0\u001b[0m\u001b[1;33m]\u001b[0m\u001b[1;33m,\u001b[0m \u001b[0mlist\u001b[0m\u001b[1;33m(\u001b[0m\u001b[0mzip\u001b[0m\u001b[1;33m(\u001b[0m\u001b[1;33m*\u001b[0m\u001b[0mc2\u001b[0m\u001b[1;33m[\u001b[0m\u001b[1;36m0\u001b[0m\u001b[1;33m]\u001b[0m\u001b[1;33m)\u001b[0m\u001b[1;33m)\u001b[0m\u001b[1;33m[\u001b[0m\u001b[1;36m1\u001b[0m\u001b[1;33m]\u001b[0m\u001b[1;33m\u001b[0m\u001b[1;33m\u001b[0m\u001b[0m\n\u001b[0m",
      "\u001b[1;31mIndexError\u001b[0m: list index out of range"
     ]
    }
   ],
   "source": [
    "list(zip(*c2[0]))[0], list(zip(*c2[0]))[1]"
   ]
  },
  {
   "cell_type": "code",
   "execution_count": null,
   "id": "1d816f6a-488f-475c-98c7-199242617a90",
   "metadata": {},
   "outputs": [],
   "source": []
  }
 ],
 "metadata": {
  "kernelspec": {
   "display_name": "Python 3 (ipykernel)",
   "language": "python",
   "name": "python3"
  },
  "language_info": {
   "codemirror_mode": {
    "name": "ipython",
    "version": 3
   },
   "file_extension": ".py",
   "mimetype": "text/x-python",
   "name": "python",
   "nbconvert_exporter": "python",
   "pygments_lexer": "ipython3",
   "version": "3.9.4"
  }
 },
 "nbformat": 4,
 "nbformat_minor": 5
}
