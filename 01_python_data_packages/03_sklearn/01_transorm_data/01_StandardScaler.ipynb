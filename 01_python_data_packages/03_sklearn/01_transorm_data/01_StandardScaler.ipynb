{
 "cells": [
  {
   "cell_type": "markdown",
   "id": "050ec52b-9c57-41de-9556-fecd2055b806",
   "metadata": {},
   "source": [
    "### Создание данных\n",
    "\n",
    "Создадим массив 2d массив данных, который можно будет использовать. "
   ]
  },
  {
   "cell_type": "code",
   "execution_count": 1,
   "id": "01441988-39d3-47f7-b9d4-a7852106ebff",
   "metadata": {},
   "outputs": [
    {
     "data": {
      "text/plain": [
       "array([ 1., 50.])"
      ]
     },
     "execution_count": 1,
     "metadata": {},
     "output_type": "execute_result"
    }
   ],
   "source": [
    "import pandas as pd\n",
    "import numpy as np\n",
    "\n",
    "sclaes = np.linspace(1, 50, 2)\n",
    "means = np.linspace(1, 50, 1)\n",
    "\n",
    "randoms  = np.array([np.random.normal(loc, scale, 10) for scale in sclaes for loc in means])\n",
    "sclaes.shape, means.shape, sclaes, means\n",
    "sclaes"
   ]
  },
  {
   "cell_type": "markdown",
   "id": "e9e7dfc5-fc52-4c1b-a097-aa8a5e850255",
   "metadata": {},
   "source": [
    "Посмотрим на созданный массив."
   ]
  },
  {
   "cell_type": "code",
   "execution_count": 2,
   "id": "43378f75-45a5-4ec8-8f97-27ce197aae60",
   "metadata": {},
   "outputs": [
    {
     "data": {
      "text/plain": [
       "array([[  1.39597579,   0.40955465,   2.08813804,   2.28168591,\n",
       "          0.44400308,   2.22246868,   1.44392936,   0.38369463,\n",
       "          0.09427339,   1.99600282],\n",
       "       [ 71.28574951,  39.10879652,  -2.2824845 ,  58.55637786,\n",
       "         76.91242142, -42.39449432, -18.21763475, -53.28036501,\n",
       "         40.43752237,  13.63603224]])"
      ]
     },
     "execution_count": 2,
     "metadata": {},
     "output_type": "execute_result"
    }
   ],
   "source": [
    "randoms"
   ]
  },
  {
   "cell_type": "markdown",
   "id": "ba4e1462-5997-4069-bd8e-6f65e271216c",
   "metadata": {},
   "source": [
    "Посмотрим на статистики данных массивов\n"
   ]
  },
  {
   "cell_type": "code",
   "execution_count": 3,
   "id": "45349bdb-8707-44ee-9de8-0fe6e90cf0ff",
   "metadata": {},
   "outputs": [
    {
     "name": "stdout",
     "output_type": "stream",
     "text": [
      "1.2759726343011266 0.8223993486390807\n",
      "18.37619213371739 44.01476867803109\n"
     ]
    }
   ],
   "source": [
    "for i in randoms:\n",
    "    print(np.mean(i), np.std(i)) "
   ]
  },
  {
   "cell_type": "markdown",
   "id": "45789124-c306-44df-b5a7-17e66437c4a3",
   "metadata": {},
   "source": [
    "Добавим массивы в DataFrame."
   ]
  },
  {
   "cell_type": "code",
   "execution_count": 4,
   "id": "91a342a7-e8bb-4145-8b9d-e4be2667d75e",
   "metadata": {},
   "outputs": [
    {
     "data": {
      "text/html": [
       "<div>\n",
       "<style scoped>\n",
       "    .dataframe tbody tr th:only-of-type {\n",
       "        vertical-align: middle;\n",
       "    }\n",
       "\n",
       "    .dataframe tbody tr th {\n",
       "        vertical-align: top;\n",
       "    }\n",
       "\n",
       "    .dataframe thead th {\n",
       "        text-align: right;\n",
       "    }\n",
       "</style>\n",
       "<table border=\"1\" class=\"dataframe\">\n",
       "  <thead>\n",
       "    <tr style=\"text-align: right;\">\n",
       "      <th></th>\n",
       "      <th>0</th>\n",
       "      <th>1</th>\n",
       "    </tr>\n",
       "  </thead>\n",
       "  <tbody>\n",
       "    <tr>\n",
       "      <th>0</th>\n",
       "      <td>1.395976</td>\n",
       "      <td>71.285750</td>\n",
       "    </tr>\n",
       "    <tr>\n",
       "      <th>1</th>\n",
       "      <td>0.409555</td>\n",
       "      <td>39.108797</td>\n",
       "    </tr>\n",
       "    <tr>\n",
       "      <th>2</th>\n",
       "      <td>2.088138</td>\n",
       "      <td>-2.282485</td>\n",
       "    </tr>\n",
       "    <tr>\n",
       "      <th>3</th>\n",
       "      <td>2.281686</td>\n",
       "      <td>58.556378</td>\n",
       "    </tr>\n",
       "    <tr>\n",
       "      <th>4</th>\n",
       "      <td>0.444003</td>\n",
       "      <td>76.912421</td>\n",
       "    </tr>\n",
       "    <tr>\n",
       "      <th>5</th>\n",
       "      <td>2.222469</td>\n",
       "      <td>-42.394494</td>\n",
       "    </tr>\n",
       "    <tr>\n",
       "      <th>6</th>\n",
       "      <td>1.443929</td>\n",
       "      <td>-18.217635</td>\n",
       "    </tr>\n",
       "    <tr>\n",
       "      <th>7</th>\n",
       "      <td>0.383695</td>\n",
       "      <td>-53.280365</td>\n",
       "    </tr>\n",
       "    <tr>\n",
       "      <th>8</th>\n",
       "      <td>0.094273</td>\n",
       "      <td>40.437522</td>\n",
       "    </tr>\n",
       "    <tr>\n",
       "      <th>9</th>\n",
       "      <td>1.996003</td>\n",
       "      <td>13.636032</td>\n",
       "    </tr>\n",
       "  </tbody>\n",
       "</table>\n",
       "</div>"
      ],
      "text/plain": [
       "          0          1\n",
       "0  1.395976  71.285750\n",
       "1  0.409555  39.108797\n",
       "2  2.088138  -2.282485\n",
       "3  2.281686  58.556378\n",
       "4  0.444003  76.912421\n",
       "5  2.222469 -42.394494\n",
       "6  1.443929 -18.217635\n",
       "7  0.383695 -53.280365\n",
       "8  0.094273  40.437522\n",
       "9  1.996003  13.636032"
      ]
     },
     "execution_count": 4,
     "metadata": {},
     "output_type": "execute_result"
    }
   ],
   "source": [
    "randoms.T\n",
    "data = pd.DataFrame(randoms.T)\n",
    "data"
   ]
  },
  {
   "cell_type": "markdown",
   "id": "b4ebdcca-d896-45ee-bdb9-ec0b016203f9",
   "metadata": {},
   "source": [
    "Создадим объект, который можно будет использовать для трансформации данных."
   ]
  },
  {
   "cell_type": "code",
   "execution_count": 5,
   "id": "d2b430a3-7a70-4256-85d7-b5f48bf19680",
   "metadata": {},
   "outputs": [
    {
     "data": {
      "text/html": [
       "<style>#sk-container-id-1 {color: black;background-color: white;}#sk-container-id-1 pre{padding: 0;}#sk-container-id-1 div.sk-toggleable {background-color: white;}#sk-container-id-1 label.sk-toggleable__label {cursor: pointer;display: block;width: 100%;margin-bottom: 0;padding: 0.3em;box-sizing: border-box;text-align: center;}#sk-container-id-1 label.sk-toggleable__label-arrow:before {content: \"▸\";float: left;margin-right: 0.25em;color: #696969;}#sk-container-id-1 label.sk-toggleable__label-arrow:hover:before {color: black;}#sk-container-id-1 div.sk-estimator:hover label.sk-toggleable__label-arrow:before {color: black;}#sk-container-id-1 div.sk-toggleable__content {max-height: 0;max-width: 0;overflow: hidden;text-align: left;background-color: #f0f8ff;}#sk-container-id-1 div.sk-toggleable__content pre {margin: 0.2em;color: black;border-radius: 0.25em;background-color: #f0f8ff;}#sk-container-id-1 input.sk-toggleable__control:checked~div.sk-toggleable__content {max-height: 200px;max-width: 100%;overflow: auto;}#sk-container-id-1 input.sk-toggleable__control:checked~label.sk-toggleable__label-arrow:before {content: \"▾\";}#sk-container-id-1 div.sk-estimator input.sk-toggleable__control:checked~label.sk-toggleable__label {background-color: #d4ebff;}#sk-container-id-1 div.sk-label input.sk-toggleable__control:checked~label.sk-toggleable__label {background-color: #d4ebff;}#sk-container-id-1 input.sk-hidden--visually {border: 0;clip: rect(1px 1px 1px 1px);clip: rect(1px, 1px, 1px, 1px);height: 1px;margin: -1px;overflow: hidden;padding: 0;position: absolute;width: 1px;}#sk-container-id-1 div.sk-estimator {font-family: monospace;background-color: #f0f8ff;border: 1px dotted black;border-radius: 0.25em;box-sizing: border-box;margin-bottom: 0.5em;}#sk-container-id-1 div.sk-estimator:hover {background-color: #d4ebff;}#sk-container-id-1 div.sk-parallel-item::after {content: \"\";width: 100%;border-bottom: 1px solid gray;flex-grow: 1;}#sk-container-id-1 div.sk-label:hover label.sk-toggleable__label {background-color: #d4ebff;}#sk-container-id-1 div.sk-serial::before {content: \"\";position: absolute;border-left: 1px solid gray;box-sizing: border-box;top: 0;bottom: 0;left: 50%;z-index: 0;}#sk-container-id-1 div.sk-serial {display: flex;flex-direction: column;align-items: center;background-color: white;padding-right: 0.2em;padding-left: 0.2em;position: relative;}#sk-container-id-1 div.sk-item {position: relative;z-index: 1;}#sk-container-id-1 div.sk-parallel {display: flex;align-items: stretch;justify-content: center;background-color: white;position: relative;}#sk-container-id-1 div.sk-item::before, #sk-container-id-1 div.sk-parallel-item::before {content: \"\";position: absolute;border-left: 1px solid gray;box-sizing: border-box;top: 0;bottom: 0;left: 50%;z-index: -1;}#sk-container-id-1 div.sk-parallel-item {display: flex;flex-direction: column;z-index: 1;position: relative;background-color: white;}#sk-container-id-1 div.sk-parallel-item:first-child::after {align-self: flex-end;width: 50%;}#sk-container-id-1 div.sk-parallel-item:last-child::after {align-self: flex-start;width: 50%;}#sk-container-id-1 div.sk-parallel-item:only-child::after {width: 0;}#sk-container-id-1 div.sk-dashed-wrapped {border: 1px dashed gray;margin: 0 0.4em 0.5em 0.4em;box-sizing: border-box;padding-bottom: 0.4em;background-color: white;}#sk-container-id-1 div.sk-label label {font-family: monospace;font-weight: bold;display: inline-block;line-height: 1.2em;}#sk-container-id-1 div.sk-label-container {text-align: center;}#sk-container-id-1 div.sk-container {/* jupyter's `normalize.less` sets `[hidden] { display: none; }` but bootstrap.min.css set `[hidden] { display: none !important; }` so we also need the `!important` here to be able to override the default hidden behavior on the sphinx rendered scikit-learn.org. See: https://github.com/scikit-learn/scikit-learn/issues/21755 */display: inline-block !important;position: relative;}#sk-container-id-1 div.sk-text-repr-fallback {display: none;}</style><div id=\"sk-container-id-1\" class=\"sk-top-container\"><div class=\"sk-text-repr-fallback\"><pre>StandardScaler()</pre><b>In a Jupyter environment, please rerun this cell to show the HTML representation or trust the notebook. <br />On GitHub, the HTML representation is unable to render, please try loading this page with nbviewer.org.</b></div><div class=\"sk-container\" hidden><div class=\"sk-item\"><div class=\"sk-estimator sk-toggleable\"><input class=\"sk-toggleable__control sk-hidden--visually\" id=\"sk-estimator-id-1\" type=\"checkbox\" checked><label for=\"sk-estimator-id-1\" class=\"sk-toggleable__label sk-toggleable__label-arrow\">StandardScaler</label><div class=\"sk-toggleable__content\"><pre>StandardScaler()</pre></div></div></div></div></div>"
      ],
      "text/plain": [
       "StandardScaler()"
      ]
     },
     "execution_count": 5,
     "metadata": {},
     "output_type": "execute_result"
    }
   ],
   "source": [
    "from sklearn.preprocessing import StandardScaler\n",
    "\n",
    "scaller = StandardScaler()\n",
    "scaller.fit(data)"
   ]
  },
  {
   "cell_type": "markdown",
   "id": "8c2009f3-7fb9-4ebd-9cf1-7e5eecc63b17",
   "metadata": {},
   "source": [
    "Преобразуем данные"
   ]
  },
  {
   "cell_type": "code",
   "execution_count": 6,
   "id": "2a2532fe-5469-4f78-862c-9504f89592a5",
   "metadata": {},
   "outputs": [],
   "source": [
    "scalleddata = scaller.transform(data)"
   ]
  },
  {
   "cell_type": "code",
   "execution_count": 7,
   "id": "de688589-4737-4169-8e65-e6cd155511eb",
   "metadata": {},
   "outputs": [
    {
     "data": {
      "text/plain": [
       "array([[ 0.14591835,  1.20208646],\n",
       "       [-1.05352465,  0.47103745],\n",
       "       [ 0.98755599, -0.46935784],\n",
       "       [ 1.22290135,  0.91287963],\n",
       "       [-1.01163693,  1.32992246],\n",
       "       [ 1.15089591, -1.38068853],\n",
       "       [ 0.20422769, -0.83139882],\n",
       "       [-1.08496925, -1.62801167],\n",
       "       [-1.43689224,  0.50122563],\n",
       "       [ 0.87552378, -0.10769476]])"
      ]
     },
     "execution_count": 7,
     "metadata": {},
     "output_type": "execute_result"
    }
   ],
   "source": [
    "scalleddata"
   ]
  },
  {
   "cell_type": "markdown",
   "id": "2cff5097-9299-4692-8259-3a9297332e74",
   "metadata": {},
   "source": [
    "Посмотрим на статистики, которые были получыены STandardScaler()"
   ]
  },
  {
   "cell_type": "code",
   "execution_count": 8,
   "id": "fbc99632-e73e-4ae9-bbb9-af34fe11cdec",
   "metadata": {},
   "outputs": [
    {
     "data": {
      "text/plain": [
       "(array([ 1.27597263, 18.37619213]), array([ 0.82239935, 44.01476868]))"
      ]
     },
     "execution_count": 8,
     "metadata": {},
     "output_type": "execute_result"
    }
   ],
   "source": [
    "scaller.mean_, scaller.scale_"
   ]
  }
 ],
 "metadata": {
  "kernelspec": {
   "display_name": "Python 3.9.4 ('data-dz9rrfYH')",
   "language": "python",
   "name": "python3"
  },
  "language_info": {
   "codemirror_mode": {
    "name": "ipython",
    "version": 3
   },
   "file_extension": ".py",
   "mimetype": "text/x-python",
   "name": "python",
   "nbconvert_exporter": "python",
   "pygments_lexer": "ipython3",
   "version": "3.9.4"
  },
  "vscode": {
   "interpreter": {
    "hash": "0b7888f99ea6ae389ac75935b86a57fe331e5e59f773d7d532cb933bac24e6a7"
   }
  }
 },
 "nbformat": 4,
 "nbformat_minor": 5
}
