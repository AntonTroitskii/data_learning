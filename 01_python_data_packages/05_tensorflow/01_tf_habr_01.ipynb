{
 "cells": [
  {
   "cell_type": "markdown",
   "metadata": {},
   "source": [
    "https://habr.com/ru/post/326650/"
   ]
  },
  {
   "cell_type": "markdown",
   "metadata": {},
   "source": [
    "Пустой граф можно создать функцией tf.Graph(), кроме того граф по-умолчанию создаётся при подключении библиотеки и если вы не будете явно указывать граф, то будет использоваться именно он. В примере ниже показано, как можно создать две константы в двух разных графах."
   ]
  },
  {
   "cell_type": "code",
   "execution_count": 9,
   "metadata": {},
   "outputs": [
    {
     "name": "stdout",
     "output_type": "stream",
     "text": [
      "True False\n",
      "False True\n"
     ]
    }
   ],
   "source": [
    "import tensorflow as tf # в дальнейшем эта строка будет опускаться\n",
    "\n",
    "tf.compat.v1.disable_eager_execution()\n",
    "\n",
    "\n",
    "# сохраняем граф по-умолчанию в переменную\n",
    "default_graph = tf.compat.v1.get_default_graph()\n",
    "# объявляем константу в графе по-умолчанию\n",
    "c1 = tf.constant(1.0)\n",
    "\n",
    "# создаём пустой граф\n",
    "second_graph = tf.Graph()\n",
    "with second_graph.as_default():\n",
    "    # в этом блоке мы работаем во втором графе\n",
    "    c2 = tf.constant(101.0)\n",
    "\n",
    "# c1.graph is second_graph\n",
    "print(c2.graph is second_graph, c1.graph is second_graph) # True, False\n",
    "print(c2.graph is default_graph, c1.graph is default_graph) # False, True"
   ]
  },
  {
   "cell_type": "markdown",
   "metadata": {},
   "source": [
    "Передача данных и выполнение операций происходят в сессиях. Запуск сессии осуществляется вызовом tf.Session, а её закрытие вызовом метода close на объекте сессии. Можно использовать конструкцию with, которая автоматический закрывает сессию:"
   ]
  },
  {
   "cell_type": "code",
   "execution_count": 12,
   "metadata": {},
   "outputs": [
    {
     "ename": "AttributeError",
     "evalue": "module 'tensorflow' has no attribute 'Session'",
     "output_type": "error",
     "traceback": [
      "\u001b[1;31m---------------------------------------------------------------------------\u001b[0m",
      "\u001b[1;31mAttributeError\u001b[0m                            Traceback (most recent call last)",
      "\u001b[1;32m~\\AppData\\Local\\Temp/ipykernel_17092/2788210180.py\u001b[0m in \u001b[0;36m<module>\u001b[1;34m\u001b[0m\n\u001b[0;32m      7\u001b[0m     \u001b[0mc2\u001b[0m \u001b[1;33m=\u001b[0m \u001b[0mtf\u001b[0m\u001b[1;33m.\u001b[0m\u001b[0mconstant\u001b[0m\u001b[1;33m(\u001b[0m\u001b[1;36m101.0\u001b[0m\u001b[1;33m)\u001b[0m\u001b[1;33m\u001b[0m\u001b[1;33m\u001b[0m\u001b[0m\n\u001b[0;32m      8\u001b[0m \u001b[1;33m\u001b[0m\u001b[0m\n\u001b[1;32m----> 9\u001b[1;33m \u001b[0msession\u001b[0m \u001b[1;33m=\u001b[0m \u001b[0mtf\u001b[0m\u001b[1;33m.\u001b[0m\u001b[0mSession\u001b[0m\u001b[1;33m(\u001b[0m\u001b[1;33m)\u001b[0m \u001b[1;31m# открываем сессию на графе по-умолчанию\u001b[0m\u001b[1;33m\u001b[0m\u001b[1;33m\u001b[0m\u001b[0m\n\u001b[0m\u001b[0;32m     10\u001b[0m \u001b[0mprint\u001b[0m\u001b[1;33m(\u001b[0m\u001b[0mc1\u001b[0m\u001b[1;33m.\u001b[0m\u001b[0meval\u001b[0m\u001b[1;33m(\u001b[0m\u001b[0msession\u001b[0m\u001b[1;33m=\u001b[0m\u001b[0msession\u001b[0m\u001b[1;33m)\u001b[0m\u001b[1;33m)\u001b[0m\u001b[1;33m\u001b[0m\u001b[1;33m\u001b[0m\u001b[0m\n\u001b[0;32m     11\u001b[0m \u001b[1;31m# print(c2.eval(session=session)) # так нельзя, не тот граф\u001b[0m\u001b[1;33m\u001b[0m\u001b[1;33m\u001b[0m\u001b[1;33m\u001b[0m\u001b[0m\n",
      "\u001b[1;31mAttributeError\u001b[0m: module 'tensorflow' has no attribute 'Session'"
     ]
    }
   ],
   "source": [
    "default_graph = tf.compat.v1.get_default_graph()\n",
    "\n",
    "c1 = tf.constant(1.0)\n",
    "\n",
    "second_graph = tf.Graph()\n",
    "with second_graph.as_default():\n",
    "    c2 = tf.constant(101.0)\n",
    "\n",
    "session = tf.Session() # открываем сессию на графе по-умолчанию\n",
    "print(c1.eval(session=session))\n",
    "# print(c2.eval(session=session)) # так нельзя, не тот граф\n",
    "session.close()\n",
    "\n",
    "# тоже самое:\n",
    "with tf.Session() as session:\n",
    "    print(c1.eval()) # не нужно передавать сессию в метод eval\n",
    "\n",
    "# используем другой граф:\n",
    "with tf.Session(graph=second_graph) as session:\n",
    "    print(c2.eval()) # не нужно передавать сессию в метод eval\n",
    "\n",
    "#Вывод:\n",
    "# 1.0\n",
    "# 1.0\n",
    "# 101.0\n"
   ]
  },
  {
   "cell_type": "code",
   "execution_count": null,
   "metadata": {},
   "outputs": [],
   "source": []
  }
 ],
 "metadata": {
  "interpreter": {
   "hash": "195639eb6f618b13be22f0eae017da4095bdfd34377926e01fad967ce145dfe7"
  },
  "kernelspec": {
   "display_name": "Python 3.9.4 64-bit ('_data-tejYZFn8': virtualenv)",
   "language": "python",
   "name": "python3"
  },
  "language_info": {
   "codemirror_mode": {
    "name": "ipython",
    "version": 3
   },
   "file_extension": ".py",
   "mimetype": "text/x-python",
   "name": "python",
   "nbconvert_exporter": "python",
   "pygments_lexer": "ipython3",
   "version": "3.9.4"
  },
  "orig_nbformat": 4
 },
 "nbformat": 4,
 "nbformat_minor": 2
}
