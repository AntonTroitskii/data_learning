{
 "cells": [
  {
   "cell_type": "markdown",
   "id": "c6eaceff-910b-4514-baf2-f28c95e75ad3",
   "metadata": {
    "tags": []
   },
   "source": [
    "# Сравнение двух методов\n",
    "\n",
    "Определения какой метод быстрее считает."
   ]
  },
  {
   "cell_type": "code",
   "execution_count": 1,
   "id": "6ee822cb-ee71-4811-9d2a-468fe6655224",
   "metadata": {},
   "outputs": [],
   "source": [
    "import pandas as pd\n",
    "import numpy as np"
   ]
  },
  {
   "cell_type": "code",
   "execution_count": 2,
   "id": "db08410b-afd3-4b05-b384-9cb91c9ada5c",
   "metadata": {},
   "outputs": [],
   "source": [
    "data_all = pd.read_csv('weights_heights.csv', index_col='Index')\n",
    "data_100 = data_all[0:100]\n",
    "data = data_all"
   ]
  },
  {
   "cell_type": "code",
   "execution_count": 3,
   "id": "965eccb2-e23f-4fe6-9c33-be256079123b",
   "metadata": {},
   "outputs": [],
   "source": [
    "import math\n",
    "\n",
    "def error_w0_w1(w):\n",
    "    sqr_list = data.apply(lambda row: (row['Height'] - (w[0] + w[1] * row['Weight']))**2, axis=1)\n",
    "    return sqr_list.sum()"
   ]
  },
  {
   "cell_type": "code",
   "execution_count": 4,
   "id": "64563a59-4499-42c2-9e61-6302c57c40ec",
   "metadata": {},
   "outputs": [],
   "source": [
    "def error(w0, w1):   \n",
    "    y = w0 + w1 * data['Weight']\n",
    "    return np.square(data['Height'] - y).sum()"
   ]
  },
  {
   "cell_type": "code",
   "execution_count": 5,
   "id": "f9c50e6a-b296-488d-babb-89758bcd57f7",
   "metadata": {},
   "outputs": [
    {
     "data": {
      "text/plain": [
       "datetime.datetime(2021, 11, 5, 12, 1, 50, 29448)"
      ]
     },
     "execution_count": 5,
     "metadata": {},
     "output_type": "execute_result"
    }
   ],
   "source": [
    "import datetime\n",
    "\n",
    "start = datetime.datetime.now()\n",
    "start"
   ]
  },
  {
   "cell_type": "code",
   "execution_count": 6,
   "id": "eae21089-6fb8-4198-9336-eb87a15af928",
   "metadata": {},
   "outputs": [
    {
     "data": {
      "text/plain": [
       "datetime.timedelta(microseconds=237069)"
      ]
     },
     "execution_count": 6,
     "metadata": {},
     "output_type": "execute_result"
    }
   ],
   "source": [
    "w = (0, 0)\n",
    "\n",
    "start = datetime.datetime.now()\n",
    "error_w0_w1(w)\n",
    "end = datetime.datetime.now()\n",
    "end - start"
   ]
  },
  {
   "cell_type": "code",
   "execution_count": 7,
   "id": "0a3d1d90-952c-49c5-93a5-5e4aeed748fe",
   "metadata": {},
   "outputs": [
    {
     "data": {
      "text/plain": [
       "datetime.timedelta(microseconds=2002)"
      ]
     },
     "execution_count": 7,
     "metadata": {},
     "output_type": "execute_result"
    }
   ],
   "source": [
    "w = (0, 0)\n",
    "\n",
    "start = datetime.datetime.now()\n",
    "error(w[0], w[1])\n",
    "end = datetime.datetime.now()\n",
    "end - start"
   ]
  },
  {
   "cell_type": "markdown",
   "id": "dbbc2370-ab4d-4a6c-af71-3aae29cab789",
   "metadata": {},
   "source": [
    "# Разные релазиации среднеквадратичной ошибки"
   ]
  },
  {
   "cell_type": "code",
   "execution_count": 8,
   "id": "90632359-a467-4e67-8021-e2f7d4f56d73",
   "metadata": {},
   "outputs": [],
   "source": [
    "def sqerror(w, X, Y):\n",
    "    return np.sum((Y - (w[0] + w[1] * X)) ** 2)"
   ]
  }
 ],
 "metadata": {
  "interpreter": {
   "hash": "9c3b7df13784f01328c2631e984956adf70bf3282c42d87cfafb0a989ce8d5dc"
  },
  "kernelspec": {
   "display_name": "Python 3.9.4 64-bit ('02_coursera_yandex-gbo-Kul1': virtualenv)",
   "name": "python3"
  },
  "language_info": {
   "codemirror_mode": {
    "name": "ipython",
    "version": 3
   },
   "file_extension": ".py",
   "mimetype": "text/x-python",
   "name": "python",
   "nbconvert_exporter": "python",
   "pygments_lexer": "ipython3",
   "version": "3.9.4"
  }
 },
 "nbformat": 4,
 "nbformat_minor": 5
}
