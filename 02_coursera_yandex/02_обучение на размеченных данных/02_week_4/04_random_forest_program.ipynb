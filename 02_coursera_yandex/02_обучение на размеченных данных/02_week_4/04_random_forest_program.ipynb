{
 "cells": [
  {
   "cell_type": "markdown",
   "metadata": {},
   "source": [
    "\n",
    "Загрузите датасет digits с помощью функции load_digits из sklearn.datasets и подготовьте матрицу признаков X и ответы на обучающей выборке y (вам потребуются поля data и target в объекте, который возвращает load_digits)"
   ]
  },
  {
   "cell_type": "code",
   "execution_count": 23,
   "metadata": {},
   "outputs": [],
   "source": [
    "from sklearn.datasets import load_digits\n",
    "from sklearn.model_selection import cross_val_score, GridSearchCV\n",
    "from sklearn.tree import DecisionTreeClassifier\n",
    "from sklearn.ensemble import BaggingClassifier, RandomForestClassifier\n",
    "import pandas as pd\n",
    "import numpy as np\n",
    "from matplotlib import pyplot as plt"
   ]
  },
  {
   "cell_type": "markdown",
   "metadata": {},
   "source": [
    "### Определение дополнительных функций"
   ]
  },
  {
   "cell_type": "code",
   "execution_count": 24,
   "metadata": {},
   "outputs": [],
   "source": [
    "def write_ans(val, file_name):\n",
    "    with open(file_name, 'w') as file:\n",
    "        file.write(str(val)) \n",
    "\n",
    "def get_res(cvs, desc):\n",
    "    return (cvs, desc)"
   ]
  },
  {
   "cell_type": "code",
   "execution_count": 25,
   "metadata": {},
   "outputs": [
    {
     "name": "stdout",
     "output_type": "stream",
     "text": [
      "dict_keys(['data', 'target', 'frame', 'feature_names', 'target_names', 'images', 'DESCR'])\n"
     ]
    },
    {
     "data": {
      "text/plain": [
       "(1797, 64)"
      ]
     },
     "execution_count": 25,
     "metadata": {},
     "output_type": "execute_result"
    }
   ],
   "source": [
    "digits = load_digits()\n",
    "print(digits.keys())\n",
    "y = digits.target\n",
    "X = digits.data\n",
    "res = {}\n",
    "\n",
    "\n",
    "len(X), len(X[0])"
   ]
  },
  {
   "cell_type": "markdown",
   "metadata": {},
   "source": [
    "### Задание 1. \n",
    "\n",
    "Создайте DecisionTreeClassifier с настройками по умолчанию и измерьте качество его работы с помощью cross_val_score. Эта величина и будет ответом в пункте 1"
   ]
  },
  {
   "cell_type": "code",
   "execution_count": 26,
   "metadata": {},
   "outputs": [
    {
     "data": {
      "text/plain": [
       "0.8241216635630042"
      ]
     },
     "execution_count": 26,
     "metadata": {},
     "output_type": "execute_result"
    }
   ],
   "source": [
    "# 1. одно решающее дерево\n",
    "\n",
    "tree_cl = DecisionTreeClassifier()\n",
    "cvs = cross_val_score(tree_cl, X, y, cv=10)\n",
    "res['1 tree'] = cvs\n",
    "cvs_mean = cvs.mean()\n",
    "\n",
    "write_ans(cvs_mean, 'ans1')\n",
    "cvs_mean"
   ]
  },
  {
   "cell_type": "markdown",
   "metadata": {},
   "source": [
    "Воспользуйтесь BaggingClassifier из sklearn.ensemble, чтобы обучить бэггинг над DecisionTreeClassifier. Используйте в BaggingClassifier параметры по умолчанию, задав только количество деревьев равным 100"
   ]
  },
  {
   "cell_type": "code",
   "execution_count": 27,
   "metadata": {},
   "outputs": [
    {
     "name": "stdout",
     "output_type": "stream",
     "text": [
      "0.927048417132216\n"
     ]
    }
   ],
   "source": [
    "# 2. 100 рещающих деревьев. Все признаки\n",
    "\n",
    "tree_cl = DecisionTreeClassifier()\n",
    "bag_cl = BaggingClassifier(base_estimator=tree_cl, n_estimators=100, random_state=0, n_jobs=-1).fit(X, y)\n",
    "cvs = cross_val_score(bag_cl, X, y, cv=10, n_jobs=-1)\n",
    "\n",
    "res['100 trees. features = all'] = cvs\n",
    "cvs_mean = cvs.mean()\n",
    "\n",
    "write_ans(cvs_mean, 'ans2')\n",
    "print(cvs_mean)"
   ]
  },
  {
   "cell_type": "markdown",
   "metadata": {},
   "source": [
    "3. Теперь изучите параметры BaggingClassifier и выберите их такими, чтобы каждый базовый алгоритм обучался не на всех d признаках, а на \\sqrt{d}  случайных признаков. Качество работы получившегося классификатора - ответ в пункте 3. Корень из числа признаков - часто используемая эвристика в задачах классификации, в задачах регрессии же часто берут число признаков, деленное на три. Но в общем случае ничто не мешает вам выбирать любое другое число случайных признаков.\n"
   ]
  },
  {
   "cell_type": "code",
   "execution_count": 28,
   "metadata": {},
   "outputs": [
    {
     "data": {
      "text/plain": [
       "0.9293389199255122"
      ]
     },
     "execution_count": 28,
     "metadata": {},
     "output_type": "execute_result"
    }
   ],
   "source": [
    "# 3. 100 рещающих деревьев. max_features = sqrt(num_features) (BaggingClassifier)\n",
    "\n",
    "max_features = np.sqrt(X.shape[1]) / X.shape[1]\n",
    "\n",
    "tree_cl = DecisionTreeClassifier()\n",
    "bag_cl = BaggingClassifier(base_estimator=tree_cl, n_estimators=100, random_state=0, max_features=max_features, n_jobs=-1).fit(X, y)\n",
    "cvs = cross_val_score(bag_cl, X, y, cv=10, n_jobs=-1)\n",
    "\n",
    "res['100 trees. features = sqrt(num_features). BaggingClassifier'] = cvs\n",
    "cvs_mean = cvs.mean()\n",
    "\n",
    "write_ans(cvs_mean, 'ans3')\n",
    "cvs_mean"
   ]
  },
  {
   "cell_type": "markdown",
   "metadata": {},
   "source": [
    "4. Наконец, давайте попробуем выбирать случайные признаки не один раз на все дерево, а при построении каждой вершины дерева. Сделать это несложно: нужно убрать выбор случайного подмножества признаков в BaggingClassifier и добавить его в DecisionTreeClassifier. Какой параметр за это отвечает, можно понять из документации sklearn, либо просто попробовать угадать (скорее всего, у вас сразу получится). Попробуйте выбирать опять же \\sqrt{d}  признаков. Качество полученного классификатора на контрольной выборке и будет ответом в пункте 4.\n"
   ]
  },
  {
   "cell_type": "code",
   "execution_count": 29,
   "metadata": {},
   "outputs": [
    {
     "data": {
      "text/plain": [
       "0.9460117939168218"
      ]
     },
     "execution_count": 29,
     "metadata": {},
     "output_type": "execute_result"
    }
   ],
   "source": [
    "# 4. 100 рещающих деревьев. max_features = sqrt(num_features) (DecisionTreeClassifier)\n",
    "\n",
    "max_features = np.sqrt(X.shape[1]) / X.shape[1]\n",
    "tree_cl = DecisionTreeClassifier(max_features=max_features)\n",
    "bag_cl = BaggingClassifier(base_estimator=tree_cl, n_estimators=100, random_state=0, n_jobs=-1).fit(X, y)\n",
    "\n",
    "cvs = cross_val_score(bag_cl, X, y, cv=10, n_jobs=-1)\n",
    "\n",
    "res['100 trees. features = sqrt(num_features). DecisionTreeClassifier'] = cvs\n",
    "cvs_mean = cvs.mean()\n",
    "\n",
    "write_ans(cvs_mean, 'ans4')\n",
    "cvs_mean"
   ]
  },
  {
   "cell_type": "markdown",
   "metadata": {},
   "source": [
    "5. Полученный в пункте 4 классификатор - бэггинг на рандомизированных деревьях (в которых при построении каждой вершины выбирается случайное подмножество признаков и разбиение ищется только по ним). Это в точности соответствует алгоритму Random Forest, поэтому почему бы не сравнить качество работы классификатора с RandomForestClassifier из sklearn.ensemble. Сделайте это, а затем изучите, как качество классификации на данном датасете зависит от \n",
    "\n",
    "* количества деревьев (estimator_number),\n",
    "* количества признаков, выбираемых при построении каждой вершины дерева (max_features), \n",
    "* а также ограничений на глубину дерева (max_depth).\n",
    "Для наглядности лучше построить графики зависимости качества от значений параметров, но для сдачи задания это делать не обязательно. "
   ]
  },
  {
   "cell_type": "markdown",
   "metadata": {},
   "source": [
    "Оценим количество ответов в зависимости от класса"
   ]
  },
  {
   "cell_type": "code",
   "execution_count": 30,
   "metadata": {},
   "outputs": [
    {
     "data": {
      "text/plain": [
       "Text(0.5, 0, 'Ответы на объектах')"
      ]
     },
     "execution_count": 30,
     "metadata": {},
     "output_type": "execute_result"
    },
    {
     "data": {
      "image/png": "[encoded data removed]",
      "text/plain": [
       "<Figure size 432x288 with 1 Axes>"
      ]
     },
     "metadata": {
      "needs_background": "light"
     },
     "output_type": "display_data"
    }
   ],
   "source": [
    "plt.hist(y)\n",
    "plt.ylabel('Количество объектов в классах')\n",
    "plt.xlabel('Ответы на объектах')"
   ]
  },
  {
   "cell_type": "markdown",
   "metadata": {},
   "source": [
    "Видно, что количество объектов в кадом классе примерно одинаково.\n",
    "\n",
    "Посмотрим общий количество объектов. "
   ]
  },
  {
   "cell_type": "code",
   "execution_count": 31,
   "metadata": {},
   "outputs": [],
   "source": [
    "n = len(y)"
   ]
  },
  {
   "cell_type": "markdown",
   "metadata": {},
   "source": [
    "Посмотрим распределение ответов на первых 20% объектах. "
   ]
  },
  {
   "cell_type": "code",
   "execution_count": 32,
   "metadata": {},
   "outputs": [
    {
     "data": {
      "text/plain": [
       "Text(0.5, 0, 'Ответы на объектах')"
      ]
     },
     "execution_count": 32,
     "metadata": {},
     "output_type": "execute_result"
    },
    {
     "data": {
      "image/png": "[encoded data removed]",
      "text/plain": [
       "<Figure size 432x288 with 1 Axes>"
      ]
     },
     "metadata": {
      "needs_background": "light"
     },
     "output_type": "display_data"
    }
   ],
   "source": [
    "plt.hist(y[:int(0.2*n)])\n",
    "plt.ylabel('Количество объектов в классах')\n",
    "plt.xlabel('Ответы на объектах')"
   ]
  },
  {
   "cell_type": "markdown",
   "metadata": {},
   "source": [
    "Видно, что объекты имеют около равномерное распределение по ответам."
   ]
  },
  {
   "cell_type": "code",
   "execution_count": 45,
   "metadata": {},
   "outputs": [
    {
     "data": {
      "text/plain": [
       "0.9476939788950961"
      ]
     },
     "execution_count": 45,
     "metadata": {},
     "output_type": "execute_result"
    }
   ],
   "source": [
    "rand_forest = RandomForestClassifier(n_jobs=-1, random_state=0)\n",
    "\n",
    "cvs = cross_val_score(rand_forest, X, y, cv=10, n_jobs=-1)\n",
    "\n",
    "res['RandomForestClassifier'] = cvs\n",
    "cvs.mean()"
   ]
  },
  {
   "cell_type": "markdown",
   "metadata": {},
   "source": [
    "Посмотрим результат сравнения:"
   ]
  },
  {
   "cell_type": "code",
   "execution_count": 22,
   "metadata": {},
   "outputs": [
    {
     "name": "stdout",
     "output_type": "stream",
     "text": [
      "0.83 1 tree\n",
      "0.927 100 trees. features = all\n",
      "0.929 100 trees. features = sqrt(num_features). BaggingClassifier\n",
      "0.946 100 trees. features = sqrt(num_features). DecisionTreeClassifier\n"
     ]
    }
   ],
   "source": [
    "for k, val in res.items():\n",
    "    print(round(val, 3), k)"
   ]
  },
  {
   "cell_type": "code",
   "execution_count": 47,
   "metadata": {},
   "outputs": [
    {
     "data": {
      "text/plain": [
       "{'bootstrap': True,\n",
       " 'ccp_alpha': 0.0,\n",
       " 'class_weight': None,\n",
       " 'criterion': 'gini',\n",
       " 'max_depth': None,\n",
       " 'max_features': 'auto',\n",
       " 'max_leaf_nodes': None,\n",
       " 'max_samples': None,\n",
       " 'min_impurity_decrease': 0.0,\n",
       " 'min_samples_leaf': 1,\n",
       " 'min_samples_split': 2,\n",
       " 'min_weight_fraction_leaf': 0.0,\n",
       " 'n_estimators': 100,\n",
       " 'n_jobs': -1,\n",
       " 'oob_score': False,\n",
       " 'random_state': 0,\n",
       " 'verbose': 0,\n",
       " 'warm_start': False}"
      ]
     },
     "execution_count": 47,
     "metadata": {},
     "output_type": "execute_result"
    }
   ],
   "source": [
    "rand_forest = RandomForestClassifier(n_jobs=-1, random_state=0)\n",
    "rand_forest.get_params()"
   ]
  },
  {
   "cell_type": "markdown",
   "metadata": {},
   "source": [
    "### Исследуем качество работы Random forest в зависимости от количества деревье в нем."
   ]
  },
  {
   "cell_type": "code",
   "execution_count": 48,
   "metadata": {},
   "outputs": [],
   "source": [
    "rand_forest = RandomForestClassifier(n_jobs=-1, random_state=0)\n",
    "grid_param = {'n_estimators':  np.arange(5, 501, 5)}"
   ]
  },
  {
   "cell_type": "code",
   "execution_count": 49,
   "metadata": {},
   "outputs": [
    {
     "name": "stdout",
     "output_type": "stream",
     "text": [
      "{'n_estimators': 145}\n",
      "0.9415892912411019\n"
     ]
    }
   ],
   "source": [
    "clf = GridSearchCV(rand_forest, param_grid=grid_param, cv=5, n_jobs=-1, scoring='accuracy').fit(X, y)\n",
    "print(clf.best_params_)\n",
    "print(clf.best_score_)"
   ]
  },
  {
   "cell_type": "code",
   "execution_count": 50,
   "metadata": {},
   "outputs": [
    {
     "data": {
      "text/plain": [
       "{'bootstrap': True,\n",
       " 'ccp_alpha': 0.0,\n",
       " 'class_weight': None,\n",
       " 'criterion': 'gini',\n",
       " 'max_depth': None,\n",
       " 'max_features': 'auto',\n",
       " 'max_leaf_nodes': None,\n",
       " 'max_samples': None,\n",
       " 'min_impurity_decrease': 0.0,\n",
       " 'min_samples_leaf': 1,\n",
       " 'min_samples_split': 2,\n",
       " 'min_weight_fraction_leaf': 0.0,\n",
       " 'n_estimators': 145,\n",
       " 'n_jobs': -1,\n",
       " 'oob_score': False,\n",
       " 'random_state': 0,\n",
       " 'verbose': 0,\n",
       " 'warm_start': False}"
      ]
     },
     "execution_count": 50,
     "metadata": {},
     "output_type": "execute_result"
    }
   ],
   "source": [
    "clf.best_estimator_.get_params()"
   ]
  },
  {
   "cell_type": "code",
   "execution_count": 51,
   "metadata": {},
   "outputs": [
    {
     "data": {
      "text/plain": [
       "Text(0.5, 1.0, 'Зависимость среднего значения Accuracy от количесво дереверьев в RandomForest')"
      ]
     },
     "execution_count": 51,
     "metadata": {},
     "output_type": "execute_result"
    },
    {
     "data": {
      "image/png": "[encoded data removed]",
      "text/plain": [
       "<Figure size 432x288 with 1 Axes>"
      ]
     },
     "metadata": {
      "needs_background": "light"
     },
     "output_type": "display_data"
    }
   ],
   "source": [
    "plt.plot(grid_param['n_estimators'], clf.cv_results_['mean_test_score'])\n",
    "plt.xlabel('Количество деревьев')\n",
    "plt.ylabel('Mean Accuracy')\n",
    "plt.title('Зависимость среднего значения Accuracy от количесво дереверьев в RandomForest')"
   ]
  },
  {
   "cell_type": "markdown",
   "metadata": {},
   "source": [
    "Таким образом \n",
    "\n",
    "1) Случайный лес сильно переобучается с ростом количества деревьев. \n",
    "\n",
    "Неверно. Из графика видно, что средняя точность держится на некотором ассимпотическом уровне с небольшим отклонением. Ни о каком переобучении речи нет.\n",
    "\n",
    "2) При очень маленьком числе деревьев (5, 10, 15), случайный лес работает хуже, чем при большем числе деревьев\n",
    "\n",
    "Верно. Из графика видно, что при маленьких значениях количества деревье среднее значение accuracy на кроссвалидационной выборке минимально, по сравнению с последующими значениями количества деревьев. \n",
    "\n",
    "3) С ростом количества деревьев в случайном лесе, в какой-то момент деревьев становится достаточно для высокого качества классификации, а затем качество существенно не меняется.\n",
    "\n",
    "Верно. Как видно из графика среднее значение Accuracy доходит до какого-то ассимптотического уровня и остется на нем имеея небольшие колебания."
   ]
  },
  {
   "cell_type": "markdown",
   "metadata": {},
   "source": [
    "### Исследуем качество классификации в зависимости от количества признков (max_features)"
   ]
  },
  {
   "cell_type": "code",
   "execution_count": 52,
   "metadata": {},
   "outputs": [],
   "source": [
    "rand_forest = RandomForestClassifier(n_jobs=-1, random_state=0)\n",
    "max_f = len(X[0])\n",
    "f_list = np.append(np.arange(1, max_f, 5), 64)\n",
    "grid_param = {'max_features':  f_list}"
   ]
  },
  {
   "cell_type": "code",
   "execution_count": 53,
   "metadata": {},
   "outputs": [
    {
     "name": "stdout",
     "output_type": "stream",
     "text": [
      "{'max_features': 6}\n",
      "0.9376988548437015\n"
     ]
    }
   ],
   "source": [
    "clf = GridSearchCV(rand_forest, param_grid=grid_param, cv=5, n_jobs=-1, scoring='accuracy').fit(X, y)\n",
    "print(clf.best_params_)\n",
    "print(clf.best_score_)"
   ]
  },
  {
   "cell_type": "code",
   "execution_count": 54,
   "metadata": {},
   "outputs": [
    {
     "data": {
      "text/plain": [
       "Text(0.5, 1.0, 'Зависимость среднего значения Accuracy от количетсва признакови в RandomForest')"
      ]
     },
     "execution_count": 54,
     "metadata": {},
     "output_type": "execute_result"
    },
    {
     "data": {
      "image/png": "[encoded data removed]",
      "text/plain": [
       "<Figure size 432x288 with 1 Axes>"
      ]
     },
     "metadata": {
      "needs_background": "light"
     },
     "output_type": "display_data"
    }
   ],
   "source": [
    "plt.plot(grid_param['max_features'], clf.cv_results_['mean_test_score'])\n",
    "plt.xlabel('Количество признаков')\n",
    "plt.ylabel('Mean Accuracy')\n",
    "plt.title('Зависимость среднего значения Accuracy от количетсва признакови в RandomForest')"
   ]
  },
  {
   "cell_type": "markdown",
   "metadata": {},
   "source": [
    "4) При большом количестве признаков (для данного датасета - 40, 50) качество классификации становится хуже, чем при малом количестве признаков (5, 10). Это связано с тем, что чем меньше признаков выбирается в каждом узле, тем более различными получаются деревья (ведь деревья сильно неустойчивы к изменениям в обучающей выборке), и тем лучше работает их композиция.\n",
    "\n",
    "Верно.\n",
    "\n",
    "5) При большом количестве признаков (40, 50, 60) качество классификации лучше, чем при малом количестве признаков (5, 10). Это связано с тем, что чем больше признаков - тем больше информации об объектах, а значит алгоритм может делать прогнозы более точно.\n",
    "\n",
    "Неверно.\n",
    "\n",
    "Все видно по графику выше."
   ]
  },
  {
   "cell_type": "markdown",
   "metadata": {},
   "source": [
    "#  Исследуем качество классификации в зависимости от глубины деревьев в RandomForest"
   ]
  },
  {
   "cell_type": "code",
   "execution_count": 55,
   "metadata": {},
   "outputs": [],
   "source": [
    "rand_forest = RandomForestClassifier(n_jobs=-1, random_state=0)\n",
    "grid_param = {'max_depth':  np.arange(1, 200, 3)}"
   ]
  },
  {
   "cell_type": "code",
   "execution_count": 56,
   "metadata": {},
   "outputs": [
    {
     "name": "stdout",
     "output_type": "stream",
     "text": [
      "{'max_depth': 10}\n",
      "0.9438084184463016\n"
     ]
    }
   ],
   "source": [
    "clf = GridSearchCV(rand_forest, param_grid=grid_param, cv=5, n_jobs=-1, scoring='accuracy').fit(X, y)\n",
    "print(clf.best_params_)\n",
    "print(clf.best_score_)"
   ]
  },
  {
   "cell_type": "code",
   "execution_count": 57,
   "metadata": {},
   "outputs": [
    {
     "data": {
      "text/plain": [
       "Text(0.5, 1.0, 'Зависимость среднего значения Accuracy от клбины деревьев в RandomForest')"
      ]
     },
     "execution_count": 57,
     "metadata": {},
     "output_type": "execute_result"
    },
    {
     "data": {
      "image/png": "[encoded data removed]",
      "text/plain": [
       "<Figure size 432x288 with 1 Axes>"
      ]
     },
     "metadata": {
      "needs_background": "light"
     },
     "output_type": "display_data"
    }
   ],
   "source": [
    "plt.plot(grid_param['max_depth'], clf.cv_results_['mean_test_score'])\n",
    "plt.xlabel('Макс. глубина деревьев')\n",
    "plt.ylabel('Mean Accuracy')\n",
    "plt.title('Зависимость среднего значения Accuracy от клбины деревьев в RandomForest')"
   ]
  },
  {
   "cell_type": "markdown",
   "metadata": {},
   "source": [
    "6) При небольшой максимальной глубине деревьев (5-6) качество работы случайного леса намного лучше, чем без ограничения глубины, т.к. деревья получаются не переобученными. С ростом глубины деревьев качество ухудшается.\n",
    "\n",
    "Неверно.\n",
    "\n",
    "7) При небольшой максимальной глубине деревьев (5-6) качество работы случайного леса заметно хуже, чем без ограничений, т.к. деревья получаются недообученными. С ростом глубины качество сначала улучшается, а затем не меняется существенно, т.к. из-за усреднения прогнозов и различий деревьев их переобученность в бэггинге не сказывается на итоговом качестве (все деревья преобучены по-разному, и при усреднении они компенсируют переобученность друг-друга).\n",
    "\n",
    "Верно.\n",
    "\n",
    "Все видно из графика приведенного выше. "
   ]
  },
  {
   "cell_type": "code",
   "execution_count": null,
   "metadata": {},
   "outputs": [],
   "source": []
  }
 ],
 "metadata": {
  "interpreter": {
   "hash": "9c3b7df13784f01328c2631e984956adf70bf3282c42d87cfafb0a989ce8d5dc"
  },
  "kernelspec": {
   "display_name": "Python 3.9.4 64-bit ('02_coursera_yandex-gbo-Kul1': virtualenv)",
   "name": "python3"
  },
  "language_info": {
   "codemirror_mode": {
    "name": "ipython",
    "version": 3
   },
   "file_extension": ".py",
   "mimetype": "text/x-python",
   "name": "python",
   "nbconvert_exporter": "python",
   "pygments_lexer": "ipython3",
   "version": "3.9.4"
  }
 },
 "nbformat": 4,
 "nbformat_minor": 1
}
