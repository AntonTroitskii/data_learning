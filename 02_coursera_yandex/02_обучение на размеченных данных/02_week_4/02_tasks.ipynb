{
 "cells": [
  {
   "cell_type": "markdown",
   "metadata": {},
   "source": [
    "Мы всё ещё пытаемся найти лучшее разбиение для вершины m, и теперь хотим вычислить значение критерия Джини для левой вершины в конкретном разбиении. В выборке три класса, и распределение объектов между ними в левой вершине выглядит так: p_1 = 0.9, p_2 = 0.07, p_3 = 0.03. Чему же будет равно значение критерия Джини?"
   ]
  },
  {
   "cell_type": "code",
   "execution_count": 24,
   "metadata": {},
   "outputs": [
    {
     "data": {
      "text/plain": [
       "0.18419999999999997"
      ]
     },
     "execution_count": 24,
     "metadata": {},
     "output_type": "execute_result"
    }
   ],
   "source": [
    "import numpy as np\n",
    "pk_list = [0.9, 0.07, 0.03]\n",
    "\n",
    "p1 = np.array(pk_list)\n",
    "p2 = 1 - p1\n",
    "(p1*p2).sum()"
   ]
  },
  {
   "cell_type": "markdown",
   "metadata": {},
   "source": [
    "# Критерий Джини\n",
    "\n",
    "$ H(x) = \\sum_i^n p_k (1-p_k) $"
   ]
  },
  {
   "cell_type": "code",
   "execution_count": null,
   "metadata": {},
   "outputs": [],
   "source": []
  }
 ],
 "metadata": {
  "interpreter": {
   "hash": "9c3b7df13784f01328c2631e984956adf70bf3282c42d87cfafb0a989ce8d5dc"
  },
  "kernelspec": {
   "display_name": "Python 3.9.4 64-bit ('02_coursera_yandex-gbo-Kul1': virtualenv)",
   "name": "python3"
  },
  "language_info": {
   "codemirror_mode": {
    "name": "ipython",
    "version": 3
   },
   "file_extension": ".py",
   "mimetype": "text/x-python",
   "name": "python",
   "nbconvert_exporter": "python",
   "pygments_lexer": "ipython3",
   "version": "3.9.4"
  },
  "orig_nbformat": 4
 },
 "nbformat": 4,
 "nbformat_minor": 2
}
