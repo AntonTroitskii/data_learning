{
 "cells": [
  {
   "cell_type": "markdown",
   "metadata": {},
   "source": [
    "## Нейронные сети: зависимость ошибки и обучающей способности от числа нейронов "
   ]
  },
  {
   "cell_type": "markdown",
   "metadata": {},
   "source": [
    "В этом задании вы будете настраивать двуслойную нейронную сеть для решения задачи многоклассовой классификации. Предлагается выполнить процедуры загрузки и разбиения входных данных, обучения сети и подсчета ошибки классификации. Предлагается определить оптимальное количество нейронов в скрытом слое сети. Нужно так подобрать число нейронов, чтобы модель была с одной стороны несложной, а с другой стороны давала бы достаточно точный прогноз и не переобучалась. Цель задания -- показать, как зависит точность и обучающая способность сети от ее сложности."
   ]
  },
  {
   "cell_type": "markdown",
   "metadata": {},
   "source": [
    "Для решения задачи многоклассовой классификации предлагается воспользоваться библиотекой построения нейронных сетей [pybrain](http://pybrain.org/). Библиотека содержит основные модули инициализации двуслойной нейронной сети прямого распространения, оценки ее параметров с помощью метода обратного распространения ошибки (backpropagation) и подсчета ошибки.\n",
    "\n",
    "Установить библиотеку pybrain можно с помощью стандартной системы управления пакетами pip:\n",
    "\n",
    "```\n",
    "pip install pybrain\n",
    "```\n",
    "Кроме того, для установки библиотеки можно использовать и другие способы, приведенные в [документации](https://github.com/pybrain/pybrain/wiki/installation). "
   ]
  },
  {
   "cell_type": "markdown",
   "metadata": {},
   "source": [
    "###  Используемые данные\n",
    "\n",
    "Рассматривается задача оценки качества вина по его физико-химическим свойствам [1]. Данные размещены в [открытом доступе](https://archive.ics.uci.edu/ml/machine-learning-databases/wine-quality/winequality-red.csv) в репозитории UCI  и содержат 1599 образцов красного вина, описанных 11 признаками, среди которых -- кислотность, процентное содержание сахара, алкоголя и пр. Кроме того, каждому объекту поставлена в соответствие оценка качества по шкале от 0 до 10. Требуется восстановить оценку качества вина по исходному признаковому описанию.\n",
    "\n",
    "[1] P. Cortez, A. Cerdeira, F. Almeida, T. Matos and J. Reis. Modeling wine preferences by data mining from physicochemical properties.  In Decision Support Systems, Elsevier, 47(4):547-553, 2009. "
   ]
  },
  {
   "cell_type": "code",
   "execution_count": 1,
   "metadata": {
    "collapsed": true
   },
   "outputs": [],
   "source": [
    "# Выполним инициализацию основных используемых модулей\n",
    "%matplotlib inline\n",
    "\n",
    "import random\n",
    "import matplotlib.pyplot as plt\n",
    "from sklearn.preprocessing import normalize\n",
    "import numpy as np\n",
    "import pandas as pd"
   ]
  },
  {
   "cell_type": "markdown",
   "metadata": {},
   "source": [
    "Выполним загрузку данных"
   ]
  },
  {
   "cell_type": "code",
   "execution_count": 2,
   "metadata": {
    "collapsed": false
   },
   "outputs": [
    {
     "data": {
      "text/html": [
       "<div>\n",
       "<style scoped>\n",
       "    .dataframe tbody tr th:only-of-type {\n",
       "        vertical-align: middle;\n",
       "    }\n",
       "\n",
       "    .dataframe tbody tr th {\n",
       "        vertical-align: top;\n",
       "    }\n",
       "\n",
       "    .dataframe thead th {\n",
       "        text-align: right;\n",
       "    }\n",
       "</style>\n",
       "<table border=\"1\" class=\"dataframe\">\n",
       "  <thead>\n",
       "    <tr style=\"text-align: right;\">\n",
       "      <th></th>\n",
       "      <th>fixed acidity</th>\n",
       "      <th>volatile acidity</th>\n",
       "      <th>citric acid</th>\n",
       "      <th>residual sugar</th>\n",
       "      <th>chlorides</th>\n",
       "      <th>free sulfur dioxide</th>\n",
       "      <th>total sulfur dioxide</th>\n",
       "      <th>density</th>\n",
       "      <th>pH</th>\n",
       "      <th>sulphates</th>\n",
       "      <th>alcohol</th>\n",
       "      <th>quality</th>\n",
       "    </tr>\n",
       "  </thead>\n",
       "  <tbody>\n",
       "    <tr>\n",
       "      <th>0</th>\n",
       "      <td>7.4</td>\n",
       "      <td>0.700</td>\n",
       "      <td>0.00</td>\n",
       "      <td>1.9</td>\n",
       "      <td>0.076</td>\n",
       "      <td>11.0</td>\n",
       "      <td>34.0</td>\n",
       "      <td>0.99780</td>\n",
       "      <td>3.51</td>\n",
       "      <td>0.56</td>\n",
       "      <td>9.4</td>\n",
       "      <td>5</td>\n",
       "    </tr>\n",
       "    <tr>\n",
       "      <th>1</th>\n",
       "      <td>7.8</td>\n",
       "      <td>0.880</td>\n",
       "      <td>0.00</td>\n",
       "      <td>2.6</td>\n",
       "      <td>0.098</td>\n",
       "      <td>25.0</td>\n",
       "      <td>67.0</td>\n",
       "      <td>0.99680</td>\n",
       "      <td>3.20</td>\n",
       "      <td>0.68</td>\n",
       "      <td>9.8</td>\n",
       "      <td>5</td>\n",
       "    </tr>\n",
       "    <tr>\n",
       "      <th>2</th>\n",
       "      <td>7.8</td>\n",
       "      <td>0.760</td>\n",
       "      <td>0.04</td>\n",
       "      <td>2.3</td>\n",
       "      <td>0.092</td>\n",
       "      <td>15.0</td>\n",
       "      <td>54.0</td>\n",
       "      <td>0.99700</td>\n",
       "      <td>3.26</td>\n",
       "      <td>0.65</td>\n",
       "      <td>9.8</td>\n",
       "      <td>5</td>\n",
       "    </tr>\n",
       "    <tr>\n",
       "      <th>3</th>\n",
       "      <td>11.2</td>\n",
       "      <td>0.280</td>\n",
       "      <td>0.56</td>\n",
       "      <td>1.9</td>\n",
       "      <td>0.075</td>\n",
       "      <td>17.0</td>\n",
       "      <td>60.0</td>\n",
       "      <td>0.99800</td>\n",
       "      <td>3.16</td>\n",
       "      <td>0.58</td>\n",
       "      <td>9.8</td>\n",
       "      <td>6</td>\n",
       "    </tr>\n",
       "    <tr>\n",
       "      <th>4</th>\n",
       "      <td>7.4</td>\n",
       "      <td>0.700</td>\n",
       "      <td>0.00</td>\n",
       "      <td>1.9</td>\n",
       "      <td>0.076</td>\n",
       "      <td>11.0</td>\n",
       "      <td>34.0</td>\n",
       "      <td>0.99780</td>\n",
       "      <td>3.51</td>\n",
       "      <td>0.56</td>\n",
       "      <td>9.4</td>\n",
       "      <td>5</td>\n",
       "    </tr>\n",
       "    <tr>\n",
       "      <th>...</th>\n",
       "      <td>...</td>\n",
       "      <td>...</td>\n",
       "      <td>...</td>\n",
       "      <td>...</td>\n",
       "      <td>...</td>\n",
       "      <td>...</td>\n",
       "      <td>...</td>\n",
       "      <td>...</td>\n",
       "      <td>...</td>\n",
       "      <td>...</td>\n",
       "      <td>...</td>\n",
       "      <td>...</td>\n",
       "    </tr>\n",
       "    <tr>\n",
       "      <th>1594</th>\n",
       "      <td>6.2</td>\n",
       "      <td>0.600</td>\n",
       "      <td>0.08</td>\n",
       "      <td>2.0</td>\n",
       "      <td>0.090</td>\n",
       "      <td>32.0</td>\n",
       "      <td>44.0</td>\n",
       "      <td>0.99490</td>\n",
       "      <td>3.45</td>\n",
       "      <td>0.58</td>\n",
       "      <td>10.5</td>\n",
       "      <td>5</td>\n",
       "    </tr>\n",
       "    <tr>\n",
       "      <th>1595</th>\n",
       "      <td>5.9</td>\n",
       "      <td>0.550</td>\n",
       "      <td>0.10</td>\n",
       "      <td>2.2</td>\n",
       "      <td>0.062</td>\n",
       "      <td>39.0</td>\n",
       "      <td>51.0</td>\n",
       "      <td>0.99512</td>\n",
       "      <td>3.52</td>\n",
       "      <td>0.76</td>\n",
       "      <td>11.2</td>\n",
       "      <td>6</td>\n",
       "    </tr>\n",
       "    <tr>\n",
       "      <th>1596</th>\n",
       "      <td>6.3</td>\n",
       "      <td>0.510</td>\n",
       "      <td>0.13</td>\n",
       "      <td>2.3</td>\n",
       "      <td>0.076</td>\n",
       "      <td>29.0</td>\n",
       "      <td>40.0</td>\n",
       "      <td>0.99574</td>\n",
       "      <td>3.42</td>\n",
       "      <td>0.75</td>\n",
       "      <td>11.0</td>\n",
       "      <td>6</td>\n",
       "    </tr>\n",
       "    <tr>\n",
       "      <th>1597</th>\n",
       "      <td>5.9</td>\n",
       "      <td>0.645</td>\n",
       "      <td>0.12</td>\n",
       "      <td>2.0</td>\n",
       "      <td>0.075</td>\n",
       "      <td>32.0</td>\n",
       "      <td>44.0</td>\n",
       "      <td>0.99547</td>\n",
       "      <td>3.57</td>\n",
       "      <td>0.71</td>\n",
       "      <td>10.2</td>\n",
       "      <td>5</td>\n",
       "    </tr>\n",
       "    <tr>\n",
       "      <th>1598</th>\n",
       "      <td>6.0</td>\n",
       "      <td>0.310</td>\n",
       "      <td>0.47</td>\n",
       "      <td>3.6</td>\n",
       "      <td>0.067</td>\n",
       "      <td>18.0</td>\n",
       "      <td>42.0</td>\n",
       "      <td>0.99549</td>\n",
       "      <td>3.39</td>\n",
       "      <td>0.66</td>\n",
       "      <td>11.0</td>\n",
       "      <td>6</td>\n",
       "    </tr>\n",
       "  </tbody>\n",
       "</table>\n",
       "<p>1599 rows × 12 columns</p>\n",
       "</div>"
      ],
      "text/plain": [
       "      fixed acidity  volatile acidity  citric acid  residual sugar  chlorides  \\\n",
       "0               7.4             0.700         0.00             1.9      0.076   \n",
       "1               7.8             0.880         0.00             2.6      0.098   \n",
       "2               7.8             0.760         0.04             2.3      0.092   \n",
       "3              11.2             0.280         0.56             1.9      0.075   \n",
       "4               7.4             0.700         0.00             1.9      0.076   \n",
       "...             ...               ...          ...             ...        ...   \n",
       "1594            6.2             0.600         0.08             2.0      0.090   \n",
       "1595            5.9             0.550         0.10             2.2      0.062   \n",
       "1596            6.3             0.510         0.13             2.3      0.076   \n",
       "1597            5.9             0.645         0.12             2.0      0.075   \n",
       "1598            6.0             0.310         0.47             3.6      0.067   \n",
       "\n",
       "      free sulfur dioxide  total sulfur dioxide  density    pH  sulphates  \\\n",
       "0                    11.0                  34.0  0.99780  3.51       0.56   \n",
       "1                    25.0                  67.0  0.99680  3.20       0.68   \n",
       "2                    15.0                  54.0  0.99700  3.26       0.65   \n",
       "3                    17.0                  60.0  0.99800  3.16       0.58   \n",
       "4                    11.0                  34.0  0.99780  3.51       0.56   \n",
       "...                   ...                   ...      ...   ...        ...   \n",
       "1594                 32.0                  44.0  0.99490  3.45       0.58   \n",
       "1595                 39.0                  51.0  0.99512  3.52       0.76   \n",
       "1596                 29.0                  40.0  0.99574  3.42       0.75   \n",
       "1597                 32.0                  44.0  0.99547  3.57       0.71   \n",
       "1598                 18.0                  42.0  0.99549  3.39       0.66   \n",
       "\n",
       "      alcohol  quality  \n",
       "0         9.4        5  \n",
       "1         9.8        5  \n",
       "2         9.8        5  \n",
       "3         9.8        6  \n",
       "4         9.4        5  \n",
       "...       ...      ...  \n",
       "1594     10.5        5  \n",
       "1595     11.2        6  \n",
       "1596     11.0        6  \n",
       "1597     10.2        5  \n",
       "1598     11.0        6  \n",
       "\n",
       "[1599 rows x 12 columns]"
      ]
     },
     "execution_count": 2,
     "metadata": {},
     "output_type": "execute_result"
    }
   ],
   "source": [
    "with open('winequality-red.csv') as f:\n",
    "    f.readline()  # пропуск заголовочной строки\n",
    "    data = np.loadtxt(f, delimiter=';')\n",
    "    data_df = pd.read_csv('winequality-red.csv', delimiter=';')\n",
    "data\n",
    "\n",
    "data_df"
   ]
  },
  {
   "cell_type": "markdown",
   "metadata": {},
   "source": [
    "В качестве альтернативного варианта, можно выполнить загрузку данных напрямую из репозитория UCI, воспользовавшись библиотекой urllib."
   ]
  },
  {
   "cell_type": "code",
   "execution_count": 3,
   "metadata": {
    "collapsed": false
   },
   "outputs": [],
   "source": [
    "# import urllib\n",
    "# # URL for the Wine Quality Data Set (UCI Machine Learning Repository)\n",
    "# url = \"https://archive.ics.uci.edu/ml/machine-learning-databases/wine-quality/winequality-red.csv\"\n",
    "# # загрузка файла\n",
    "# f = urllib.urlopen(url)\n",
    "# f.readline()  # пропуск заголовочной строки\n",
    "# data = np.loadtxt(f, delimiter=';')"
   ]
  },
  {
   "cell_type": "markdown",
   "metadata": {},
   "source": [
    "Выделим из данных целевую переменную. Классы в задаче являются несбалинсированными: основной доле объектов поставлена оценка качества от 5 до 7. Приведем задачу к трехклассовой: объектам с оценкой качества меньше пяти поставим оценку 5, а объектам с оценкой качества больше семи поставим 7. "
   ]
  },
  {
   "cell_type": "code",
   "execution_count": 4,
   "metadata": {
    "collapsed": false
   },
   "outputs": [],
   "source": [
    "TRAIN_SIZE = 0.7 # Разделение данных на обучающую и контрольную части в пропорции 70/30%\n",
    "from sklearn.model_selection import train_test_split\n",
    "\n",
    "y = data[:, -1]\n",
    "np.place(y, y < 5, 5)\n",
    "np.place(y, y > 7, 7)\n",
    "y -= min(y)\n",
    "X = data[:, :-1]\n",
    "X = normalize(X)\n",
    "\n",
    "X_train, X_test, y_train, y_test = train_test_split(X, y, train_size=TRAIN_SIZE, random_state=0)"
   ]
  },
  {
   "cell_type": "markdown",
   "metadata": {},
   "source": []
  },
  {
   "cell_type": "markdown",
   "metadata": {},
   "source": [
    "### Двуслойная нейронная сеть\n",
    "\n",
    "Двуслойная нейронная сеть представляет собой функцию распознавания, которая може быть записана в виде следующей суперпозиции:\n",
    "\n",
    "$f(x,W)=h^{(2)}\\left(\\sum\\limits_{i=1}^D w_i^{(2)}h^{(1)}\\left(\\sum\\limits_{j=1}^n w_{ji}^{(1)}x_j+b_i^{(1)}\\right)+b^{(2)}\\right)$, где\n",
    "\n",
    "$x$ -- исходный объект (сорт вина, описанный 11 признаками), $x_j$ -- соответствующий признак,\n",
    "\n",
    "$n$ --  количество нейронов во входном слое сети, совпадающее с количеством признаков,\n",
    "\n",
    "$D$ --  количество нейронов в скрытом слое сети,\n",
    "\n",
    "$w_i^{(2)}, w_{ji}^{(1)}, b_i^{(1)}, b^{(2)}$ --  параметры сети, соответствующие весам нейронов,\n",
    "\n",
    "$h^{(1)}, h^{(2)}$ -- функции активации.\n",
    "\n",
    "В качестве функции активации на скрытом слое сети используется линейная функция. На выходном слое сети используется функция активации softmax, являющаяся обобщением сигмоидной функции на многоклассовый случай:\n",
    "\n",
    "$y_k=\\text{softmax}_k(a_1,...,a_k)=\\frac{\\exp(a_k)}{\\sum_{k=1}^K\\exp(a_k)}.$\n",
    "\n"
   ]
  },
  {
   "cell_type": "markdown",
   "metadata": {},
   "source": [
    "### Настройка параметров сети\n",
    "\n",
    "Оптимальные параметры сети $W_{opt}$ определяются путем минимизации функции ошибки:\n",
    "\n",
    "$W_{opt}=\\arg\\min\\limits_{W}L(W)+\\lambda\\|W\\|^2$.\n",
    "\n",
    "Здесь $L(W)$ является функцией ошибки многоклассовой классификации,\n",
    "\n",
    "$L(W)=- \\sum^N_{n=1}\\sum^K_{k=1} t_{kn} log(y_{kn}),$\n",
    "\n",
    "$t_{kn}$ -- бинарно закодированные метки классов, $K$ -- количество меток, $N$ -- количество объектов,\n",
    "\n",
    "а $\\lambda\\|W\\|^2$ является регуляризующим слагаемым, контролирующим суммарный вес параметров сети и предотвращающий эффект переобучения.\n",
    "\n",
    "Оптимизация параметров выполняется методом обратного распространения ошибки (backpropagation)."
   ]
  },
  {
   "cell_type": "markdown",
   "metadata": {},
   "source": [
    "Выполним загрузку основных модулей: ClassificationDataSet -- структура данных pybrain, buildNetwork -- инициализация нейронной сети, BackpropTrainer -- оптимизация параметров сети методом backpropagation, SoftmaxLayer -- функция softmax, соответствующая выходному слою сети, percentError -- функцию подсчета ошибки классификации (доля неправильных ответов). "
   ]
  },
  {
   "cell_type": "code",
   "execution_count": 5,
   "metadata": {
    "collapsed": false
   },
   "outputs": [],
   "source": [
    "from pybrain.datasets import ClassificationDataSet # Структура данных pybrain\n",
    "from pybrain.tools.shortcuts import buildNetwork\n",
    "from pybrain.supervised.trainers import BackpropTrainer\n",
    "from pybrain.structure.modules import SoftmaxLayer\n",
    "from pybrain.utilities import percentError"
   ]
  },
  {
   "cell_type": "markdown",
   "metadata": {},
   "source": [
    "Инициализируем основные параметры задачи: HIDDEN_NEURONS_NUM -- количество нейронов скрытого слоя, MAX_EPOCHS -- максимальное количество итераций алгоритма оптимизации"
   ]
  },
  {
   "cell_type": "code",
   "execution_count": 6,
   "metadata": {
    "collapsed": true
   },
   "outputs": [],
   "source": [
    "# Определение основных констант\n",
    "HIDDEN_NEURONS_NUM = 100 # Количество нейронов, содержащееся в скрытом слое сети\n",
    "MAX_EPOCHS = 100 # Максимальное число итераций алгоритма оптимизации параметров сети"
   ]
  },
  {
   "cell_type": "markdown",
   "metadata": {},
   "source": [
    "Инициализируем структуру данных ClassificationDataSet, используемую библиотекой pybrain. Для инициализации структура принимает два аргумента: количество признаков *np.shape(X)[1]* и количество различных меток классов *len(np.unique(y))*.\n",
    "\n",
    "Кроме того, произведем бинаризацию целевой переменной с помощью функции *_convertToOneOfMany( )* и разбиение данных на обучающую и контрольную части."
   ]
  },
  {
   "cell_type": "code",
   "execution_count": 7,
   "metadata": {
    "collapsed": false
   },
   "outputs": [],
   "source": [
    "# Конвертация данных в структуру ClassificationDataSet\n",
    "# Обучающая часть\n",
    "ds_train = ClassificationDataSet(np.shape(X)[1], nb_classes=len(np.unique(y_train)))\n",
    "# Первый аргумент -- количество признаков np.shape(X)[1], второй аргумент -- количество меток классов len(np.unique(y_train)))\n",
    "\n",
    "ds_train.setField('input', X_train) # Инициализация объектов\n",
    "ds_train.setField('target', y_train[:, np.newaxis]) # Инициализация ответов; np.newaxis создает вектор-столбец\n",
    "ds_train._convertToOneOfMany() # Бинаризация вектора ответов\n",
    "\n",
    "# Контрольная часть\n",
    "ds_test = ClassificationDataSet(np.shape(X)[1], nb_classes=len(np.unique(y_train)))\n",
    "ds_test.setField('input', X_test)\n",
    "ds_test.setField('target', y_test[:, np.newaxis])\n",
    "ds_test._convertToOneOfMany()"
   ]
  },
  {
   "cell_type": "markdown",
   "metadata": {},
   "source": [
    "Инициализируем двуслойную сеть и произведем оптимизацию ее параметров. Аргументами для инициализации являются:\n",
    "\n",
    "ds.indim -- количество нейронов на входном слое сети, совпадает с количеством признаков (в нашем случае 11),\n",
    "\n",
    "HIDDEN_NEURONS_NUM -- количество нейронов в скрытом слое сети,\n",
    "\n",
    "ds.outdim -- количество нейронов на выходном слое сети, совпадает с количеством различных меток классов (в нашем случае 3),\n",
    "\n",
    "SoftmaxLayer -- функция softmax, используемая на выходном слое для решения задачи многоклассовой классификации."
   ]
  },
  {
   "cell_type": "code",
   "execution_count": 8,
   "metadata": {
    "collapsed": false,
    "scrolled": true
   },
   "outputs": [],
   "source": [
    "np.random.seed(0) # Зафиксируем seed для получения воспроизводимого результата\n",
    "\n",
    "# Построение сети прямого распространения (Feedforward network)\n",
    "net = buildNetwork(ds_train.indim, HIDDEN_NEURONS_NUM, ds_train.outdim, outclass=SoftmaxLayer)\n",
    "# ds.indim -- количество нейронов входного слоя, равне количеству признаков\n",
    "# ds.outdim -- количество нейронов выходного слоя, равное количеству меток классов\n",
    "# SoftmaxLayer -- функция активации, пригодная для решения задачи многоклассовой классификации\n",
    "\n",
    "init_params = np.random.random((len(net.params))) # Инициализируем веса сети для получения воспроизводимого результата\n",
    "net._setParameters(init_params)"
   ]
  },
  {
   "cell_type": "markdown",
   "metadata": {},
   "source": [
    " Выполним оптимизацию параметров сети. График ниже показывает сходимость функции ошибки на обучающей/контрольной части."
   ]
  },
  {
   "cell_type": "code",
   "execution_count": 9,
   "metadata": {
    "collapsed": false
   },
   "outputs": [
    {
     "data": {
      "image/png": "[encoded data removed]",
      "text/plain": [
       "<Figure size 432x288 with 1 Axes>"
      ]
     },
     "metadata": {
      "needs_background": "light"
     },
     "output_type": "display_data"
    }
   ],
   "source": [
    "random.seed(0)\n",
    "# Модуль настройки параметров pybrain использует модуль random; зафиксируем seed для получения воспроизводимого результата\n",
    "trainer = BackpropTrainer(net, dataset=ds_train) # Инициализируем модуль оптимизации\n",
    "err_train, err_val = trainer.trainUntilConvergence(maxEpochs=MAX_EPOCHS)\n",
    "line_train = plt.plot(err_train, 'b', err_val, 'r') # Построение графика\n",
    "xlab = plt.xlabel('Iterations')\n",
    "ylab = plt.ylabel('Error')"
   ]
  },
  {
   "cell_type": "markdown",
   "metadata": {},
   "source": [
    "Рассчитаем значение доли неправильных ответов на обучающей и контрольной выборке."
   ]
  },
  {
   "cell_type": "code",
   "execution_count": 10,
   "metadata": {
    "collapsed": false,
    "scrolled": true
   },
   "outputs": [
    {
     "name": "stdout",
     "output_type": "stream",
     "text": [
      "Error on train:  51.29579982126899 %\n",
      "Error on test:  46.666666666666664 %\n"
     ]
    }
   ],
   "source": [
    "res_train = net.activateOnDataset(ds_train).argmax(axis=1) # Подсчет результата на обучающей выборке\n",
    "print('Error on train: ', percentError(res_train, ds_train['target'].argmax(axis=1)), '%') # Подсчет ошибки\n",
    "\n",
    "res_test = net.activateOnDataset(ds_test).argmax(axis=1) # Подсчет результата на тестовой выборке\n",
    "print('Error on test: ', percentError(res_test, ds_test['target'].argmax(axis=1)), '%') # Подсчет ошибки"
   ]
  },
  {
   "cell_type": "markdown",
   "metadata": {},
   "source": [
    "### Задание. Определение оптимального числа нейронов.\n",
    "В задании требуется исследовать зависимость ошибки на контрольной выборке в зависимости от числа нейронов в скрытом слое сети. Количество нейронов, по которому предполагается провести перебор, записано в векторе \n",
    "```\n",
    "hidden_neurons_num = [50, 100, 200, 500, 700, 1000]\n",
    "```\n",
    "\n",
    "1. Для фиксированного разбиения на обучающую и контрольную части подсчитайте долю неправильных ответов (ошибок) классификации на обучении/контроле в зависимости от количества нейронов в скрытом слое сети. Запишите результаты в массивы ```res_train_vec``` и ```res_test_vec```, соответственно. С помощью функции ```plot_classification_error``` постройте график зависимости ошибок на обучении/контроле от количества нейронов. Являются ли графики ошибок возрастающими/убывающими? При каком количестве нейронов достигается минимум ошибок классификации?\n",
    "\n",
    "2. С помощью функции ```write_answer_nn``` запишите в выходной файл число: количество нейронов в скрытом слое сети, для которого достигается минимум ошибки классификации на контрольной выборке."
   ]
  },
  {
   "cell_type": "code",
   "execution_count": 11,
   "metadata": {
    "collapsed": false
   },
   "outputs": [],
   "source": [
    "random.seed(0) # Зафиксируем seed для получния воспроизводимого результата\n",
    "np.random.seed(0)\n",
    "\n",
    "def write_answer_nn(optimal_neurons_num):\n",
    "    with open(\"nnets_answer1.txt\", \"w\") as fout:\n",
    "        fout.write(str(optimal_neurons_num))\n",
    "\n",
    "def plot_classification_error(hidden_neurons_num, res_train_vec, res_test_vec):\n",
    "# hidden_neurons_num -- массив размера h, содержащий количество нейронов, по которому предполагается провести перебор,\n",
    "#   hidden_neurons_num = [50, 100, 200, 500, 700, 1000];\n",
    "# res_train_vec -- массив размера h, содержащий значения доли неправильных ответов классификации на обучении;\n",
    "# res_train_vec -- массив размера h, содержащий значения доли неправильных ответов классификации на контроле\n",
    "    plt.figure()\n",
    "    plt.plot(hidden_neurons_num, res_train_vec, label='train')\n",
    "    plt.plot(hidden_neurons_num, res_test_vec, '-r', label='test')\n",
    "\n",
    "    plt.legend()"
   ]
  },
  {
   "cell_type": "code",
   "execution_count": 17,
   "metadata": {},
   "outputs": [],
   "source": [
    "random.seed(0) # Зафиксируем seed для получния воспроизводимого результата\n",
    "np.random.seed(0)\n",
    "\n",
    "from pybrain.structure.modules import LinearLayer\n",
    "\n",
    "hidden_neurons_num = [50, 100, 200, 500, 700, 1000]\n",
    "res_train_vec = list()\n",
    "res_test_vec = list()\n",
    "\n",
    "\n",
    "\n",
    "for nnum in hidden_neurons_num:\n",
    "    # Put your code here\n",
    "    # Не забудьте про инициализацию весов командой np.random.random((len(net.params)))\n",
    "\n",
    "    net = buildNetwork(ds_train.indim, nnum, ds_train.outdim, outclass=SoftmaxLayer, hiddenclass = LinearLayer)\n",
    "    # ds.indim -- количество нейронов входного слоя, равне количеству признаков\n",
    "    # nnum количество нейронов в скрытом слое\n",
    "    # ds.outdim -- количество нейронов выходного слоя, равное количеству меток классов\n",
    "    # SoftmaxLayer -- функция активации, пригодная для решения задачи многоклассовой классификации\n",
    "\n",
    "    init_params = np.random.random((len(net.params))) # Инициализируем веса сети для получения воспроизводимого результата\n",
    "    net._setParameters(init_params)\n",
    "    \n",
    "    # Модуль настройки параметров pybrain использует модуль random; зафиксируем seed для получения воспроизводимого результата\n",
    "    trainer = BackpropTrainer(net, dataset=ds_train) # Инициализируем модуль оптимизации\n",
    "    trainer.trainUntilConvergence(maxEpochs=MAX_EPOCHS)\n",
    "\n",
    "    res_train = net.activateOnDataset(ds_train).argmax(axis=1) # Подсчет результата на обучающей выборке\n",
    "    res_test = net.activateOnDataset(ds_test).argmax(axis=1) # Подсчет результата на тестовой выборке\n",
    "\n",
    "    res_train_vec.append(percentError(res_train, ds_train['target'].argmax(axis=1)))\n",
    "    res_test_vec.append(percentError(res_test, ds_test['target'].argmax(axis=1)))"
   ]
  },
  {
   "cell_type": "code",
   "execution_count": 18,
   "metadata": {},
   "outputs": [
    {
     "data": {
      "image/png": "[encoded data removed]",
      "text/plain": [
       "<Figure size 432x288 with 1 Axes>"
      ]
     },
     "metadata": {
      "needs_background": "light"
     },
     "output_type": "display_data"
    }
   ],
   "source": [
    "# Постройте график зависимости ошибок на обучении и контроле в зависимости от количества нейронов\n",
    "plot_classification_error(hidden_neurons_num, res_train_vec, res_test_vec)          \n",
    "#  Запишите в файл количество нейронов, при котором достигается минимум ошибки на контроле\n",
    "write_answer_nn(hidden_neurons_num[res_test_vec.index(min(res_test_vec))])"
   ]
  },
  {
   "cell_type": "code",
   "execution_count": null,
   "metadata": {},
   "outputs": [],
   "source": []
  }
 ],
 "metadata": {
  "interpreter": {
   "hash": "9c3b7df13784f01328c2631e984956adf70bf3282c42d87cfafb0a989ce8d5dc"
  },
  "kernelspec": {
   "display_name": "Python 2",
   "language": "python",
   "name": "python3"
  },
  "language_info": {
   "codemirror_mode": {
    "name": "ipython",
    "version": 3
   },
   "file_extension": ".py",
   "mimetype": "text/x-python",
   "name": "python",
   "nbconvert_exporter": "python",
   "pygments_lexer": "ipython3",
   "version": "3.9.4"
  }
 },
 "nbformat": 4,
 "nbformat_minor": 0
}
