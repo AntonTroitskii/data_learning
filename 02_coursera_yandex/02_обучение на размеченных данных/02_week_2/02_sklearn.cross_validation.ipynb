{
 "cells": [
  {
   "cell_type": "markdown",
   "metadata": {},
   "source": [
    "**Корректность проверена на Python 3.6:**\n",
    "+ numpy 1.15.4\n",
    "+ sklearn 0.20.2"
   ]
  },
  {
   "cell_type": "markdown",
   "metadata": {},
   "source": [
    "# Sklearn"
   ]
  },
  {
   "cell_type": "markdown",
   "metadata": {},
   "source": [
    "## sklearn.model_selection"
   ]
  },
  {
   "cell_type": "markdown",
   "metadata": {},
   "source": [
    "документация: http://scikit-learn.org/stable/modules/cross_validation.html"
   ]
  },
  {
   "cell_type": "code",
   "execution_count": 2,
   "metadata": {},
   "outputs": [],
   "source": [
    "from sklearn import model_selection, datasets\n",
    "import numpy as np"
   ]
  },
  {
   "cell_type": "markdown",
   "metadata": {},
   "source": [
    "### Разовое разбиение данных на обучение и тест с помощью train_test_split"
   ]
  },
  {
   "cell_type": "code",
   "execution_count": 3,
   "metadata": {},
   "outputs": [
    {
     "data": {
      "text/plain": [
       "sklearn.utils.Bunch"
      ]
     },
     "execution_count": 3,
     "metadata": {},
     "output_type": "execute_result"
    }
   ],
   "source": [
    "iris = datasets.load_iris()\n",
    "type(iris)"
   ]
  },
  {
   "cell_type": "code",
   "execution_count": 4,
   "metadata": {},
   "outputs": [],
   "source": [
    "# получаем разибитые данные на обучающую выборку и отложенную (тестовую) выборку\n",
    "\n",
    "train_data, test_data, train_labels, test_labels = model_selection.train_test_split(iris.data, iris.target, \n",
    "                                                                                     test_size = 0.3)"
   ]
  },
  {
   "cell_type": "code",
   "execution_count": 5,
   "metadata": {},
   "outputs": [
    {
     "data": {
      "text/plain": [
       "0.3"
      ]
     },
     "execution_count": 5,
     "metadata": {},
     "output_type": "execute_result"
    }
   ],
   "source": [
    "#убедимся, что тестовая выборка действительно составляет 0.3 от всех данных\n",
    "len(test_labels)/len(iris.data)"
   ]
  },
  {
   "cell_type": "code",
   "execution_count": 6,
   "metadata": {},
   "outputs": [
    {
     "name": "stdout",
     "output_type": "stream",
     "text": [
      "Размер обучающей выборки: 105 объектов \n",
      "Размер тестовой выборки: 45 объектов\n"
     ]
    }
   ],
   "source": [
    "# вываедем размеры выборок\n",
    "print('Размер обучающей выборки: {} объектов \\nРазмер тестовой выборки: {} объектов'.format(len(train_data),\n",
    "                                                                                            len(test_data)))"
   ]
  },
  {
   "cell_type": "code",
   "execution_count": 7,
   "metadata": {},
   "outputs": [
    {
     "name": "stdout",
     "output_type": "stream",
     "text": [
      "Обучающая выборка:\n",
      " [[6.  2.2 4.  1. ]\n",
      " [6.2 2.8 4.8 1.8]\n",
      " [5.4 3.4 1.5 0.4]\n",
      " [7.6 3.  6.6 2.1]\n",
      " [5.  3.5 1.6 0.6]]\n",
      "\n",
      "\n",
      "Тестовая выборка:\n",
      " [[4.9 3.  1.4 0.2]\n",
      " [6.3 3.4 5.6 2.4]\n",
      " [6.1 2.8 4.  1.3]\n",
      " [4.9 2.4 3.3 1. ]\n",
      " [4.5 2.3 1.3 0.3]]\n"
     ]
    }
   ],
   "source": [
    "# Выведем часть выборок\n",
    "print('Обучающая выборка:\\n', train_data[:5])\n",
    "print('\\n')\n",
    "print('Тестовая выборка:\\n', test_data[:5])"
   ]
  },
  {
   "cell_type": "code",
   "execution_count": 8,
   "metadata": {},
   "outputs": [
    {
     "name": "stdout",
     "output_type": "stream",
     "text": [
      "Метки классов на обучающей выборке:\n",
      " [1 2 0 2 0 1 1 1 2 1 0 0 0 0 0 2 2 2 2 0 2 2 2 1 1 0 0 0 0 2 1 1 1 1 2 1 0\n",
      " 0 1 0 2 2 2 1 2 1 1 1 2 2 0 2 1 0 0 1 1 2 1 1 1 2 2 2 2 0 0 0 1 1 0 2 2 2\n",
      " 1 2 2 2 0 1 0 0 2 1 2 2 1 2 1 2 0 2 0 0 2 1 1 0 0 2 0 1 2 0 1]\n",
      "\n",
      "\n",
      "Метки классов на тестовой выборке:\n",
      " [0 2 1 1 0 1 0 0 2 2 2 2 0 0 1 1 0 0 1 1 0 2 1 0 1 1 0 2 2 0 0 0 1 0 0 1 0\n",
      " 1 1 2 1 2 2 1 0]\n"
     ]
    }
   ],
   "source": [
    "# Под labels видиом понимается ответы для объектов.\n",
    "print('Метки классов на обучающей выборке:\\n', train_labels)\n",
    "print('\\n')\n",
    "print('Метки классов на тестовой выборке:\\n', test_labels)"
   ]
  },
  {
   "cell_type": "markdown",
   "metadata": {},
   "source": [
    "### Стратегии проведения кросс-валидации"
   ]
  },
  {
   "cell_type": "code",
   "execution_count": 9,
   "metadata": {},
   "outputs": [
    {
     "data": {
      "text/plain": [
       "range(0, 10)"
      ]
     },
     "execution_count": 9,
     "metadata": {},
     "output_type": "execute_result"
    }
   ],
   "source": [
    "#сгенерируем короткое подобие датасета, где элементы совпадают с порядковым номером\n",
    "X = range(0,10)\n",
    "X"
   ]
  },
  {
   "cell_type": "markdown",
   "metadata": {},
   "source": [
    "#### KFold"
   ]
  },
  {
   "cell_type": "code",
   "execution_count": 10,
   "metadata": {},
   "outputs": [
    {
     "name": "stdout",
     "output_type": "stream",
     "text": [
      "[2 3 4 5 6 7 8 9] [0 1]\n",
      "[0 1 4 5 6 7 8 9] [2 3]\n",
      "[0 1 2 3 6 7 8 9] [4 5]\n",
      "[0 1 2 3 4 5 8 9] [6 7]\n",
      "[0 1 2 3 4 5 6 7] [8 9]\n"
     ]
    }
   ],
   "source": [
    "kf = model_selection.KFold(n_splits = 5)\n",
    "for train_indices, test_indices in kf.split(X):\n",
    "    print(train_indices, test_indices)"
   ]
  },
  {
   "cell_type": "code",
   "execution_count": 11,
   "metadata": {},
   "outputs": [
    {
     "name": "stdout",
     "output_type": "stream",
     "text": [
      "[1 2 4 5 8] [0 3 6 7 9]\n",
      "[0 3 6 7 9] [1 2 4 5 8]\n"
     ]
    }
   ],
   "source": [
    "# разделение объектов при перемешивании исходной выборки. За это отвечает параметр shuffle\n",
    "kf = model_selection.KFold(n_splits = 2, shuffle = True)\n",
    "for train_indices, test_indices in kf.split(X):\n",
    "    print(train_indices, test_indices)"
   ]
  },
  {
   "cell_type": "code",
   "execution_count": 12,
   "metadata": {},
   "outputs": [
    {
     "name": "stdout",
     "output_type": "stream",
     "text": [
      "[1 3 5 7 8] [0 2 4 6 9]\n",
      "[0 2 4 6 9] [1 3 5 7 8]\n"
     ]
    }
   ],
   "source": [
    "# если мы хотим разбить случайны образом, но зафиксировать этот порядок.\n",
    "# Видимо предпологается использовать конкретное ядро для генерации случайного разделения.\n",
    "kf = model_selection.KFold(n_splits = 2, shuffle = True, random_state = 1)\n",
    "for train_indices, test_indices in kf.split(X):\n",
    "    print(train_indices, test_indices)\n",
    "    \n",
    "# Это может помочь, если мы хотим, чтобы результаты работы были воспроизводимы."
   ]
  },
  {
   "cell_type": "markdown",
   "metadata": {},
   "source": [
    "#### StratifiedKFold"
   ]
  },
  {
   "cell_type": "code",
   "execution_count": 13,
   "metadata": {},
   "outputs": [
    {
     "name": "stdout",
     "output_type": "stream",
     "text": [
      "[0 0 0 0 0 1 1 1 1 1]\n",
      "[3 4 6 8 9] [0 1 2 5 7]\n",
      "[0 1 2 5 7] [3 4 6 8 9]\n"
     ]
    }
   ],
   "source": [
    "# Данный подход сохраняет соотношение классов в обучающей и отложенной выборке.Stratified - стратификация.\n",
    "\n",
    "y = np.array([0] * 5 + [1] * 5)\n",
    "print(y)\n",
    "\n",
    "skf = model_selection.StratifiedKFold(n_splits = 2, shuffle = True, random_state = 0)\n",
    "for train_indices, test_indices in skf.split(X, y):\n",
    "    print(train_indices, test_indices)"
   ]
  },
  {
   "cell_type": "code",
   "execution_count": 14,
   "metadata": {},
   "outputs": [
    {
     "name": "stdout",
     "output_type": "stream",
     "text": [
      "[0 1 0 1 0 1 0 1 0 1]\n",
      "[1 2 3 7 8] [0 4 5 6 9]\n",
      "[0 4 5 6 9] [1 2 3 7 8]\n"
     ]
    }
   ],
   "source": [
    "target = np.array([0, 1] * 5)\n",
    "print(target)\n",
    "\n",
    "skf = model_selection.StratifiedKFold(n_splits = 2,shuffle = True)\n",
    "for train_indices, test_indices in skf.split(X, target):\n",
    "    print(train_indices, test_indices)"
   ]
  },
  {
   "cell_type": "markdown",
   "metadata": {},
   "source": [
    "Вопрос\n",
    "\n",
    "Подумайте, а зачем может быть нужна стратификация при разбиении на фолды?"
   ]
  },
  {
   "cell_type": "markdown",
   "metadata": {},
   "source": [
    "#### ShuffleSplit"
   ]
  },
  {
   "cell_type": "code",
   "execution_count": 16,
   "metadata": {},
   "outputs": [
    {
     "name": "stdout",
     "output_type": "stream",
     "text": [
      "[0 9 6 1 5 2 4 8] [7 3]\n",
      "[3 8 9 5 4 6 1 2] [0 7]\n",
      "[8 2 4 0 9 6 5 3] [7 1]\n",
      "[5 3 9 1 7 6 0 4] [2 8]\n",
      "[9 8 6 4 3 1 7 5] [0 2]\n",
      "[7 8 0 1 3 4 6 5] [9 2]\n",
      "[1 9 0 8 4 6 3 5] [7 2]\n",
      "[4 7 5 8 3 0 1 9] [2 6]\n",
      "[3 1 6 5 7 4 8 2] [9 0]\n",
      "[3 0 7 8 9 6 5 1] [2 4]\n"
     ]
    }
   ],
   "source": [
    "# Можно получить различные разбиения, которые будут не зависеть друг от друга. \n",
    "# Нет отдельной спецификации какой объект должен сколько раз появиться в каких выборках.\n",
    "# Это называется действие с возвращением - получаем разбиение и можно стоить другое независимо от предыдущего. \n",
    "\n",
    "ss = model_selection.ShuffleSplit(n_splits = 10, test_size = 0.2)\n",
    "\n",
    "for train_indices, test_indices in ss.split(X):\n",
    "    print(train_indices, test_indices)"
   ]
  },
  {
   "cell_type": "markdown",
   "metadata": {},
   "source": [
    "#### StratifiedShuffleSplit"
   ]
  },
  {
   "cell_type": "code",
   "execution_count": 28,
   "metadata": {},
   "outputs": [
    {
     "name": "stdout",
     "output_type": "stream",
     "text": [
      "[0 0 0 0 0 1 1 1 1 1]\n",
      "[4 6 8 0 5 3 2 7] [9 1]\n",
      "[1 6 0 4 9 5 3 8] [7 2]\n",
      "[3 4 7 1 9 6 5 2] [8 0]\n",
      "[5 3 1 4 7 6 9 2] [0 8]\n"
     ]
    }
   ],
   "source": [
    "# ShuffleSplit можно стратифицировать. И в этом случае мы будем получать выбоки, которые имеют исходные соотношения классов.\n",
    "\n",
    "target = np.array([0] * 5 + [1] * 5)\n",
    "print(target)\n",
    "\n",
    "sss = model_selection.StratifiedShuffleSplit(n_splits = 4, test_size = 0.2)\n",
    "for train_indices, test_indices in sss.split(X, target):\n",
    "    print(train_indices, test_indices)\n",
    "    \n",
    "# вдино, что в тесте есть объект 0 класса и 1 класса. "
   ]
  },
  {
   "cell_type": "markdown",
   "metadata": {},
   "source": [
    "#### Leave-One-Out"
   ]
  },
  {
   "cell_type": "code",
   "execution_count": null,
   "metadata": {},
   "outputs": [],
   "source": [
    "# Это статегия позволяет оставить каждый объект в тесте один раз.\n",
    "# Эта очень удобная стратегия кроссвалидации, \n",
    "# которая хорошо использватья, когда мы имеем небольшую выборку данных. \n",
    "\n",
    "loo = model_selection.LeaveOneOut()\n",
    "\n",
    "for train_indices, test_index in loo.split(X):\n",
    "    print(train_indices, test_index)"
   ]
  },
  {
   "cell_type": "markdown",
   "metadata": {},
   "source": [
    "Больше стратегий проведения кросс-валидации доступно здесь: http://scikit-learn.org/stable/modules/cross_validation.html#cross-validation-iterators"
   ]
  }
 ],
 "metadata": {
  "anaconda-cloud": {},
  "kernelspec": {
   "display_name": "Python 3.9.6 64-bit ('3.9.6')",
   "language": "python",
   "name": "python3"
  },
  "language_info": {
   "codemirror_mode": {
    "name": "ipython",
    "version": 3
   },
   "file_extension": ".py",
   "mimetype": "text/x-python",
   "name": "python",
   "nbconvert_exporter": "python",
   "pygments_lexer": "ipython3",
   "version": "3.9.6"
  },
  "vscode": {
   "interpreter": {
    "hash": "447307ee8bf7bee22b80f74e7759e6ff11f05e14e61f32c6978c72da1346182e"
   }
  }
 },
 "nbformat": 4,
 "nbformat_minor": 4
}
