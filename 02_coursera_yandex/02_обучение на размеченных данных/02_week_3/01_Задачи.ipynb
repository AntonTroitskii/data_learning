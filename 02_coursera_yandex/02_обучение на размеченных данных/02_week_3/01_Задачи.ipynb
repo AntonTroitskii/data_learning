{
 "cells": [
  {
   "cell_type": "code",
   "execution_count": 15,
   "id": "1ffd187d-3683-4db3-bb5a-4ec8cc1f92dd",
   "metadata": {},
   "outputs": [
    {
     "data": {
      "text/plain": [
       "[<matplotlib.lines.Line2D at 0x167d5a28bb0>]"
      ]
     },
     "execution_count": 15,
     "metadata": {},
     "output_type": "execute_result"
    },
    {
     "data": {
      "image/png": "[encoded data removed]",
      "text/plain": [
       "<Figure size 432x288 with 1 Axes>"
      ]
     },
     "metadata": {
      "needs_background": "light"
     },
     "output_type": "display_data"
    }
   ],
   "source": [
    "import matplotlib.pyplot as plt\n",
    "import numpy as np\n",
    "\n",
    "x = np.linspace(-10, 10, 100)\n",
    "a = 1\n",
    "p1 = np.exp(a*x)/ (1 + np.exp(a*x))\n",
    "a = -1\n",
    "p2 = np.exp(a*x)/ (1 + np.exp(a*x))\n",
    "\n",
    "plt.plot(x, p1)\n",
    "plt.plot(x, p2)\n"
   ]
  },
  {
   "cell_type": "markdown",
   "id": "f23c674e-3299-4bab-94ab-01cda4a70ebc",
   "metadata": {},
   "source": [
    "# Question 2\n",
    "Из 15 клиентов банка, которым менеджер предложил подключить автоплатёж, четверо согласились. Подключение услуги — бинарный признак, который можно описать распределением Бернулли. Запишите функцию правдоподобия  $L\\left(X^n,p\\right)$ для такой выборки и посчитайте её значение, если истинная вероятность подключения услуги p=0.2. Запишите ответ с пятью знаками после десятичной точки."
   ]
  },
  {
   "cell_type": "code",
   "execution_count": 23,
   "id": "224cb5bc-c48e-46bc-9f9b-3b464ab8b525",
   "metadata": {},
   "outputs": [
    {
     "data": {
      "text/plain": [
       "0.00014"
      ]
     },
     "execution_count": 23,
     "metadata": {},
     "output_type": "execute_result"
    }
   ],
   "source": [
    "import numpy as np \n",
    "\n",
    "n = 15\n",
    "a = 4\n",
    "p = 0.2\n",
    "\n",
    "L = np.power(p, a) * np.power(1-p, n - a)\n",
    "round(L, 5)"
   ]
  },
  {
   "cell_type": "code",
   "execution_count": 4,
   "id": "9348d34e-081f-4e71-96a7-b9b28bf8758d",
   "metadata": {},
   "outputs": [
    {
     "data": {
      "text/plain": [
       "0.267"
      ]
     },
     "execution_count": 4,
     "metadata": {},
     "output_type": "execute_result"
    }
   ],
   "source": [
    "round(4/15, 3)"
   ]
  },
  {
   "cell_type": "code",
   "execution_count": null,
   "id": "b8c71626-08fc-44ca-b9bb-ace8d2a042f3",
   "metadata": {},
   "outputs": [],
   "source": []
  }
 ],
 "metadata": {
  "kernelspec": {
   "display_name": "Python 3 (ipykernel)",
   "language": "python",
   "name": "python3"
  },
  "language_info": {
   "codemirror_mode": {
    "name": "ipython",
    "version": 3
   },
   "file_extension": ".py",
   "mimetype": "text/x-python",
   "name": "python",
   "nbconvert_exporter": "python",
   "pygments_lexer": "ipython3",
   "version": "3.9.4"
  }
 },
 "nbformat": 4,
 "nbformat_minor": 5
}
