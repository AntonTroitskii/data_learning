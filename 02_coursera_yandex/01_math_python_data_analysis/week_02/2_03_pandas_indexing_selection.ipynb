{
 "cells": [
  {
   "cell_type": "markdown",
   "metadata": {},
   "source": [
    "# Библиотека Pandas (Версия для Python 3)"
   ]
  },
  {
   "cell_type": "markdown",
   "metadata": {},
   "source": [
    "## Data Frame"
   ]
  },
  {
   "cell_type": "code",
   "execution_count": 28,
   "metadata": {},
   "outputs": [],
   "source": [
    "import pandas as pd"
   ]
  },
  {
   "cell_type": "code",
   "execution_count": 29,
   "metadata": {},
   "outputs": [],
   "source": [
    "#создание DataFrame с помощью чтения данных из файла\n",
    "frame = pd.read_csv('2_03_data_sample_example.csv', header=0, sep='\\t')"
   ]
  },
  {
   "cell_type": "code",
   "execution_count": 30,
   "metadata": {},
   "outputs": [
    {
     "data": {
      "text/plain": "              Name       Birth       City  Position\n0      Иванов А.А.  22.03.1980     Москва       NaN\n1     Сорокин И.В.  07.08.1965  Волгоград   инженер\n2       Белов М.М.  13.02.1980     Ростов  менеджер\n3  Мельникова Д.С.  15.04.1985     Ростов       NaN\n4      Рыбина Е.П.  19.11.1985     Москва   инженер\n5     Костров С.О.  31.05.1985     Москва    стажер",
      "text/html": "<div>\n<style scoped>\n    .dataframe tbody tr th:only-of-type {\n        vertical-align: middle;\n    }\n\n    .dataframe tbody tr th {\n        vertical-align: top;\n    }\n\n    .dataframe thead th {\n        text-align: right;\n    }\n</style>\n<table border=\"1\" class=\"dataframe\">\n  <thead>\n    <tr style=\"text-align: right;\">\n      <th></th>\n      <th>Name</th>\n      <th>Birth</th>\n      <th>City</th>\n      <th>Position</th>\n    </tr>\n  </thead>\n  <tbody>\n    <tr>\n      <th>0</th>\n      <td>Иванов А.А.</td>\n      <td>22.03.1980</td>\n      <td>Москва</td>\n      <td>NaN</td>\n    </tr>\n    <tr>\n      <th>1</th>\n      <td>Сорокин И.В.</td>\n      <td>07.08.1965</td>\n      <td>Волгоград</td>\n      <td>инженер</td>\n    </tr>\n    <tr>\n      <th>2</th>\n      <td>Белов М.М.</td>\n      <td>13.02.1980</td>\n      <td>Ростов</td>\n      <td>менеджер</td>\n    </tr>\n    <tr>\n      <th>3</th>\n      <td>Мельникова Д.С.</td>\n      <td>15.04.1985</td>\n      <td>Ростов</td>\n      <td>NaN</td>\n    </tr>\n    <tr>\n      <th>4</th>\n      <td>Рыбина Е.П.</td>\n      <td>19.11.1985</td>\n      <td>Москва</td>\n      <td>инженер</td>\n    </tr>\n    <tr>\n      <th>5</th>\n      <td>Костров С.О.</td>\n      <td>31.05.1985</td>\n      <td>Москва</td>\n      <td>стажер</td>\n    </tr>\n  </tbody>\n</table>\n</div>"
     },
     "execution_count": 30,
     "metadata": {},
     "output_type": "execute_result"
    }
   ],
   "source": [
    "frame"
   ]
  },
  {
   "cell_type": "code",
   "execution_count": 31,
   "metadata": {},
   "outputs": [
    {
     "data": {
      "text/plain": "Name        object\nBirth       object\nCity        object\nPosition    object\ndtype: object"
     },
     "execution_count": 31,
     "metadata": {},
     "output_type": "execute_result"
    }
   ],
   "source": [
    "frame.dtypes"
   ]
  },
  {
   "cell_type": "code",
   "execution_count": 32,
   "metadata": {},
   "outputs": [],
   "source": [
    "#изменение типа столбца с помощью функции apply\n",
    "frame.Birth = frame.Birth.apply(pd.to_datetime)"
   ]
  },
  {
   "cell_type": "code",
   "execution_count": 33,
   "metadata": {},
   "outputs": [
    {
     "data": {
      "text/plain": "              Name      Birth       City  Position\n0      Иванов А.А. 1980-03-22     Москва       NaN\n1     Сорокин И.В. 1965-07-08  Волгоград   инженер\n2       Белов М.М. 1980-02-13     Ростов  менеджер\n3  Мельникова Д.С. 1985-04-15     Ростов       NaN\n4      Рыбина Е.П. 1985-11-19     Москва   инженер\n5     Костров С.О. 1985-05-31     Москва    стажер",
      "text/html": "<div>\n<style scoped>\n    .dataframe tbody tr th:only-of-type {\n        vertical-align: middle;\n    }\n\n    .dataframe tbody tr th {\n        vertical-align: top;\n    }\n\n    .dataframe thead th {\n        text-align: right;\n    }\n</style>\n<table border=\"1\" class=\"dataframe\">\n  <thead>\n    <tr style=\"text-align: right;\">\n      <th></th>\n      <th>Name</th>\n      <th>Birth</th>\n      <th>City</th>\n      <th>Position</th>\n    </tr>\n  </thead>\n  <tbody>\n    <tr>\n      <th>0</th>\n      <td>Иванов А.А.</td>\n      <td>1980-03-22</td>\n      <td>Москва</td>\n      <td>NaN</td>\n    </tr>\n    <tr>\n      <th>1</th>\n      <td>Сорокин И.В.</td>\n      <td>1965-07-08</td>\n      <td>Волгоград</td>\n      <td>инженер</td>\n    </tr>\n    <tr>\n      <th>2</th>\n      <td>Белов М.М.</td>\n      <td>1980-02-13</td>\n      <td>Ростов</td>\n      <td>менеджер</td>\n    </tr>\n    <tr>\n      <th>3</th>\n      <td>Мельникова Д.С.</td>\n      <td>1985-04-15</td>\n      <td>Ростов</td>\n      <td>NaN</td>\n    </tr>\n    <tr>\n      <th>4</th>\n      <td>Рыбина Е.П.</td>\n      <td>1985-11-19</td>\n      <td>Москва</td>\n      <td>инженер</td>\n    </tr>\n    <tr>\n      <th>5</th>\n      <td>Костров С.О.</td>\n      <td>1985-05-31</td>\n      <td>Москва</td>\n      <td>стажер</td>\n    </tr>\n  </tbody>\n</table>\n</div>"
     },
     "execution_count": 33,
     "metadata": {},
     "output_type": "execute_result"
    }
   ],
   "source": [
    "frame"
   ]
  },
  {
   "cell_type": "code",
   "execution_count": 34,
   "metadata": {},
   "outputs": [
    {
     "data": {
      "text/plain": "Name                object\nBirth       datetime64[ns]\nCity                object\nPosition            object\ndtype: object"
     },
     "execution_count": 34,
     "metadata": {},
     "output_type": "execute_result"
    }
   ],
   "source": [
    "frame.dtypes"
   ]
  },
  {
   "cell_type": "code",
   "execution_count": 48,
   "metadata": {},
   "outputs": [
    {
     "name": "stdout",
     "output_type": "stream",
     "text": [
      "<class 'pandas.core.frame.DataFrame'>\n",
      "RangeIndex: 6 entries, 0 to 5\n",
      "Data columns (total 4 columns):\n",
      " #   Column    Non-Null Count  Dtype         \n",
      "---  ------    --------------  -----         \n",
      " 0   Name      6 non-null      object        \n",
      " 1   Birth     6 non-null      datetime64[ns]\n",
      " 2   City      6 non-null      object        \n",
      " 3   Position  6 non-null      object        \n",
      "dtypes: datetime64[ns](1), object(3)\n",
      "memory usage: 320.0+ bytes\n"
     ]
    }
   ],
   "source": [
    "frame.info()"
   ]
  },
  {
   "cell_type": "code",
   "execution_count": 36,
   "metadata": {},
   "outputs": [
    {
     "data": {
      "text/plain": "              Name      Birth       City      Position\n0      Иванов А.А. 1980-03-22     Москва  разнорабочий\n1     Сорокин И.В. 1965-07-08  Волгоград       инженер\n2       Белов М.М. 1980-02-13     Ростов      менеджер\n3  Мельникова Д.С. 1985-04-15     Ростов  разнорабочий\n4      Рыбина Е.П. 1985-11-19     Москва       инженер\n5     Костров С.О. 1985-05-31     Москва        стажер",
      "text/html": "<div>\n<style scoped>\n    .dataframe tbody tr th:only-of-type {\n        vertical-align: middle;\n    }\n\n    .dataframe tbody tr th {\n        vertical-align: top;\n    }\n\n    .dataframe thead th {\n        text-align: right;\n    }\n</style>\n<table border=\"1\" class=\"dataframe\">\n  <thead>\n    <tr style=\"text-align: right;\">\n      <th></th>\n      <th>Name</th>\n      <th>Birth</th>\n      <th>City</th>\n      <th>Position</th>\n    </tr>\n  </thead>\n  <tbody>\n    <tr>\n      <th>0</th>\n      <td>Иванов А.А.</td>\n      <td>1980-03-22</td>\n      <td>Москва</td>\n      <td>разнорабочий</td>\n    </tr>\n    <tr>\n      <th>1</th>\n      <td>Сорокин И.В.</td>\n      <td>1965-07-08</td>\n      <td>Волгоград</td>\n      <td>инженер</td>\n    </tr>\n    <tr>\n      <th>2</th>\n      <td>Белов М.М.</td>\n      <td>1980-02-13</td>\n      <td>Ростов</td>\n      <td>менеджер</td>\n    </tr>\n    <tr>\n      <th>3</th>\n      <td>Мельникова Д.С.</td>\n      <td>1985-04-15</td>\n      <td>Ростов</td>\n      <td>разнорабочий</td>\n    </tr>\n    <tr>\n      <th>4</th>\n      <td>Рыбина Е.П.</td>\n      <td>1985-11-19</td>\n      <td>Москва</td>\n      <td>инженер</td>\n    </tr>\n    <tr>\n      <th>5</th>\n      <td>Костров С.О.</td>\n      <td>1985-05-31</td>\n      <td>Москва</td>\n      <td>стажер</td>\n    </tr>\n  </tbody>\n</table>\n</div>"
     },
     "execution_count": 36,
     "metadata": {},
     "output_type": "execute_result"
    }
   ],
   "source": [
    "#заполнение пропущенных значений с помощью метода fillna\n",
    "frame.fillna('разнорабочий')"
   ]
  },
  {
   "cell_type": "code",
   "execution_count": 37,
   "metadata": {},
   "outputs": [],
   "source": [
    "#заполнение пропущенных значений с помощью метода fillna (inplace)\n",
    "frame.fillna('разнорабочий', inplace=True)"
   ]
  },
  {
   "cell_type": "code",
   "execution_count": 38,
   "metadata": {},
   "outputs": [
    {
     "data": {
      "text/plain": "              Name      Birth       City      Position\n0      Иванов А.А. 1980-03-22     Москва  разнорабочий\n1     Сорокин И.В. 1965-07-08  Волгоград       инженер\n2       Белов М.М. 1980-02-13     Ростов      менеджер\n3  Мельникова Д.С. 1985-04-15     Ростов  разнорабочий\n4      Рыбина Е.П. 1985-11-19     Москва       инженер\n5     Костров С.О. 1985-05-31     Москва        стажер",
      "text/html": "<div>\n<style scoped>\n    .dataframe tbody tr th:only-of-type {\n        vertical-align: middle;\n    }\n\n    .dataframe tbody tr th {\n        vertical-align: top;\n    }\n\n    .dataframe thead th {\n        text-align: right;\n    }\n</style>\n<table border=\"1\" class=\"dataframe\">\n  <thead>\n    <tr style=\"text-align: right;\">\n      <th></th>\n      <th>Name</th>\n      <th>Birth</th>\n      <th>City</th>\n      <th>Position</th>\n    </tr>\n  </thead>\n  <tbody>\n    <tr>\n      <th>0</th>\n      <td>Иванов А.А.</td>\n      <td>1980-03-22</td>\n      <td>Москва</td>\n      <td>разнорабочий</td>\n    </tr>\n    <tr>\n      <th>1</th>\n      <td>Сорокин И.В.</td>\n      <td>1965-07-08</td>\n      <td>Волгоград</td>\n      <td>инженер</td>\n    </tr>\n    <tr>\n      <th>2</th>\n      <td>Белов М.М.</td>\n      <td>1980-02-13</td>\n      <td>Ростов</td>\n      <td>менеджер</td>\n    </tr>\n    <tr>\n      <th>3</th>\n      <td>Мельникова Д.С.</td>\n      <td>1985-04-15</td>\n      <td>Ростов</td>\n      <td>разнорабочий</td>\n    </tr>\n    <tr>\n      <th>4</th>\n      <td>Рыбина Е.П.</td>\n      <td>1985-11-19</td>\n      <td>Москва</td>\n      <td>инженер</td>\n    </tr>\n    <tr>\n      <th>5</th>\n      <td>Костров С.О.</td>\n      <td>1985-05-31</td>\n      <td>Москва</td>\n      <td>стажер</td>\n    </tr>\n  </tbody>\n</table>\n</div>"
     },
     "execution_count": 38,
     "metadata": {},
     "output_type": "execute_result"
    }
   ],
   "source": [
    "frame"
   ]
  },
  {
   "cell_type": "code",
   "execution_count": 39,
   "metadata": {},
   "outputs": [
    {
     "data": {
      "text/plain": "0    разнорабочий\n1         инженер\n2        менеджер\n3    разнорабочий\n4         инженер\n5          стажер\nName: Position, dtype: object"
     },
     "execution_count": 39,
     "metadata": {},
     "output_type": "execute_result"
    }
   ],
   "source": [
    "frame.Position"
   ]
  },
  {
   "cell_type": "code",
   "execution_count": 40,
   "metadata": {},
   "outputs": [
    {
     "data": {
      "text/plain": "       Position\n0  разнорабочий\n1       инженер\n2      менеджер\n3  разнорабочий\n4       инженер\n5        стажер",
      "text/html": "<div>\n<style scoped>\n    .dataframe tbody tr th:only-of-type {\n        vertical-align: middle;\n    }\n\n    .dataframe tbody tr th {\n        vertical-align: top;\n    }\n\n    .dataframe thead th {\n        text-align: right;\n    }\n</style>\n<table border=\"1\" class=\"dataframe\">\n  <thead>\n    <tr style=\"text-align: right;\">\n      <th></th>\n      <th>Position</th>\n    </tr>\n  </thead>\n  <tbody>\n    <tr>\n      <th>0</th>\n      <td>разнорабочий</td>\n    </tr>\n    <tr>\n      <th>1</th>\n      <td>инженер</td>\n    </tr>\n    <tr>\n      <th>2</th>\n      <td>менеджер</td>\n    </tr>\n    <tr>\n      <th>3</th>\n      <td>разнорабочий</td>\n    </tr>\n    <tr>\n      <th>4</th>\n      <td>инженер</td>\n    </tr>\n    <tr>\n      <th>5</th>\n      <td>стажер</td>\n    </tr>\n  </tbody>\n</table>\n</div>"
     },
     "execution_count": 40,
     "metadata": {},
     "output_type": "execute_result"
    }
   ],
   "source": [
    "frame[['Position']]"
   ]
  },
  {
   "cell_type": "code",
   "execution_count": 41,
   "metadata": {},
   "outputs": [
    {
     "data": {
      "text/plain": "              Name      Position\n0      Иванов А.А.  разнорабочий\n1     Сорокин И.В.       инженер\n2       Белов М.М.      менеджер\n3  Мельникова Д.С.  разнорабочий\n4      Рыбина Е.П.       инженер\n5     Костров С.О.        стажер",
      "text/html": "<div>\n<style scoped>\n    .dataframe tbody tr th:only-of-type {\n        vertical-align: middle;\n    }\n\n    .dataframe tbody tr th {\n        vertical-align: top;\n    }\n\n    .dataframe thead th {\n        text-align: right;\n    }\n</style>\n<table border=\"1\" class=\"dataframe\">\n  <thead>\n    <tr style=\"text-align: right;\">\n      <th></th>\n      <th>Name</th>\n      <th>Position</th>\n    </tr>\n  </thead>\n  <tbody>\n    <tr>\n      <th>0</th>\n      <td>Иванов А.А.</td>\n      <td>разнорабочий</td>\n    </tr>\n    <tr>\n      <th>1</th>\n      <td>Сорокин И.В.</td>\n      <td>инженер</td>\n    </tr>\n    <tr>\n      <th>2</th>\n      <td>Белов М.М.</td>\n      <td>менеджер</td>\n    </tr>\n    <tr>\n      <th>3</th>\n      <td>Мельникова Д.С.</td>\n      <td>разнорабочий</td>\n    </tr>\n    <tr>\n      <th>4</th>\n      <td>Рыбина Е.П.</td>\n      <td>инженер</td>\n    </tr>\n    <tr>\n      <th>5</th>\n      <td>Костров С.О.</td>\n      <td>стажер</td>\n    </tr>\n  </tbody>\n</table>\n</div>"
     },
     "execution_count": 41,
     "metadata": {},
     "output_type": "execute_result"
    }
   ],
   "source": [
    "frame[['Name', 'Position']]"
   ]
  },
  {
   "cell_type": "code",
   "execution_count": 42,
   "metadata": {},
   "outputs": [
    {
     "data": {
      "text/plain": "           Name      Birth       City      Position\n0   Иванов А.А. 1980-03-22     Москва  разнорабочий\n1  Сорокин И.В. 1965-07-08  Волгоград       инженер\n2    Белов М.М. 1980-02-13     Ростов      менеджер",
      "text/html": "<div>\n<style scoped>\n    .dataframe tbody tr th:only-of-type {\n        vertical-align: middle;\n    }\n\n    .dataframe tbody tr th {\n        vertical-align: top;\n    }\n\n    .dataframe thead th {\n        text-align: right;\n    }\n</style>\n<table border=\"1\" class=\"dataframe\">\n  <thead>\n    <tr style=\"text-align: right;\">\n      <th></th>\n      <th>Name</th>\n      <th>Birth</th>\n      <th>City</th>\n      <th>Position</th>\n    </tr>\n  </thead>\n  <tbody>\n    <tr>\n      <th>0</th>\n      <td>Иванов А.А.</td>\n      <td>1980-03-22</td>\n      <td>Москва</td>\n      <td>разнорабочий</td>\n    </tr>\n    <tr>\n      <th>1</th>\n      <td>Сорокин И.В.</td>\n      <td>1965-07-08</td>\n      <td>Волгоград</td>\n      <td>инженер</td>\n    </tr>\n    <tr>\n      <th>2</th>\n      <td>Белов М.М.</td>\n      <td>1980-02-13</td>\n      <td>Ростов</td>\n      <td>менеджер</td>\n    </tr>\n  </tbody>\n</table>\n</div>"
     },
     "execution_count": 42,
     "metadata": {},
     "output_type": "execute_result"
    }
   ],
   "source": [
    "frame[:3] #выбираем первые три записи"
   ]
  },
  {
   "cell_type": "code",
   "execution_count": 43,
   "metadata": {},
   "outputs": [
    {
     "data": {
      "text/plain": "              Name      Birth    City      Position\n3  Мельникова Д.С. 1985-04-15  Ростов  разнорабочий\n4      Рыбина Е.П. 1985-11-19  Москва       инженер\n5     Костров С.О. 1985-05-31  Москва        стажер",
      "text/html": "<div>\n<style scoped>\n    .dataframe tbody tr th:only-of-type {\n        vertical-align: middle;\n    }\n\n    .dataframe tbody tr th {\n        vertical-align: top;\n    }\n\n    .dataframe thead th {\n        text-align: right;\n    }\n</style>\n<table border=\"1\" class=\"dataframe\">\n  <thead>\n    <tr style=\"text-align: right;\">\n      <th></th>\n      <th>Name</th>\n      <th>Birth</th>\n      <th>City</th>\n      <th>Position</th>\n    </tr>\n  </thead>\n  <tbody>\n    <tr>\n      <th>3</th>\n      <td>Мельникова Д.С.</td>\n      <td>1985-04-15</td>\n      <td>Ростов</td>\n      <td>разнорабочий</td>\n    </tr>\n    <tr>\n      <th>4</th>\n      <td>Рыбина Е.П.</td>\n      <td>1985-11-19</td>\n      <td>Москва</td>\n      <td>инженер</td>\n    </tr>\n    <tr>\n      <th>5</th>\n      <td>Костров С.О.</td>\n      <td>1985-05-31</td>\n      <td>Москва</td>\n      <td>стажер</td>\n    </tr>\n  </tbody>\n</table>\n</div>"
     },
     "execution_count": 43,
     "metadata": {},
     "output_type": "execute_result"
    }
   ],
   "source": [
    "frame[-3:] #выбираем три послдение записи"
   ]
  },
  {
   "cell_type": "code",
   "execution_count": 44,
   "metadata": {},
   "outputs": [
    {
     "data": {
      "text/plain": "           Name       City\n0   Иванов А.А.     Москва\n1  Сорокин И.В.  Волгоград\n2    Белов М.М.     Ростов",
      "text/html": "<div>\n<style scoped>\n    .dataframe tbody tr th:only-of-type {\n        vertical-align: middle;\n    }\n\n    .dataframe tbody tr th {\n        vertical-align: top;\n    }\n\n    .dataframe thead th {\n        text-align: right;\n    }\n</style>\n<table border=\"1\" class=\"dataframe\">\n  <thead>\n    <tr style=\"text-align: right;\">\n      <th></th>\n      <th>Name</th>\n      <th>City</th>\n    </tr>\n  </thead>\n  <tbody>\n    <tr>\n      <th>0</th>\n      <td>Иванов А.А.</td>\n      <td>Москва</td>\n    </tr>\n    <tr>\n      <th>1</th>\n      <td>Сорокин И.В.</td>\n      <td>Волгоград</td>\n    </tr>\n    <tr>\n      <th>2</th>\n      <td>Белов М.М.</td>\n      <td>Ростов</td>\n    </tr>\n  </tbody>\n</table>\n</div>"
     },
     "execution_count": 44,
     "metadata": {},
     "output_type": "execute_result"
    }
   ],
   "source": [
    "frame.loc[[0,1,2], [\"Name\", \"City\"]] #работает на основе имен"
   ]
  },
  {
   "cell_type": "code",
   "execution_count": 45,
   "metadata": {},
   "outputs": [
    {
     "data": {
      "text/plain": "              Name      Birth\n1     Сорокин И.В. 1965-07-08\n3  Мельникова Д.С. 1985-04-15\n5     Костров С.О. 1985-05-31",
      "text/html": "<div>\n<style scoped>\n    .dataframe tbody tr th:only-of-type {\n        vertical-align: middle;\n    }\n\n    .dataframe tbody tr th {\n        vertical-align: top;\n    }\n\n    .dataframe thead th {\n        text-align: right;\n    }\n</style>\n<table border=\"1\" class=\"dataframe\">\n  <thead>\n    <tr style=\"text-align: right;\">\n      <th></th>\n      <th>Name</th>\n      <th>Birth</th>\n    </tr>\n  </thead>\n  <tbody>\n    <tr>\n      <th>1</th>\n      <td>Сорокин И.В.</td>\n      <td>1965-07-08</td>\n    </tr>\n    <tr>\n      <th>3</th>\n      <td>Мельникова Д.С.</td>\n      <td>1985-04-15</td>\n    </tr>\n    <tr>\n      <th>5</th>\n      <td>Костров С.О.</td>\n      <td>1985-05-31</td>\n    </tr>\n  </tbody>\n</table>\n</div>"
     },
     "execution_count": 45,
     "metadata": {},
     "output_type": "execute_result"
    }
   ],
   "source": [
    "frame.iloc[[1,3,5], [0,1]] #работает на основе позиций"
   ]
  },
  {
   "cell_type": "code",
   "execution_count": 46,
   "metadata": {},
   "outputs": [
    {
     "ename": "AttributeError",
     "evalue": "'DataFrame' object has no attribute 'ix'",
     "output_type": "error",
     "traceback": [
      "\u001B[1;31m---------------------------------------------------------------------------\u001B[0m",
      "\u001B[1;31mAttributeError\u001B[0m                            Traceback (most recent call last)",
      "\u001B[1;32m<ipython-input-46-8630aea8e63b>\u001B[0m in \u001B[0;36m<module>\u001B[1;34m\u001B[0m\n\u001B[1;32m----> 1\u001B[1;33m \u001B[0mframe\u001B[0m\u001B[1;33m.\u001B[0m\u001B[0mix\u001B[0m\u001B[1;33m[\u001B[0m\u001B[1;33m[\u001B[0m\u001B[1;36m0\u001B[0m\u001B[1;33m,\u001B[0m\u001B[1;36m1\u001B[0m\u001B[1;33m,\u001B[0m\u001B[1;36m2\u001B[0m\u001B[1;33m]\u001B[0m\u001B[1;33m,\u001B[0m \u001B[1;33m[\u001B[0m\u001B[1;34m\"Name\"\u001B[0m\u001B[1;33m,\u001B[0m \u001B[1;34m\"City\"\u001B[0m\u001B[1;33m]\u001B[0m\u001B[1;33m]\u001B[0m  \u001B[1;31m#поддерживает и имена и позиции (пример с именами)\u001B[0m\u001B[1;33m\u001B[0m\u001B[1;33m\u001B[0m\u001B[0m\n\u001B[0m\u001B[0;32m      2\u001B[0m \u001B[1;33m\u001B[0m\u001B[0m\n",
      "\u001B[1;32mc:\\users\\anton\\.virtualenvs\\02_coursera-c_foabdv\\lib\\site-packages\\pandas\\core\\generic.py\u001B[0m in \u001B[0;36m__getattr__\u001B[1;34m(self, name)\u001B[0m\n\u001B[0;32m   5463\u001B[0m             \u001B[1;32mif\u001B[0m \u001B[0mself\u001B[0m\u001B[1;33m.\u001B[0m\u001B[0m_info_axis\u001B[0m\u001B[1;33m.\u001B[0m\u001B[0m_can_hold_identifiers_and_holds_name\u001B[0m\u001B[1;33m(\u001B[0m\u001B[0mname\u001B[0m\u001B[1;33m)\u001B[0m\u001B[1;33m:\u001B[0m\u001B[1;33m\u001B[0m\u001B[1;33m\u001B[0m\u001B[0m\n\u001B[0;32m   5464\u001B[0m                 \u001B[1;32mreturn\u001B[0m \u001B[0mself\u001B[0m\u001B[1;33m[\u001B[0m\u001B[0mname\u001B[0m\u001B[1;33m]\u001B[0m\u001B[1;33m\u001B[0m\u001B[1;33m\u001B[0m\u001B[0m\n\u001B[1;32m-> 5465\u001B[1;33m             \u001B[1;32mreturn\u001B[0m \u001B[0mobject\u001B[0m\u001B[1;33m.\u001B[0m\u001B[0m__getattribute__\u001B[0m\u001B[1;33m(\u001B[0m\u001B[0mself\u001B[0m\u001B[1;33m,\u001B[0m \u001B[0mname\u001B[0m\u001B[1;33m)\u001B[0m\u001B[1;33m\u001B[0m\u001B[1;33m\u001B[0m\u001B[0m\n\u001B[0m\u001B[0;32m   5466\u001B[0m \u001B[1;33m\u001B[0m\u001B[0m\n\u001B[0;32m   5467\u001B[0m     \u001B[1;32mdef\u001B[0m \u001B[0m__setattr__\u001B[0m\u001B[1;33m(\u001B[0m\u001B[0mself\u001B[0m\u001B[1;33m,\u001B[0m \u001B[0mname\u001B[0m\u001B[1;33m:\u001B[0m \u001B[0mstr\u001B[0m\u001B[1;33m,\u001B[0m \u001B[0mvalue\u001B[0m\u001B[1;33m)\u001B[0m \u001B[1;33m->\u001B[0m \u001B[1;32mNone\u001B[0m\u001B[1;33m:\u001B[0m\u001B[1;33m\u001B[0m\u001B[1;33m\u001B[0m\u001B[0m\n",
      "\u001B[1;31mAttributeError\u001B[0m: 'DataFrame' object has no attribute 'ix'"
     ]
    }
   ],
   "source": [
    "frame.ix[[0,1,2], [\"Name\", \"City\"]]  #поддерживает и имена и позиции (пример с именами)"
   ]
  },
  {
   "cell_type": "code",
   "execution_count": null,
   "metadata": {},
   "outputs": [],
   "source": [
    "frame.ix[[0,1,2], [0,1]] #поддерживает и имена и позиции (пример с позициями)"
   ]
  },
  {
   "cell_type": "code",
   "execution_count": null,
   "metadata": {},
   "outputs": [],
   "source": [
    "#выбираем строки, которые удовлетворяют условию frame.Birth >= pd.datetime(1985,1,1)\n",
    "frame[frame.Birth >= pd.datetime(1985,1,1)]"
   ]
  },
  {
   "cell_type": "code",
   "execution_count": null,
   "metadata": {},
   "outputs": [],
   "source": [
    "#выбираем строки, удовлетворяющие пересечению условий\n",
    "frame[(frame.Birth >= pd.datetime(1985,1,1)) &\n",
    "      (frame.City != 'Москва')]"
   ]
  },
  {
   "cell_type": "code",
   "execution_count": null,
   "metadata": {},
   "outputs": [],
   "source": [
    "#выбираем строки, удовлетворяющие объединению условий\n",
    "frame[(frame.Birth >= pd.datetime(1985,1,1)) |\n",
    "      (frame.City == 'Волгоград')]"
   ]
  }
 ],
 "metadata": {
  "kernelspec": {
   "display_name": "Python 3",
   "language": "python",
   "name": "python3"
  },
  "language_info": {
   "codemirror_mode": {
    "name": "ipython",
    "version": 3
   },
   "file_extension": ".py",
   "mimetype": "text/x-python",
   "name": "python",
   "nbconvert_exporter": "python",
   "pygments_lexer": "ipython3",
   "version": "3.5.5"
  }
 },
 "nbformat": 4,
 "nbformat_minor": 1
}