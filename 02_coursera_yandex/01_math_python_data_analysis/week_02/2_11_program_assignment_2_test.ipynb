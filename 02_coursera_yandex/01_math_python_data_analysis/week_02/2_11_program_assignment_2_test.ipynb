{
 "cells": [
  {
   "cell_type": "markdown",
   "source": [
    "Преобразование numpy array of float to array of string"
   ],
   "metadata": {
    "collapsed": false,
    "pycharm": {
     "name": "#%% md\n"
    }
   },
   "outputs": [
    {
     "ename": "SyntaxError",
     "evalue": "invalid syntax (<ipython-input-3-329fd86904e9>, line 1)",
     "output_type": "error",
     "traceback": [
      "\u001B[1;36m  File \u001B[1;32m\"<ipython-input-3-329fd86904e9>\"\u001B[1;36m, line \u001B[1;32m1\u001B[0m\n\u001B[1;33m    Преобразование numpy array of float to array of string\u001B[0m\n\u001B[1;37m                   ^\u001B[0m\n\u001B[1;31mSyntaxError\u001B[0m\u001B[1;31m:\u001B[0m invalid syntax\n"
     ]
    }
   ],
   "execution_count": 3
  },
  {
   "cell_type": "code",
   "source": [
    "import numpy as np\n",
    "float_list = [1.124123, 2.323452345, 6.3423452345, 4.234890]\n",
    "float_list = np.round(float_list, 2)\n",
    "print(type(float_list))\n",
    "string_list = float_list.astype(str)\n",
    "print(type(string_list))\n",
    "print(type(string_list[0]))\n",
    "' '.join(string_list)\n"
   ],
   "metadata": {
    "collapsed": false,
    "pycharm": {
     "name": "#%%\n"
    }
   },
   "execution_count": 4,
   "outputs": [
    {
     "name": "stdout",
     "output_type": "stream",
     "text": [
      "<class 'numpy.ndarray'>\n",
      "<class 'numpy.ndarray'>\n",
      "<class 'numpy.str_'>\n"
     ]
    },
    {
     "data": {
      "text/plain": "'1.12 2.32 6.34 4.23'"
     },
     "execution_count": 4,
     "metadata": {},
     "output_type": "execute_result"
    }
   ]
  },
  {
   "cell_type": "code",
   "execution_count": null,
   "outputs": [],
   "source": [],
   "metadata": {
    "collapsed": false,
    "pycharm": {
     "name": "#%%\n"
    }
   }
  }
 ],
 "metadata": {
  "kernelspec": {
   "display_name": "Python 3",
   "language": "python",
   "name": "python3"
  },
  "language_info": {
   "codemirror_mode": {
    "name": "ipython",
    "version": 2
   },
   "file_extension": ".py",
   "mimetype": "text/x-python",
   "name": "python",
   "nbconvert_exporter": "python",
   "pygments_lexer": "ipython2",
   "version": "2.7.6"
  }
 },
 "nbformat": 4,
 "nbformat_minor": 0
}