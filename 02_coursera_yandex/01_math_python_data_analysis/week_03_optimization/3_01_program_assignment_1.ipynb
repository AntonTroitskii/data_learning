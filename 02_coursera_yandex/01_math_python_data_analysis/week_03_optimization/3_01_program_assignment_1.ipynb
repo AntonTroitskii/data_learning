{
 "cells": [
  {
   "cell_type": "code",
   "execution_count": null,
   "metadata": {},
   "outputs": [],
   "source": [
    "import numpy as np\n",
    "from matplotlib import pylab as plt\n",
    "from scipy import optimize\n"
   ]
  },
  {
   "cell_type": "markdown",
   "metadata": {
    "pycharm": {
     "name": "#%% md\n"
    }
   },
   "source": [
    "Задача 1. Минимизация гладкой функции\n",
    "Рассмотрим все ту же функцию из задания по линейной алгебре: f(x) = sin(x / 5) * exp(x / 10) + 5 * exp(-x / 2), но теперь уже на промежутке [1, 30]"
   ]
  },
  {
   "cell_type": "markdown",
   "metadata": {
    "pycharm": {
     "name": "#%% md\n"
    }
   },
   "source": [
    "В первом задании будем искать минимум этой функции на заданном промежутке с помощью scipy.optimize. Разумеется, в дальнейшем вы будете использовать методы оптимизации для более сложных функций, а f(x) мы рассмотрим как удобный учебный пример.\n"
   ]
  },
  {
   "cell_type": "markdown",
   "metadata": {
    "pycharm": {
     "name": "#%% md\n"
    }
   },
   "source": [
    "Напишите на Питоне функцию, вычисляющую значение f(x) по известному x. Будьте внимательны: не забывайте про то, что по умолчанию в питоне целые числа делятся нацело, и о том, что функции sin и exp нужно импортировать из модуля math.\n",
    "\n",
    "Я вместо math использую numpy."
   ]
  },
  {
   "cell_type": "code",
   "execution_count": null,
   "metadata": {
    "collapsed": false,
    "jupyter": {
     "outputs_hidden": false
    },
    "pycharm": {
     "name": "#%%\n"
    }
   },
   "outputs": [
    {
     "data": {
      "text/plain": [
       "[<matplotlib.lines.Line2D at 0x28087432220>]"
      ]
     },
     "execution_count": 3,
     "metadata": {},
     "output_type": "execute_result"
    },
    {
     "data": {
      "image/png": "[encoded data removed]",
      "text/plain": [
       "<Figure size 432x288 with 1 Axes>"
      ]
     },
     "metadata": {
      "needs_background": "light"
     },
     "output_type": "display_data"
    }
   ],
   "source": [
    "def f(x):\n",
    "    return np.sin(x / 5) * np.exp(x / 10) + 5 * np.exp(-x / 2)\n",
    "\n",
    "xa = 0\n",
    "xb = 60\n",
    "x_plot = np.arange(xa, xb, 0.1)\n",
    "y_plot = f(x_plot)\n",
    "\n",
    "plt.plot(x_plot, y_plot)"
   ]
  },
  {
   "cell_type": "markdown",
   "metadata": {
    "pycharm": {
     "name": "#%% md\n"
    }
   },
   "source": [
    "Попробуйте найти минимум, используя стандартные параметры в функции  scipy.optimize.minimize (т.е. задав только функцию и начальное приближение). Попробуйте менять начальное приближение и изучить, меняется ли результат."
   ]
  },
  {
   "cell_type": "code",
   "execution_count": 14,
   "metadata": {
    "collapsed": false,
    "jupyter": {
     "outputs_hidden": false
    },
    "pycharm": {
     "name": "#%%\n"
    }
   },
   "outputs": [
    {
     "data": {
      "text/html": [
       "<div>\n",
       "<style scoped>\n",
       "    .dataframe tbody tr th:only-of-type {\n",
       "        vertical-align: middle;\n",
       "    }\n",
       "\n",
       "    .dataframe tbody tr th {\n",
       "        vertical-align: top;\n",
       "    }\n",
       "\n",
       "    .dataframe thead th {\n",
       "        text-align: right;\n",
       "    }\n",
       "</style>\n",
       "<table border=\"1\" class=\"dataframe\">\n",
       "  <thead>\n",
       "    <tr style=\"text-align: right;\">\n",
       "      <th></th>\n",
       "      <th>x0</th>\n",
       "      <th>x_sol</th>\n",
       "      <th>f(x_sol)</th>\n",
       "    </tr>\n",
       "  </thead>\n",
       "  <tbody>\n",
       "    <tr>\n",
       "      <th>0</th>\n",
       "      <td>1.000000</td>\n",
       "      <td>4.136287</td>\n",
       "      <td>1.745268</td>\n",
       "    </tr>\n",
       "    <tr>\n",
       "      <th>1</th>\n",
       "      <td>4.222222</td>\n",
       "      <td>4.136299</td>\n",
       "      <td>1.745268</td>\n",
       "    </tr>\n",
       "    <tr>\n",
       "      <th>2</th>\n",
       "      <td>7.444444</td>\n",
       "      <td>4.136289</td>\n",
       "      <td>1.745268</td>\n",
       "    </tr>\n",
       "    <tr>\n",
       "      <th>3</th>\n",
       "      <td>10.666667</td>\n",
       "      <td>25.880202</td>\n",
       "      <td>-11.898895</td>\n",
       "    </tr>\n",
       "    <tr>\n",
       "      <th>4</th>\n",
       "      <td>13.888889</td>\n",
       "      <td>25.880194</td>\n",
       "      <td>-11.898895</td>\n",
       "    </tr>\n",
       "    <tr>\n",
       "      <th>5</th>\n",
       "      <td>17.111111</td>\n",
       "      <td>25.880178</td>\n",
       "      <td>-11.898895</td>\n",
       "    </tr>\n",
       "    <tr>\n",
       "      <th>6</th>\n",
       "      <td>20.333333</td>\n",
       "      <td>25.880193</td>\n",
       "      <td>-11.898895</td>\n",
       "    </tr>\n",
       "    <tr>\n",
       "      <th>7</th>\n",
       "      <td>23.555556</td>\n",
       "      <td>25.880193</td>\n",
       "      <td>-11.898895</td>\n",
       "    </tr>\n",
       "    <tr>\n",
       "      <th>8</th>\n",
       "      <td>26.777778</td>\n",
       "      <td>25.880195</td>\n",
       "      <td>-11.898895</td>\n",
       "    </tr>\n",
       "    <tr>\n",
       "      <th>9</th>\n",
       "      <td>30.000000</td>\n",
       "      <td>25.880193</td>\n",
       "      <td>-11.898895</td>\n",
       "    </tr>\n",
       "  </tbody>\n",
       "</table>\n",
       "</div>"
      ],
      "text/plain": [
       "          x0      x_sol   f(x_sol)\n",
       "0   1.000000   4.136287   1.745268\n",
       "1   4.222222   4.136299   1.745268\n",
       "2   7.444444   4.136289   1.745268\n",
       "3  10.666667  25.880202 -11.898895\n",
       "4  13.888889  25.880194 -11.898895\n",
       "5  17.111111  25.880178 -11.898895\n",
       "6  20.333333  25.880193 -11.898895\n",
       "7  23.555556  25.880193 -11.898895\n",
       "8  26.777778  25.880195 -11.898895\n",
       "9  30.000000  25.880193 -11.898895"
      ]
     },
     "execution_count": 14,
     "metadata": {},
     "output_type": "execute_result"
    }
   ],
   "source": [
    "xa = 1\n",
    "xb = 30\n",
    "\n",
    "x0 = np.linspace(xa, xb, 10)\n",
    "f_min = [optimize.minimize(f, x0i) for x0i in x0]\n",
    "x_sol = np.array([f.x[0] for f in f_min])\n",
    "\n",
    "pd.DataFrame(list(zip(x0, x_sol, f(x_sol))), columns = ['x0', 'x_sol', 'f(x_sol)'])"
   ]
  },
  {
   "cell_type": "code",
   "execution_count": 15,
   "metadata": {
    "collapsed": false,
    "jupyter": {
     "outputs_hidden": false
    },
    "pycharm": {
     "name": "#%%\n"
    }
   },
   "outputs": [
    {
     "data": {
      "text/plain": [
       "      fun: -11.898894665981166\n",
       " hess_inv: array([[1.68268107]])\n",
       "      jac: array([4.76837158e-07])\n",
       "  message: 'Optimization terminated successfully.'\n",
       "     nfev: 16\n",
       "      nit: 4\n",
       "     njev: 8\n",
       "   status: 0\n",
       "  success: True\n",
       "        x: array([25.88019376])"
      ]
     },
     "execution_count": 15,
     "metadata": {},
     "output_type": "execute_result"
    }
   ],
   "source": [
    "f_min[4]"
   ]
  },
  {
   "cell_type": "markdown",
   "metadata": {},
   "source": [
    "Укажите в scipy.optimize.minimize в качестве метода BFGS (один из самых точных в большинстве случаев градиентных методов оптимизации), запустите из начального приближения x=2. Градиент функции при этом указывать не нужно – он будет оценен численно. Полученное значение функции в точке минимума - ваш первый ответ по заданию 1, его надо записать с точностью до 2 знака после запятой.\n",
    "\n",
    "Теперь измените начальное приближение на x=30. Значение функции в точке минимума - ваш второй ответ по заданию 1, его надо записать через пробел после первого, с точностью до 2 знака после запятой."
   ]
  },
  {
   "cell_type": "code",
   "execution_count": 17,
   "metadata": {},
   "outputs": [
    {
     "data": {
      "text/html": [
       "<div>\n",
       "<style scoped>\n",
       "    .dataframe tbody tr th:only-of-type {\n",
       "        vertical-align: middle;\n",
       "    }\n",
       "\n",
       "    .dataframe tbody tr th {\n",
       "        vertical-align: top;\n",
       "    }\n",
       "\n",
       "    .dataframe thead th {\n",
       "        text-align: right;\n",
       "    }\n",
       "</style>\n",
       "<table border=\"1\" class=\"dataframe\">\n",
       "  <thead>\n",
       "    <tr style=\"text-align: right;\">\n",
       "      <th></th>\n",
       "      <th>x0</th>\n",
       "      <th>x_sol</th>\n",
       "      <th>f(x_sol)</th>\n",
       "    </tr>\n",
       "  </thead>\n",
       "  <tbody>\n",
       "    <tr>\n",
       "      <th>0</th>\n",
       "      <td>0.000000</td>\n",
       "      <td>4.136288</td>\n",
       "      <td>1.745268e+00</td>\n",
       "    </tr>\n",
       "    <tr>\n",
       "      <th>1</th>\n",
       "      <td>3.333333</td>\n",
       "      <td>4.136260</td>\n",
       "      <td>1.745268e+00</td>\n",
       "    </tr>\n",
       "    <tr>\n",
       "      <th>2</th>\n",
       "      <td>6.666667</td>\n",
       "      <td>4.136340</td>\n",
       "      <td>1.745268e+00</td>\n",
       "    </tr>\n",
       "    <tr>\n",
       "      <th>3</th>\n",
       "      <td>10.000000</td>\n",
       "      <td>4.136300</td>\n",
       "      <td>1.745268e+00</td>\n",
       "    </tr>\n",
       "    <tr>\n",
       "      <th>4</th>\n",
       "      <td>13.333333</td>\n",
       "      <td>182.959816</td>\n",
       "      <td>-7.895667e+07</td>\n",
       "    </tr>\n",
       "    <tr>\n",
       "      <th>5</th>\n",
       "      <td>16.666667</td>\n",
       "      <td>25.880193</td>\n",
       "      <td>-1.189889e+01</td>\n",
       "    </tr>\n",
       "    <tr>\n",
       "      <th>6</th>\n",
       "      <td>20.000000</td>\n",
       "      <td>25.880187</td>\n",
       "      <td>-1.189889e+01</td>\n",
       "    </tr>\n",
       "    <tr>\n",
       "      <th>7</th>\n",
       "      <td>23.333333</td>\n",
       "      <td>25.880193</td>\n",
       "      <td>-1.189889e+01</td>\n",
       "    </tr>\n",
       "    <tr>\n",
       "      <th>8</th>\n",
       "      <td>26.666667</td>\n",
       "      <td>25.880194</td>\n",
       "      <td>-1.189889e+01</td>\n",
       "    </tr>\n",
       "    <tr>\n",
       "      <th>9</th>\n",
       "      <td>30.000000</td>\n",
       "      <td>25.880193</td>\n",
       "      <td>-1.189889e+01</td>\n",
       "    </tr>\n",
       "  </tbody>\n",
       "</table>\n",
       "</div>"
      ],
      "text/plain": [
       "          x0       x_sol      f(x_sol)\n",
       "0   0.000000    4.136288  1.745268e+00\n",
       "1   3.333333    4.136260  1.745268e+00\n",
       "2   6.666667    4.136340  1.745268e+00\n",
       "3  10.000000    4.136300  1.745268e+00\n",
       "4  13.333333  182.959816 -7.895667e+07\n",
       "5  16.666667   25.880193 -1.189889e+01\n",
       "6  20.000000   25.880187 -1.189889e+01\n",
       "7  23.333333   25.880193 -1.189889e+01\n",
       "8  26.666667   25.880194 -1.189889e+01\n",
       "9  30.000000   25.880193 -1.189889e+01"
      ]
     },
     "execution_count": 17,
     "metadata": {},
     "output_type": "execute_result"
    }
   ],
   "source": [
    "xa = 0\n",
    "xb = 30\n",
    "x0 = np.linspace(xa, xb, 10)\n",
    "\n",
    "# Выберем BFGS метод вместо метода по-умолчнию\n",
    "f_min = [optimize.minimize(f, x0i, method='BFGS') for x0i in x0]\n",
    "x_sol = np.array([f.x[0] for f in f_min])\n",
    "\n",
    "pd.DataFrame(list(zip(x0, x_sol, f(x_sol))), columns = ['x0', 'x_sol', 'f(x_sol)'])"
   ]
  },
  {
   "cell_type": "code",
   "execution_count": 21,
   "metadata": {
    "collapsed": false,
    "jupyter": {
     "outputs_hidden": false
    },
    "pycharm": {
     "name": "#%%\n"
    }
   },
   "outputs": [
    {
     "name": "stdout",
     "output_type": "stream",
     "text": [
      "output_str: 1.75 -11.9\n"
     ]
    }
   ],
   "source": [
    "xa = 0\n",
    "xb = 30\n",
    "\n",
    "x0 = [2, 30]\n",
    "x_sol = np.array([optimize.minimize(f, x0i, method='bfgs').x[0] for x0i in x0])\n",
    "\n",
    "solution_str = np.round(f(x_sol), 2).astype(str)\n",
    "output_str = ' '.join(solution_str)\n",
    "print('output_str:', output_str)\n",
    "\n",
    "file_obj = open('3_01_assignment_1.txt', 'w')\n",
    "file_obj.write(output_str)\n",
    "file_obj.close()"
   ]
  },
  {
   "cell_type": "markdown",
   "metadata": {
    "pycharm": {
     "name": "#%% md\n"
    }
   },
   "source": [
    "Стоит обдумать полученный результат. Почему ответ отличается в зависимости от начального приближения? Если нарисовать график функции (например, как это делалось в видео, где мы знакомились с Numpy, Scipy и Matplotlib), можно увидеть, в какие именно минимумы мы попали. В самом деле, градиентные методы обычно не решают задачу глобальной оптимизации, поэтому результаты работы ожидаемые и вполне корректные.\n",
    "\n"
   ]
  }
 ],
 "metadata": {
  "kernelspec": {
   "display_name": "Python 3 (ipykernel)",
   "language": "python",
   "name": "python3"
  },
  "language_info": {
   "codemirror_mode": {
    "name": "ipython",
    "version": 3
   },
   "file_extension": ".py",
   "mimetype": "text/x-python",
   "name": "python",
   "nbconvert_exporter": "python",
   "pygments_lexer": "ipython3",
   "version": "3.9.4"
  }
 },
 "nbformat": 4,
 "nbformat_minor": 4
}
