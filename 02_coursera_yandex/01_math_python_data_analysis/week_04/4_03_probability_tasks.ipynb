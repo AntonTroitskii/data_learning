{
 "cells": [
  {
   "cell_type": "markdown",
   "metadata": {
    "pycharm": {
     "name": "#%% md\n"
    }
   },
   "source": [
    "Предположим, что в некоторой популяции вероятность дожить до 60 лет равна 0.5, а вероятность дожить до 80 лет — 0.2. Какова вероятность, что случайно выбранный шестидесятилетний представитель популяции доживёт до восьмидесяти? Запишите ответ с точностью до одного знака после десятичной точки (задавать разделитель в этой задаче и следующих нужно именно в виде точки)."
   ]
  },
  {
   "cell_type": "code",
   "execution_count": 1,
   "metadata": {
    "pycharm": {
     "name": "#%%\n"
    }
   },
   "outputs": [
    {
     "data": {
      "text/plain": [
       "0.4"
      ]
     },
     "execution_count": 1,
     "metadata": {},
     "output_type": "execute_result"
    }
   ],
   "source": [
    "0.2 / 0.5"
   ]
  },
  {
   "cell_type": "code",
   "execution_count": 14,
   "metadata": {
    "pycharm": {
     "name": "#%%\n"
    }
   },
   "outputs": [
    {
     "data": {
      "text/plain": [
       "0.6597000000000001"
      ]
     },
     "execution_count": 14,
     "metadata": {},
     "output_type": "execute_result"
    }
   ],
   "source": [
    "gb = dict()\n",
    "\n",
    "gb[1] = 0.49\n",
    "gb[2] = 0.38\n",
    "gb[3] = 0.1\n",
    "gb[4] = 0.03\n",
    "\n",
    "# вероятность, что пациенту с 1 группой будет успешно перелита плазма\n",
    "prob = []\n",
    "prob.append(gb[1] * (gb[1] + gb[2] + gb[3] + gb[4]))\n",
    "prob.append(gb[2] * (gb[2] + gb[4]))\n",
    "prob.append(gb[3] * (gb[3] + gb[4]))\n",
    "prob.append(gb[4] * gb[4])\n",
    "\n",
    "sum(prob)"
   ]
  },
  {
   "cell_type": "markdown",
   "metadata": {
    "pycharm": {
     "name": "#%% md\n"
    }
   },
   "source": [
    "Какова вероятность того, что при независимом подбрасывании двух симметричных шестигранных кубиков хотя бы на одном из них выпадет больше трёх очков? Запишите точный ответ в виде десятичной дроби."
   ]
  },
  {
   "cell_type": "code",
   "execution_count": 1,
   "metadata": {
    "pycharm": {
     "name": "#%%\n"
    }
   },
   "outputs": [],
   "source": [
    "# Вероятность выпдения больше 3 на одном кубике = 3/6 = 1/2.\n",
    "\n",
    "# Формула вероятности суммы события P (A + B) = P(A) + P(B) не работает. Так как события не являются несовместными, т.е. A*B не равном пустому множеству. Т.е. на первом кубике может выпасть число больше 3 и на втором кубике может выпасть число больше 3.\n",
    "\n",
    "# Надо воспользоваться формулой сложнеия вероятностей P(A + B) = P(A) + P(B) - P(A*B)"
   ]
  },
  {
   "cell_type": "code",
   "execution_count": 2,
   "metadata": {
    "pycharm": {
     "name": "#%%\n"
    }
   },
   "outputs": [
    {
     "data": {
      "text/plain": [
       "0.75"
      ]
     },
     "execution_count": 2,
     "metadata": {},
     "output_type": "execute_result"
    }
   ],
   "source": [
    "1/2 + 1/2 - 1/2 * 1/2"
   ]
  },
  {
   "cell_type": "markdown",
   "metadata": {
    "pycharm": {
     "name": "#%% md\n"
    }
   },
   "source": [
    "1% женщин больны раком груди. У 80% женщин, больных раком груди, маммограмма верно выявляет наличие заболевания; кроме того, она даёт ложный положительный результат (то есть, неверно показывает наличие рака) для 9.6% здоровых женщин.\n",
    "\n",
    "У какого процента женщин, маммограмма которых дала положительный результат, есть рак груди? Запишите ответ  с точностью до одного знака после десятичной точки (знак процента не нужен).\n",
    "\n",
    "A1 - женщина более раком груди, A2 - женщина не болеет раком груди, B - положительный результат по маммограмме.\n",
    "\n",
    "P(B) = P(A1) * P(B|A1) + P(A2) * P(B|A2)\n",
    "\n",
    "P(A1|B) -?\n",
    "\n",
    "P(A1|B) = P(B|A1) * P(A1) / P(B)"
   ]
  },
  {
   "cell_type": "code",
   "execution_count": 3,
   "metadata": {
    "pycharm": {
     "name": "#%%\n"
    }
   },
   "outputs": [
    {
     "data": {
      "text/plain": [
       "(0.10303999999999999, 0.07763975155279504)"
      ]
     },
     "execution_count": 3,
     "metadata": {},
     "output_type": "execute_result"
    }
   ],
   "source": [
    "p_b = 0.01 * 0.8 + 0.99 * 0.096\n",
    "p_a1_b = 0.8 * 0.01 / p_b\n",
    "p_b, p_a1_b"
   ]
  },
  {
   "cell_type": "code",
   "execution_count": null,
   "metadata": {
    "pycharm": {
     "name": "#%%\n"
    }
   },
   "outputs": [],
   "source": []
  }
 ],
 "metadata": {
  "kernelspec": {
   "display_name": "Python 3 (ipykernel)",
   "language": "python",
   "name": "python3"
  },
  "language_info": {
   "codemirror_mode": {
    "name": "ipython",
    "version": 3
   },
   "file_extension": ".py",
   "mimetype": "text/x-python",
   "name": "python",
   "nbconvert_exporter": "python",
   "pygments_lexer": "ipython3",
   "version": "3.9.4"
  }
 },
 "nbformat": 4,
 "nbformat_minor": 1
}
