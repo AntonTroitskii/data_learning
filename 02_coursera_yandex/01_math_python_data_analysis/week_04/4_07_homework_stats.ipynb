{
 "cells": [
  {
   "cell_type": "markdown",
   "id": "aa5e0bd3",
   "metadata": {},
   "source": [
    "9. Для продвижения вашего продукта рекламный отдел предлагает использовать новый видеоролик. На фокус-группе вы показываете 40 испытуемым новый и старый видеоролики и спрашиваете, какой из них им нравится больше; 62.5% испытуемых выбирают новый. Используя центральную предельную теорему и правило двух сигм, постройте 95% доверительный интервал для доли членов целевой аудитории, предпочитающих новый видеоролик. Выберите вывод, соответствующий построенному интервалу.\n"
   ]
  },
  {
   "cell_type": "markdown",
   "id": "f76a4090",
   "metadata": {},
   "source": [
    "Данный резальтаты можно описать с помощью схемы бернулли, в которой основной параметр $p$ можно оценить выборочным среднем. Параметры распределения $X_B(p)$ следующией. $EX_B = p, DX_B = p(1-p)$. По ЦПТ выборочное среднее некоторой случайной величины можно оценить нормльным распределением (обычно при n больше 30 нормальное распределение хорошо описывает выборочное среднее некоторой СВ) $N(EX_B, D(X_B)/n)$, где $n$ - объем выборки. "
   ]
  },
  {
   "cell_type": "code",
   "execution_count": 11,
   "id": "47db1e58",
   "metadata": {},
   "outputs": [
    {
     "data": {
      "text/plain": [
       "(0.005859375, 0.4841229182759271, -0.34324583655185426, 1.5932458365518543)"
      ]
     },
     "execution_count": 11,
     "metadata": {},
     "output_type": "execute_result"
    }
   ],
   "source": [
    "import scipy.stats as sts\n",
    "import math\n",
    "\n",
    "n = 40\n",
    "p = 0.625\n",
    "ev_norm_rv = p \n",
    "var_norm_rv = p*(1-p) / n\n",
    "std_norm_rv = math.sqrt(var)\n",
    "\n",
    "var_norm_rv, std_norm_rv, ev_norm_rv - 2 * std_norm_rv, ev_norm_rv + 2 * std_norm_rv"
   ]
  },
  {
   "cell_type": "markdown",
   "id": "3b12e3fd",
   "metadata": {},
   "source": [
    "10. Предположим, что вы получаете в среднем три спам-письма в день. Какова доля дней, в которые вы получаете пять или больше спам-писем? Округлите до двух знаков после десятичной точки."
   ]
  },
  {
   "cell_type": "markdown",
   "id": "06031b5a",
   "metadata": {},
   "source": [
    "$p_m(t, \\lambda) = \\frac{(\\lambda * t) ^ m e^{-\\lambda* t}} {m!}$"
   ]
  },
  {
   "cell_type": "code",
   "execution_count": 17,
   "id": "6df5dced",
   "metadata": {},
   "outputs": [
    {
     "data": {
      "text/plain": [
       "0.18473675547622792"
      ]
     },
     "execution_count": 17,
     "metadata": {},
     "output_type": "execute_result"
    }
   ],
   "source": [
    "m = 3\n",
    "t = 1\n",
    "lambda_ = 3\n",
    "\n",
    "import math\n",
    "\n",
    "sum = 0\n",
    "for i in range(0, 5):\n",
    "    sum += math.pow(lambda_ * t, i ) * math.exp(-lambda_*t) / math.factorial(i)\n",
    "\n",
    "1 - sum"
   ]
  },
  {
   "cell_type": "code",
   "execution_count": 18,
   "id": "e8b21dc2",
   "metadata": {},
   "outputs": [
    {
     "data": {
      "text/plain": [
       "0.1847367554762278"
      ]
     },
     "execution_count": 18,
     "metadata": {},
     "output_type": "execute_result"
    }
   ],
   "source": [
    "import scipy.stats as sts\n",
    "\n",
    "mu = 3\n",
    "poison_rv = sts.poisson(mu)\n",
    "\n",
    "p_3 = 1 - poison_rv.cdf(4)\n",
    "p_3"
   ]
  },
  {
   "cell_type": "code",
   "execution_count": null,
   "id": "26b97bb0",
   "metadata": {},
   "outputs": [],
   "source": []
  }
 ],
 "metadata": {
  "kernelspec": {
   "display_name": "Python 3 (ipykernel)",
   "language": "python",
   "name": "python3"
  },
  "language_info": {
   "codemirror_mode": {
    "name": "ipython",
    "version": 3
   },
   "file_extension": ".py",
   "mimetype": "text/x-python",
   "name": "python",
   "nbconvert_exporter": "python",
   "pygments_lexer": "ipython3",
   "version": "3.9.4"
  }
 },
 "nbformat": 4,
 "nbformat_minor": 5
}
